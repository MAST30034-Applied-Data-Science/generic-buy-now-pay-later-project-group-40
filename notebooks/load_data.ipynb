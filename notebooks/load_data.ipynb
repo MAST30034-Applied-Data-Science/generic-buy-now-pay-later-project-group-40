{
 "cells": [
  {
   "cell_type": "markdown",
   "metadata": {},
   "source": [
    "# The following code is to download external data\n",
    "\n",
    "Census Dataset can be found here:\n",
    "- https://www.abs.gov.au/census/find-census-data/datapacks?release=2021&product=GCP&geography=POA&header=S"
   ]
  },
  {
   "cell_type": "code",
   "execution_count": 1,
   "metadata": {},
   "outputs": [],
   "source": [
    "import requests, zipfile\n",
    "from urllib.request import urlretrieve\n",
    "from io import BytesIO\n",
    "import wget\n",
    "import os\n",
    "import pandas as pd\n",
    "import geopandas as gpd"
   ]
  },
  {
   "cell_type": "code",
   "execution_count": 8,
   "metadata": {},
   "outputs": [],
   "source": [
    "def mkdir(dir):\n",
    "    if not os.path.exists(dir):\n",
    "        os.makedirs(dir)"
   ]
  },
  {
   "cell_type": "markdown",
   "metadata": {},
   "source": [
    "# Census data"
   ]
  },
  {
   "cell_type": "markdown",
   "metadata": {},
   "source": [
    "### General Community Profile Datapack"
   ]
  },
  {
   "cell_type": "code",
   "execution_count": 9,
   "metadata": {},
   "outputs": [],
   "source": [
    "output_dir = '../data/raw/census/'\n",
    "\n",
    "# check if it exists as it makedir will raise an error if it does exist\n",
    "mkdir(output_dir)"
   ]
  },
  {
   "cell_type": "code",
   "execution_count": 10,
   "metadata": {},
   "outputs": [],
   "source": [
    "# Download and extract zip file\n",
    "response = requests.get(\"https://www.abs.gov.au/census/find-census-data/datapacks/download/2021_GCP_POA_for_AUS_short-header.zip\")\n",
    "file = zipfile.ZipFile(BytesIO(response.content))\n",
    "file.extractall(output_dir)"
   ]
  },
  {
   "cell_type": "code",
   "execution_count": 11,
   "metadata": {},
   "outputs": [],
   "source": [
    "\n",
    "# Reads in specified tables in table_codes and joins on post code\n",
    "def merge_tables(table_names, index):   \n",
    "    input_dir = '../data/raw/census/2021 Census GCP Postal Areas for AUS' + '/'\n",
    "    if index == len(table_names) - 1:\n",
    "        return pd.read_csv(input_dir + table_names[index], index_col = False)\n",
    "    else:\n",
    "        return pd.read_csv(\n",
    "            input_dir + table_names[index], index_col = False\n",
    "        ).merge(\n",
    "            merge_tables(table_names, index + 1),\n",
    "            on = 'POA_CODE_2021'\n",
    "        )\n",
    "\n",
    "def get_census_df(table_names):\n",
    "    df = merge_tables(table_names, 0)\n",
    "    df.columns = df.columns.str.lower()\n",
    "    df['postcode'] = df['poa_code_2021'].apply(lambda x : x[-4:])\n",
    "    return df.drop('poa_code_2021', axis = 1)\n"
   ]
  },
  {
   "cell_type": "code",
   "execution_count": 12,
   "metadata": {},
   "outputs": [],
   "source": [
    "age_df = get_census_df([f'2021Census_{code}_AUST_POA.csv' for code in ['G04A', 'G04B']])\n",
    "age_df.to_csv('../data/curated/census/age_data.csv', index = False)"
   ]
  },
  {
   "cell_type": "markdown",
   "metadata": {},
   "source": [
    "### ABS Postal Areas"
   ]
  },
  {
   "cell_type": "code",
   "execution_count": null,
   "metadata": {},
   "outputs": [],
   "source": [
    "output_dir = '../data/raw/postcodes/'\n",
    "mkdir(output_dir)\n",
    "# Download and extract zip file\n",
    "response = requests.get('https://www.abs.gov.au/statistics/standards/australian-statistical-geography-standard-asgs-edition-3/jul2021-jun2026/access-and-downloads/digital-boundary-files/POA_2021_AUST_GDA2020_SHP.zip')\n",
    "with open(output_dir + 'abs_postal_areas.zip', 'wb') as f:\n",
    "    f.write(response.content)"
   ]
  },
  {
   "cell_type": "markdown",
   "metadata": {},
   "source": [
    "### ABS Postal Area analysis"
   ]
  },
  {
   "cell_type": "markdown",
   "metadata": {},
   "source": [
    "Only 83% of postcodes in the dataset appear as abs postal areas. This is because australian postcodes are managed by Auspost and do not necessarily correspond to ABS meshblocks (the smallest abs geography that is aggregated to form larger abs geographies). Auspost does not make publicly available postcode geographies. \n",
    "\n",
    "Some official postcodes are not included in Postal Areas. This occurs when a Mesh Block cannot be allocated to a postcode. There are two situations where this occurs:\n",
    "- a Mesh Block covers more than one whole postcode, and the Mesh Block can be allocated to only one postcode\n",
    "more than one Mesh Block partly covers a postcode, but all the Mesh Blocks are allocated to other postcodes, based on population.\n",
    "- Postal Areas exclude postcodes that are not street delivery areas. These include post office boxes, mail back competitions, large volume receivers and specialist delivery postcodes. These postcodes are only valid for postal addresses and are not a valid location for population data.\n",
    "\n",
    "There are opensource datasets that map postcodes to LGAs and other ABS statistical areas (the smallest being LGA) but these only give the statistical areas that the postcode intersects with, which is usually more than one. Therefore for geographical analysis we will use only abs postal areas. In doing this we compromise the size of usable of data for accuracy."
   ]
  },
  {
   "cell_type": "code",
   "execution_count": null,
   "metadata": {},
   "outputs": [],
   "source": [
    "consumer_details_df = pd.read_csv('../data/tables/tbl_consumer.csv', delimiter=\"|\")\n",
    "sum(consumer_details_df['postcode'].isin(age_df['postcode']))/len(consumer_details_df)"
   ]
  },
  {
   "cell_type": "markdown",
   "metadata": {},
   "source": [
    "### Opensource Postcode Data"
   ]
  },
  {
   "cell_type": "code",
   "execution_count": 13,
   "metadata": {},
   "outputs": [],
   "source": [
    "output_dir = '../data/raw/postcodes/'\n",
    "mkdir(output_dir)\n",
    "response = requests.get('https://www.matthewproctor.com/Content/postcodes/australian_postcodes.csv')\n",
    "\n",
    "with open(output_dir + 'postcodes.csv', 'wb') as f:\n",
    "    f.write(response.content)"
   ]
  }
 ],
 "metadata": {
  "kernelspec": {
   "display_name": "Python 3.10.4 64-bit",
   "language": "python",
   "name": "python3"
  },
  "language_info": {
   "codemirror_mode": {
    "name": "ipython",
    "version": 3
   },
   "file_extension": ".py",
   "mimetype": "text/x-python",
   "name": "python",
   "nbconvert_exporter": "python",
   "pygments_lexer": "ipython3",
   "version": "3.10.4"
  },
  "vscode": {
   "interpreter": {
    "hash": "916dbcbb3f70747c44a77c7bcd40155683ae19c65e1c03b4aa3499c5328201f1"
   }
  }
 },
 "nbformat": 4,
 "nbformat_minor": 2
}
