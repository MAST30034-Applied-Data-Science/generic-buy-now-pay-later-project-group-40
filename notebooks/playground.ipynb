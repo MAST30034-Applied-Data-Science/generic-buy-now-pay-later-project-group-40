{
 "cells": [
  {
   "cell_type": "code",
   "execution_count": 1,
   "metadata": {},
   "outputs": [
    {
     "name": "stdout",
     "output_type": "stream",
     "text": [
      "22/09/15 18:26:24 WARN Utils: Your hostname, DESKTOP-5U9FK5P resolves to a loopback address: 127.0.1.1; using 172.26.185.11 instead (on interface eth0)\n",
      "22/09/15 18:26:24 WARN Utils: Set SPARK_LOCAL_IP if you need to bind to another address\n"
     ]
    },
    {
     "name": "stderr",
     "output_type": "stream",
     "text": [
      "Setting default log level to \"WARN\".\n",
      "To adjust logging level use sc.setLogLevel(newLevel). For SparkR, use setLogLevel(newLevel).\n"
     ]
    },
    {
     "name": "stdout",
     "output_type": "stream",
     "text": [
      "22/09/15 18:26:27 WARN NativeCodeLoader: Unable to load native-hadoop library for your platform... using builtin-java classes where applicable\n"
     ]
    }
   ],
   "source": [
    "from pyspark.sql import SparkSession\n",
    "\n",
    "spark = (\n",
    "    SparkSession.builder.appName(\"MAST30034 Project 2\")\n",
    "    .config(\"spark.driver.memory\", '4g')\n",
    "    .config(\"spark.executor.memory\", '8g')\n",
    "    .config(\"spark.sql.session.timeZone\", \"Etc/UTC\")\n",
    "    .config(\"spark.sql.parquet.enableVectorizedReader\",\"false\")\n",
    "    .config(\"spark.sql.repl.eagerEval.enabled\", True) \n",
    "    .config(\"spark.sql.parquet.cacheMetadata\", \"true\")\n",
    "    .getOrCreate()\n",
    ")"
   ]
  },
  {
   "cell_type": "code",
   "execution_count": 2,
   "metadata": {},
   "outputs": [
    {
     "name": "stderr",
     "output_type": "stream",
     "text": [
      "                                                                                \r"
     ]
    }
   ],
   "source": [
    "sdf_transactions1 = spark.read.parquet('../data/tables/transactions_20210228_20210827_snapshot')\n",
    "sdf_transactions2 = spark.read.parquet('../data/tables/transactions_20210828_20220227_snapshot')\n",
    "sdf_transactions3 = spark.read.parquet('../data/tables/transactions_20220228_20220828_snapshot')\n",
    "\n",
    "sdf_transactions = sdf_transactions1.union(sdf_transactions2)\n",
    "sdf_transactions = sdf_transactions.union(sdf_transactions3)"
   ]
  },
  {
   "cell_type": "code",
   "execution_count": 3,
   "metadata": {},
   "outputs": [
    {
     "name": "stderr",
     "output_type": "stream",
     "text": [
      "[Stage 2:>                                                          (0 + 1) / 1]\r"
     ]
    },
    {
     "name": "stdout",
     "output_type": "stream",
     "text": [
      "+-------+------------+------------------+------------------------------------+--------------+\n",
      "|user_id|merchant_abn|dollar_value      |order_id                            |order_datetime|\n",
      "+-------+------------+------------------+------------------------------------+--------------+\n",
      "|18478  |62191208634 |63.255848959735246|949a63c8-29f7-4ab0-ada4-99ac50a88952|2021-08-20    |\n",
      "|2      |15549624934 |130.3505283105634 |6a84c3cf-612a-4574-835b-144a47353eff|2021-08-20    |\n",
      "|18479  |64403598239 |120.15860593212783|b10dcc33-e53f-4254-863c-de5266810cbc|2021-08-20    |\n",
      "|3      |60956456424 |136.6785200286976 |0f09c5a5-784e-4477-b049-8ee4dd069b7b|2021-08-20    |\n",
      "|18479  |94493496784 |72.96316578355305 |f6c78c1a-4600-4c5f-8e97-6e9eb534b586|2021-08-20    |\n",
      "|3      |76819856970 |448.529684285612  |5ace6a24-cdf0-4aa3-b571-1d9406b352b5|2021-08-20    |\n",
      "|18479  |67609108741 |86.4040605836911  |d0e180f0-cb06-42a3-bd1a-c47dca15bc55|2021-08-20    |\n",
      "|3      |34096466752 |301.5793450525113 |6fb1ff48-24bb-4f97-9a96-d2e8ca009bda|2021-08-20    |\n",
      "|18482  |70501974849 |68.75486276223054 |8505fb33-b69a-412a-a8e1-827983a66577|2021-08-20    |\n",
      "|4      |49891706470 |48.89796461900801 |ed11e477-b09f-4ae0-84fb-74531ce8c30c|2021-08-20    |\n",
      "+-------+------------+------------------+------------------------------------+--------------+\n",
      "only showing top 10 rows\n",
      "\n"
     ]
    },
    {
     "name": "stderr",
     "output_type": "stream",
     "text": [
      "                                                                                \r"
     ]
    }
   ],
   "source": [
    "sdf_transactions.show(10, truncate=False)"
   ]
  },
  {
   "cell_type": "code",
   "execution_count": 4,
   "metadata": {},
   "outputs": [
    {
     "name": "stdout",
     "output_type": "stream",
     "text": [
      "root\n",
      " |-- user_id: long (nullable = true)\n",
      " |-- merchant_abn: long (nullable = true)\n",
      " |-- dollar_value: double (nullable = true)\n",
      " |-- order_id: string (nullable = true)\n",
      " |-- order_datetime: date (nullable = true)\n",
      "\n"
     ]
    }
   ],
   "source": [
    "sdf_transactions.printSchema()"
   ]
  },
  {
   "cell_type": "code",
   "execution_count": 23,
   "metadata": {},
   "outputs": [],
   "source": [
    "def validateABN(merchant_abn):\n",
    "\n",
    "    str_abn = str(merchant_abn)\n",
    "    i = 0\n",
    "    sum = 0\n",
    "\n",
    "    for digit in str_abn:\n",
    "\n",
    "        digit = int(digit)\n",
    "        \n",
    "        if i == 0:\n",
    "            digit -= 1\n",
    "            sum += digit * 10\n",
    "        elif i == 1:\n",
    "            sum += digit\n",
    "        elif i == 2:\n",
    "            sum += digit * 3\n",
    "        elif i == 3:\n",
    "            sum += digit * 5\n",
    "        elif i == 4:\n",
    "            sum += digit * 7\n",
    "        elif i == 5:\n",
    "            sum += digit * 9\n",
    "        elif i == 6:\n",
    "            sum += digit * 11\n",
    "        elif i == 7:\n",
    "            sum += digit * 13\n",
    "        elif i == 8:\n",
    "            sum += digit * 15\n",
    "        elif i == 9:\n",
    "            sum += digit * 17\n",
    "        elif i == 10:\n",
    "            sum += digit * 19\n",
    "\n",
    "        i += 1\n",
    "    \n",
    "    if sum % 89 == 0:\n",
    "        return True\n",
    "    else:\n",
    "        return False"
   ]
  },
  {
   "cell_type": "code",
   "execution_count": 24,
   "metadata": {},
   "outputs": [
    {
     "data": {
      "text/plain": [
       "True"
      ]
     },
     "execution_count": 24,
     "metadata": {},
     "output_type": "execute_result"
    },
    {
     "name": "stdout",
     "output_type": "stream",
     "text": [
      "22/09/08 15:23:54 WARN HeartbeatReceiver: Removing executor driver with no recent heartbeats: 526676 ms exceeds timeout 120000 ms\n",
      "22/09/08 15:23:54 WARN SparkContext: Killing executors is not supported by current scheduler.\n"
     ]
    }
   ],
   "source": [
    "validateABN(51824753556)"
   ]
  },
  {
   "cell_type": "code",
   "execution_count": 5,
   "metadata": {},
   "outputs": [],
   "source": [
    "sdf_consumer = spark.read.csv('../data/tables/tbl_consumer.csv', sep='|', header=True)"
   ]
  },
  {
   "cell_type": "code",
   "execution_count": 42,
   "metadata": {},
   "outputs": [],
   "source": [
    "# Seperating sdf by state\n",
    "from pyspark.sql import functions as F\n",
    "\n",
    "VIC_sdf = sdf_consumer.where(\n",
    "    (F.col('state') == 'VIC' ))\n",
    "\n",
    "NSW_sdf = sdf_consumer.where(\n",
    "    (F.col('state') == 'NSW' ))\n",
    "\n",
    "QLD_sdf = sdf_consumer.where(\n",
    "    (F.col('state') == 'QLD' ))\n",
    "\n",
    "WA_sdf = sdf_consumer.where(\n",
    "    (F.col('state') == 'WA' ))\n",
    "\n",
    "TAS_sdf = sdf_consumer.where(\n",
    "    (F.col('state') == 'TAS' ))\n",
    "\n",
    "SA_sdf = sdf_consumer.where(\n",
    "    (F.col('state') == 'SA' ))\n",
    "\n",
    "ACT_sdf = sdf_consumer.where(\n",
    "    (F.col('state') == 'ACT' ))\n",
    "\n",
    "NT_sdf = sdf_consumer.where(\n",
    "    (F.col('state') == 'NT' ))"
   ]
  },
  {
   "cell_type": "code",
   "execution_count": 19,
   "metadata": {},
   "outputs": [
    {
     "data": {
      "text/plain": [
       "117525"
      ]
     },
     "execution_count": 19,
     "metadata": {},
     "output_type": "execute_result"
    }
   ],
   "source": [
    "VIC_sdf.count()"
   ]
  },
  {
   "cell_type": "code",
   "execution_count": 23,
   "metadata": {},
   "outputs": [
    {
     "name": "stderr",
     "output_type": "stream",
     "text": [
      "                                                                                \r"
     ]
    },
    {
     "data": {
      "text/html": [
       "<table border='1'>\n",
       "<tr><th>name</th><th>address</th><th>state</th><th>postcode</th><th>gender</th><th>consumer_id</th></tr>\n",
       "<tr><td>Cody Casey</td><td>71856 Jones Park ...</td><td>VIC</td><td>8785</td><td>Male</td><td>105717</td></tr>\n",
       "<tr><td>Blake Phillips</td><td>56069 Moore Isle ...</td><td>VIC</td><td>8785</td><td>Male</td><td>1425156</td></tr>\n",
       "<tr><td>Patricia Cervantes</td><td>6724 Benton Alley...</td><td>VIC</td><td>8785</td><td>Undisclosed</td><td>468647</td></tr>\n",
       "<tr><td>Sarah Shah</td><td>71321 Roberts Wall</td><td>VIC</td><td>8785</td><td>Female</td><td>16233</td></tr>\n",
       "<tr><td>Brenda Browning</td><td>091 Scott Stream ...</td><td>VIC</td><td>8785</td><td>Female</td><td>126110</td></tr>\n",
       "<tr><td>Tina Phillips</td><td>41992 Stanley Run...</td><td>VIC</td><td>8785</td><td>Female</td><td>1070577</td></tr>\n",
       "<tr><td>Victoria Harris</td><td>5166 Michael Exte...</td><td>VIC</td><td>8785</td><td>Female</td><td>1162087</td></tr>\n",
       "<tr><td>Lauren Gray</td><td>6556 Cameron Shores</td><td>VIC</td><td>8785</td><td>Female</td><td>583532</td></tr>\n",
       "<tr><td>Wayne Munoz</td><td>3525 Robert Forges</td><td>VIC</td><td>8785</td><td>Male</td><td>1373154</td></tr>\n",
       "<tr><td>Willie Bell II</td><td>929 Anderson Spur...</td><td>VIC</td><td>8785</td><td>Male</td><td>1494155</td></tr>\n",
       "<tr><td>David Scott</td><td>9111 Brian Course...</td><td>VIC</td><td>8785</td><td>Male</td><td>1166758</td></tr>\n",
       "<tr><td>William Hart</td><td>9495 Theodore Key...</td><td>VIC</td><td>8785</td><td>Male</td><td>934393</td></tr>\n",
       "<tr><td>Christopher Ryan</td><td>293 Lisa Spur Apt...</td><td>VIC</td><td>8785</td><td>Male</td><td>795220</td></tr>\n",
       "<tr><td>James Torres</td><td>947 Meyer Mountains</td><td>VIC</td><td>8785</td><td>Male</td><td>437159</td></tr>\n",
       "<tr><td>Courtney Hunt</td><td>6626 Kristen Loop...</td><td>VIC</td><td>8785</td><td>Female</td><td>611597</td></tr>\n",
       "<tr><td>Matthew Fuller</td><td>7658 David Groves...</td><td>VIC</td><td>8785</td><td>Male</td><td>943319</td></tr>\n",
       "<tr><td>Ashley Ortiz</td><td>45182 Donald Mission</td><td>VIC</td><td>8785</td><td>Female</td><td>992214</td></tr>\n",
       "<tr><td>Michael Dickerson</td><td>865 Miller Roads ...</td><td>VIC</td><td>8785</td><td>Male</td><td>1116704</td></tr>\n",
       "<tr><td>Bryan Kennedy</td><td>99339 Jonathan Ro...</td><td>VIC</td><td>8785</td><td>Male</td><td>527623</td></tr>\n",
       "<tr><td>Brian Chen</td><td>05188 Renee Way</td><td>VIC</td><td>8785</td><td>Male</td><td>1103401</td></tr>\n",
       "</table>\n",
       "only showing top 20 rows\n"
      ],
      "text/plain": [
       "+-----------------+--------------------+-----+--------+-----------+-----------+\n",
       "|             name|             address|state|postcode|     gender|consumer_id|\n",
       "+-----------------+--------------------+-----+--------+-----------+-----------+\n",
       "| Franklin Barnett|765 Kelley Meadow...|  VIC|    8785|       Male|     158545|\n",
       "|   Melissa Foster|126 Steven Cove S...|  VIC|    8785|     Female|    1060540|\n",
       "|      Bruce Olson|85855 Pamela Trai...|  VIC|    8785|       Male|     694104|\n",
       "|     Robert Weber|850 Patricia Burg...|  VIC|    8785|       Male|    1434243|\n",
       "|    Joseph Berger|   6649 Abbott Forks|  VIC|    8785|       Male|     238801|\n",
       "|    Anthony White|   7804 Hanna Bypass|  VIC|    8785|       Male|     771067|\n",
       "| Brandon Chandler|64248 Sanchez Sho...|  VIC|    8785|       Male|    1101609|\n",
       "|  Joan Mccullough|98808 Stephanie S...|  VIC|    8785|     Female|     608499|\n",
       "|     Bradley Bell|  86681 Morgan Forge|  VIC|    8785|       Male|    1295677|\n",
       "|  Michael Marquez|95097 Ochoa Mount...|  VIC|    8785|       Male|    1107940|\n",
       "|   Angela Johnson|63224 James Rest ...|  VIC|    8785|Undisclosed|     737719|\n",
       "|      Julie Lopez|49326 Abigail Loc...|  VIC|    8785|     Female|     796398|\n",
       "|Matthew Contreras|84454 Michael Tra...|  VIC|    8785|       Male|     158685|\n",
       "|   Teresa Johnson|07699 Erica Forge...|  VIC|    8785|     Female|     968906|\n",
       "|     Brian Thomas|6667 Brewer Stree...|  VIC|    8785|       Male|    1395156|\n",
       "|  Michael Hampton|441 Kristina Corn...|  VIC|    8785|       Male|     862153|\n",
       "|      Lisa Morgan|1744 Barry Hollow...|  VIC|    8785|     Female|      59603|\n",
       "| George Davenport|   7649 James Bypass|  VIC|    8785|       Male|     996803|\n",
       "|     Peter Watson|7387 Kimberly Cro...|  VIC|    8785|       Male|     177075|\n",
       "|      Sarah Brown|23115 Joshua Gard...|  VIC|    8785|     Female|      39986|\n",
       "+-----------------+--------------------+-----+--------+-----------+-----------+\n",
       "only showing top 20 rows"
      ]
     },
     "execution_count": 23,
     "metadata": {},
     "output_type": "execute_result"
    }
   ],
   "source": [
    "VIC_sdf.orderBy(\"postcode\", ascending=0)"
   ]
  },
  {
   "cell_type": "code",
   "execution_count": 22,
   "metadata": {},
   "outputs": [
    {
     "data": {
      "text/plain": [
       "117376"
      ]
     },
     "execution_count": 22,
     "metadata": {},
     "output_type": "execute_result"
    }
   ],
   "source": [
    "VIC_sdf= VIC_sdf.where(\n",
    "    ((F.col('postcode') >=  '3000') & (F.col('postcode') <= '3999'))\n",
    "    | ((F.col('postcode') >=  '8000') & (F.col('postcode') <= '8999'))\n",
    ")\n",
    "VIC_sdf.count()"
   ]
  },
  {
   "cell_type": "code",
   "execution_count": 43,
   "metadata": {},
   "outputs": [
    {
     "data": {
      "text/plain": [
       "7764"
      ]
     },
     "execution_count": 43,
     "metadata": {},
     "output_type": "execute_result"
    }
   ],
   "source": [
    "NT_sdf.count()"
   ]
  },
  {
   "cell_type": "code",
   "execution_count": 13,
   "metadata": {},
   "outputs": [
    {
     "name": "stdout",
     "output_type": "stream",
     "text": [
      "+--------------------+--------------------+-----+--------+-----------+-----------+\n",
      "|                name|             address|state|postcode|     gender|consumer_id|\n",
      "+--------------------+--------------------+-----+--------+-----------+-----------+\n",
      "|       Jill Jones MD|  40693 Henry Greens|   NT|     862|     Female|    1194530|\n",
      "|Dr. Allison Bryan MD|   993 Collins Ports|   NT|     885|     Female|    1092515|\n",
      "|      Kristen Watson| 35081 Rowland Plaza|   NT|     851|     Female|     654114|\n",
      "|       Shannon Horne|457 Holmes Trail ...|   NT|     907|     Female|     702865|\n",
      "|        George Davis| 417 Jackson Viaduct|   NT|     822|       Male|     928836|\n",
      "|       Austin Turner|  83006 Simpson Keys|   NT|     871|       Male|     351368|\n",
      "|     Matthew Johnson|3667 Ortiz Plains...|   NT|     834|       Male|     704784|\n",
      "|          Diana Wall|4006 Buchanan Pla...|   NT|     906|     Female|     145411|\n",
      "|         Faith Chase|     2565 Ian Radial|   NT|     813|     Female|    1027922|\n",
      "|     Melanie Santana|    53190 Misty Road|   NT|     837|Undisclosed|    1118053|\n",
      "|       Kenneth Moore|     697 Willie Spur|   NT|     853|       Male|     789709|\n",
      "|     Jamie Rodriguez|073 Lauren Track ...|   NT|     871|Undisclosed|     387303|\n",
      "|    Diana English MD|3516 Michael Expr...|   NT|     850|     Female|     857856|\n",
      "|      Phillip Benson|072 David Loop Su...|   NT|     851|Undisclosed|     600437|\n",
      "|       Eduardo Smith|913 Clarence Moun...|   NT|     870|       Male|      27498|\n",
      "|      Matthew Kelley|      4060 John Isle|   NT|     907|       Male|     869504|\n",
      "|    Mr. Scott Kelley|4617 Marshall Lan...|   NT|     829|       Male|     829542|\n",
      "|         Linda Bowen|53504 William Wal...|   NT|     811|     Female|     818116|\n",
      "|      Scott Griffith|0071 Heather Terrace|   NT|     810|       Male|     949115|\n",
      "|      Brandy Russell|88973 Anthony Roa...|   NT|     874|     Female|      31376|\n",
      "|         Emily Wolfe|47751 Graham Club...|   NT|     834|     Female|     530406|\n",
      "|       Brian Allison|554 Jill Alley Su...|   NT|     814|       Male|     489813|\n",
      "|       Jennifer Odom|    114 Turner Burgs|   NT|     810|     Female|     949269|\n",
      "|        Maria Bryant|      150 Adams Glen|   NT|     831|     Female|     140716|\n",
      "|        Rachel Walls| 47336 Evans Springs|   NT|     886|     Female|    1433379|\n",
      "|          Lisa Lucas|90291 Brandy Gardens|   NT|     850|     Female|     784181|\n",
      "|        Jessica Mora|85842 Fernandez T...|   NT|     875|     Female|    1349841|\n",
      "|      Kimberly Riggs|  9878 Salinas Brook|   NT|     850|     Female|     522592|\n",
      "|      Kirsten Hanson|5941 Smith Run Su...|   NT|     885|     Female|     565113|\n",
      "|         Lacey Jones|  5574 Wilson Corner|   NT|     847|Undisclosed|    1084137|\n",
      "|        Nathan Moore|69781 Burke Club ...|   NT|     813|       Male|     879946|\n",
      "|  Alexander Mitchell|191 Steven Turnpi...|   NT|     853|       Male|     952908|\n",
      "|         Sean Jordan|969 Adam Vista Su...|   NT|     828|Undisclosed|     146647|\n",
      "|    Jacqueline Rivas|2003 Kevin Creek ...|   NT|     853|Undisclosed|     446991|\n",
      "|       Wendy Cochran|0741 Flowers Moun...|   NT|     885|     Female|    1318620|\n",
      "|        Meghan Downs|   5531 Yang Harbors|   NT|     829|     Female|    1065100|\n",
      "|    Ernest Hernandez|8445 Debra Extens...|   NT|     906|       Male|    1431847|\n",
      "|       Nicole Bishop|467 Robert Island...|   NT|     800|     Female|     254301|\n",
      "|          Jason Hale|  11617 Smith Unions|   NT|     815|       Male|     812289|\n",
      "|     Timothy Jackson|        840 Amy Loop|   NT|     841|       Male|     452219|\n",
      "|      Kristen Hebert|   094 Anthony Falls|   NT|     804|     Female|     385124|\n",
      "|      Joseph Barrett|     5780 David Fort|   NT|     839|       Male|     507889|\n",
      "|       Edward Massey| 292 Joshua Overpass|   NT|     812|       Male|    1225221|\n",
      "|   Christopher Ramos|448 Elizabeth Pra...|   NT|     831|       Male|    1150108|\n",
      "|     Evelyn Gonzales|  13102 Johnson Dale|   NT|     851|     Female|     595544|\n",
      "|     Zachary Hickman|0807 Holmes Parkways|   NT|     822|       Male|    1387642|\n",
      "|   Alejandro Pacheco|2388 Huang Viaduc...|   NT|     880|       Male|     407965|\n",
      "|      Cindy Morrison|774 Griffin Plaza...|   NT|     881|     Female|     638523|\n",
      "|       Tammy Elliott|    358 Chelsea Isle|   NT|     870|     Female|     933428|\n",
      "|       Linda Houston|53075 Lisa Expres...|   NT|     810|     Female|     741216|\n",
      "+--------------------+--------------------+-----+--------+-----------+-----------+\n",
      "only showing top 50 rows\n",
      "\n"
     ]
    }
   ],
   "source": [
    "NT_sdf.show(50)"
   ]
  },
  {
   "cell_type": "code",
   "execution_count": 44,
   "metadata": {},
   "outputs": [
    {
     "data": {
      "text/plain": [
       "7764"
      ]
     },
     "execution_count": 44,
     "metadata": {},
     "output_type": "execute_result"
    }
   ],
   "source": [
    "NT_sdf= NT_sdf.where(\n",
    "    (F.col('postcode') >=  '800') & (F.col('postcode') <= '999'))\n",
    "NT_sdf.count()"
   ]
  },
  {
   "cell_type": "code",
   "execution_count": 15,
   "metadata": {},
   "outputs": [
    {
     "data": {
      "text/plain": [
       "18878"
      ]
     },
     "execution_count": 15,
     "metadata": {},
     "output_type": "execute_result"
    }
   ],
   "source": [
    "TAS_sdf.count()"
   ]
  },
  {
   "cell_type": "code",
   "execution_count": 16,
   "metadata": {},
   "outputs": [
    {
     "data": {
      "text/plain": [
       "18878"
      ]
     },
     "execution_count": 16,
     "metadata": {},
     "output_type": "execute_result"
    }
   ],
   "source": [
    "TAS_sdf= TAS_sdf.where(\n",
    "    (F.col('postcode') >=  '7000') & (F.col('postcode') <= '7999'))\n",
    "TAS_sdf.count()"
   ]
  },
  {
   "cell_type": "code",
   "execution_count": 24,
   "metadata": {},
   "outputs": [
    {
     "data": {
      "text/plain": [
       "79146"
      ]
     },
     "execution_count": 24,
     "metadata": {},
     "output_type": "execute_result"
    }
   ],
   "source": [
    "WA_sdf.count()"
   ]
  },
  {
   "cell_type": "code",
   "execution_count": 32,
   "metadata": {},
   "outputs": [
    {
     "data": {
      "text/plain": [
       "78837"
      ]
     },
     "execution_count": 32,
     "metadata": {},
     "output_type": "execute_result"
    }
   ],
   "source": [
    "WA_sdf= WA_sdf.where(\n",
    "    ((F.col('postcode') >=  '6000') & (F.col('postcode') <= '6797'))\n",
    "    | ((F.col('postcode') >=  '6800') & (F.col('postcode') <= '6999'))\n",
    ")\n",
    "WA_sdf.count()"
   ]
  },
  {
   "cell_type": "code",
   "execution_count": 33,
   "metadata": {},
   "outputs": [
    {
     "data": {
      "text/plain": [
       "54973"
      ]
     },
     "execution_count": 33,
     "metadata": {},
     "output_type": "execute_result"
    }
   ],
   "source": [
    "SA_sdf.count()"
   ]
  },
  {
   "cell_type": "code",
   "execution_count": 36,
   "metadata": {},
   "outputs": [
    {
     "data": {
      "text/plain": [
       "54973"
      ]
     },
     "execution_count": 36,
     "metadata": {},
     "output_type": "execute_result"
    }
   ],
   "source": [
    "SA_sdf= SA_sdf.where(\n",
    "    (F.col('postcode') >=  '5000') & (F.col('postcode') <= '5999'))\n",
    "SA_sdf.count()"
   ]
  },
  {
   "cell_type": "code",
   "execution_count": 37,
   "metadata": {},
   "outputs": [
    {
     "data": {
      "text/plain": [
       "72861"
      ]
     },
     "execution_count": 37,
     "metadata": {},
     "output_type": "execute_result"
    }
   ],
   "source": [
    "QLD_sdf.count()"
   ]
  },
  {
   "cell_type": "code",
   "execution_count": 38,
   "metadata": {},
   "outputs": [
    {
     "data": {
      "text/plain": [
       "72861"
      ]
     },
     "execution_count": 38,
     "metadata": {},
     "output_type": "execute_result"
    }
   ],
   "source": [
    "QLD_sdf= QLD_sdf.where(\n",
    "    ((F.col('postcode') >=  '4000') & (F.col('postcode') <= '4999'))\n",
    "    | ((F.col('postcode') >=  '9000') & (F.col('postcode') <= '9999'))\n",
    ")\n",
    "QLD_sdf.count()"
   ]
  },
  {
   "cell_type": "code",
   "execution_count": 40,
   "metadata": {},
   "outputs": [
    {
     "data": {
      "text/plain": [
       "144188"
      ]
     },
     "execution_count": 40,
     "metadata": {},
     "output_type": "execute_result"
    }
   ],
   "source": [
    "NSW_sdf.count()"
   ]
  },
  {
   "cell_type": "code",
   "execution_count": 41,
   "metadata": {},
   "outputs": [
    {
     "data": {
      "text/plain": [
       "143580"
      ]
     },
     "execution_count": 41,
     "metadata": {},
     "output_type": "execute_result"
    }
   ],
   "source": [
    "NSW_sdf= NSW_sdf.where(\n",
    "    ((F.col('postcode') >=  '1000') & (F.col('postcode') <= '2599'))\n",
    "    | ((F.col('postcode') >=  '2619') & (F.col('postcode') <= '2899'))\n",
    "    | ((F.col('postcode') >=  '2921') & (F.col('postcode') <= '2999'))\n",
    ")\n",
    "NSW_sdf.count()"
   ]
  },
  {
   "cell_type": "code",
   "execution_count": 45,
   "metadata": {},
   "outputs": [
    {
     "data": {
      "text/plain": [
       "4664"
      ]
     },
     "execution_count": 45,
     "metadata": {},
     "output_type": "execute_result"
    }
   ],
   "source": [
    "ACT_sdf.count()"
   ]
  },
  {
   "cell_type": "code",
   "execution_count": 46,
   "metadata": {},
   "outputs": [
    {
     "data": {
      "text/plain": [
       "4664"
      ]
     },
     "execution_count": 46,
     "metadata": {},
     "output_type": "execute_result"
    }
   ],
   "source": [
    "ACT_sdf= ACT_sdf.where(\n",
    "    ((F.col('postcode') >=  '200') & (F.col('postcode') <= '300'))\n",
    "    | ((F.col('postcode') >=  '2600') & (F.col('postcode') <= '2618'))\n",
    "    | ((F.col('postcode') >=  '2900') & (F.col('postcode') <= '2920'))\n",
    ")\n",
    "ACT_sdf.count()"
   ]
  }
 ],
 "metadata": {
  "kernelspec": {
   "display_name": "Python 3.10.4 64-bit",
   "language": "python",
   "name": "python3"
  },
  "language_info": {
   "codemirror_mode": {
    "name": "ipython",
    "version": 3
   },
   "file_extension": ".py",
   "mimetype": "text/x-python",
   "name": "python",
   "nbconvert_exporter": "python",
   "pygments_lexer": "ipython3",
   "version": "3.8.10"
  },
  "orig_nbformat": 4,
  "vscode": {
   "interpreter": {
    "hash": "916dbcbb3f70747c44a77c7bcd40155683ae19c65e1c03b4aa3499c5328201f1"
   }
  }
 },
 "nbformat": 4,
 "nbformat_minor": 2
}
