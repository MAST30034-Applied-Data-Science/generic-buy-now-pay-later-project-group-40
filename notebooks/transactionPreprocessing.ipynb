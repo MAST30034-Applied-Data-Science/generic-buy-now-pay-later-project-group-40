{
 "cells": [
  {
   "cell_type": "code",
   "execution_count": 49,
   "metadata": {},
   "outputs": [],
   "source": [
    "from pyspark.sql import SparkSession\n",
    "from pyspark.sql.functions import *\n",
    "from pyspark.sql import functions as F\n",
    "from pyspark.ml.feature import Imputer\n",
    "\n",
    "spark = (\n",
    "    SparkSession.builder.appName(\"MAST30034 Project 2\")\n",
    "    .config(\"spark.driver.memory\", '4g')\n",
    "    .config(\"spark.executor.memory\", '8g')\n",
    "    .config(\"spark.sql.session.timeZone\", \"Etc/UTC\")\n",
    "    .config(\"spark.sql.parquet.enableVectorizedReader\",\"false\")\n",
    "    .config(\"spark.sql.repl.eagerEval.enabled\", True) \n",
    "    .config(\"spark.sql.parquet.cacheMetadata\", \"true\")\n",
    "    .getOrCreate()\n",
    ")"
   ]
  },
  {
   "cell_type": "markdown",
   "metadata": {},
   "source": [
    "### Read in data"
   ]
  },
  {
   "cell_type": "code",
   "execution_count": 41,
   "metadata": {},
   "outputs": [],
   "source": [
    "weights_sdf = spark.read.parquet(\n",
    "    '../data/curated/demographic_weights.parquet'\n",
    ")\n",
    "consumers_sdf = spark.read.parquet(\n",
    "    '../data/curated/cleaned_consumers.parquet'\n",
    ")\n",
    "\n",
    "user_details_sdf = spark.read.parquet(\n",
    "    '../data/tables/consumer_user_details.parquet'\n",
    ")\n",
    "\n",
    "postcode_poa_sdf = spark.read.parquet(\n",
    "    '../data/curated/census/postcode_poa.parquet'\n",
    ")\n",
    "# Reading in all transaction data and joining them\n",
    "\"\"\"transactions_sdf = spark.read.parquet(\n",
    "    '../data/tables/transactions_20210228_20210827_snapshot'\n",
    ").union(\n",
    "    spark.read.parquet(\n",
    "        '../data/tables/transactions_20210828_20220227_snapshot'\n",
    "    )\n",
    ").union(\n",
    "    spark.read.parquet(\n",
    "        '../data/tables/transactions_20220228_20220828_snapshot'\n",
    "    )\n",
    ")\"\"\"\n",
    "transactions_sdf = spark.read.parquet('../data/raw/samples/transaction_sample.parquet')"
   ]
  },
  {
   "cell_type": "markdown",
   "metadata": {},
   "source": [
    "### Remove transactions outside valid bnpl range"
   ]
  },
  {
   "cell_type": "code",
   "execution_count": 42,
   "metadata": {},
   "outputs": [],
   "source": [
    "# Round to 2 decimal places, and define a transaction range\n",
    "min_value = 5\n",
    "max_value = 10000\n",
    "\n",
    "transactions = transactions_sdf.where(\n",
    "    (F.col('dollar_value') >= min_value)\n",
    "    & (F.col('dollar_value') <= max_value)\n",
    ")"
   ]
  },
  {
   "cell_type": "markdown",
   "metadata": {},
   "source": [
    "### Join transaction data with consumer data and weights"
   ]
  },
  {
   "cell_type": "code",
   "execution_count": 43,
   "metadata": {},
   "outputs": [],
   "source": [
    "transactions_sdf = transactions_sdf.join(\n",
    "    user_details_sdf,\n",
    "    on = 'user_id',\n",
    "    how = 'left'\n",
    ").join(\n",
    "    consumers_sdf.select(\n",
    "        'consumer_id', 'postcode', 'gender'\n",
    "    ),\n",
    "    on = 'consumer_id',\n",
    "    how = 'left'\n",
    ").join(\n",
    "    postcode_poa_sdf,\n",
    "    on = 'postcode',\n",
    "    how = 'left'\n",
    ").join(\n",
    "    weights_sdf,\n",
    "    on = ['poa' ,'gender'],\n",
    "    how = 'left'\n",
    ")"
   ]
  },
  {
   "cell_type": "markdown",
   "metadata": {},
   "source": [
    "Displays number of null values for each column (resulting from above joins)"
   ]
  },
  {
   "cell_type": "code",
   "execution_count": 48,
   "metadata": {},
   "outputs": [
    {
     "data": {
      "text/html": [
       "<table border='1'>\n",
       "<tr><th>count(CASE WHEN (poa IS NULL) THEN poa END)</th><th>count(CASE WHEN (gender IS NULL) THEN gender END)</th><th>count(CASE WHEN (postcode IS NULL) THEN postcode END)</th><th>count(CASE WHEN (consumer_id IS NULL) THEN consumer_id END)</th><th>count(CASE WHEN (user_id IS NULL) THEN user_id END)</th><th>count(CASE WHEN (merchant_abn IS NULL) THEN merchant_abn END)</th><th>count(CASE WHEN (dollar_value IS NULL) THEN dollar_value END)</th><th>count(CASE WHEN (order_id IS NULL) THEN order_id END)</th><th>count(CASE WHEN (order_datetime IS NULL) THEN order_datetime END)</th><th>count(CASE WHEN (weight IS NULL) THEN weight END)</th></tr>\n",
       "<tr><td>449</td><td>345</td><td>345</td><td>0</td><td>0</td><td>0</td><td>0</td><td>0</td><td>0</td><td>0</td></tr>\n",
       "</table>\n"
      ],
      "text/plain": [
       "+-------------------------------------------+-------------------------------------------------+-----------------------------------------------------+-----------------------------------------------------------+---------------------------------------------------+-------------------------------------------------------------+-------------------------------------------------------------+-----------------------------------------------------+-----------------------------------------------------------------+-------------------------------------------------+\n",
       "|count(CASE WHEN (poa IS NULL) THEN poa END)|count(CASE WHEN (gender IS NULL) THEN gender END)|count(CASE WHEN (postcode IS NULL) THEN postcode END)|count(CASE WHEN (consumer_id IS NULL) THEN consumer_id END)|count(CASE WHEN (user_id IS NULL) THEN user_id END)|count(CASE WHEN (merchant_abn IS NULL) THEN merchant_abn END)|count(CASE WHEN (dollar_value IS NULL) THEN dollar_value END)|count(CASE WHEN (order_id IS NULL) THEN order_id END)|count(CASE WHEN (order_datetime IS NULL) THEN order_datetime END)|count(CASE WHEN (weight IS NULL) THEN weight END)|\n",
       "+-------------------------------------------+-------------------------------------------------+-----------------------------------------------------+-----------------------------------------------------------+---------------------------------------------------+-------------------------------------------------------------+-------------------------------------------------------------+-----------------------------------------------------+-----------------------------------------------------------------+-------------------------------------------------+\n",
       "|                                        449|                                              345|                                                  345|                                                          0|                                                  0|                                                            0|                                                            0|                                                    0|                                                                0|                                                0|\n",
       "+-------------------------------------------+-------------------------------------------------+-----------------------------------------------------+-----------------------------------------------------------+---------------------------------------------------+-------------------------------------------------------------+-------------------------------------------------------------+-----------------------------------------------------+-----------------------------------------------------------------+-------------------------------------------------+"
      ]
     },
     "execution_count": 48,
     "metadata": {},
     "output_type": "execute_result"
    }
   ],
   "source": [
    "transactions_sdf.select([F.count(F.when(F.col(x).isNull(), x)) for x in transactions_sdf.columns])"
   ]
  },
  {
   "cell_type": "markdown",
   "metadata": {},
   "source": [
    "Impute null weights"
   ]
  },
  {
   "cell_type": "code",
   "execution_count": 47,
   "metadata": {},
   "outputs": [],
   "source": [
    "\n",
    "imputer = Imputer(inputCol = 'weight', outputCol='weight', strategy = 'mean')\n",
    "transactions_sdf = imputer.fit(transactions_sdf).transform(transactions_sdf)\n",
    "\n"
   ]
  },
  {
   "cell_type": "markdown",
   "metadata": {},
   "source": [
    "Apply weights"
   ]
  },
  {
   "cell_type": "code",
   "execution_count": null,
   "metadata": {},
   "outputs": [],
   "source": [
    "transaction_sdf = transactions_sdf.withColumn(\n",
    "    'weighted_dollar_value',\n",
    "    F.col('weight')*F.col('dollar_value')\n",
    ")"
   ]
  },
  {
   "cell_type": "code",
   "execution_count": null,
   "metadata": {},
   "outputs": [],
   "source": [
    "transactions_sdf = transactions_sdf.withColumn('dollar_value', F.round(F.col('dollar_value'), 2))"
   ]
  },
  {
   "cell_type": "markdown",
   "metadata": {},
   "source": [
    "### Check ABN validity"
   ]
  },
  {
   "cell_type": "code",
   "execution_count": 15,
   "metadata": {},
   "outputs": [],
   "source": [
    "# Make sure ABN is valid, takes in long\n",
    "\n",
    "def validateABN(merchant_abn):\n",
    "\n",
    "    str_abn = str(merchant_abn)\n",
    "\n",
    "    if len(str_abn) == 11:\n",
    "        return True\n",
    "    else:\n",
    "        return False"
   ]
  },
  {
   "cell_type": "code",
   "execution_count": 16,
   "metadata": {},
   "outputs": [
    {
     "name": "stderr",
     "output_type": "stream",
     "text": [
      "                                                                                \r"
     ]
    }
   ],
   "source": [
    "# Create a list of all row values, used for validating ABN\n",
    "\n",
    "sdf_list = sdf_consumer_transaction.select(\"merchant_abn\").collect()"
   ]
  },
  {
   "cell_type": "code",
   "execution_count": 17,
   "metadata": {},
   "outputs": [],
   "source": [
    "# Find any merchants without a valid ABN\n",
    "\n",
    "i = 0\n",
    "invalidABN = []\n",
    "\n",
    "while i < len(sdf_list):\n",
    "    abn = str(sdf_list[i].__getitem__('merchant_abn'))\n",
    "    if validateABN(abn) == False:\n",
    "        invalidABN.append(abn)\n",
    "    i += 1"
   ]
  },
  {
   "cell_type": "code",
   "execution_count": 18,
   "metadata": {},
   "outputs": [
    {
     "data": {
      "text/plain": [
       "[]"
      ]
     },
     "execution_count": 18,
     "metadata": {},
     "output_type": "execute_result"
    }
   ],
   "source": [
    "invalidABN"
   ]
  },
  {
   "cell_type": "markdown",
   "metadata": {},
   "source": [
    "ez no invalid abn"
   ]
  },
  {
   "cell_type": "code",
   "execution_count": 19,
   "metadata": {},
   "outputs": [],
   "source": [
    "# Checking date range\n",
    "start_date = '2021-02-28'\n",
    "end_date = '2022-08-28'\n",
    "sdf_consumer_transaction = sdf_consumer_transaction.where(\n",
    "    (F.col('order_datetime') >= start_date) & (F.col('order_datetime') <= end_date)\n",
    ")"
   ]
  },
  {
   "cell_type": "code",
   "execution_count": 20,
   "metadata": {},
   "outputs": [
    {
     "name": "stderr",
     "output_type": "stream",
     "text": [
      "                                                                                \r"
     ]
    },
    {
     "data": {
      "text/plain": [
       "11965964"
      ]
     },
     "execution_count": 20,
     "metadata": {},
     "output_type": "execute_result"
    }
   ],
   "source": [
    "sdf_consumer_transaction.count()"
   ]
  },
  {
   "cell_type": "code",
   "execution_count": 21,
   "metadata": {},
   "outputs": [
    {
     "name": "stderr",
     "output_type": "stream",
     "text": [
      "                                                                                \r"
     ]
    }
   ],
   "source": [
    "# Export cleaned data\n",
    "sdf_consumer_transaction.write.mode('overwrite').parquet('../data/curated/cleaned_transactions.parquet')"
   ]
  }
 ],
 "metadata": {
  "kernelspec": {
   "display_name": "Python 3.8.10 64-bit",
   "language": "python",
   "name": "python3"
  },
  "language_info": {
   "codemirror_mode": {
    "name": "ipython",
    "version": 3
   },
   "file_extension": ".py",
   "mimetype": "text/x-python",
   "name": "python",
   "nbconvert_exporter": "python",
   "pygments_lexer": "ipython3",
   "version": "3.10.4"
  },
  "orig_nbformat": 4,
  "vscode": {
   "interpreter": {
    "hash": "916dbcbb3f70747c44a77c7bcd40155683ae19c65e1c03b4aa3499c5328201f1"
   }
  }
 },
 "nbformat": 4,
 "nbformat_minor": 2
}
