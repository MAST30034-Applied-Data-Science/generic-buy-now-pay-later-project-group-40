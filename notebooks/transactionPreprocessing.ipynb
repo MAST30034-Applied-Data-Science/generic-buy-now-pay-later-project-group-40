{
 "cells": [
  {
   "cell_type": "code",
   "execution_count": 2,
   "metadata": {},
   "outputs": [
    {
     "name": "stdout",
     "output_type": "stream",
     "text": [
      "22/09/26 20:01:17 WARN Utils: Your hostname, DESKTOP-3NQ3PQI resolves to a loopback address: 127.0.1.1; using 172.31.182.220 instead (on interface eth0)\n",
      "22/09/26 20:01:17 WARN Utils: Set SPARK_LOCAL_IP if you need to bind to another address\n"
     ]
    },
    {
     "name": "stderr",
     "output_type": "stream",
     "text": [
      "Setting default log level to \"WARN\".\n",
      "To adjust logging level use sc.setLogLevel(newLevel). For SparkR, use setLogLevel(newLevel).\n"
     ]
    },
    {
     "name": "stdout",
     "output_type": "stream",
     "text": [
      "22/09/26 20:01:19 WARN NativeCodeLoader: Unable to load native-hadoop library for your platform... using builtin-java classes where applicable\n",
      "22/09/26 20:01:20 WARN Utils: Service 'SparkUI' could not bind on port 4040. Attempting port 4041.\n"
     ]
    }
   ],
   "source": [
    "from pyspark.sql import SparkSession\n",
    "from pyspark.sql.functions import *\n",
    "from pyspark.sql import functions as F\n",
    "\n",
    "spark = (\n",
    "    SparkSession.builder.appName(\"MAST30034 Project 2\")\n",
    "    .config(\"spark.driver.memory\", '4g')\n",
    "    .config(\"spark.executor.memory\", '8g')\n",
    "    .config(\"spark.sql.session.timeZone\", \"Etc/UTC\")\n",
    "    .config(\"spark.sql.parquet.enableVectorizedReader\",\"false\")\n",
    "    .config(\"spark.sql.repl.eagerEval.enabled\", True) \n",
    "    .config(\"spark.sql.parquet.cacheMetadata\", \"true\")\n",
    "    .getOrCreate()\n",
    ")"
   ]
  },
  {
   "cell_type": "markdown",
   "metadata": {},
   "source": [
    "### Read in data"
   ]
  },
  {
   "cell_type": "code",
   "execution_count": 10,
   "metadata": {},
   "outputs": [],
   "source": [
    "weights_sdf = spark.read.parquet(\n",
    "    '../data/curated/demographic_weights.parquet'\n",
    ")\n",
    "consumers_sdf = spark.read.parquet(\n",
    "    '../data/curated/cleaned_consumers.parquet'\n",
    ")\n",
    "\n",
    "user_details_sdf = spark.read.parquet(\n",
    "    '../data/tables/consumer_user_details.parquet'\n",
    ")\n",
    "\n",
    "postcode_poa_sdf = spark.read.parquet(\n",
    "    '../data/curated/census/postcode_poa.parquet'\n",
    ")\n",
    "# Reading in all transaction data and joining them\n",
    "\"\"\"transactions_sdf = spark.read.parquet(\n",
    "    '../data/tables/transactions_20210228_20210827_snapshot'\n",
    ").union(\n",
    "    spark.read.parquet(\n",
    "        '../data/tables/transactions_20210828_20220227_snapshot'\n",
    "    )\n",
    ").union(\n",
    "    spark.read.parquet(\n",
    "        '../data/tables/transactions_20220228_20220828_snapshot'\n",
    "    )\n",
    ")\"\"\"\n",
    "transactions_sdf = spark.read.parquet('../data/raw/samples/transaction_sample.parquet')"
   ]
  },
  {
   "cell_type": "code",
   "execution_count": 11,
   "metadata": {},
   "outputs": [
    {
     "data": {
      "text/html": [
       "<table border='1'>\n",
       "<tr><th>postcode</th><th>poa</th></tr>\n",
       "<tr><td>0200</td><td>2601</td></tr>\n",
       "</table>\n"
      ],
      "text/plain": [
       "+--------+----+\n",
       "|postcode| poa|\n",
       "+--------+----+\n",
       "|    0200|2601|\n",
       "+--------+----+"
      ]
     },
     "execution_count": 11,
     "metadata": {},
     "output_type": "execute_result"
    }
   ],
   "source": [
    "postcode_poa_sdf.limit(1)"
   ]
  },
  {
   "cell_type": "code",
   "execution_count": 7,
   "metadata": {},
   "outputs": [
    {
     "data": {
      "text/html": [
       "<table border='1'>\n",
       "<tr><th>user_id</th><th>merchant_abn</th><th>dollar_value</th><th>order_id</th><th>order_datetime</th></tr>\n",
       "<tr><td>14963</td><td>75089928159</td><td>157.395489968075</td><td>230f0253-31ac-43b...</td><td>2021-11-26</td></tr>\n",
       "</table>\n"
      ],
      "text/plain": [
       "+-------+------------+----------------+--------------------+--------------+\n",
       "|user_id|merchant_abn|    dollar_value|            order_id|order_datetime|\n",
       "+-------+------------+----------------+--------------------+--------------+\n",
       "|  14963| 75089928159|157.395489968075|230f0253-31ac-43b...|    2021-11-26|\n",
       "+-------+------------+----------------+--------------------+--------------+"
      ]
     },
     "execution_count": 7,
     "metadata": {},
     "output_type": "execute_result"
    }
   ],
   "source": [
    "transactions_sdf.limit(1)"
   ]
  },
  {
   "cell_type": "code",
   "execution_count": 15,
   "metadata": {},
   "outputs": [
    {
     "data": {
      "text/html": [
       "<table border='1'>\n",
       "<tr><th>user_id</th><th>consumer_id</th></tr>\n",
       "<tr><td>1</td><td>1195503</td></tr>\n",
       "</table>\n"
      ],
      "text/plain": [
       "+-------+-----------+\n",
       "|user_id|consumer_id|\n",
       "+-------+-----------+\n",
       "|      1|    1195503|\n",
       "+-------+-----------+"
      ]
     },
     "execution_count": 15,
     "metadata": {},
     "output_type": "execute_result"
    }
   ],
   "source": [
    "user_details_sdf.limit(1)"
   ]
  },
  {
   "cell_type": "markdown",
   "metadata": {},
   "source": [
    "### Join transactional data with consumer data"
   ]
  },
  {
   "cell_type": "code",
   "execution_count": 12,
   "metadata": {},
   "outputs": [],
   "source": [
    "transactions_sdf = transactions_sdf.join(\n",
    "    user_details_sdf,\n",
    "    on = 'user_id',\n",
    "    how = 'left'\n",
    ").join(\n",
    "    consumers_sdf.select(\n",
    "        'consumer_id', 'postcode', 'gender'\n",
    "    ),\n",
    "    on = 'consumer_id',\n",
    "    how = 'left'\n",
    ").join(\n",
    "    postcode_poa_sdf,\n",
    "    on = 'postcode',\n",
    "    how = 'left'\n",
    ").join(\n",
    "    weights_sdf,\n",
    "    on = ['poa' ,'gender'],\n",
    "    how = 'left'\n",
    ")"
   ]
  },
  {
   "cell_type": "markdown",
   "metadata": {},
   "source": [
    "Displays number of null values for each column (resulting from above joins)"
   ]
  },
  {
   "cell_type": "code",
   "execution_count": 20,
   "metadata": {},
   "outputs": [
    {
     "data": {
      "text/html": [
       "<table border='1'>\n",
       "<tr><th>count(CASE WHEN (poa IS NULL) THEN poa END)</th><th>count(CASE WHEN (gender IS NULL) THEN gender END)</th><th>count(CASE WHEN (postcode IS NULL) THEN postcode END)</th><th>count(CASE WHEN (consumer_id IS NULL) THEN consumer_id END)</th><th>count(CASE WHEN (user_id IS NULL) THEN user_id END)</th><th>count(CASE WHEN (merchant_abn IS NULL) THEN merchant_abn END)</th><th>count(CASE WHEN (dollar_value IS NULL) THEN dollar_value END)</th><th>count(CASE WHEN (order_id IS NULL) THEN order_id END)</th><th>count(CASE WHEN (order_datetime IS NULL) THEN order_datetime END)</th><th>count(CASE WHEN (weight IS NULL) THEN weight END)</th></tr>\n",
       "<tr><td>449</td><td>345</td><td>345</td><td>0</td><td>0</td><td>0</td><td>0</td><td>0</td><td>0</td><td>449</td></tr>\n",
       "</table>\n"
      ],
      "text/plain": [
       "+-------------------------------------------+-------------------------------------------------+-----------------------------------------------------+-----------------------------------------------------------+---------------------------------------------------+-------------------------------------------------------------+-------------------------------------------------------------+-----------------------------------------------------+-----------------------------------------------------------------+-------------------------------------------------+\n",
       "|count(CASE WHEN (poa IS NULL) THEN poa END)|count(CASE WHEN (gender IS NULL) THEN gender END)|count(CASE WHEN (postcode IS NULL) THEN postcode END)|count(CASE WHEN (consumer_id IS NULL) THEN consumer_id END)|count(CASE WHEN (user_id IS NULL) THEN user_id END)|count(CASE WHEN (merchant_abn IS NULL) THEN merchant_abn END)|count(CASE WHEN (dollar_value IS NULL) THEN dollar_value END)|count(CASE WHEN (order_id IS NULL) THEN order_id END)|count(CASE WHEN (order_datetime IS NULL) THEN order_datetime END)|count(CASE WHEN (weight IS NULL) THEN weight END)|\n",
       "+-------------------------------------------+-------------------------------------------------+-----------------------------------------------------+-----------------------------------------------------------+---------------------------------------------------+-------------------------------------------------------------+-------------------------------------------------------------+-----------------------------------------------------+-----------------------------------------------------------------+-------------------------------------------------+\n",
       "|                                        449|                                              345|                                                  345|                                                          0|                                                  0|                                                            0|                                                            0|                                                    0|                                                                0|                                              449|\n",
       "+-------------------------------------------+-------------------------------------------------+-----------------------------------------------------+-----------------------------------------------------------+---------------------------------------------------+-------------------------------------------------------------+-------------------------------------------------------------+-----------------------------------------------------+-----------------------------------------------------------------+-------------------------------------------------+"
      ]
     },
     "execution_count": 20,
     "metadata": {},
     "output_type": "execute_result"
    }
   ],
   "source": [
    "transactions_sdf.select([F.count(F.when(F.col(x).isNull(), x)) for x in transactions_sdf.columns])"
   ]
  },
  {
   "cell_type": "code",
   "execution_count": 9,
   "metadata": {},
   "outputs": [
    {
     "name": "stderr",
     "output_type": "stream",
     "text": [
      "                                                                                \r"
     ]
    },
    {
     "name": "stdout",
     "output_type": "stream",
     "text": [
      "+-----------+-------+------------+------------------+--------------------+--------------+-----+--------+------+\n",
      "|consumer_id|user_id|merchant_abn|      dollar_value|            order_id|order_datetime|state|postcode|gender|\n",
      "+-----------+-------+------------+------------------+--------------------+--------------+-----+--------+------+\n",
      "|     651338|  18478| 62191208634|63.255848959735246|949a63c8-29f7-4ab...|    2021-08-20|  TAS|    7001|  Male|\n",
      "|     179208|      2| 15549624934| 130.3505283105634|6a84c3cf-612a-457...|    2021-08-20|  NSW|    2782|Female|\n",
      "|     467663|  18479| 64403598239|120.15860593212783|b10dcc33-e53f-425...|    2021-08-20|  TAS|    7010|Female|\n",
      "|    1194530|      3| 60956456424| 136.6785200286976|0f09c5a5-784e-447...|    2021-08-20|   NT|    0862|Female|\n",
      "|     467663|  18479| 94493496784| 72.96316578355305|f6c78c1a-4600-4c5...|    2021-08-20|  TAS|    7010|Female|\n",
      "+-----------+-------+------------+------------------+--------------------+--------------+-----+--------+------+\n",
      "only showing top 5 rows\n",
      "\n"
     ]
    }
   ],
   "source": [
    "sdf_usertransaction = sdf_userdetails.join(sdf_transactions, on='user_id')\n",
    "sdf_consumer_transaction = sdf_usertransaction.join(sdf_consumer, on='consumer_id')\n",
    "sdf_consumer_transaction.show(5)"
   ]
  },
  {
   "cell_type": "code",
   "execution_count": 10,
   "metadata": {},
   "outputs": [
    {
     "name": "stderr",
     "output_type": "stream",
     "text": [
      "                                                                                \r"
     ]
    },
    {
     "data": {
      "text/plain": [
       "14164820"
      ]
     },
     "execution_count": 10,
     "metadata": {},
     "output_type": "execute_result"
    }
   ],
   "source": [
    "# Checking final count to see if it joined properly\n",
    "sdf_consumer_transaction.count()"
   ]
  },
  {
   "cell_type": "code",
   "execution_count": 11,
   "metadata": {},
   "outputs": [
    {
     "name": "stdout",
     "output_type": "stream",
     "text": [
      "root\n",
      " |-- consumer_id: long (nullable = true)\n",
      " |-- user_id: long (nullable = true)\n",
      " |-- merchant_abn: long (nullable = true)\n",
      " |-- dollar_value: double (nullable = true)\n",
      " |-- order_id: string (nullable = true)\n",
      " |-- order_datetime: date (nullable = true)\n",
      " |-- state: string (nullable = true)\n",
      " |-- postcode: string (nullable = true)\n",
      " |-- gender: string (nullable = true)\n",
      "\n"
     ]
    }
   ],
   "source": [
    "sdf_consumer_transaction.printSchema()"
   ]
  },
  {
   "cell_type": "markdown",
   "metadata": {},
   "source": [
    "### Look at gender"
   ]
  },
  {
   "cell_type": "code",
   "execution_count": 12,
   "metadata": {},
   "outputs": [
    {
     "name": "stderr",
     "output_type": "stream",
     "text": [
      "                                                                                \r"
     ]
    },
    {
     "data": {
      "text/html": [
       "<table border='1'>\n",
       "<tr><th>gender</th><th>count</th></tr>\n",
       "<tr><td>Undisclosed</td><td>1438927</td></tr>\n",
       "<tr><td>Female</td><td>6296649</td></tr>\n",
       "<tr><td>Male</td><td>6429244</td></tr>\n",
       "</table>\n"
      ],
      "text/plain": [
       "+-----------+-------+\n",
       "|     gender|  count|\n",
       "+-----------+-------+\n",
       "|Undisclosed|1438927|\n",
       "|     Female|6296649|\n",
       "|       Male|6429244|\n",
       "+-----------+-------+"
      ]
     },
     "execution_count": 12,
     "metadata": {},
     "output_type": "execute_result"
    }
   ],
   "source": [
    "# Checking gender categories\n",
    "sdf_consumer_transaction.groupBy('gender').count()"
   ]
  },
  {
   "cell_type": "markdown",
   "metadata": {},
   "source": [
    "With our genders, it may be a promising feature which woucl dbe used further along the line. Thus, we want to keep it for future references. However, there are people who wish to not disclose their gender and a gender feature as 'undisclosed' has appeared. The following code deals with attempting to find if there has been any past that customers who have said 'undisclosed' have provided us."
   ]
  },
  {
   "cell_type": "markdown",
   "metadata": {},
   "source": [
    "For the first set of data, doesn't seem like there's any overlap. Smoge useless analysis"
   ]
  },
  {
   "cell_type": "code",
   "execution_count": 13,
   "metadata": {},
   "outputs": [
    {
     "name": "stderr",
     "output_type": "stream",
     "text": [
      "                                                                                \r"
     ]
    },
    {
     "data": {
      "text/html": [
       "<table border='1'>\n",
       "<tr><th>state</th><th>count</th></tr>\n",
       "<tr><td>NT</td><td>202178</td></tr>\n",
       "<tr><td>ACT</td><td>124454</td></tr>\n",
       "<tr><td>SA</td><td>1612955</td></tr>\n",
       "<tr><td>TAS</td><td>525947</td></tr>\n",
       "<tr><td>WA</td><td>2238788</td></tr>\n",
       "<tr><td>QLD</td><td>2100381</td></tr>\n",
       "<tr><td>VIC</td><td>3278493</td></tr>\n",
       "<tr><td>NSW</td><td>4081624</td></tr>\n",
       "</table>\n"
      ],
      "text/plain": [
       "+-----+-------+\n",
       "|state|  count|\n",
       "+-----+-------+\n",
       "|   NT| 202178|\n",
       "|  ACT| 124454|\n",
       "|   SA|1612955|\n",
       "|  TAS| 525947|\n",
       "|   WA|2238788|\n",
       "|  QLD|2100381|\n",
       "|  VIC|3278493|\n",
       "|  NSW|4081624|\n",
       "+-----+-------+"
      ]
     },
     "execution_count": 13,
     "metadata": {},
     "output_type": "execute_result"
    }
   ],
   "source": [
    "# Checking if there is only correct states\n",
    "sdf_consumer_transaction.groupBy('state').count()"
   ]
  },
  {
   "cell_type": "markdown",
   "metadata": {},
   "source": [
    "### Round dollar values to 2dp"
   ]
  },
  {
   "cell_type": "code",
   "execution_count": 14,
   "metadata": {},
   "outputs": [],
   "source": [
    "# Round to 2 decimal places, and define a transaction range\n",
    "min_value = 5\n",
    "max_value = 10000\n",
    "sdf_consumer_transaction = sdf_consumer_transaction.withColumn('dollar_value', F.round(F.col('dollar_value'), 2))\n",
    "sdf_consumer_transaction = sdf_consumer_transaction.where(\n",
    "    (F.col('dollar_value') >= min_value)\n",
    "    & (F.col('dollar_value') <= max_value)\n",
    ")"
   ]
  },
  {
   "cell_type": "markdown",
   "metadata": {},
   "source": [
    "### Check ABN validity"
   ]
  },
  {
   "cell_type": "code",
   "execution_count": 15,
   "metadata": {},
   "outputs": [],
   "source": [
    "# Make sure ABN is valid, takes in long\n",
    "\n",
    "def validateABN(merchant_abn):\n",
    "\n",
    "    str_abn = str(merchant_abn)\n",
    "\n",
    "    if len(str_abn) == 11:\n",
    "        return True\n",
    "    else:\n",
    "        return False"
   ]
  },
  {
   "cell_type": "code",
   "execution_count": 16,
   "metadata": {},
   "outputs": [
    {
     "name": "stderr",
     "output_type": "stream",
     "text": [
      "                                                                                \r"
     ]
    }
   ],
   "source": [
    "# Create a list of all row values, used for validating ABN\n",
    "\n",
    "sdf_list = sdf_consumer_transaction.select(\"merchant_abn\").collect()"
   ]
  },
  {
   "cell_type": "code",
   "execution_count": 17,
   "metadata": {},
   "outputs": [],
   "source": [
    "# Find any merchants without a valid ABN\n",
    "\n",
    "i = 0\n",
    "invalidABN = []\n",
    "\n",
    "while i < len(sdf_list):\n",
    "    abn = str(sdf_list[i].__getitem__('merchant_abn'))\n",
    "    if validateABN(abn) == False:\n",
    "        invalidABN.append(abn)\n",
    "    i += 1"
   ]
  },
  {
   "cell_type": "code",
   "execution_count": 18,
   "metadata": {},
   "outputs": [
    {
     "data": {
      "text/plain": [
       "[]"
      ]
     },
     "execution_count": 18,
     "metadata": {},
     "output_type": "execute_result"
    }
   ],
   "source": [
    "invalidABN"
   ]
  },
  {
   "cell_type": "markdown",
   "metadata": {},
   "source": [
    "ez no invalid abn"
   ]
  },
  {
   "cell_type": "code",
   "execution_count": 19,
   "metadata": {},
   "outputs": [],
   "source": [
    "# Checking date range\n",
    "start_date = '2021-02-28'\n",
    "end_date = '2022-08-28'\n",
    "sdf_consumer_transaction = sdf_consumer_transaction.where(\n",
    "    (F.col('order_datetime') >= start_date) & (F.col('order_datetime') <= end_date)\n",
    ")"
   ]
  },
  {
   "cell_type": "code",
   "execution_count": 20,
   "metadata": {},
   "outputs": [
    {
     "name": "stderr",
     "output_type": "stream",
     "text": [
      "                                                                                \r"
     ]
    },
    {
     "data": {
      "text/plain": [
       "11965964"
      ]
     },
     "execution_count": 20,
     "metadata": {},
     "output_type": "execute_result"
    }
   ],
   "source": [
    "sdf_consumer_transaction.count()"
   ]
  },
  {
   "cell_type": "code",
   "execution_count": 21,
   "metadata": {},
   "outputs": [
    {
     "name": "stderr",
     "output_type": "stream",
     "text": [
      "                                                                                \r"
     ]
    }
   ],
   "source": [
    "# Export cleaned data\n",
    "sdf_consumer_transaction.write.mode('overwrite').parquet('../data/curated/cleaned_transactions.parquet')"
   ]
  }
 ],
 "metadata": {
  "kernelspec": {
   "display_name": "Python 3.8.10 64-bit",
   "language": "python",
   "name": "python3"
  },
  "language_info": {
   "codemirror_mode": {
    "name": "ipython",
    "version": 3
   },
   "file_extension": ".py",
   "mimetype": "text/x-python",
   "name": "python",
   "nbconvert_exporter": "python",
   "pygments_lexer": "ipython3",
   "version": "3.10.4"
  },
  "orig_nbformat": 4,
  "vscode": {
   "interpreter": {
    "hash": "916dbcbb3f70747c44a77c7bcd40155683ae19c65e1c03b4aa3499c5328201f1"
   }
  }
 },
 "nbformat": 4,
 "nbformat_minor": 2
}
