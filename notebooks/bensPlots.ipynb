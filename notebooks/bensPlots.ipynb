{
 "cells": [
  {
   "cell_type": "code",
   "execution_count": 2,
   "metadata": {},
   "outputs": [],
   "source": [
    "from pyspark.sql import SparkSession, functions as F\n",
    "import pandas as pd\n",
    "import numpy as np\n",
    "from pyspark.ml import Pipeline\n",
    "from pyspark.ml.feature import StringIndexer, OneHotEncoder, VectorAssembler, Interaction\n",
    "from pyspark.sql.functions import col\n",
    "from pyspark.ml.regression import LinearRegression\n",
    "from pyspark.ml.feature import VectorIndexer\n",
    "import plotly.express as px\n",
    "import datetime"
   ]
  },
  {
   "cell_type": "code",
   "execution_count": 41,
   "metadata": {},
   "outputs": [
    {
     "name": "stdout",
     "output_type": "stream",
     "text": [
      "22/10/10 06:51:38 WARN Utils: Your hostname, DESKTOP-3NQ3PQI resolves to a loopback address: 127.0.1.1; using 172.17.18.177 instead (on interface eth0)\n",
      "22/10/10 06:51:38 WARN Utils: Set SPARK_LOCAL_IP if you need to bind to another address\n"
     ]
    },
    {
     "name": "stderr",
     "output_type": "stream",
     "text": [
      "Setting default log level to \"WARN\".\n",
      "To adjust logging level use sc.setLogLevel(newLevel). For SparkR, use setLogLevel(newLevel).\n"
     ]
    },
    {
     "name": "stdout",
     "output_type": "stream",
     "text": [
      "22/10/10 06:51:40 WARN NativeCodeLoader: Unable to load native-hadoop library for your platform... using builtin-java classes where applicable\n",
      "22/10/10 06:51:42 WARN Utils: Service 'SparkUI' could not bind on port 4040. Attempting port 4041.\n"
     ]
    }
   ],
   "source": [
    "spark = (\n",
    "    SparkSession.builder.appName(\"MAST30034 Project 2\")\n",
    "    .config(\"spark.driver.memory\", '8g')\n",
    "    .config(\"spark.executor.memory\", '8g')\n",
    "    .config(\"spark.sql.session.timeZone\", \"Etc/UTC\")\n",
    "    .config(\"spark.sql.parquet.enableVectorizedReader\",\"false\")\n",
    "    .config(\"spark.sql.repl.eagerEval.enabled\", True) \n",
    "    .config(\"spark.sql.parquet.cacheMetadata\", \"true\")\n",
    "    .getOrCreate()\n",
    ")"
   ]
  },
  {
   "cell_type": "code",
   "execution_count": 5,
   "metadata": {},
   "outputs": [],
   "source": [
    "merchants_df = pd.read_parquet('../data/curated/merchants.parquet')\n",
    "predictions_df = pd.read_parquet('../data/curated/lr_transaction_predictions.parquet')\n",
    "fraud_df = pd.read_csv('../data/tables/merchant_fraud_probability.csv')\n",
    "\n",
    "transactions_sdf = spark.read.parquet(\n",
    "    '../data/tables/transactions_20210228_20210827_snapshot'\n",
    ").union(\n",
    "    spark.read.parquet(\n",
    "        '../data/tables/transactions_20210828_20220227_snapshot'\n",
    "    )\n",
    ").union(\n",
    "    spark.read.parquet(\n",
    "        '../data/tables/transactions_20220228_20220828_snapshot'\n",
    "    )\n",
    ")"
   ]
  },
  {
   "cell_type": "code",
   "execution_count": 33,
   "metadata": {},
   "outputs": [],
   "source": [
    "total_predictions_df = pd.merge(\n",
    "    predictions_df.groupby('merchant_abn')['weighted_dollar_value'].sum(),\n",
    "    merchants_df[['merchant_abn', 'take_rate']],\n",
    "    on = 'merchant_abn'\n",
    ")\n",
    "\n",
    "total_predictions_df = pd.merge(\n",
    "    total_predictions_df,\n",
    "    fraud_df.groupby('merchant_abn').sum(),\n",
    "    on = 'merchant_abn',\n",
    "    how = 'left'\n",
    ").fillna(0)\n",
    "\n",
    "total_predictions_df = pd.merge(\n",
    "    total_predictions_df,\n",
    "    transactions_sdf.groupby('merchant_abn').count().toPandas(),\n",
    "    on = 'merchant_abn'\n",
    ")"
   ]
  },
  {
   "cell_type": "code",
   "execution_count": 45,
   "metadata": {},
   "outputs": [],
   "source": [
    "total_predictions_df = total_predictions_df.sort_values(by = 'weighted_dollar_value', ascending=False)"
   ]
  },
  {
   "cell_type": "code",
   "execution_count": 46,
   "metadata": {},
   "outputs": [
    {
     "data": {
      "text/plain": [
       "merchant_abn             5.884611e+10\n",
       "weighted_dollar_value    4.417911e+04\n",
       "take_rate                5.078800e-02\n",
       "fraud_probability        1.301231e+01\n",
       "count                    4.672841e+04\n",
       "dtype: float64"
      ]
     },
     "execution_count": 46,
     "metadata": {},
     "output_type": "execute_result"
    }
   ],
   "source": [
    "total_predictions_df[:100].mean()"
   ]
  },
  {
   "cell_type": "code",
   "execution_count": 47,
   "metadata": {},
   "outputs": [
    {
     "data": {
      "text/plain": [
       "merchant_abn             5.436173e+10\n",
       "weighted_dollar_value    2.713707e+03\n",
       "take_rate                4.381429e-02\n",
       "fraud_probability        6.147805e-01\n",
       "count                    2.285154e+03\n",
       "dtype: float64"
      ]
     },
     "execution_count": 47,
     "metadata": {},
     "output_type": "execute_result"
    }
   ],
   "source": [
    "total_predictions_df[100:].mean()"
   ]
  },
  {
   "cell_type": "code",
   "execution_count": 42,
   "metadata": {},
   "outputs": [
    {
     "name": "stderr",
     "output_type": "stream",
     "text": [
      "                                                                                \r"
     ]
    }
   ],
   "source": [
    "\n"
   ]
  },
  {
   "cell_type": "code",
   "execution_count": 43,
   "metadata": {},
   "outputs": [
    {
     "name": "stderr",
     "output_type": "stream",
     "text": [
      "                                                                                \r"
     ]
    }
   ],
   "source": []
  },
  {
   "cell_type": "code",
   "execution_count": 44,
   "metadata": {},
   "outputs": [
    {
     "data": {
      "text/html": [
       "<div>\n",
       "<style scoped>\n",
       "    .dataframe tbody tr th:only-of-type {\n",
       "        vertical-align: middle;\n",
       "    }\n",
       "\n",
       "    .dataframe tbody tr th {\n",
       "        vertical-align: top;\n",
       "    }\n",
       "\n",
       "    .dataframe thead th {\n",
       "        text-align: right;\n",
       "    }\n",
       "</style>\n",
       "<table border=\"1\" class=\"dataframe\">\n",
       "  <thead>\n",
       "    <tr style=\"text-align: right;\">\n",
       "      <th></th>\n",
       "      <th>merchant_abn</th>\n",
       "      <th>weighted_dollar_value</th>\n",
       "      <th>take_rate</th>\n",
       "      <th>fraud_probability</th>\n",
       "      <th>count</th>\n",
       "    </tr>\n",
       "  </thead>\n",
       "  <tbody>\n",
       "    <tr>\n",
       "      <th>0</th>\n",
       "      <td>79827781481</td>\n",
       "      <td>84725.637293</td>\n",
       "      <td>0.0682</td>\n",
       "      <td>59.470319</td>\n",
       "      <td>4798</td>\n",
       "    </tr>\n",
       "    <tr>\n",
       "      <th>1</th>\n",
       "      <td>32361057556</td>\n",
       "      <td>83900.069215</td>\n",
       "      <td>0.0661</td>\n",
       "      <td>0.000000</td>\n",
       "      <td>85780</td>\n",
       "    </tr>\n",
       "    <tr>\n",
       "      <th>2</th>\n",
       "      <td>48534649627</td>\n",
       "      <td>83381.611296</td>\n",
       "      <td>0.0664</td>\n",
       "      <td>85.703799</td>\n",
       "      <td>66437</td>\n",
       "    </tr>\n",
       "    <tr>\n",
       "      <th>3</th>\n",
       "      <td>86578477987</td>\n",
       "      <td>80930.979363</td>\n",
       "      <td>0.0643</td>\n",
       "      <td>0.000000</td>\n",
       "      <td>272674</td>\n",
       "    </tr>\n",
       "    <tr>\n",
       "      <th>4</th>\n",
       "      <td>38700038932</td>\n",
       "      <td>80746.407576</td>\n",
       "      <td>0.0631</td>\n",
       "      <td>0.000000</td>\n",
       "      <td>7132</td>\n",
       "    </tr>\n",
       "    <tr>\n",
       "      <th>...</th>\n",
       "      <td>...</td>\n",
       "      <td>...</td>\n",
       "      <td>...</td>\n",
       "      <td>...</td>\n",
       "      <td>...</td>\n",
       "    </tr>\n",
       "    <tr>\n",
       "      <th>4008</th>\n",
       "      <td>54277261175</td>\n",
       "      <td>664.479120</td>\n",
       "      <td>0.0146</td>\n",
       "      <td>0.000000</td>\n",
       "      <td>6</td>\n",
       "    </tr>\n",
       "    <tr>\n",
       "      <th>4009</th>\n",
       "      <td>55622580330</td>\n",
       "      <td>661.760494</td>\n",
       "      <td>0.0010</td>\n",
       "      <td>0.000000</td>\n",
       "      <td>33</td>\n",
       "    </tr>\n",
       "    <tr>\n",
       "      <th>4010</th>\n",
       "      <td>19340071232</td>\n",
       "      <td>660.607932</td>\n",
       "      <td>0.0360</td>\n",
       "      <td>0.000000</td>\n",
       "      <td>5</td>\n",
       "    </tr>\n",
       "    <tr>\n",
       "      <th>4011</th>\n",
       "      <td>55555661470</td>\n",
       "      <td>659.879296</td>\n",
       "      <td>0.0183</td>\n",
       "      <td>0.000000</td>\n",
       "      <td>4</td>\n",
       "    </tr>\n",
       "    <tr>\n",
       "      <th>4012</th>\n",
       "      <td>24212300522</td>\n",
       "      <td>659.879296</td>\n",
       "      <td>0.0404</td>\n",
       "      <td>0.000000</td>\n",
       "      <td>2</td>\n",
       "    </tr>\n",
       "  </tbody>\n",
       "</table>\n",
       "<p>4013 rows × 5 columns</p>\n",
       "</div>"
      ],
      "text/plain": [
       "      merchant_abn  weighted_dollar_value  take_rate  fraud_probability  \\\n",
       "0      79827781481           84725.637293     0.0682          59.470319   \n",
       "1      32361057556           83900.069215     0.0661           0.000000   \n",
       "2      48534649627           83381.611296     0.0664          85.703799   \n",
       "3      86578477987           80930.979363     0.0643           0.000000   \n",
       "4      38700038932           80746.407576     0.0631           0.000000   \n",
       "...            ...                    ...        ...                ...   \n",
       "4008   54277261175             664.479120     0.0146           0.000000   \n",
       "4009   55622580330             661.760494     0.0010           0.000000   \n",
       "4010   19340071232             660.607932     0.0360           0.000000   \n",
       "4011   55555661470             659.879296     0.0183           0.000000   \n",
       "4012   24212300522             659.879296     0.0404           0.000000   \n",
       "\n",
       "       count  \n",
       "0       4798  \n",
       "1      85780  \n",
       "2      66437  \n",
       "3     272674  \n",
       "4       7132  \n",
       "...      ...  \n",
       "4008       6  \n",
       "4009      33  \n",
       "4010       5  \n",
       "4011       4  \n",
       "4012       2  \n",
       "\n",
       "[4013 rows x 5 columns]"
      ]
     },
     "execution_count": 44,
     "metadata": {},
     "output_type": "execute_result"
    }
   ],
   "source": [
    "total_predictions_df"
   ]
  },
  {
   "cell_type": "code",
   "execution_count": null,
   "metadata": {},
   "outputs": [],
   "source": [
    "total_predictions_df = predictions_df.groupby(\n",
    "    'merchant_abn'\n",
    ")['weighted_dollar_value'].sum().reset_index()"
   ]
  },
  {
   "cell_type": "code",
   "execution_count": null,
   "metadata": {},
   "outputs": [],
   "source": [
    "px.histogram(total_predictions_df, 'weighted_dollar_value')"
   ]
  },
  {
   "cell_type": "code",
   "execution_count": null,
   "metadata": {},
   "outputs": [],
   "source": [
    "px.scatter(pd.merge(total_predictions_df, merchants_df, on = 'merchant_abn'), x = 'take_rate', y = 'weighted_dollar_value', trendline = 'ols', hover_data = ['merchant_abn'])"
   ]
  },
  {
   "cell_type": "code",
   "execution_count": null,
   "metadata": {},
   "outputs": [],
   "source": [
    "total_predictions_df['band'] = total_predictions_df['weighted_dollar_value'] < 20000"
   ]
  },
  {
   "cell_type": "code",
   "execution_count": null,
   "metadata": {},
   "outputs": [],
   "source": [
    "predictions_df = pd.merge(\n",
    "    predictions_df,\n",
    "    total_predictions_df[['merchant_abn', 'band']],\n",
    "    on = 'merchant_abn'\n",
    ")"
   ]
  },
  {
   "cell_type": "code",
   "execution_count": null,
   "metadata": {},
   "outputs": [],
   "source": [
    "px.scatter(predictions_df.groupby(['order_datetime', 'band'])['weighted_dollar_value'].mean().reset_index(), x = 'order_datetime', y = 'weighted_dollar_value', color = 'band')"
   ]
  },
  {
   "cell_type": "code",
   "execution_count": null,
   "metadata": {},
   "outputs": [],
   "source": [
    "predictions_df"
   ]
  },
  {
   "cell_type": "code",
   "execution_count": null,
   "metadata": {},
   "outputs": [],
   "source": []
  }
 ],
 "metadata": {
  "interpreter": {
   "hash": "92ea58c70db46728db75825e7170aaba7ae15ca2d0e36751b515e78ab3619849"
  },
  "kernelspec": {
   "display_name": "Python 3.10.4 64-bit ('ads_proj2': virtualenv)",
   "language": "python",
   "name": "python3"
  },
  "language_info": {
   "codemirror_mode": {
    "name": "ipython",
    "version": 3
   },
   "file_extension": ".py",
   "mimetype": "text/x-python",
   "name": "python",
   "nbconvert_exporter": "python",
   "pygments_lexer": "ipython3",
   "version": "3.10.4"
  },
  "orig_nbformat": 4
 },
 "nbformat": 4,
 "nbformat_minor": 2
}
