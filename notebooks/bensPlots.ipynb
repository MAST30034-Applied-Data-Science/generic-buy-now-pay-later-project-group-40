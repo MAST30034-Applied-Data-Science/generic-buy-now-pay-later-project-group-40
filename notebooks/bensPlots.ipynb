{
 "cells": [
  {
   "cell_type": "code",
   "execution_count": 1,
   "metadata": {},
   "outputs": [],
   "source": [
    "from pyspark.sql import SparkSession, functions as F\n",
    "import pandas as pd\n",
    "import numpy as np\n",
    "from pyspark.ml import Pipeline\n",
    "from pyspark.ml.feature import StringIndexer, OneHotEncoder, VectorAssembler, Interaction\n",
    "from pyspark.sql.functions import col\n",
    "from pyspark.ml.regression import LinearRegression\n",
    "from pyspark.ml.feature import VectorIndexer\n",
    "import plotly.express as px\n",
    "import datetime"
   ]
  },
  {
   "cell_type": "code",
   "execution_count": 2,
   "metadata": {},
   "outputs": [
    {
     "name": "stdout",
     "output_type": "stream",
     "text": [
      "22/10/10 05:57:41 WARN Utils: Your hostname, DESKTOP-3NQ3PQI resolves to a loopback address: 127.0.1.1; using 172.17.18.177 instead (on interface eth0)\n",
      "22/10/10 05:57:41 WARN Utils: Set SPARK_LOCAL_IP if you need to bind to another address\n"
     ]
    },
    {
     "name": "stderr",
     "output_type": "stream",
     "text": [
      "Setting default log level to \"WARN\".\n",
      "To adjust logging level use sc.setLogLevel(newLevel). For SparkR, use setLogLevel(newLevel).\n"
     ]
    },
    {
     "name": "stdout",
     "output_type": "stream",
     "text": [
      "22/10/10 05:57:43 WARN NativeCodeLoader: Unable to load native-hadoop library for your platform... using builtin-java classes where applicable\n"
     ]
    }
   ],
   "source": [
    "spark = (\n",
    "    SparkSession.builder.appName(\"MAST30034 Project 2\")\n",
    "    .config(\"spark.driver.memory\", '8g')\n",
    "    .config(\"spark.executor.memory\", '8g')\n",
    "    .config(\"spark.sql.session.timeZone\", \"Etc/UTC\")\n",
    "    .config(\"spark.sql.parquet.enableVectorizedReader\",\"false\")\n",
    "    .config(\"spark.sql.repl.eagerEval.enabled\", True) \n",
    "    .config(\"spark.sql.parquet.cacheMetadata\", \"true\")\n",
    "    .getOrCreate()\n",
    ")"
   ]
  },
  {
   "cell_type": "code",
   "execution_count": 3,
   "metadata": {},
   "outputs": [
    {
     "name": "stderr",
     "output_type": "stream",
     "text": [
      "                                                                                \r"
     ]
    }
   ],
   "source": [
    "weights_sdf = spark.read.parquet(\n",
    "    '../data/curated/demographic_weights.parquet'\n",
    ")\n",
    "consumers_sdf = spark.read.parquet(\n",
    "    '../data/curated/cleaned_consumers.parquet'\n",
    ")\n",
    "\n",
    "user_details_sdf = spark.read.parquet(\n",
    "    '../data/tables/consumer_user_details.parquet'\n",
    ")\n",
    "\n",
    "merchants_sdf = spark.read.parquet(\n",
    "    '../data/curated/merchants.parquet'\n",
    ")\n",
    "\n",
    "postcode_poa_sdf = spark.read.parquet(\n",
    "    '../data/curated/census/postcode_poa.parquet'\n",
    ")\n",
    "\n",
    "\n",
    "transactions_sdf = spark.read.parquet(\n",
    "    '../data/tables/transactions_20210228_20210827_snapshot'\n",
    ").union(\n",
    "    spark.read.parquet(\n",
    "        '../data/tables/transactions_20210828_20220227_snapshot'\n",
    "    )\n",
    ").union(\n",
    "    spark.read.parquet(\n",
    "        '../data/tables/transactions_20220228_20220828_snapshot'\n",
    "    )\n",
    ")"
   ]
  },
  {
   "cell_type": "code",
   "execution_count": 4,
   "metadata": {},
   "outputs": [],
   "source": [
    "mean_weights_sdf = transactions_sdf.join(\n",
    "    user_details_sdf,\n",
    "    on = 'user_id',\n",
    "    how = 'left'\n",
    ").join(\n",
    "    consumers_sdf.select(\n",
    "        'consumer_id', 'postcode', 'gender'\n",
    "    ),\n",
    "    on = 'consumer_id',\n",
    "    how = 'left'\n",
    ").join(\n",
    "    postcode_poa_sdf,\n",
    "    on = 'postcode',\n",
    "    how = 'left'\n",
    ").join(\n",
    "    weights_sdf,\n",
    "    on = ['poa' ,'gender'],\n",
    "    how = 'left'\n",
    ").groupby(\n",
    "    'merchant_abn'\n",
    ").agg(\n",
    "    {'weight' : 'mean'}\n",
    ")"
   ]
  },
  {
   "cell_type": "code",
   "execution_count": 5,
   "metadata": {},
   "outputs": [
    {
     "name": "stderr",
     "output_type": "stream",
     "text": [
      "ERROR:root:KeyboardInterrupt while sending command.                             \n",
      "Traceback (most recent call last):\n",
      "  File \"/root/.virtualenvs/ads_proj2/lib/python3.10/site-packages/py4j/java_gateway.py\", line 1038, in send_command\n",
      "    response = connection.send_command(command)\n",
      "  File \"/root/.virtualenvs/ads_proj2/lib/python3.10/site-packages/py4j/clientserver.py\", line 511, in send_command\n",
      "    answer = smart_decode(self.stream.readline()[:-1])\n",
      "  File \"/usr/lib/python3.10/socket.py\", line 705, in readinto\n",
      "    return self._sock.recv_into(b)\n",
      "KeyboardInterrupt\n"
     ]
    }
   ],
   "source": [
    "predictions_df = pd.read_parquet('../data/curated/lr_transaction_predictions.parquet')\n",
    "mean_weights_df = mean_weights_sdf.toPandas()"
   ]
  },
  {
   "cell_type": "code",
   "execution_count": null,
   "metadata": {},
   "outputs": [],
   "source": [
    "merchant_totals_df = pd.merge(\n",
    "    predictions_df.groupby('merchant_abn')['weighted_dollar_value'].sum(),\n",
    "    mean_weights_df,\n",
    "    on = 'merchant_abn',\n",
    "\n",
    ")"
   ]
  },
  {
   "cell_type": "code",
   "execution_count": null,
   "metadata": {},
   "outputs": [],
   "source": []
  },
  {
   "cell_type": "code",
   "execution_count": null,
   "metadata": {},
   "outputs": [],
   "source": []
  },
  {
   "cell_type": "code",
   "execution_count": null,
   "metadata": {},
   "outputs": [],
   "source": [
    "total_predictions_df = predictions_df.groupby(\n",
    "    'merchant_abn'\n",
    ")['weighted_dollar_value'].sum().reset_index()"
   ]
  },
  {
   "cell_type": "code",
   "execution_count": null,
   "metadata": {},
   "outputs": [],
   "source": [
    "px.histogram(total_predictions_df, 'weighted_dollar_value')"
   ]
  },
  {
   "cell_type": "code",
   "execution_count": null,
   "metadata": {},
   "outputs": [],
   "source": [
    "px.scatter(pd.merge(total_predictions_df, merchants_df, on = 'merchant_abn'), x = 'take_rate', y = 'weighted_dollar_value', trendline = 'ols', hover_data = ['merchant_abn'])"
   ]
  },
  {
   "cell_type": "code",
   "execution_count": null,
   "metadata": {},
   "outputs": [],
   "source": [
    "total_predictions_df['band'] = total_predictions_df['weighted_dollar_value'] < 20000"
   ]
  },
  {
   "cell_type": "code",
   "execution_count": null,
   "metadata": {},
   "outputs": [],
   "source": [
    "predictions_df = pd.merge(\n",
    "    predictions_df,\n",
    "    total_predictions_df[['merchant_abn', 'band']],\n",
    "    on = 'merchant_abn'\n",
    ")"
   ]
  },
  {
   "cell_type": "code",
   "execution_count": null,
   "metadata": {},
   "outputs": [],
   "source": [
    "px.scatter(predictions_df.groupby(['order_datetime', 'band'])['weighted_dollar_value'].mean().reset_index(), x = 'order_datetime', y = 'weighted_dollar_value', color = 'band')"
   ]
  },
  {
   "cell_type": "code",
   "execution_count": null,
   "metadata": {},
   "outputs": [],
   "source": [
    "predictions_df"
   ]
  },
  {
   "cell_type": "code",
   "execution_count": null,
   "metadata": {},
   "outputs": [],
   "source": []
  }
 ],
 "metadata": {
  "interpreter": {
   "hash": "92ea58c70db46728db75825e7170aaba7ae15ca2d0e36751b515e78ab3619849"
  },
  "kernelspec": {
   "display_name": "Python 3.10.4 64-bit ('ads_proj2': virtualenv)",
   "language": "python",
   "name": "python3"
  },
  "language_info": {
   "codemirror_mode": {
    "name": "ipython",
    "version": 3
   },
   "file_extension": ".py",
   "mimetype": "text/x-python",
   "name": "python",
   "nbconvert_exporter": "python",
   "pygments_lexer": "ipython3",
   "version": "3.10.4"
  },
  "orig_nbformat": 4
 },
 "nbformat": 4,
 "nbformat_minor": 2
}
