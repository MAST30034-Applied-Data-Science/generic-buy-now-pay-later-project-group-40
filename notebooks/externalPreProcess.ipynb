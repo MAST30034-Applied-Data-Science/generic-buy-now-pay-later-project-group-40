{
 "cells": [
  {
   "cell_type": "markdown",
   "metadata": {},
   "source": [
    "# The following code is for external data processing"
   ]
  },
  {
   "cell_type": "code",
   "execution_count": 2,
   "metadata": {},
   "outputs": [],
   "source": [
    "import re\n",
    "import numpy as np\n",
    "import pandas as pd\n",
    "import re\n",
    "import geopandas as gpd\n",
    "import os"
   ]
  },
  {
   "cell_type": "code",
   "execution_count": 3,
   "metadata": {},
   "outputs": [
    {
     "name": "stdout",
     "output_type": "stream",
     "text": [
      "22/09/19 14:42:34 WARN Utils: Your hostname, DESKTOP-3NQ3PQI resolves to a loopback address: 127.0.1.1; using 172.31.183.205 instead (on interface eth0)\n",
      "22/09/19 14:42:34 WARN Utils: Set SPARK_LOCAL_IP if you need to bind to another address\n"
     ]
    },
    {
     "name": "stderr",
     "output_type": "stream",
     "text": [
      "Setting default log level to \"WARN\".\n",
      "To adjust logging level use sc.setLogLevel(newLevel). For SparkR, use setLogLevel(newLevel).\n"
     ]
    },
    {
     "name": "stdout",
     "output_type": "stream",
     "text": [
      "22/09/19 14:42:36 WARN NativeCodeLoader: Unable to load native-hadoop library for your platform... using builtin-java classes where applicable\n"
     ]
    }
   ],
   "source": [
    "from pyspark.sql import SparkSession\n",
    "from pyspark.sql import functions as F\n",
    "spark = (\n",
    "    SparkSession.builder.appName(\"MAST30034 Project 2 Preprocessing\")\n",
    "    .config(\"spark.driver.memory\", '4g')\n",
    "    .config(\"spark.executor.memory\", '8g')\n",
    "    .config(\"spark.sql.session.timeZone\", \"Etc/UTC\")\n",
    "    .config(\"spark.sql.parquet.enableVectorizedReader\",\"false\")\n",
    "    .config(\"spark.sql.repl.eagerEval.enabled\", True) \n",
    "    .config(\"spark.sql.parquet.cacheMetadata\", \"true\")\n",
    "    .config(\"spark.sql.parquet.writeLegacyFormat\", 'true')\n",
    "    .getOrCreate()\n",
    ")"
   ]
  },
  {
   "cell_type": "markdown",
   "metadata": {},
   "source": [
    "### Mapping Postcode to ABS Postal Areas"
   ]
  },
  {
   "cell_type": "code",
   "execution_count": 40,
   "metadata": {},
   "outputs": [],
   "source": [
    "def postcode_to_str(col):\n",
    "    return col.astype(str).str.zfill(4)"
   ]
  },
  {
   "cell_type": "code",
   "execution_count": 58,
   "metadata": {},
   "outputs": [],
   "source": [
    "# Read in data\n",
    "postal_areas_gdf = gpd.read_file('../data/raw/postcodes/abs_postal_areas.zip')\n",
    "consumer_details_df = pd.read_csv('../data/tables/tbl_consumer.csv', delimiter=\"|\")\n",
    "postcode_df = pd.read_csv('../data/raw/postcodes/postcodes.csv').drop_duplicates('postcode')\n",
    "\n",
    "consumer_details_df['postcode'] = postcode_to_str(consumer_details_df['postcode'])\n",
    "postcode_df['postcode'] = postcode_to_str(postcode_df['postcode'])\n",
    "\n",
    "# Convert postcode dataframe to geodataframe\n",
    "postcode_gdf = gpd.GeoDataFrame(\n",
    "    postcode_df, geometry=gpd.points_from_xy(postcode_df['long'], postcode_df['lat'])\n",
    ")\n",
    "postcode_gdf.crs = postal_areas_gdf.crs\n",
    "\n",
    "# Get list of postcodes not listed as abs postal areas and filter geodataframe to just these postcodes\n",
    "unmapped = consumer_details_df[~consumer_details_df['postcode'].astype(str).str.zfill(4).isin(postal_areas_gdf['POA_CODE21'])]['postcode'].unique()\n",
    "postcodes_gdf = postcode_gdf[postcode_gdf['postcode'].isin(unmapped)]\n",
    "\n",
    "# Spatially join unmapped postcodes and abs postal areas\n",
    "postcode_poa_gdf = postcodes_gdf.sjoin(postal_areas_gdf, how = 'inner')\n",
    "postcode_poa_df = postcode_poa_gdf[['postcode', 'POA_CODE21']]\n",
    "postcode_poa_df = postcode_poa_df.rename(columns = {'POA_CODE21' : 'poa'})\n",
    "postcode_poa_df = pd.concat([postcode_poa_df, postal_areas_gdf[['POA_CODE21', 'POA_CODE21']].set_axis(['postcode', 'poa'], axis = 1)], ignore_index = True).reset_index(drop = True)"
   ]
  },
  {
   "cell_type": "code",
   "execution_count": null,
   "metadata": {},
   "outputs": [],
   "source": []
  },
  {
   "cell_type": "code",
   "execution_count": 63,
   "metadata": {},
   "outputs": [],
   "source": [
    "output_dir = '../data/curated/census/'\n",
    "if not os.path.exists(output_dir):\n",
    "    os.makedirs(output_dir)\n",
    "\n",
    "postcode_poa_df.to_csv(output_dir + 'postcode_poa.csv', index = False)"
   ]
  },
  {
   "cell_type": "markdown",
   "metadata": {},
   "source": [
    "All but 2 postcodes could be mapped to abs postal areas. Niether of these could be found in the Australia post website. https://postcodes-australia.com/postcodes/6958 says 6958 is a Western Australian postcode reserved for non standard use "
   ]
  },
  {
   "cell_type": "code",
   "execution_count": 45,
   "metadata": {},
   "outputs": [
    {
     "data": {
      "text/plain": [
       "(317, array(['6958', '3989'], dtype=object))"
      ]
     },
     "execution_count": 45,
     "metadata": {},
     "output_type": "execute_result"
    }
   ],
   "source": [
    "removed_consumers = consumer_details_df[~consumer_details_df['postcode'].astype(str).str.zfill(4).isin(postcode_poa_df['postcode'])]\n",
    "len(removed_consumers), removed_consumers['postcode'].unique()"
   ]
  },
  {
   "cell_type": "markdown",
   "metadata": {},
   "source": [
    "# Age"
   ]
  },
  {
   "cell_type": "markdown",
   "metadata": {},
   "source": [
    "Read in data"
   ]
  },
  {
   "cell_type": "code",
   "execution_count": 64,
   "metadata": {},
   "outputs": [
    {
     "name": "stderr",
     "output_type": "stream",
     "text": [
      "                                                                                \r"
     ]
    }
   ],
   "source": [
    "transactions_sdf = spark.read.parquet(\n",
    "    '../data/tables/transactions_20210228_20210827_snapshot/'\n",
    ").union(\n",
    "    spark.read.parquet(\n",
    "        '../data/tables/transactions_20210828_20220227_snapshot/'\n",
    "    )\n",
    ").union(\n",
    "    spark.read.parquet(\n",
    "        '../data/tables/transactions_20220228_20220828_snapshot/'\n",
    "    )\n",
    ")\n",
    "\n",
    "ids_sdf = spark.read.parquet(\n",
    "    '../data/tables/consumer_user_details.parquet'\n",
    ")\n",
    "\n",
    "consumers_sdf = spark.read.options(\n",
    "    header = True, delimiter = '|'\n",
    ").csv(\n",
    "    '../data/tables/tbl_consumer.csv'\n",
    ")\n",
    "\n",
    "age_sdf = spark.read.options(\n",
    "    header = True\n",
    ").csv(\n",
    "    '../data/curated/census/age_data.csv'\n",
    ")\n",
    "\n",
    "postcode_poa_sdf = spark.read.options(\n",
    "    header = True\n",
    ").csv(\n",
    "    '../data/curated/census/postcode_poa.csv'\n",
    ")"
   ]
  },
  {
   "cell_type": "markdown",
   "metadata": {},
   "source": [
    "Join on poa (abs postal area)"
   ]
  },
  {
   "cell_type": "code",
   "execution_count": 68,
   "metadata": {},
   "outputs": [
    {
     "data": {
      "text/html": [
       "<table border='1'>\n",
       "<tr><th>postcode</th><th>name</th><th>address</th><th>state</th><th>gender</th><th>consumer_id</th><th>poa</th></tr>\n",
       "<tr><td>6935</td><td>Yolanda Williams</td><td>413 Haney Gardens...</td><td>WA</td><td>Female</td><td>1195503</td><td>6053</td></tr>\n",
       "<tr><td>2782</td><td>Mary Smith</td><td>3764 Amber Oval</td><td>NSW</td><td>Female</td><td>179208</td><td>2782</td></tr>\n",
       "<tr><td>2780</td><td>Lindsay Jimenez</td><td>00653 Davenport C...</td><td>NSW</td><td>Female</td><td>154128</td><td>2780</td></tr>\n",
       "<tr><td>6355</td><td>Rebecca Blanchard</td><td>9271 Michael Mano...</td><td>WA</td><td>Female</td><td>712975</td><td>6355</td></tr>\n",
       "<tr><td>2033</td><td>Karen Chapman</td><td>2706 Stewart Oval...</td><td>NSW</td><td>Female</td><td>407340</td><td>2033</td></tr>\n",
       "<tr><td>4606</td><td>Andrea Jones</td><td>122 Brandon Cliff</td><td>QLD</td><td>Female</td><td>511685</td><td>4606</td></tr>\n",
       "<tr><td>6056</td><td>Stephen Williams</td><td>6804 Wright Crest...</td><td>WA</td><td>Male</td><td>448088</td><td>6056</td></tr>\n",
       "<tr><td>2482</td><td>Stephanie Reyes</td><td>5813 Denise Land ...</td><td>NSW</td><td>Female</td><td>650435</td><td>2482</td></tr>\n",
       "<tr><td>3220</td><td>Jillian Gonzales</td><td>461 Ryan Common S...</td><td>VIC</td><td>Female</td><td>1058499</td><td>3220</td></tr>\n",
       "<tr><td>3063</td><td>Eugene Lucas</td><td>33983 Kevin Drive...</td><td>VIC</td><td>Undisclosed</td><td>428325</td><td>3063</td></tr>\n",
       "<tr><td>6743</td><td>Melissa Jones</td><td>13706 Kimberly Port</td><td>WA</td><td>Female</td><td>1494640</td><td>6743</td></tr>\n",
       "<tr><td>4673</td><td>Angela Brown PhD</td><td>0236 Mills Land S...</td><td>QLD</td><td>Female</td><td>1146717</td><td>4673</td></tr>\n",
       "<tr><td>3332</td><td>Lance Butler</td><td>8943 Kenneth Camp</td><td>VIC</td><td>Male</td><td>1343547</td><td>3332</td></tr>\n",
       "<tr><td>4512</td><td>Paul Abbott</td><td>60495 Ryan Hill</td><td>QLD</td><td>Male</td><td>1463076</td><td>4512</td></tr>\n",
       "<tr><td>2452</td><td>Tracy Hart</td><td>9671 Jacob Harbor...</td><td>NSW</td><td>Male</td><td>1356405</td><td>2452</td></tr>\n",
       "<tr><td>3719</td><td>Alyssa Wilson</td><td>44353 Nathan Ridge</td><td>VIC</td><td>Female</td><td>1331093</td><td>3719</td></tr>\n",
       "<tr><td>1109</td><td>Michael Burnett</td><td>89400 Torres Fort</td><td>NSW</td><td>Male</td><td>80965</td><td>2093</td></tr>\n",
       "<tr><td>7276</td><td>Victoria Gonzalez</td><td>68657 Johnson Gle...</td><td>TAS</td><td>Female</td><td>1226530</td><td>7276</td></tr>\n",
       "<tr><td>3234</td><td>James Norris</td><td>790 Ramos Landing</td><td>VIC</td><td>Undisclosed</td><td>1390367</td><td>3234</td></tr>\n",
       "<tr><td>5353</td><td>Wendy Singh</td><td>903 Holder Freewa...</td><td>SA</td><td>Female</td><td>298861</td><td>5353</td></tr>\n",
       "</table>\n",
       "only showing top 20 rows\n"
      ],
      "text/plain": [
       "+--------+-----------------+--------------------+-----+-----------+-----------+----+\n",
       "|postcode|             name|             address|state|     gender|consumer_id| poa|\n",
       "+--------+-----------------+--------------------+-----+-----------+-----------+----+\n",
       "|    6935| Yolanda Williams|413 Haney Gardens...|   WA|     Female|    1195503|6053|\n",
       "|    2782|       Mary Smith|     3764 Amber Oval|  NSW|     Female|     179208|2782|\n",
       "|    2780|  Lindsay Jimenez|00653 Davenport C...|  NSW|     Female|     154128|2780|\n",
       "|    6355|Rebecca Blanchard|9271 Michael Mano...|   WA|     Female|     712975|6355|\n",
       "|    2033|    Karen Chapman|2706 Stewart Oval...|  NSW|     Female|     407340|2033|\n",
       "|    4606|     Andrea Jones|   122 Brandon Cliff|  QLD|     Female|     511685|4606|\n",
       "|    6056| Stephen Williams|6804 Wright Crest...|   WA|       Male|     448088|6056|\n",
       "|    2482|  Stephanie Reyes|5813 Denise Land ...|  NSW|     Female|     650435|2482|\n",
       "|    3220| Jillian Gonzales|461 Ryan Common S...|  VIC|     Female|    1058499|3220|\n",
       "|    3063|     Eugene Lucas|33983 Kevin Drive...|  VIC|Undisclosed|     428325|3063|\n",
       "|    6743|    Melissa Jones| 13706 Kimberly Port|   WA|     Female|    1494640|6743|\n",
       "|    4673| Angela Brown PhD|0236 Mills Land S...|  QLD|     Female|    1146717|4673|\n",
       "|    3332|     Lance Butler|   8943 Kenneth Camp|  VIC|       Male|    1343547|3332|\n",
       "|    4512|      Paul Abbott|     60495 Ryan Hill|  QLD|       Male|    1463076|4512|\n",
       "|    2452|       Tracy Hart|9671 Jacob Harbor...|  NSW|       Male|    1356405|2452|\n",
       "|    3719|    Alyssa Wilson|  44353 Nathan Ridge|  VIC|     Female|    1331093|3719|\n",
       "|    1109|  Michael Burnett|   89400 Torres Fort|  NSW|       Male|      80965|2093|\n",
       "|    7276|Victoria Gonzalez|68657 Johnson Gle...|  TAS|     Female|    1226530|7276|\n",
       "|    3234|     James Norris|   790 Ramos Landing|  VIC|Undisclosed|    1390367|3234|\n",
       "|    5353|      Wendy Singh|903 Holder Freewa...|   SA|     Female|     298861|5353|\n",
       "+--------+-----------------+--------------------+-----+-----------+-----------+----+\n",
       "only showing top 20 rows"
      ]
     },
     "execution_count": 68,
     "metadata": {},
     "output_type": "execute_result"
    }
   ],
   "source": [
    "consumers_sdf.join(postcode_poa_sdf, how = 'inner', on = 'postcode')"
   ]
  },
  {
   "cell_type": "code",
   "execution_count": null,
   "metadata": {},
   "outputs": [],
   "source": [
    "transactions_sdf.sample(0.01).write.parquet('../data/raw/samples/transaction_sample.parquet')"
   ]
  },
  {
   "cell_type": "code",
   "execution_count": 47,
   "metadata": {},
   "outputs": [],
   "source": [
    "transactions_sdf = spark.read.parquet('../data/raw/samples/transaction_sample.parquet')"
   ]
  },
  {
   "cell_type": "code",
   "execution_count": null,
   "metadata": {},
   "outputs": [],
   "source": [
    "\n",
    "# Creates dataframe grouped by merchant and postcode with propn of customers for each corresponding postcode\n",
    "merchants_sdf = transactions_sdf.join(\n",
    "    ids_sdf,\n",
    "    on = 'user_id'\n",
    ").join(\n",
    "    consumers_sdf,\n",
    "    on = 'consumer_id'\n",
    ").groupBy(\n",
    "    'merchant_abn', 'postcode'\n",
    ").count().join(\n",
    "    transactions_sdf.groupby(\n",
    "        'merchant_abn'\n",
    "    ).count().withColumnRenamed(\n",
    "        'count',\n",
    "        'size'\n",
    "    ),\n",
    "    on = 'merchant_abn'\n",
    ").withColumn(\n",
    "    'propn',\n",
    "    F.col('count')/F.col('size')\n",
    ").drop(\n",
    "    'count',\n",
    "    'size'\n",
    ")\n",
    "\n",
    "# Joins merchant and postcode data with abs data for population by age\n",
    "merchants_sdf = merchants_sdf.join(\n",
    "    age_sdf,\n",
    "    on = 'postcode'\n",
    ")\n",
    "\n",
    "# Creates scaled version of each population metric by age\n",
    "for col in age_sdf.columns:\n",
    "    if col == 'postcode':\n",
    "        continue\n",
    "    merchants_sdf = merchants_sdf.withColumn(\n",
    "        col+'_scaled',\n",
    "        F.col(col)*F.col('propn')\n",
    "    )\n",
    "\n",
    "# Removes non scaled columns (used to make the scaled columns) and calculates weighted sum of each population metric by propn of customers from that postcode\n",
    "merchants_sdf = merchants_sdf.select(\n",
    "    merchants_sdf.colRegex(\"`merchant_abn|.*_scaled`\")\n",
    ").groupBy(\n",
    "    'merchant_abn'\n",
    ").sum()\n",
    "\n",
    "merchants_df = merchants_sdf.toPandas()\n",
    "\n",
    "# Renames columns and sets index\n",
    "merchants_df = merchants_df.drop(\n",
    "    'sum(merchant_abn)',\n",
    "    axis = 1\n",
    ").set_index(\n",
    "    'merchant_abn'\n",
    ").rename(\n",
    "    columns = {col : col[4:-1] for col in merchants_df.columns}\n",
    ")"
   ]
  },
  {
   "cell_type": "code",
   "execution_count": null,
   "metadata": {},
   "outputs": [],
   "source": [
    "# Calculates median of each row in dataframe where each row corresponds to a count of the given column value\n",
    "def get_median_col(df):\n",
    "    median_count = df.sum(axis = 1)/2\n",
    "\n",
    "    return df.cumsum(axis = 1).apply(\n",
    "        lambda col : (col > median_count)\n",
    "    ).idxmax(\n",
    "        axis = 1\n",
    "    )\n",
    "\n",
    "# Executes get_medial_col function for males females and persons    \n",
    "for person_type in ['m', 'f', 'p']:\n",
    "    merchants_df[f'median_age_{person_type}'] = get_median_col(\n",
    "        merchants_df.filter(\n",
    "            regex = f'age_yr_(\\d+|(80_84)|(85_89)|(90_94)|(95_99)|(100_yr_over))_{person_type}_scaled',\n",
    "            axis = 1\n",
    "        )\n",
    "    ).apply(\n",
    "        lambda x : re.findall('\\d+', x)[0]\n",
    "    )\n"
   ]
  }
 ],
 "metadata": {
  "kernelspec": {
   "display_name": "Python 3.10.4 64-bit",
   "language": "python",
   "name": "python3"
  },
  "language_info": {
   "codemirror_mode": {
    "name": "ipython",
    "version": 3
   },
   "file_extension": ".py",
   "mimetype": "text/x-python",
   "name": "python",
   "nbconvert_exporter": "python",
   "pygments_lexer": "ipython3",
   "version": "3.10.4"
  },
  "vscode": {
   "interpreter": {
    "hash": "916dbcbb3f70747c44a77c7bcd40155683ae19c65e1c03b4aa3499c5328201f1"
   }
  }
 },
 "nbformat": 4,
 "nbformat_minor": 2
}
