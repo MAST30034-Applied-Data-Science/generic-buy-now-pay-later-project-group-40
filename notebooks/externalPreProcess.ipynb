{
 "cells": [
  {
   "cell_type": "markdown",
   "metadata": {},
   "source": [
    "# The following code is for external data processing"
   ]
  },
  {
   "cell_type": "code",
   "execution_count": 1,
   "metadata": {},
   "outputs": [
    {
     "name": "stdout",
     "output_type": "stream",
     "text": [
      "22/09/05 21:14:55 WARN Utils: Your hostname, DESKTOP-3NQ3PQI resolves to a loopback address: 127.0.1.1; using 172.21.146.149 instead (on interface eth0)\n",
      "22/09/05 21:14:55 WARN Utils: Set SPARK_LOCAL_IP if you need to bind to another address\n"
     ]
    },
    {
     "name": "stderr",
     "output_type": "stream",
     "text": [
      "Setting default log level to \"WARN\".\n",
      "To adjust logging level use sc.setLogLevel(newLevel). For SparkR, use setLogLevel(newLevel).\n"
     ]
    },
    {
     "name": "stdout",
     "output_type": "stream",
     "text": [
      "22/09/05 21:14:58 WARN NativeCodeLoader: Unable to load native-hadoop library for your platform... using builtin-java classes where applicable\n"
     ]
    }
   ],
   "source": [
    "from pyspark.sql import SparkSession\n",
    "\n",
    "spark = (\n",
    "    SparkSession.builder.appName(\"MAST30034 Project 2 Preprocessing\")\n",
    "    .config(\"spark.driver.memory\", '4g')\n",
    "    .config(\"spark.executor.memory\", '8g')\n",
    "    .config(\"spark.sql.session.timeZone\", \"Etc/UTC\")\n",
    "    .config(\"spark.sql.parquet.enableVectorizedReader\",\"false\")\n",
    "    .config(\"spark.sql.repl.eagerEval.enabled\", True) \n",
    "    .config(\"spark.sql.parquet.cacheMetadata\", \"true\")\n",
    "    .config(\"spark.sql.parquet.writeLegacyFormat\", 'true')\n",
    "    .getOrCreate()\n",
    ")"
   ]
  },
  {
   "cell_type": "code",
   "execution_count": 2,
   "metadata": {},
   "outputs": [],
   "source": [
    "import re\n",
    "from pyspark.sql import functions as F\n",
    "import numpy as np\n",
    "import pandas as pd"
   ]
  },
  {
   "cell_type": "code",
   "execution_count": 5,
   "metadata": {},
   "outputs": [
    {
     "name": "stderr",
     "output_type": "stream",
     "text": [
      "                                                                                \r"
     ]
    }
   ],
   "source": [
    "external_sdf = spark.read.option(\"header\", \"true\").csv(\"../data/raw/external/income.csv\")\n",
    "external_sdf= external_sdf.withColumnRenamed(\n",
    "    \"INCP Total Personal Income (weekly)\",\n",
    "    \"Income\"\n",
    ")"
   ]
  },
  {
   "cell_type": "code",
   "execution_count": 6,
   "metadata": {},
   "outputs": [
    {
     "data": {
      "text/html": [
       "<table border='1'>\n",
       "<tr><th>Counting</th><th>SA2 (UR)</th><th>Income</th><th>Count</th></tr>\n",
       "<tr><td>Persons Place of ...</td><td>Braidwood</td><td>Negative income</td><td>17</td></tr>\n",
       "<tr><td>Persons Place of ...</td><td>Braidwood</td><td>Nil income</td><td>213</td></tr>\n",
       "<tr><td>Persons Place of ...</td><td>Braidwood</td><td>$1-$149 ($1-$7,799)</td><td>110</td></tr>\n",
       "<tr><td>Persons Place of ...</td><td>Braidwood</td><td>$150-$299 ($7,800...</td><td>224</td></tr>\n",
       "<tr><td>Persons Place of ...</td><td>Braidwood</td><td>$300-$399 ($15,60...</td><td>323</td></tr>\n",
       "<tr><td>Persons Place of ...</td><td>Braidwood</td><td>$400-$499 ($20,80...</td><td>333</td></tr>\n",
       "<tr><td>Persons Place of ...</td><td>Braidwood</td><td>$500-$649 ($26,00...</td><td>249</td></tr>\n",
       "<tr><td>Persons Place of ...</td><td>Braidwood</td><td>$650-$799 ($33,80...</td><td>244</td></tr>\n",
       "<tr><td>Persons Place of ...</td><td>Braidwood</td><td>$800-$999 ($41,60...</td><td>221</td></tr>\n",
       "<tr><td>Persons Place of ...</td><td>Braidwood</td><td>$1,000-$1,249 ($5...</td><td>256</td></tr>\n",
       "<tr><td>Persons Place of ...</td><td>Braidwood</td><td>$1,250-$1,499 ($6...</td><td>144</td></tr>\n",
       "<tr><td>Persons Place of ...</td><td>Braidwood</td><td>$1,500-$1,749 ($7...</td><td>132</td></tr>\n",
       "<tr><td>Persons Place of ...</td><td>Braidwood</td><td>$1,750-$1,999 ($9...</td><td>91</td></tr>\n",
       "<tr><td>Persons Place of ...</td><td>Braidwood</td><td>$2,000-$2,999 ($1...</td><td>135</td></tr>\n",
       "<tr><td>Persons Place of ...</td><td>Braidwood</td><td>$3,000 or more ($...</td><td>68</td></tr>\n",
       "<tr><td>Persons Place of ...</td><td>Braidwood</td><td>Not stated</td><td>463</td></tr>\n",
       "<tr><td>Persons Place of ...</td><td>Braidwood</td><td>Not applicable</td><td>649</td></tr>\n",
       "<tr><td>Persons Place of ...</td><td>Braidwood</td><td>Total</td><td>3875</td></tr>\n",
       "<tr><td>Persons Place of ...</td><td>Karabar</td><td>Negative income</td><td>30</td></tr>\n",
       "<tr><td>Persons Place of ...</td><td>Karabar</td><td>Nil income</td><td>432</td></tr>\n",
       "</table>\n",
       "only showing top 20 rows\n"
      ],
      "text/plain": [
       "+--------------------+---------+--------------------+-----+\n",
       "|            Counting| SA2 (UR)|              Income|Count|\n",
       "+--------------------+---------+--------------------+-----+\n",
       "|Persons Place of ...|Braidwood|     Negative income|   17|\n",
       "|Persons Place of ...|Braidwood|          Nil income|  213|\n",
       "|Persons Place of ...|Braidwood| $1-$149 ($1-$7,799)|  110|\n",
       "|Persons Place of ...|Braidwood|$150-$299 ($7,800...|  224|\n",
       "|Persons Place of ...|Braidwood|$300-$399 ($15,60...|  323|\n",
       "|Persons Place of ...|Braidwood|$400-$499 ($20,80...|  333|\n",
       "|Persons Place of ...|Braidwood|$500-$649 ($26,00...|  249|\n",
       "|Persons Place of ...|Braidwood|$650-$799 ($33,80...|  244|\n",
       "|Persons Place of ...|Braidwood|$800-$999 ($41,60...|  221|\n",
       "|Persons Place of ...|Braidwood|$1,000-$1,249 ($5...|  256|\n",
       "|Persons Place of ...|Braidwood|$1,250-$1,499 ($6...|  144|\n",
       "|Persons Place of ...|Braidwood|$1,500-$1,749 ($7...|  132|\n",
       "|Persons Place of ...|Braidwood|$1,750-$1,999 ($9...|   91|\n",
       "|Persons Place of ...|Braidwood|$2,000-$2,999 ($1...|  135|\n",
       "|Persons Place of ...|Braidwood|$3,000 or more ($...|   68|\n",
       "|Persons Place of ...|Braidwood|          Not stated|  463|\n",
       "|Persons Place of ...|Braidwood|      Not applicable|  649|\n",
       "|Persons Place of ...|Braidwood|               Total| 3875|\n",
       "|Persons Place of ...|  Karabar|     Negative income|   30|\n",
       "|Persons Place of ...|  Karabar|          Nil income|  432|\n",
       "+--------------------+---------+--------------------+-----+\n",
       "only showing top 20 rows"
      ]
     },
     "execution_count": 6,
     "metadata": {},
     "output_type": "execute_result"
    }
   ],
   "source": [
    "external_sdf"
   ]
  },
  {
   "cell_type": "code",
   "execution_count": 85,
   "metadata": {},
   "outputs": [],
   "source": [
    "income_factors = list(set(external_sdf.select(F.collect_list(\"Income\")).first()[0]))"
   ]
  },
  {
   "cell_type": "code",
   "execution_count": 86,
   "metadata": {},
   "outputs": [
    {
     "data": {
      "text/plain": [
       "['$150-$299 ($7,800-$15,599)',\n",
       " '$1,750-$1,999 ($91,000-$103,999)',\n",
       " 'Total',\n",
       " '$1,250-$1,499 ($65,000-$77,999)',\n",
       " '$400-$499 ($20,800-$25,999)',\n",
       " 'Not stated',\n",
       " 'Not applicable',\n",
       " '$2,000-$2,999 ($104,000-$155,999)',\n",
       " '$650-$799 ($33,800-$41,599)',\n",
       " '$1-$149 ($1-$7,799)',\n",
       " '$800-$999 ($41,600-$51,999)',\n",
       " '$1,500-$1,749 ($78,000-$90,999)',\n",
       " '$3,000 or more ($156,000 or more)',\n",
       " '$500-$649 ($26,000-$33,799)',\n",
       " 'Nil income',\n",
       " 'Negative income',\n",
       " '$1,000-$1,249 ($52,000-$64,999)',\n",
       " '$300-$399 ($15,600-$20,799)']"
      ]
     },
     "execution_count": 86,
     "metadata": {},
     "output_type": "execute_result"
    }
   ],
   "source": [
    "income_factors"
   ]
  },
  {
   "cell_type": "markdown",
   "metadata": {},
   "source": [
    "As we can see, there seems to be a row per location regarding the total amount of 'Count'. We wish to extract this information and create a separate dataset for easier access to these numbers"
   ]
  },
  {
   "cell_type": "code",
   "execution_count": 87,
   "metadata": {},
   "outputs": [],
   "source": [
    "location_total = external_sdf.filter(F.col(\"Income\") == \"Total\")"
   ]
  },
  {
   "cell_type": "code",
   "execution_count": 88,
   "metadata": {},
   "outputs": [
    {
     "data": {
      "text/html": [
       "<table border='1'>\n",
       "<tr><th>Counting</th><th>SA2 (UR)</th><th>Income</th><th>Count</th></tr>\n",
       "<tr><td>Persons Place of ...</td><td>Braidwood</td><td>Total</td><td>3875</td></tr>\n",
       "<tr><td>Persons Place of ...</td><td>Karabar</td><td>Total</td><td>8241</td></tr>\n",
       "<tr><td>Persons Place of ...</td><td>Queanbeyan</td><td>Total</td><td>10838</td></tr>\n",
       "<tr><td>Persons Place of ...</td><td>Queanbeyan - East</td><td>Total</td><td>4785</td></tr>\n",
       "<tr><td>Persons Place of ...</td><td>Queanbeyan Region</td><td>Total</td><td>16945</td></tr>\n",
       "<tr><td>Persons Place of ...</td><td>Queanbeyan West -...</td><td>Total</td><td>12642</td></tr>\n",
       "<tr><td>Persons Place of ...</td><td>Bombala</td><td>Total</td><td>2391</td></tr>\n",
       "<tr><td>Persons Place of ...</td><td>Cooma</td><td>Total</td><td>6737</td></tr>\n",
       "<tr><td>Persons Place of ...</td><td>Cooma Region</td><td>Total</td><td>3282</td></tr>\n",
       "<tr><td>Persons Place of ...</td><td>Jindabyne - Berri...</td><td>Total</td><td>6953</td></tr>\n",
       "<tr><td>Persons Place of ...</td><td>Batemans Bay</td><td>Total</td><td>7689</td></tr>\n",
       "<tr><td>Persons Place of ...</td><td>Batemans Bay - South</td><td>Total</td><td>8361</td></tr>\n",
       "<tr><td>Persons Place of ...</td><td>Bega - Tathra</td><td>Total</td><td>8405</td></tr>\n",
       "<tr><td>Persons Place of ...</td><td>Bega-Eden Hinterland</td><td>Total</td><td>8795</td></tr>\n",
       "<tr><td>Persons Place of ...</td><td>Broulee - Tomakin</td><td>Total</td><td>3287</td></tr>\n",
       "<tr><td>Persons Place of ...</td><td>Deua - Wadbilliga</td><td>Total</td><td>25</td></tr>\n",
       "<tr><td>Persons Place of ...</td><td>Eden</td><td>Total</td><td>3218</td></tr>\n",
       "<tr><td>Persons Place of ...</td><td>Eurobodalla Hinte...</td><td>Total</td><td>3298</td></tr>\n",
       "<tr><td>Persons Place of ...</td><td>Merimbula - Tura ...</td><td>Total</td><td>10621</td></tr>\n",
       "<tr><td>Persons Place of ...</td><td>Moruya - Tuross Head</td><td>Total</td><td>7968</td></tr>\n",
       "</table>\n",
       "only showing top 20 rows\n"
      ],
      "text/plain": [
       "+--------------------+--------------------+------+-----+\n",
       "|            Counting|            SA2 (UR)|Income|Count|\n",
       "+--------------------+--------------------+------+-----+\n",
       "|Persons Place of ...|           Braidwood| Total| 3875|\n",
       "|Persons Place of ...|             Karabar| Total| 8241|\n",
       "|Persons Place of ...|          Queanbeyan| Total|10838|\n",
       "|Persons Place of ...|   Queanbeyan - East| Total| 4785|\n",
       "|Persons Place of ...|   Queanbeyan Region| Total|16945|\n",
       "|Persons Place of ...|Queanbeyan West -...| Total|12642|\n",
       "|Persons Place of ...|             Bombala| Total| 2391|\n",
       "|Persons Place of ...|               Cooma| Total| 6737|\n",
       "|Persons Place of ...|        Cooma Region| Total| 3282|\n",
       "|Persons Place of ...|Jindabyne - Berri...| Total| 6953|\n",
       "|Persons Place of ...|        Batemans Bay| Total| 7689|\n",
       "|Persons Place of ...|Batemans Bay - South| Total| 8361|\n",
       "|Persons Place of ...|       Bega - Tathra| Total| 8405|\n",
       "|Persons Place of ...|Bega-Eden Hinterland| Total| 8795|\n",
       "|Persons Place of ...|   Broulee - Tomakin| Total| 3287|\n",
       "|Persons Place of ...|   Deua - Wadbilliga| Total|   25|\n",
       "|Persons Place of ...|                Eden| Total| 3218|\n",
       "|Persons Place of ...|Eurobodalla Hinte...| Total| 3298|\n",
       "|Persons Place of ...|Merimbula - Tura ...| Total|10621|\n",
       "|Persons Place of ...|Moruya - Tuross Head| Total| 7968|\n",
       "+--------------------+--------------------+------+-----+\n",
       "only showing top 20 rows"
      ]
     },
     "execution_count": 88,
     "metadata": {},
     "output_type": "execute_result"
    }
   ],
   "source": [
    "location_total"
   ]
  },
  {
   "cell_type": "code",
   "execution_count": 89,
   "metadata": {},
   "outputs": [],
   "source": [
    "external_sdf = external_sdf.where(F.col(\"Income\") != \"Total\")"
   ]
  },
  {
   "cell_type": "markdown",
   "metadata": {},
   "source": [
    "# Use regular expression to find amount range"
   ]
  },
  {
   "cell_type": "code",
   "execution_count": 91,
   "metadata": {},
   "outputs": [],
   "source": [
    "temp_df = external_sdf.select('Income').toPandas()"
   ]
  },
  {
   "cell_type": "code",
   "execution_count": 141,
   "metadata": {},
   "outputs": [],
   "source": [
    "from readline import append_history_file\n",
    "\n",
    "\n",
    "output_col = []\n",
    "pattern = \"\\((\\$\\d*,?\\d+-\\$\\d*,*\\d*)|(\\$\\d*,?\\d* or more)\\)\"\n",
    "\n",
    "for income in temp_df[\"Income\"]:\n",
    "    matched = re.findall(pattern, income)\n",
    "    if len(matched) > 0:\n",
    "        output_col.append(matched[0][0])\n",
    "    else:\n",
    "        output_col.append(income)"
   ]
  },
  {
   "cell_type": "code",
   "execution_count": 142,
   "metadata": {},
   "outputs": [],
   "source": [
    "temp_df['Income Parsed'] = output_col"
   ]
  },
  {
   "cell_type": "code",
   "execution_count": 147,
   "metadata": {},
   "outputs": [
    {
     "data": {
      "text/plain": [
       "''"
      ]
     },
     "execution_count": 147,
     "metadata": {},
     "output_type": "execute_result"
    }
   ],
   "source": [
    "output_col[14]"
   ]
  },
  {
   "cell_type": "code",
   "execution_count": 143,
   "metadata": {},
   "outputs": [
    {
     "data": {
      "text/html": [
       "<table border='1'>\n",
       "<tr><th>Income</th><th>Income Parsed</th></tr>\n",
       "<tr><td>Negative income</td><td>Negative income</td></tr>\n",
       "<tr><td>Nil income</td><td>Nil income</td></tr>\n",
       "<tr><td>$1-$149 ($1-$7,799)</td><td>$1-$7,799</td></tr>\n",
       "<tr><td>$150-$299 ($7,800...</td><td>$7,800-$15,599</td></tr>\n",
       "<tr><td>$300-$399 ($15,60...</td><td>$15,600-$20,799</td></tr>\n",
       "<tr><td>$400-$499 ($20,80...</td><td>$20,800-$25,999</td></tr>\n",
       "<tr><td>$500-$649 ($26,00...</td><td>$26,000-$33,799</td></tr>\n",
       "<tr><td>$650-$799 ($33,80...</td><td>$33,800-$41,599</td></tr>\n",
       "<tr><td>$800-$999 ($41,60...</td><td>$41,600-$51,999</td></tr>\n",
       "<tr><td>$1,000-$1,249 ($5...</td><td>$52,000-$64,999</td></tr>\n",
       "<tr><td>$1,250-$1,499 ($6...</td><td>$65,000-$77,999</td></tr>\n",
       "<tr><td>$1,500-$1,749 ($7...</td><td>$78,000-$90,999</td></tr>\n",
       "<tr><td>$1,750-$1,999 ($9...</td><td>$91,000-$103,999</td></tr>\n",
       "<tr><td>$2,000-$2,999 ($1...</td><td>$104,000-$155,999</td></tr>\n",
       "<tr><td>$3,000 or more ($...</td><td></td></tr>\n",
       "<tr><td>Not stated</td><td>Not stated</td></tr>\n",
       "<tr><td>Not applicable</td><td>Not applicable</td></tr>\n",
       "<tr><td>Negative income</td><td>Negative income</td></tr>\n",
       "<tr><td>Nil income</td><td>Nil income</td></tr>\n",
       "<tr><td>$1-$149 ($1-$7,799)</td><td>$1-$7,799</td></tr>\n",
       "</table>\n",
       "only showing top 20 rows\n"
      ],
      "text/plain": [
       "+--------------------+-----------------+\n",
       "|              Income|    Income Parsed|\n",
       "+--------------------+-----------------+\n",
       "|     Negative income|  Negative income|\n",
       "|          Nil income|       Nil income|\n",
       "| $1-$149 ($1-$7,799)|        $1-$7,799|\n",
       "|$150-$299 ($7,800...|   $7,800-$15,599|\n",
       "|$300-$399 ($15,60...|  $15,600-$20,799|\n",
       "|$400-$499 ($20,80...|  $20,800-$25,999|\n",
       "|$500-$649 ($26,00...|  $26,000-$33,799|\n",
       "|$650-$799 ($33,80...|  $33,800-$41,599|\n",
       "|$800-$999 ($41,60...|  $41,600-$51,999|\n",
       "|$1,000-$1,249 ($5...|  $52,000-$64,999|\n",
       "|$1,250-$1,499 ($6...|  $65,000-$77,999|\n",
       "|$1,500-$1,749 ($7...|  $78,000-$90,999|\n",
       "|$1,750-$1,999 ($9...| $91,000-$103,999|\n",
       "|$2,000-$2,999 ($1...|$104,000-$155,999|\n",
       "|$3,000 or more ($...|                 |\n",
       "|          Not stated|       Not stated|\n",
       "|      Not applicable|   Not applicable|\n",
       "|     Negative income|  Negative income|\n",
       "|          Nil income|       Nil income|\n",
       "| $1-$149 ($1-$7,799)|        $1-$7,799|\n",
       "+--------------------+-----------------+\n",
       "only showing top 20 rows"
      ]
     },
     "execution_count": 143,
     "metadata": {},
     "output_type": "execute_result"
    }
   ],
   "source": [
    "test = spark.createDataFrame(temp_df)\n",
    "test"
   ]
  },
  {
   "cell_type": "markdown",
   "metadata": {},
   "source": [
    "Ben's preprocessing"
   ]
  },
  {
   "cell_type": "code",
   "execution_count": 46,
   "metadata": {},
   "outputs": [],
   "source": [
    "income_df = pd.read_csv('../data/raw/external/income.csv')\n",
    "income_df = income_df.drop(index=range(len(income_df) - 4, len(income_df)))"
   ]
  },
  {
   "cell_type": "code",
   "execution_count": 47,
   "metadata": {},
   "outputs": [],
   "source": [
    "income_df = income_df.rename(columns = {\"SA2 (UR)\" : \"Region\", \"INCP Total Personal Income (weekly)\" : \"Income\"})"
   ]
  },
  {
   "cell_type": "code",
   "execution_count": 48,
   "metadata": {},
   "outputs": [],
   "source": [
    "def convert_income(row):\n",
    "    if row['Income'] in ['Negative income', 'Nil income', 'Total', 'Not stated', 'Not applicable']:\n",
    "        row['weekly_income'] = row['Income']\n",
    "        row['yearly_income'] = row['Income']\n",
    "    else:\n",
    "        matches = re.findall('(.*)\\s\\((.*)\\)', row['Income'])\n",
    "        row['weekly_income'] = matches[0][0]\n",
    "        row['yearly_income'] = matches[0][1]\n",
    "    return row"
   ]
  },
  {
   "cell_type": "code",
   "execution_count": 49,
   "metadata": {},
   "outputs": [],
   "source": [
    "income_df = income_df.apply(convert_income, axis = 1)\n",
    "\n",
    "    "
   ]
  },
  {
   "cell_type": "code",
   "execution_count": 50,
   "metadata": {},
   "outputs": [
    {
     "data": {
      "text/html": [
       "<div>\n",
       "<style scoped>\n",
       "    .dataframe tbody tr th:only-of-type {\n",
       "        vertical-align: middle;\n",
       "    }\n",
       "\n",
       "    .dataframe tbody tr th {\n",
       "        vertical-align: top;\n",
       "    }\n",
       "\n",
       "    .dataframe thead th {\n",
       "        text-align: right;\n",
       "    }\n",
       "</style>\n",
       "<table border=\"1\" class=\"dataframe\">\n",
       "  <thead>\n",
       "    <tr style=\"text-align: right;\">\n",
       "      <th></th>\n",
       "      <th>Counting</th>\n",
       "      <th>Region</th>\n",
       "      <th>Income</th>\n",
       "      <th>Count</th>\n",
       "      <th>weekly_income</th>\n",
       "      <th>yearly_income</th>\n",
       "    </tr>\n",
       "  </thead>\n",
       "  <tbody>\n",
       "    <tr>\n",
       "      <th>0</th>\n",
       "      <td>Persons Place of Usual Residence</td>\n",
       "      <td>Braidwood</td>\n",
       "      <td>Negative income</td>\n",
       "      <td>17.0</td>\n",
       "      <td>Negative income</td>\n",
       "      <td>Negative income</td>\n",
       "    </tr>\n",
       "    <tr>\n",
       "      <th>1</th>\n",
       "      <td>Persons Place of Usual Residence</td>\n",
       "      <td>Braidwood</td>\n",
       "      <td>Nil income</td>\n",
       "      <td>213.0</td>\n",
       "      <td>Nil income</td>\n",
       "      <td>Nil income</td>\n",
       "    </tr>\n",
       "    <tr>\n",
       "      <th>2</th>\n",
       "      <td>Persons Place of Usual Residence</td>\n",
       "      <td>Braidwood</td>\n",
       "      <td>$1-$149 ($1-$7,799)</td>\n",
       "      <td>110.0</td>\n",
       "      <td>$1-$149</td>\n",
       "      <td>$1-$7,799</td>\n",
       "    </tr>\n",
       "    <tr>\n",
       "      <th>3</th>\n",
       "      <td>Persons Place of Usual Residence</td>\n",
       "      <td>Braidwood</td>\n",
       "      <td>$150-$299 ($7,800-$15,599)</td>\n",
       "      <td>224.0</td>\n",
       "      <td>$150-$299</td>\n",
       "      <td>$7,800-$15,599</td>\n",
       "    </tr>\n",
       "    <tr>\n",
       "      <th>4</th>\n",
       "      <td>Persons Place of Usual Residence</td>\n",
       "      <td>Braidwood</td>\n",
       "      <td>$300-$399 ($15,600-$20,799)</td>\n",
       "      <td>323.0</td>\n",
       "      <td>$300-$399</td>\n",
       "      <td>$15,600-$20,799</td>\n",
       "    </tr>\n",
       "    <tr>\n",
       "      <th>...</th>\n",
       "      <td>...</td>\n",
       "      <td>...</td>\n",
       "      <td>...</td>\n",
       "      <td>...</td>\n",
       "      <td>...</td>\n",
       "      <td>...</td>\n",
       "    </tr>\n",
       "    <tr>\n",
       "      <th>41593</th>\n",
       "      <td>Persons Place of Usual Residence</td>\n",
       "      <td>Total</td>\n",
       "      <td>$2,000-$2,999 ($104,000-$155,999)</td>\n",
       "      <td>961768.0</td>\n",
       "      <td>$2,000-$2,999</td>\n",
       "      <td>$104,000-$155,999</td>\n",
       "    </tr>\n",
       "    <tr>\n",
       "      <th>41594</th>\n",
       "      <td>Persons Place of Usual Residence</td>\n",
       "      <td>Total</td>\n",
       "      <td>$3,000 or more ($156,000 or more)</td>\n",
       "      <td>596531.0</td>\n",
       "      <td>$3,000 or more</td>\n",
       "      <td>$156,000 or more</td>\n",
       "    </tr>\n",
       "    <tr>\n",
       "      <th>41595</th>\n",
       "      <td>Persons Place of Usual Residence</td>\n",
       "      <td>Total</td>\n",
       "      <td>Not stated</td>\n",
       "      <td>1706737.0</td>\n",
       "      <td>Not stated</td>\n",
       "      <td>Not stated</td>\n",
       "    </tr>\n",
       "    <tr>\n",
       "      <th>41596</th>\n",
       "      <td>Persons Place of Usual Residence</td>\n",
       "      <td>Total</td>\n",
       "      <td>Not applicable</td>\n",
       "      <td>4364610.0</td>\n",
       "      <td>Not applicable</td>\n",
       "      <td>Not applicable</td>\n",
       "    </tr>\n",
       "    <tr>\n",
       "      <th>41597</th>\n",
       "      <td>Persons Place of Usual Residence</td>\n",
       "      <td>Total</td>\n",
       "      <td>Total</td>\n",
       "      <td>23401891.0</td>\n",
       "      <td>Total</td>\n",
       "      <td>Total</td>\n",
       "    </tr>\n",
       "  </tbody>\n",
       "</table>\n",
       "<p>41598 rows × 6 columns</p>\n",
       "</div>"
      ],
      "text/plain": [
       "                               Counting     Region  \\\n",
       "0      Persons Place of Usual Residence  Braidwood   \n",
       "1      Persons Place of Usual Residence  Braidwood   \n",
       "2      Persons Place of Usual Residence  Braidwood   \n",
       "3      Persons Place of Usual Residence  Braidwood   \n",
       "4      Persons Place of Usual Residence  Braidwood   \n",
       "...                                 ...        ...   \n",
       "41593  Persons Place of Usual Residence      Total   \n",
       "41594  Persons Place of Usual Residence      Total   \n",
       "41595  Persons Place of Usual Residence      Total   \n",
       "41596  Persons Place of Usual Residence      Total   \n",
       "41597  Persons Place of Usual Residence      Total   \n",
       "\n",
       "                                  Income       Count    weekly_income  \\\n",
       "0                        Negative income        17.0  Negative income   \n",
       "1                             Nil income       213.0       Nil income   \n",
       "2                    $1-$149 ($1-$7,799)       110.0          $1-$149   \n",
       "3             $150-$299 ($7,800-$15,599)       224.0        $150-$299   \n",
       "4            $300-$399 ($15,600-$20,799)       323.0        $300-$399   \n",
       "...                                  ...         ...              ...   \n",
       "41593  $2,000-$2,999 ($104,000-$155,999)    961768.0    $2,000-$2,999   \n",
       "41594  $3,000 or more ($156,000 or more)    596531.0   $3,000 or more   \n",
       "41595                         Not stated   1706737.0       Not stated   \n",
       "41596                     Not applicable   4364610.0   Not applicable   \n",
       "41597                              Total  23401891.0            Total   \n",
       "\n",
       "           yearly_income  \n",
       "0        Negative income  \n",
       "1             Nil income  \n",
       "2              $1-$7,799  \n",
       "3         $7,800-$15,599  \n",
       "4        $15,600-$20,799  \n",
       "...                  ...  \n",
       "41593  $104,000-$155,999  \n",
       "41594   $156,000 or more  \n",
       "41595         Not stated  \n",
       "41596     Not applicable  \n",
       "41597              Total  \n",
       "\n",
       "[41598 rows x 6 columns]"
      ]
     },
     "execution_count": 50,
     "metadata": {},
     "output_type": "execute_result"
    }
   ],
   "source": [
    "income_df"
   ]
  },
  {
   "cell_type": "code",
   "execution_count": null,
   "metadata": {},
   "outputs": [],
   "source": []
  }
 ],
 "metadata": {
  "kernelspec": {
   "display_name": "Python 3.10.4 64-bit",
   "language": "python",
   "name": "python3"
  },
  "language_info": {
   "codemirror_mode": {
    "name": "ipython",
    "version": 3
   },
   "file_extension": ".py",
   "mimetype": "text/x-python",
   "name": "python",
   "nbconvert_exporter": "python",
   "pygments_lexer": "ipython3",
   "version": "3.10.4"
  },
  "orig_nbformat": 4,
  "vscode": {
   "interpreter": {
    "hash": "916dbcbb3f70747c44a77c7bcd40155683ae19c65e1c03b4aa3499c5328201f1"
   }
  }
 },
 "nbformat": 4,
 "nbformat_minor": 2
}
