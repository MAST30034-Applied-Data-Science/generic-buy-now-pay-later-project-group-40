{
 "cells": [
  {
   "cell_type": "markdown",
   "metadata": {},
   "source": [
    "# The following code is to download the external dataset\n",
    "\n",
    "Dataset can be found here:\n",
    "- https://data.aurin.org.au/dataset/au-govt-abs-census-lga-g17c-total-weekly-income-by-age-by-sex-census-2016-lga2016/resource/4df0a5fb-20a9-442e-9602-123904bd59e1"
   ]
  },
  {
   "cell_type": "code",
   "execution_count": 2,
   "metadata": {},
   "outputs": [],
   "source": [
    "from urllib.request import urlretrieve\n",
    "import os\n",
    "\n",
    "# from the current directory, go up a level\n",
    "output_relative_dir = '../data/'\n",
    "\n",
    "# check if it exists as it makedir will raise an error if it does exist\n",
    "if not os.path.exists(output_relative_dir):\n",
    "    os.makedirs(output_relative_dir)\n",
    "    \n",
    "# now, for each type of data set we will need, we will create the paths\n",
    "for target_dir in ('tables', 'curated', 'raw', 'raw/external'):\n",
    "    if not os.path.exists(output_relative_dir + target_dir):\n",
    "        os.makedirs(output_relative_dir + target_dir)"
   ]
  },
  {
   "cell_type": "code",
   "execution_count": 2,
   "metadata": {},
   "outputs": [],
   "source": [
    "URL_TEMPLATE = f\"https://adp.aurin.org.au/geoserver/wfs?request=GetFeature&typename=datasource-AU_Govt_ABS_Census-UoM_AURIN_DB_2:lga_g17c_total_weekly_income_by_age_by_sex_census_2016\"#year-month.parquet"
   ]
  },
  {
   "cell_type": "code",
   "execution_count": null,
   "metadata": {},
   "outputs": [],
   "source": [
    "# URL DOWNLOAD DOES NOT WORK DUE TO CREDENTIALS \n",
    "output_dir = output_relative_dir + f'external_data'\n",
    "\n",
    "urlretrieve(URL_TEMPLATE, output_dir)"
   ]
  }
 ],
 "metadata": {
  "kernelspec": {
   "display_name": "Python 3.10.4 64-bit",
   "language": "python",
   "name": "python3"
  },
  "language_info": {
   "codemirror_mode": {
    "name": "ipython",
    "version": 3
   },
   "file_extension": ".py",
   "mimetype": "text/x-python",
   "name": "python",
   "nbconvert_exporter": "python",
   "pygments_lexer": "ipython3",
   "version": "3.10.4"
  },
  "orig_nbformat": 4,
  "vscode": {
   "interpreter": {
    "hash": "916dbcbb3f70747c44a77c7bcd40155683ae19c65e1c03b4aa3499c5328201f1"
   }
  }
 },
 "nbformat": 4,
 "nbformat_minor": 2
}
