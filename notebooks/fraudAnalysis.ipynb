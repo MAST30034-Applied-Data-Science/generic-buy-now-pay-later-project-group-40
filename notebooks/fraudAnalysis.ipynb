{
 "cells": [
  {
   "cell_type": "markdown",
   "metadata": {},
   "source": [
    "This notebook analyses if fraud can be detected.\n",
    "\n",
    "We want to first observe methodologies of determining whether or not a given transaction is 'fraud'. There are only some possible explanations given to us, and only a select few out of these can be attmpted to be observed. \n",
    "\n",
    "Information can be found here:\n",
    "- https://www.bluefin.com/support/identifying-fraudulent-transactions/"
   ]
  },
  {
   "cell_type": "code",
   "execution_count": 3,
   "metadata": {},
   "outputs": [
    {
     "name": "stdout",
     "output_type": "stream",
     "text": [
      "22/09/18 01:03:48 WARN Utils: Your hostname, dash_surface resolves to a loopback address: 127.0.1.1; using 172.31.0.181 instead (on interface eth0)\n",
      "22/09/18 01:03:48 WARN Utils: Set SPARK_LOCAL_IP if you need to bind to another address\n"
     ]
    },
    {
     "name": "stderr",
     "output_type": "stream",
     "text": [
      "Setting default log level to \"WARN\".\n",
      "To adjust logging level use sc.setLogLevel(newLevel). For SparkR, use setLogLevel(newLevel).\n"
     ]
    },
    {
     "name": "stdout",
     "output_type": "stream",
     "text": [
      "22/09/18 01:03:49 WARN NativeCodeLoader: Unable to load native-hadoop library for your platform... using builtin-java classes where applicable\n"
     ]
    }
   ],
   "source": [
    "from pyspark.sql import SparkSession\n",
    "\n",
    "spark = (\n",
    "    SparkSession.builder.appName(\"MAST30034 Project 2\")\n",
    "    .config(\"spark.driver.memory\", '4g')\n",
    "    .config(\"spark.executor.memory\", '8g')\n",
    "    .config(\"spark.sql.session.timeZone\", \"Etc/UTC\")\n",
    "    .config(\"spark.sql.parquet.enableVectorizedReader\",\"false\")\n",
    "    .config(\"spark.sql.repl.eagerEval.enabled\", True) \n",
    "    .config(\"spark.sql.parquet.cacheMetadata\", \"true\")\n",
    "    .getOrCreate()\n",
    ")"
   ]
  },
  {
   "cell_type": "markdown",
   "metadata": {},
   "source": [
    "### Read in the transactional data"
   ]
  },
  {
   "cell_type": "code",
   "execution_count": 4,
   "metadata": {},
   "outputs": [
    {
     "name": "stderr",
     "output_type": "stream",
     "text": [
      "                                                                                \r"
     ]
    }
   ],
   "source": [
    "sdf_transactions1 = spark.read.parquet('../data/tables/transactions_20210228_20210827_snapshot')\n",
    "sdf_transactions2 = spark.read.parquet('../data/tables/transactions_20210828_20220227_snapshot')\n",
    "sdf_transactions3 = spark.read.parquet('../data/tables/transactions_20220228_20220828_snapshot')\n",
    "\n",
    "sdf_transactions = sdf_transactions1.union(sdf_transactions2)\n",
    "sdf_transactions = sdf_transactions.union(sdf_transactions3)"
   ]
  },
  {
   "cell_type": "code",
   "execution_count": 7,
   "metadata": {},
   "outputs": [
    {
     "name": "stdout",
     "output_type": "stream",
     "text": [
      "root\n",
      " |-- user_id: long (nullable = true)\n",
      " |-- merchant_abn: long (nullable = true)\n",
      " |-- dollar_value: double (nullable = true)\n",
      " |-- order_id: string (nullable = true)\n",
      " |-- order_datetime: date (nullable = true)\n",
      "\n"
     ]
    }
   ],
   "source": [
    "sdf_transactions.printSchema()"
   ]
  },
  {
   "cell_type": "markdown",
   "metadata": {},
   "source": [
    "### Observe if order ID is unique or not"
   ]
  },
  {
   "cell_type": "code",
   "execution_count": 5,
   "metadata": {},
   "outputs": [
    {
     "name": "stderr",
     "output_type": "stream",
     "text": [
      "                                                                                \r"
     ]
    },
    {
     "data": {
      "text/plain": [
       "14195505"
      ]
     },
     "execution_count": 5,
     "metadata": {},
     "output_type": "execute_result"
    }
   ],
   "source": [
    "sdf_transactions.count()"
   ]
  },
  {
   "cell_type": "code",
   "execution_count": 15,
   "metadata": {},
   "outputs": [
    {
     "name": "stderr",
     "output_type": "stream",
     "text": [
      "                                                                                \r"
     ]
    },
    {
     "data": {
      "text/plain": [
       "14195505"
      ]
     },
     "execution_count": 15,
     "metadata": {},
     "output_type": "execute_result"
    }
   ],
   "source": [
    "sdf_transactions.select('order_id').distinct().count()"
   ]
  },
  {
   "cell_type": "code",
   "execution_count": 16,
   "metadata": {},
   "outputs": [
    {
     "data": {
      "text/html": [
       "<table border='1'>\n",
       "<tr><th>user_id</th><th>merchant_abn</th><th>dollar_value</th><th>order_id</th><th>order_datetime</th></tr>\n",
       "<tr><td>18478</td><td>62191208634</td><td>63.255848959735246</td><td>949a63c8-29f7-4ab...</td><td>2021-08-20</td></tr>\n",
       "<tr><td>2</td><td>15549624934</td><td>130.3505283105634</td><td>6a84c3cf-612a-457...</td><td>2021-08-20</td></tr>\n",
       "<tr><td>18479</td><td>64403598239</td><td>120.15860593212783</td><td>b10dcc33-e53f-425...</td><td>2021-08-20</td></tr>\n",
       "<tr><td>3</td><td>60956456424</td><td>136.6785200286976</td><td>0f09c5a5-784e-447...</td><td>2021-08-20</td></tr>\n",
       "<tr><td>18479</td><td>94493496784</td><td>72.96316578355305</td><td>f6c78c1a-4600-4c5...</td><td>2021-08-20</td></tr>\n",
       "<tr><td>3</td><td>76819856970</td><td>448.529684285612</td><td>5ace6a24-cdf0-4aa...</td><td>2021-08-20</td></tr>\n",
       "<tr><td>18479</td><td>67609108741</td><td>86.4040605836911</td><td>d0e180f0-cb06-42a...</td><td>2021-08-20</td></tr>\n",
       "<tr><td>3</td><td>34096466752</td><td>301.5793450525113</td><td>6fb1ff48-24bb-4f9...</td><td>2021-08-20</td></tr>\n",
       "<tr><td>18482</td><td>70501974849</td><td>68.75486276223054</td><td>8505fb33-b69a-412...</td><td>2021-08-20</td></tr>\n",
       "<tr><td>4</td><td>49891706470</td><td>48.89796461900801</td><td>ed11e477-b09f-4ae...</td><td>2021-08-20</td></tr>\n",
       "<tr><td>18482</td><td>46804135891</td><td>6.6168976971833615</td><td>05b5edb5-b925-414...</td><td>2021-08-20</td></tr>\n",
       "<tr><td>7</td><td>33064796871</td><td>373.0873675184212</td><td>fe188788-b89f-4dd...</td><td>2021-08-20</td></tr>\n",
       "<tr><td>18483</td><td>44160392990</td><td>83.98473054761176</td><td>7c44302d-98b3-48b...</td><td>2021-08-20</td></tr>\n",
       "<tr><td>7</td><td>68435002949</td><td>232.5364986739752</td><td>b4a89891-a113-45e...</td><td>2021-08-20</td></tr>\n",
       "<tr><td>18484</td><td>70033549200</td><td>871.7678061729196</td><td>4b1d941a-21a1-43e...</td><td>2021-08-20</td></tr>\n",
       "<tr><td>7</td><td>41944909975</td><td>30.910755230234322</td><td>302ae628-8eba-4a5...</td><td>2021-08-20</td></tr>\n",
       "<tr><td>18485</td><td>41705715409</td><td>309.5417224575787</td><td>67f4f98e-3149-4e8...</td><td>2021-08-20</td></tr>\n",
       "<tr><td>8</td><td>29566626791</td><td>74.15732460440282</td><td>71a81652-cc91-4bf...</td><td>2021-08-20</td></tr>\n",
       "<tr><td>18487</td><td>32361057556</td><td>119.19055863068847</td><td>15577921-1104-470...</td><td>2021-08-20</td></tr>\n",
       "<tr><td>9</td><td>47663262928</td><td>36.69873283148887</td><td>c4fcb49a-ce87-4e1...</td><td>2021-08-20</td></tr>\n",
       "</table>\n",
       "only showing top 20 rows\n"
      ],
      "text/plain": [
       "+-------+------------+------------------+--------------------+--------------+\n",
       "|user_id|merchant_abn|      dollar_value|            order_id|order_datetime|\n",
       "+-------+------------+------------------+--------------------+--------------+\n",
       "|  18478| 62191208634|63.255848959735246|949a63c8-29f7-4ab...|    2021-08-20|\n",
       "|      2| 15549624934| 130.3505283105634|6a84c3cf-612a-457...|    2021-08-20|\n",
       "|  18479| 64403598239|120.15860593212783|b10dcc33-e53f-425...|    2021-08-20|\n",
       "|      3| 60956456424| 136.6785200286976|0f09c5a5-784e-447...|    2021-08-20|\n",
       "|  18479| 94493496784| 72.96316578355305|f6c78c1a-4600-4c5...|    2021-08-20|\n",
       "|      3| 76819856970|  448.529684285612|5ace6a24-cdf0-4aa...|    2021-08-20|\n",
       "|  18479| 67609108741|  86.4040605836911|d0e180f0-cb06-42a...|    2021-08-20|\n",
       "|      3| 34096466752| 301.5793450525113|6fb1ff48-24bb-4f9...|    2021-08-20|\n",
       "|  18482| 70501974849| 68.75486276223054|8505fb33-b69a-412...|    2021-08-20|\n",
       "|      4| 49891706470| 48.89796461900801|ed11e477-b09f-4ae...|    2021-08-20|\n",
       "|  18482| 46804135891|6.6168976971833615|05b5edb5-b925-414...|    2021-08-20|\n",
       "|      7| 33064796871| 373.0873675184212|fe188788-b89f-4dd...|    2021-08-20|\n",
       "|  18483| 44160392990| 83.98473054761176|7c44302d-98b3-48b...|    2021-08-20|\n",
       "|      7| 68435002949| 232.5364986739752|b4a89891-a113-45e...|    2021-08-20|\n",
       "|  18484| 70033549200| 871.7678061729196|4b1d941a-21a1-43e...|    2021-08-20|\n",
       "|      7| 41944909975|30.910755230234322|302ae628-8eba-4a5...|    2021-08-20|\n",
       "|  18485| 41705715409| 309.5417224575787|67f4f98e-3149-4e8...|    2021-08-20|\n",
       "|      8| 29566626791| 74.15732460440282|71a81652-cc91-4bf...|    2021-08-20|\n",
       "|  18487| 32361057556|119.19055863068847|15577921-1104-470...|    2021-08-20|\n",
       "|      9| 47663262928| 36.69873283148887|c4fcb49a-ce87-4e1...|    2021-08-20|\n",
       "+-------+------------+------------------+--------------------+--------------+\n",
       "only showing top 20 rows"
      ]
     },
     "execution_count": 16,
     "metadata": {},
     "output_type": "execute_result"
    }
   ],
   "source": [
    "sdf_transactions"
   ]
  },
  {
   "cell_type": "markdown",
   "metadata": {},
   "source": [
    "Seems like there are no order ID which are duplicated - so checking multiple purchases of the same item isn't possible.\n",
    "\n",
    "This means that given our current data, the only possibilities of checking for fraud is when a customer makes numerous purchases in a single day, or a single purchase which is unuslaly larger than their noral purchases. We will check how this may be related and try to create some sort of heuristic."
   ]
  },
  {
   "cell_type": "code",
   "execution_count": 5,
   "metadata": {},
   "outputs": [],
   "source": [
    "from pyspark.sql import functions as F"
   ]
  },
  {
   "cell_type": "code",
   "execution_count": 6,
   "metadata": {},
   "outputs": [],
   "source": [
    "user_purchase = sdf_transactions.groupBy(F.col('user_id'), F.col('order_datetime')).agg({\n",
    "    'user_id': 'count'\n",
    "})"
   ]
  },
  {
   "cell_type": "code",
   "execution_count": 25,
   "metadata": {},
   "outputs": [
    {
     "name": "stderr",
     "output_type": "stream",
     "text": [
      "                                                                                \r"
     ]
    },
    {
     "data": {
      "text/plain": [
       "8976957"
      ]
     },
     "execution_count": 25,
     "metadata": {},
     "output_type": "execute_result"
    }
   ],
   "source": [
    "user_purchase.count()"
   ]
  },
  {
   "cell_type": "code",
   "execution_count": 24,
   "metadata": {},
   "outputs": [
    {
     "name": "stderr",
     "output_type": "stream",
     "text": [
      "                                                                                \r"
     ]
    },
    {
     "data": {
      "text/html": [
       "<table border='1'>\n",
       "<tr><th>user_id</th><th>order_datetime</th><th>count(user_id)</th></tr>\n",
       "<tr><td>18488</td><td>2021-08-20</td><td>3</td></tr>\n",
       "<tr><td>686</td><td>2021-08-20</td><td>2</td></tr>\n",
       "<tr><td>19292</td><td>2021-08-20</td><td>1</td></tr>\n",
       "<tr><td>778</td><td>2021-08-20</td><td>2</td></tr>\n",
       "<tr><td>786</td><td>2021-08-20</td><td>1</td></tr>\n",
       "<tr><td>19476</td><td>2021-08-20</td><td>2</td></tr>\n",
       "<tr><td>19497</td><td>2021-08-20</td><td>2</td></tr>\n",
       "<tr><td>19628</td><td>2021-08-20</td><td>2</td></tr>\n",
       "<tr><td>19631</td><td>2021-08-20</td><td>1</td></tr>\n",
       "<tr><td>19672</td><td>2021-08-20</td><td>3</td></tr>\n",
       "<tr><td>1205</td><td>2021-08-20</td><td>2</td></tr>\n",
       "<tr><td>1491</td><td>2021-08-20</td><td>2</td></tr>\n",
       "<tr><td>1691</td><td>2021-08-20</td><td>1</td></tr>\n",
       "<tr><td>1693</td><td>2021-08-20</td><td>3</td></tr>\n",
       "<tr><td>20431</td><td>2021-08-20</td><td>1</td></tr>\n",
       "<tr><td>20834</td><td>2021-08-20</td><td>1</td></tr>\n",
       "<tr><td>2243</td><td>2021-08-20</td><td>4</td></tr>\n",
       "<tr><td>21061</td><td>2021-08-20</td><td>1</td></tr>\n",
       "<tr><td>2647</td><td>2021-08-20</td><td>1</td></tr>\n",
       "<tr><td>2716</td><td>2021-08-20</td><td>2</td></tr>\n",
       "</table>\n",
       "only showing top 20 rows\n"
      ],
      "text/plain": [
       "+-------+--------------+--------------+\n",
       "|user_id|order_datetime|count(user_id)|\n",
       "+-------+--------------+--------------+\n",
       "|  18488|    2021-08-20|             3|\n",
       "|    686|    2021-08-20|             2|\n",
       "|  19292|    2021-08-20|             1|\n",
       "|    778|    2021-08-20|             2|\n",
       "|    786|    2021-08-20|             1|\n",
       "|  19476|    2021-08-20|             2|\n",
       "|  19497|    2021-08-20|             2|\n",
       "|  19628|    2021-08-20|             2|\n",
       "|  19631|    2021-08-20|             1|\n",
       "|  19672|    2021-08-20|             3|\n",
       "|   1205|    2021-08-20|             2|\n",
       "|   1491|    2021-08-20|             2|\n",
       "|   1691|    2021-08-20|             1|\n",
       "|   1693|    2021-08-20|             3|\n",
       "|  20431|    2021-08-20|             1|\n",
       "|  20834|    2021-08-20|             1|\n",
       "|   2243|    2021-08-20|             4|\n",
       "|  21061|    2021-08-20|             1|\n",
       "|   2647|    2021-08-20|             1|\n",
       "|   2716|    2021-08-20|             2|\n",
       "+-------+--------------+--------------+\n",
       "only showing top 20 rows"
      ]
     },
     "execution_count": 24,
     "metadata": {},
     "output_type": "execute_result"
    }
   ],
   "source": [
    "user_purchase"
   ]
  },
  {
   "cell_type": "code",
   "execution_count": 37,
   "metadata": {},
   "outputs": [
    {
     "name": "stderr",
     "output_type": "stream",
     "text": [
      "                                                                                \r"
     ]
    },
    {
     "data": {
      "text/plain": [
       "12"
      ]
     },
     "execution_count": 37,
     "metadata": {},
     "output_type": "execute_result"
    }
   ],
   "source": [
    "user_purchase.select(\"count(user_id)\").rdd.max()[0]"
   ]
  },
  {
   "cell_type": "code",
   "execution_count": 39,
   "metadata": {},
   "outputs": [
    {
     "name": "stderr",
     "output_type": "stream",
     "text": [
      "                                                                                \r"
     ]
    },
    {
     "data": {
      "text/html": [
       "<table border='1'>\n",
       "<tr><th>user_id</th><th>order_datetime</th><th>count(user_id)</th></tr>\n",
       "<tr><td>5369</td><td>2021-12-26</td><td>12</td></tr>\n",
       "</table>\n"
      ],
      "text/plain": [
       "+-------+--------------+--------------+\n",
       "|user_id|order_datetime|count(user_id)|\n",
       "+-------+--------------+--------------+\n",
       "|   5369|    2021-12-26|            12|\n",
       "+-------+--------------+--------------+"
      ]
     },
     "execution_count": 39,
     "metadata": {},
     "output_type": "execute_result"
    }
   ],
   "source": [
    "user_purchase.where(F.col(\"count(user_id)\") == 12)"
   ]
  },
  {
   "cell_type": "code",
   "execution_count": 7,
   "metadata": {},
   "outputs": [],
   "source": [
    "# Read in fraud data\n",
    "\n",
    "fraud_sdf = spark.read.csv(\"../data/tables/consumer_fraud_probability.csv\", header=True)"
   ]
  },
  {
   "cell_type": "code",
   "execution_count": 45,
   "metadata": {},
   "outputs": [
    {
     "data": {
      "text/html": [
       "<table border='1'>\n",
       "<tr><th>user_id</th><th>order_datetime</th><th>fraud_probability</th></tr>\n",
       "<tr><td>6228</td><td>2021-12-19</td><td>97.6298077657765</td></tr>\n",
       "<tr><td>21419</td><td>2021-12-10</td><td>99.24738020302328</td></tr>\n",
       "<tr><td>5606</td><td>2021-10-17</td><td>84.05825045251777</td></tr>\n",
       "<tr><td>3101</td><td>2021-04-17</td><td>91.42192091901347</td></tr>\n",
       "<tr><td>22239</td><td>2021-10-19</td><td>94.70342477508035</td></tr>\n",
       "<tr><td>16556</td><td>2022-02-20</td><td>89.65663294494827</td></tr>\n",
       "<tr><td>10278</td><td>2021-09-28</td><td>83.59136689427714</td></tr>\n",
       "<tr><td>15790</td><td>2021-12-30</td><td>71.77065889280253</td></tr>\n",
       "<tr><td>5233</td><td>2021-08-29</td><td>85.87123303878818</td></tr>\n",
       "<tr><td>230</td><td>2021-08-28</td><td>86.28328808934151</td></tr>\n",
       "<tr><td>13601</td><td>2021-12-26</td><td>83.13696487489679</td></tr>\n",
       "<tr><td>6383</td><td>2021-09-15</td><td>66.2676451623754</td></tr>\n",
       "<tr><td>3513</td><td>2022-02-27</td><td>75.16981192247916</td></tr>\n",
       "<tr><td>18658</td><td>2021-10-19</td><td>82.98609082999361</td></tr>\n",
       "<tr><td>5965</td><td>2021-11-14</td><td>69.37164467869053</td></tr>\n",
       "<tr><td>18714</td><td>2021-11-14</td><td>83.78813794627237</td></tr>\n",
       "<tr><td>22957</td><td>2022-02-12</td><td>82.79065699075498</td></tr>\n",
       "<tr><td>20118</td><td>2021-09-05</td><td>80.34030486265003</td></tr>\n",
       "<tr><td>6436</td><td>2021-12-24</td><td>84.81618344606828</td></tr>\n",
       "<tr><td>17900</td><td>2022-02-25</td><td>92.73262811161372</td></tr>\n",
       "</table>\n",
       "only showing top 20 rows\n"
      ],
      "text/plain": [
       "DataFrame[user_id: string, order_datetime: string, fraud_probability: string]"
      ]
     },
     "execution_count": 45,
     "metadata": {},
     "output_type": "execute_result"
    }
   ],
   "source": [
    "fraud_sdf"
   ]
  },
  {
   "cell_type": "markdown",
   "metadata": {},
   "source": [
    "We take the highest probability of fraud and determine if it is related to any of the 2 initial ideas that we had"
   ]
  },
  {
   "cell_type": "code",
   "execution_count": 48,
   "metadata": {},
   "outputs": [
    {
     "data": {
      "text/html": [
       "<table border='1'>\n",
       "<tr><th>user_id</th><th>order_datetime</th><th>count(user_id)</th></tr>\n",
       "<tr><td>21419</td><td>2021-12-10</td><td>1</td></tr>\n",
       "</table>\n"
      ],
      "text/plain": [
       "+-------+--------------+--------------+\n",
       "|user_id|order_datetime|count(user_id)|\n",
       "+-------+--------------+--------------+\n",
       "|  21419|    2021-12-10|             1|\n",
       "+-------+--------------+--------------+"
      ]
     },
     "execution_count": 48,
     "metadata": {},
     "output_type": "execute_result"
    }
   ],
   "source": [
    "user_purchase.where((F.col(\"user_id\") == 21419) & (F.col(\"order_datetime\") == \"2021-12-10\"))"
   ]
  },
  {
   "cell_type": "code",
   "execution_count": 52,
   "metadata": {},
   "outputs": [
    {
     "data": {
      "text/html": [
       "<table border='1'>\n",
       "<tr><th>user_id</th><th>merchant_abn</th><th>dollar_value</th><th>order_id</th><th>order_datetime</th></tr>\n",
       "<tr><td>21419</td><td>23686790459</td><td>67706.74019097649</td><td>079cc8aa-eadd-4f3...</td><td>2021-12-10</td></tr>\n",
       "</table>\n"
      ],
      "text/plain": [
       "+-------+------------+-----------------+--------------------+--------------+\n",
       "|user_id|merchant_abn|     dollar_value|            order_id|order_datetime|\n",
       "+-------+------------+-----------------+--------------------+--------------+\n",
       "|  21419| 23686790459|67706.74019097649|079cc8aa-eadd-4f3...|    2021-12-10|\n",
       "+-------+------------+-----------------+--------------------+--------------+"
      ]
     },
     "execution_count": 52,
     "metadata": {},
     "output_type": "execute_result"
    }
   ],
   "source": [
    "sdf_transactions.where((F.col(\"user_id\") == 21419) & (F.col(\"order_datetime\") == \"2021-12-10\"))"
   ]
  },
  {
   "cell_type": "code",
   "execution_count": 55,
   "metadata": {},
   "outputs": [
    {
     "name": "stderr",
     "output_type": "stream",
     "text": [
      "                                                                                \r"
     ]
    },
    {
     "data": {
      "text/html": [
       "<table border='1'>\n",
       "<tr><th>avg(dollar_value)</th></tr>\n",
       "<tr><td>302.1584895025078</td></tr>\n",
       "</table>\n"
      ],
      "text/plain": [
       "+-----------------+\n",
       "|avg(dollar_value)|\n",
       "+-----------------+\n",
       "|302.1584895025078|\n",
       "+-----------------+"
      ]
     },
     "execution_count": 55,
     "metadata": {},
     "output_type": "execute_result"
    }
   ],
   "source": [
    "sdf_transactions.where(F.col(\"user_id\") == 21419).select(F.mean(\"dollar_value\"))"
   ]
  },
  {
   "cell_type": "code",
   "execution_count": 56,
   "metadata": {},
   "outputs": [
    {
     "name": "stderr",
     "output_type": "stream",
     "text": [
      "                                                                                \r"
     ]
    },
    {
     "data": {
      "text/html": [
       "<table border='1'>\n",
       "<tr><th>stddev_samp(dollar_value)</th></tr>\n",
       "<tr><td>2851.042573410824</td></tr>\n",
       "</table>\n"
      ],
      "text/plain": [
       "+-------------------------+\n",
       "|stddev_samp(dollar_value)|\n",
       "+-------------------------+\n",
       "|        2851.042573410824|\n",
       "+-------------------------+"
      ]
     },
     "execution_count": 56,
     "metadata": {},
     "output_type": "execute_result"
    }
   ],
   "source": [
    "sdf_transactions.where(F.col(\"user_id\") == 21419).select(F.stddev(\"dollar_value\"))"
   ]
  },
  {
   "cell_type": "markdown",
   "metadata": {},
   "source": [
    "It appears that the probability of fraud can be possibly found by calculating the probability of an 'extreme' value of some assumed distribution as a general customer base. Thus, we will run analysis on the data we have have to determine both \"outliers\" which we can then convert into probabilities from that given distirbution.\n",
    "\n",
    "We also check if fraud is detectable by a large number of purchases made by a single person over a small timeframe.\n",
    "\n",
    "### Load in fraud data and join"
   ]
  },
  {
   "cell_type": "code",
   "execution_count": 8,
   "metadata": {},
   "outputs": [],
   "source": [
    "# Rename columns to to avoid 'ambiguity'\n",
    "\n",
    "sdf_transactions = sdf_transactions.withColumnRenamed(\n",
    "    'user_id',\n",
    "    'trans_user_id'\n",
    ").withColumnRenamed(\n",
    "    'order_datetime',\n",
    "    \"trans_order_datetime\"\n",
    ")"
   ]
  },
  {
   "cell_type": "code",
   "execution_count": 9,
   "metadata": {},
   "outputs": [],
   "source": [
    "# Join fraud data with transactional data\n",
    "\n",
    "fraud_data = fraud_sdf.join(sdf_transactions, how='left', on=((fraud_sdf.user_id == sdf_transactions.trans_user_id) & (fraud_sdf.order_datetime == sdf_transactions.trans_order_datetime)))"
   ]
  },
  {
   "cell_type": "code",
   "execution_count": 10,
   "metadata": {},
   "outputs": [],
   "source": [
    "fraud_data = fraud_data.select(F.col(\"user_id\"), F.col(\"order_datetime\"), F.col(\"fraud_probability\"), F.col(\"merchant_abn\"), F.col(\"dollar_value\"))"
   ]
  },
  {
   "cell_type": "code",
   "execution_count": 69,
   "metadata": {},
   "outputs": [
    {
     "name": "stderr",
     "output_type": "stream",
     "text": [
      "                                                                                \r"
     ]
    },
    {
     "data": {
      "text/html": [
       "<table border='1'>\n",
       "<tr><th>user_id</th><th>order_datetime</th><th>fraud_probability</th><th>merchant_abn</th><th>dollar_value</th></tr>\n",
       "<tr><td>5965</td><td>2021-11-14</td><td>69.37164467869053</td><td>11149063370</td><td>43965.46355720679</td></tr>\n",
       "<tr><td>22239</td><td>2021-10-19</td><td>94.70342477508035</td><td>67264251405</td><td>51876.637563877644</td></tr>\n",
       "<tr><td>10897</td><td>2021-11-11</td><td>71.27699927869216</td><td>21807339153</td><td>19.468458703644316</td></tr>\n",
       "<tr><td>10897</td><td>2021-11-11</td><td>71.27699927869216</td><td>19010030815</td><td>41999.00172659059</td></tr>\n",
       "<tr><td>3101</td><td>2021-04-17</td><td>91.42192091901347</td><td>91880575299</td><td>105193.88578925544</td></tr>\n",
       "<tr><td>6383</td><td>2021-09-15</td><td>66.2676451623754</td><td>34920839316</td><td>22.898167875482013</td></tr>\n",
       "<tr><td>6383</td><td>2021-09-15</td><td>66.2676451623754</td><td>14530561097</td><td>46001.13901942742</td></tr>\n",
       "<tr><td>10278</td><td>2021-09-28</td><td>83.59136689427714</td><td>19010030815</td><td>50066.19010321954</td></tr>\n",
       "<tr><td>5233</td><td>2021-08-29</td><td>85.87123303878818</td><td>91720867026</td><td>17.636911995810458</td></tr>\n",
       "<tr><td>5233</td><td>2021-08-29</td><td>85.87123303878818</td><td>34695415993</td><td>87.75287320319775</td></tr>\n",
       "<tr><td>5233</td><td>2021-08-29</td><td>85.87123303878818</td><td>15043504837</td><td>47381.93709086238</td></tr>\n",
       "<tr><td>5233</td><td>2021-08-29</td><td>85.87123303878818</td><td>45629217853</td><td>16.18223615123166</td></tr>\n",
       "<tr><td>6436</td><td>2021-12-24</td><td>84.81618344606828</td><td>32234779638</td><td>5.114758684774464</td></tr>\n",
       "<tr><td>6436</td><td>2021-12-24</td><td>84.81618344606828</td><td>19010030815</td><td>42871.324786685116</td></tr>\n",
       "<tr><td>18714</td><td>2021-11-14</td><td>83.78813794627237</td><td>86578477987</td><td>27.612418754476316</td></tr>\n",
       "<tr><td>18714</td><td>2021-11-14</td><td>83.78813794627237</td><td>43698886228</td><td>2165.030466843094</td></tr>\n",
       "<tr><td>18714</td><td>2021-11-14</td><td>83.78813794627237</td><td>30137717102</td><td>41445.32055730012</td></tr>\n",
       "<tr><td>3513</td><td>2022-02-27</td><td>75.16981192247916</td><td>83199298021</td><td>44471.999391282814</td></tr>\n",
       "<tr><td>3513</td><td>2022-02-27</td><td>75.16981192247916</td><td>77343745836</td><td>813.5514173146979</td></tr>\n",
       "<tr><td>5606</td><td>2021-10-17</td><td>84.05825045251777</td><td>99989036621</td><td>56552.39444305644</td></tr>\n",
       "</table>\n",
       "only showing top 20 rows\n"
      ],
      "text/plain": [
       "+-------+--------------+-----------------+------------+------------------+\n",
       "|user_id|order_datetime|fraud_probability|merchant_abn|      dollar_value|\n",
       "+-------+--------------+-----------------+------------+------------------+\n",
       "|   5965|    2021-11-14|69.37164467869053| 11149063370| 43965.46355720679|\n",
       "|  22239|    2021-10-19|94.70342477508035| 67264251405|51876.637563877644|\n",
       "|  10897|    2021-11-11|71.27699927869216| 21807339153|19.468458703644316|\n",
       "|  10897|    2021-11-11|71.27699927869216| 19010030815| 41999.00172659059|\n",
       "|   3101|    2021-04-17|91.42192091901347| 91880575299|105193.88578925544|\n",
       "|   6383|    2021-09-15| 66.2676451623754| 34920839316|22.898167875482013|\n",
       "|   6383|    2021-09-15| 66.2676451623754| 14530561097| 46001.13901942742|\n",
       "|  10278|    2021-09-28|83.59136689427714| 19010030815| 50066.19010321954|\n",
       "|   5233|    2021-08-29|85.87123303878818| 91720867026|17.636911995810458|\n",
       "|   5233|    2021-08-29|85.87123303878818| 34695415993| 87.75287320319775|\n",
       "|   5233|    2021-08-29|85.87123303878818| 15043504837| 47381.93709086238|\n",
       "|   5233|    2021-08-29|85.87123303878818| 45629217853| 16.18223615123166|\n",
       "|   6436|    2021-12-24|84.81618344606828| 32234779638| 5.114758684774464|\n",
       "|   6436|    2021-12-24|84.81618344606828| 19010030815|42871.324786685116|\n",
       "|  18714|    2021-11-14|83.78813794627237| 86578477987|27.612418754476316|\n",
       "|  18714|    2021-11-14|83.78813794627237| 43698886228| 2165.030466843094|\n",
       "|  18714|    2021-11-14|83.78813794627237| 30137717102| 41445.32055730012|\n",
       "|   3513|    2022-02-27|75.16981192247916| 83199298021|44471.999391282814|\n",
       "|   3513|    2022-02-27|75.16981192247916| 77343745836| 813.5514173146979|\n",
       "|   5606|    2021-10-17|84.05825045251777| 99989036621| 56552.39444305644|\n",
       "+-------+--------------+-----------------+------------+------------------+\n",
       "only showing top 20 rows"
      ]
     },
     "execution_count": 69,
     "metadata": {},
     "output_type": "execute_result"
    }
   ],
   "source": [
    "fraud_data"
   ]
  },
  {
   "cell_type": "code",
   "execution_count": 70,
   "metadata": {},
   "outputs": [
    {
     "name": "stderr",
     "output_type": "stream",
     "text": [
      "                                                                                \r"
     ]
    },
    {
     "data": {
      "text/html": [
       "<table border='1'>\n",
       "<tr><th>user_id</th><th>order_datetime</th><th>fraud_probability</th><th>merchant_abn</th><th>dollar_value</th></tr>\n",
       "<tr><td>5369</td><td>2021-07-16</td><td>8.668932496804345</td><td>32234779638</td><td>78.3111896522116</td></tr>\n",
       "<tr><td>5369</td><td>2021-07-16</td><td>8.668932496804345</td><td>24015576448</td><td>5665.42027487531</td></tr>\n",
       "<tr><td>5369</td><td>2021-11-09</td><td>36.191343302316</td><td>24015576448</td><td>11789.425948910024</td></tr>\n",
       "<tr><td>5369</td><td>2021-11-09</td><td>36.191343302316</td><td>69983142241</td><td>2.270540033820603</td></tr>\n",
       "<tr><td>5369</td><td>2021-11-09</td><td>36.191343302316</td><td>69069584766</td><td>99.48503670679246</td></tr>\n",
       "<tr><td>5369</td><td>2021-11-09</td><td>36.191343302316</td><td>46804135891</td><td>98.37758936489477</td></tr>\n",
       "</table>\n"
      ],
      "text/plain": [
       "+-------+--------------+-----------------+------------+------------------+\n",
       "|user_id|order_datetime|fraud_probability|merchant_abn|      dollar_value|\n",
       "+-------+--------------+-----------------+------------+------------------+\n",
       "|   5369|    2021-07-16|8.668932496804345| 32234779638|  78.3111896522116|\n",
       "|   5369|    2021-07-16|8.668932496804345| 24015576448|  5665.42027487531|\n",
       "|   5369|    2021-11-09|  36.191343302316| 24015576448|11789.425948910024|\n",
       "|   5369|    2021-11-09|  36.191343302316| 69983142241| 2.270540033820603|\n",
       "|   5369|    2021-11-09|  36.191343302316| 69069584766| 99.48503670679246|\n",
       "|   5369|    2021-11-09|  36.191343302316| 46804135891| 98.37758936489477|\n",
       "+-------+--------------+-----------------+------------+------------------+"
      ]
     },
     "execution_count": 70,
     "metadata": {},
     "output_type": "execute_result"
    }
   ],
   "source": [
    "# Check 5369 with 12 purchases in 2021-12-26\n",
    "\n",
    "fraud_data.where(F.col('user_id') == 5369)"
   ]
  },
  {
   "cell_type": "markdown",
   "metadata": {},
   "source": [
    "Appears to not exist, high freq can be explained by post-christmas shopping?\n",
    "\n",
    "Further, since the highest purchase frequency was 12 but that didn't have much fraud information, we check frequencies of 11 and 10 for possible fraud detection."
   ]
  },
  {
   "cell_type": "code",
   "execution_count": 71,
   "metadata": {},
   "outputs": [
    {
     "name": "stderr",
     "output_type": "stream",
     "text": [
      "                                                                                \r"
     ]
    },
    {
     "data": {
      "text/html": [
       "<table border='1'>\n",
       "<tr><th>user_id</th><th>order_datetime</th><th>count(user_id)</th></tr>\n",
       "<tr><td>10326</td><td>2021-11-26</td><td>11</td></tr>\n",
       "<tr><td>11958</td><td>2021-11-26</td><td>11</td></tr>\n",
       "<tr><td>11002</td><td>2021-11-29</td><td>11</td></tr>\n",
       "</table>\n"
      ],
      "text/plain": [
       "+-------+--------------+--------------+\n",
       "|user_id|order_datetime|count(user_id)|\n",
       "+-------+--------------+--------------+\n",
       "|  10326|    2021-11-26|            11|\n",
       "|  11958|    2021-11-26|            11|\n",
       "|  11002|    2021-11-29|            11|\n",
       "+-------+--------------+--------------+"
      ]
     },
     "execution_count": 71,
     "metadata": {},
     "output_type": "execute_result"
    }
   ],
   "source": [
    "user_purchase.where(F.col('count(user_id)') == 11)"
   ]
  },
  {
   "cell_type": "code",
   "execution_count": 72,
   "metadata": {},
   "outputs": [
    {
     "name": "stderr",
     "output_type": "stream",
     "text": [
      "                                                                                \r"
     ]
    },
    {
     "data": {
      "text/html": [
       "<table border='1'>\n",
       "<tr><th>user_id</th><th>order_datetime</th><th>fraud_probability</th><th>merchant_abn</th><th>dollar_value</th></tr>\n",
       "<tr><td>10326</td><td>2021-11-26</td><td>10.362651044336713</td><td>49212265466</td><td>134.1269285376452</td></tr>\n",
       "<tr><td>10326</td><td>2021-11-26</td><td>10.362651044336713</td><td>83690644458</td><td>40.904110782508475</td></tr>\n",
       "<tr><td>10326</td><td>2021-11-26</td><td>10.362651044336713</td><td>15061716544</td><td>166.66009961642183</td></tr>\n",
       "<tr><td>10326</td><td>2021-11-26</td><td>10.362651044336713</td><td>68501926042</td><td>134.09658628888243</td></tr>\n",
       "<tr><td>10326</td><td>2021-11-26</td><td>10.362651044336713</td><td>78073971498</td><td>205.74504214676077</td></tr>\n",
       "<tr><td>10326</td><td>2021-11-26</td><td>10.362651044336713</td><td>46804135891</td><td>50.868638055307194</td></tr>\n",
       "<tr><td>10326</td><td>2021-11-26</td><td>10.362651044336713</td><td>60813622669</td><td>420.89337044094697</td></tr>\n",
       "<tr><td>10326</td><td>2021-11-26</td><td>10.362651044336713</td><td>62787106107</td><td>994.9012691000089</td></tr>\n",
       "<tr><td>10326</td><td>2021-11-26</td><td>10.362651044336713</td><td>24852446429</td><td>59.08633924393676</td></tr>\n",
       "<tr><td>10326</td><td>2021-11-26</td><td>10.362651044336713</td><td>49891706470</td><td>24.98676101894532</td></tr>\n",
       "<tr><td>10326</td><td>2021-11-26</td><td>10.362651044336713</td><td>63290521567</td><td>20.446531210645578</td></tr>\n",
       "<tr><td>10326</td><td>2021-09-22</td><td>9.67061629485172</td><td>99845294286</td><td>2102.275646942083</td></tr>\n",
       "</table>\n"
      ],
      "text/plain": [
       "+-------+--------------+------------------+------------+------------------+\n",
       "|user_id|order_datetime| fraud_probability|merchant_abn|      dollar_value|\n",
       "+-------+--------------+------------------+------------+------------------+\n",
       "|  10326|    2021-11-26|10.362651044336713| 49212265466| 134.1269285376452|\n",
       "|  10326|    2021-11-26|10.362651044336713| 83690644458|40.904110782508475|\n",
       "|  10326|    2021-11-26|10.362651044336713| 15061716544|166.66009961642183|\n",
       "|  10326|    2021-11-26|10.362651044336713| 68501926042|134.09658628888243|\n",
       "|  10326|    2021-11-26|10.362651044336713| 78073971498|205.74504214676077|\n",
       "|  10326|    2021-11-26|10.362651044336713| 46804135891|50.868638055307194|\n",
       "|  10326|    2021-11-26|10.362651044336713| 60813622669|420.89337044094697|\n",
       "|  10326|    2021-11-26|10.362651044336713| 62787106107| 994.9012691000089|\n",
       "|  10326|    2021-11-26|10.362651044336713| 24852446429| 59.08633924393676|\n",
       "|  10326|    2021-11-26|10.362651044336713| 49891706470| 24.98676101894532|\n",
       "|  10326|    2021-11-26|10.362651044336713| 63290521567|20.446531210645578|\n",
       "|  10326|    2021-09-22|  9.67061629485172| 99845294286| 2102.275646942083|\n",
       "+-------+--------------+------------------+------------+------------------+"
      ]
     },
     "execution_count": 72,
     "metadata": {},
     "output_type": "execute_result"
    }
   ],
   "source": [
    "fraud_data.where(F.col('user_id') == 10326)"
   ]
  },
  {
   "cell_type": "code",
   "execution_count": 73,
   "metadata": {},
   "outputs": [
    {
     "name": "stderr",
     "output_type": "stream",
     "text": [
      "                                                                                \r"
     ]
    },
    {
     "data": {
      "text/html": [
       "<table border='1'>\n",
       "<tr><th>user_id</th><th>order_datetime</th><th>fraud_probability</th><th>merchant_abn</th><th>dollar_value</th></tr>\n",
       "<tr><td>11958</td><td>2021-12-28</td><td>10.46037646956201</td><td>66983698186</td><td>1093.3735067543755</td></tr>\n",
       "<tr><td>11958</td><td>2021-12-28</td><td>10.46037646956201</td><td>45629217853</td><td>27.62567136720168</td></tr>\n",
       "<tr><td>11958</td><td>2021-12-28</td><td>10.46037646956201</td><td>49891706470</td><td>45.8145293582885</td></tr>\n",
       "<tr><td>11958</td><td>2021-12-28</td><td>10.46037646956201</td><td>77037096829</td><td>180.74778494699612</td></tr>\n",
       "<tr><td>11958</td><td>2021-12-28</td><td>10.46037646956201</td><td>75664480997</td><td>763.0327605057961</td></tr>\n",
       "<tr><td>11958</td><td>2021-12-28</td><td>10.46037646956201</td><td>93558142492</td><td>529.4419660472563</td></tr>\n",
       "<tr><td>11958</td><td>2021-11-26</td><td>13.539138238106881</td><td>45559085309</td><td>48.28926680799455</td></tr>\n",
       "<tr><td>11958</td><td>2021-11-26</td><td>13.539138238106881</td><td>90692244747</td><td>189.7765381860137</td></tr>\n",
       "<tr><td>11958</td><td>2021-11-26</td><td>13.539138238106881</td><td>40776514177</td><td>2441.6646776314105</td></tr>\n",
       "<tr><td>11958</td><td>2021-11-26</td><td>13.539138238106881</td><td>76314317957</td><td>159.00242716710244</td></tr>\n",
       "<tr><td>11958</td><td>2021-11-26</td><td>13.539138238106881</td><td>49891706470</td><td>29.409170495239902</td></tr>\n",
       "<tr><td>11958</td><td>2021-11-26</td><td>13.539138238106881</td><td>21615741041</td><td>256.1346068641183</td></tr>\n",
       "<tr><td>11958</td><td>2021-11-26</td><td>13.539138238106881</td><td>86578477987</td><td>35.59146866466809</td></tr>\n",
       "<tr><td>11958</td><td>2021-11-26</td><td>13.539138238106881</td><td>13285958344</td><td>14.606623503251372</td></tr>\n",
       "<tr><td>11958</td><td>2021-11-26</td><td>13.539138238106881</td><td>67400260923</td><td>96.94182735381395</td></tr>\n",
       "<tr><td>11958</td><td>2021-11-26</td><td>13.539138238106881</td><td>11439466003</td><td>27.771828187732925</td></tr>\n",
       "<tr><td>11958</td><td>2021-11-26</td><td>13.539138238106881</td><td>11237511112</td><td>117.87933764060463</td></tr>\n",
       "<tr><td>11958</td><td>2021-07-26</td><td>10.80596570487185</td><td>32234779638</td><td>122.39130314047073</td></tr>\n",
       "<tr><td>11958</td><td>2021-07-26</td><td>10.80596570487185</td><td>70754621933</td><td>4570.789526571966</td></tr>\n",
       "<tr><td>11958</td><td>2021-07-26</td><td>10.80596570487185</td><td>96178360210</td><td>761.3342969522178</td></tr>\n",
       "</table>\n"
      ],
      "text/plain": [
       "+-------+--------------+------------------+------------+------------------+\n",
       "|user_id|order_datetime| fraud_probability|merchant_abn|      dollar_value|\n",
       "+-------+--------------+------------------+------------+------------------+\n",
       "|  11958|    2021-12-28| 10.46037646956201| 66983698186|1093.3735067543755|\n",
       "|  11958|    2021-12-28| 10.46037646956201| 45629217853| 27.62567136720168|\n",
       "|  11958|    2021-12-28| 10.46037646956201| 49891706470|  45.8145293582885|\n",
       "|  11958|    2021-12-28| 10.46037646956201| 77037096829|180.74778494699612|\n",
       "|  11958|    2021-12-28| 10.46037646956201| 75664480997| 763.0327605057961|\n",
       "|  11958|    2021-12-28| 10.46037646956201| 93558142492| 529.4419660472563|\n",
       "|  11958|    2021-11-26|13.539138238106881| 45559085309| 48.28926680799455|\n",
       "|  11958|    2021-11-26|13.539138238106881| 90692244747| 189.7765381860137|\n",
       "|  11958|    2021-11-26|13.539138238106881| 40776514177|2441.6646776314105|\n",
       "|  11958|    2021-11-26|13.539138238106881| 76314317957|159.00242716710244|\n",
       "|  11958|    2021-11-26|13.539138238106881| 49891706470|29.409170495239902|\n",
       "|  11958|    2021-11-26|13.539138238106881| 21615741041| 256.1346068641183|\n",
       "|  11958|    2021-11-26|13.539138238106881| 86578477987| 35.59146866466809|\n",
       "|  11958|    2021-11-26|13.539138238106881| 13285958344|14.606623503251372|\n",
       "|  11958|    2021-11-26|13.539138238106881| 67400260923| 96.94182735381395|\n",
       "|  11958|    2021-11-26|13.539138238106881| 11439466003|27.771828187732925|\n",
       "|  11958|    2021-11-26|13.539138238106881| 11237511112|117.87933764060463|\n",
       "|  11958|    2021-07-26| 10.80596570487185| 32234779638|122.39130314047073|\n",
       "|  11958|    2021-07-26| 10.80596570487185| 70754621933| 4570.789526571966|\n",
       "|  11958|    2021-07-26| 10.80596570487185| 96178360210| 761.3342969522178|\n",
       "+-------+--------------+------------------+------------+------------------+"
      ]
     },
     "execution_count": 73,
     "metadata": {},
     "output_type": "execute_result"
    }
   ],
   "source": [
    "fraud_data.where(F.col('user_id') == 11958)"
   ]
  },
  {
   "cell_type": "code",
   "execution_count": 74,
   "metadata": {},
   "outputs": [
    {
     "name": "stderr",
     "output_type": "stream",
     "text": [
      "                                                                                \r"
     ]
    },
    {
     "data": {
      "text/html": [
       "<table border='1'>\n",
       "<tr><th>user_id</th><th>order_datetime</th><th>fraud_probability</th><th>merchant_abn</th><th>dollar_value</th></tr>\n",
       "<tr><td>11002</td><td>2021-06-18</td><td>26.61514467781595</td><td>63248668429</td><td>16061.420812765555</td></tr>\n",
       "<tr><td>11002</td><td>2021-06-18</td><td>26.61514467781595</td><td>22027671078</td><td>284.0647880128037</td></tr>\n",
       "</table>\n"
      ],
      "text/plain": [
       "+-------+--------------+-----------------+------------+------------------+\n",
       "|user_id|order_datetime|fraud_probability|merchant_abn|      dollar_value|\n",
       "+-------+--------------+-----------------+------------+------------------+\n",
       "|  11002|    2021-06-18|26.61514467781595| 63248668429|16061.420812765555|\n",
       "|  11002|    2021-06-18|26.61514467781595| 22027671078| 284.0647880128037|\n",
       "+-------+--------------+-----------------+------------+------------------+"
      ]
     },
     "execution_count": 74,
     "metadata": {},
     "output_type": "execute_result"
    }
   ],
   "source": [
    "fraud_data.where(F.col('user_id') == 11002)"
   ]
  },
  {
   "cell_type": "markdown",
   "metadata": {},
   "source": [
    "### Purhcase frequency of 10"
   ]
  },
  {
   "cell_type": "code",
   "execution_count": 75,
   "metadata": {},
   "outputs": [
    {
     "name": "stderr",
     "output_type": "stream",
     "text": [
      "                                                                                \r"
     ]
    },
    {
     "data": {
      "text/html": [
       "<table border='1'>\n",
       "<tr><th>user_id</th><th>order_datetime</th><th>count(user_id)</th></tr>\n",
       "<tr><td>8154</td><td>2021-11-26</td><td>10</td></tr>\n",
       "<tr><td>13985</td><td>2021-11-27</td><td>10</td></tr>\n",
       "<tr><td>6629</td><td>2021-11-26</td><td>10</td></tr>\n",
       "<tr><td>3129</td><td>2021-11-30</td><td>10</td></tr>\n",
       "<tr><td>7760</td><td>2021-11-29</td><td>10</td></tr>\n",
       "<tr><td>10904</td><td>2021-11-26</td><td>10</td></tr>\n",
       "<tr><td>6376</td><td>2021-11-29</td><td>10</td></tr>\n",
       "<tr><td>22439</td><td>2022-10-22</td><td>10</td></tr>\n",
       "<tr><td>23137</td><td>2021-11-26</td><td>10</td></tr>\n",
       "<tr><td>23638</td><td>2021-11-26</td><td>10</td></tr>\n",
       "<tr><td>14261</td><td>2021-11-27</td><td>10</td></tr>\n",
       "<tr><td>6671</td><td>2021-11-29</td><td>10</td></tr>\n",
       "<tr><td>2747</td><td>2021-11-27</td><td>10</td></tr>\n",
       "<tr><td>6594</td><td>2021-11-28</td><td>10</td></tr>\n",
       "<tr><td>1537</td><td>2021-11-29</td><td>10</td></tr>\n",
       "<tr><td>1048</td><td>2021-11-26</td><td>10</td></tr>\n",
       "<tr><td>10137</td><td>2021-11-29</td><td>10</td></tr>\n",
       "<tr><td>10490</td><td>2021-11-27</td><td>10</td></tr>\n",
       "</table>\n"
      ],
      "text/plain": [
       "+-------+--------------+--------------+\n",
       "|user_id|order_datetime|count(user_id)|\n",
       "+-------+--------------+--------------+\n",
       "|   8154|    2021-11-26|            10|\n",
       "|  13985|    2021-11-27|            10|\n",
       "|   6629|    2021-11-26|            10|\n",
       "|   3129|    2021-11-30|            10|\n",
       "|   7760|    2021-11-29|            10|\n",
       "|  10904|    2021-11-26|            10|\n",
       "|   6376|    2021-11-29|            10|\n",
       "|  22439|    2022-10-22|            10|\n",
       "|  23137|    2021-11-26|            10|\n",
       "|  23638|    2021-11-26|            10|\n",
       "|  14261|    2021-11-27|            10|\n",
       "|   6671|    2021-11-29|            10|\n",
       "|   2747|    2021-11-27|            10|\n",
       "|   6594|    2021-11-28|            10|\n",
       "|   1537|    2021-11-29|            10|\n",
       "|   1048|    2021-11-26|            10|\n",
       "|  10137|    2021-11-29|            10|\n",
       "|  10490|    2021-11-27|            10|\n",
       "+-------+--------------+--------------+"
      ]
     },
     "execution_count": 75,
     "metadata": {},
     "output_type": "execute_result"
    }
   ],
   "source": [
    "user_purchase.where(F.col('count(user_id)') == 10)"
   ]
  },
  {
   "cell_type": "code",
   "execution_count": 76,
   "metadata": {},
   "outputs": [
    {
     "name": "stderr",
     "output_type": "stream",
     "text": [
      "                                                                                \r"
     ]
    },
    {
     "data": {
      "text/html": [
       "<table border='1'>\n",
       "<tr><th>user_id</th><th>order_datetime</th><th>fraud_probability</th><th>merchant_abn</th><th>dollar_value</th></tr>\n",
       "<tr><td>8154</td><td>2021-11-24</td><td>12.299875186818257</td><td>50913027463</td><td>3778.8386014332577</td></tr>\n",
       "</table>\n"
      ],
      "text/plain": [
       "+-------+--------------+------------------+------------+------------------+\n",
       "|user_id|order_datetime| fraud_probability|merchant_abn|      dollar_value|\n",
       "+-------+--------------+------------------+------------+------------------+\n",
       "|   8154|    2021-11-24|12.299875186818257| 50913027463|3778.8386014332577|\n",
       "+-------+--------------+------------------+------------+------------------+"
      ]
     },
     "execution_count": 76,
     "metadata": {},
     "output_type": "execute_result"
    }
   ],
   "source": [
    "fraud_data.where(F.col('user_id') == 8154)"
   ]
  },
  {
   "cell_type": "code",
   "execution_count": 77,
   "metadata": {},
   "outputs": [
    {
     "name": "stderr",
     "output_type": "stream",
     "text": [
      "                                                                                \r"
     ]
    },
    {
     "data": {
      "text/html": [
       "<table border='1'>\n",
       "<tr><th>user_id</th><th>order_datetime</th><th>fraud_probability</th><th>merchant_abn</th><th>dollar_value</th></tr>\n",
       "<tr><td>13985</td><td>2021-03-16</td><td>19.385484342587592</td><td>44345785419</td><td>12272.241157945278</td></tr>\n",
       "<tr><td>13985</td><td>2021-03-16</td><td>19.385484342587592</td><td>45629217853</td><td>1.2660486092350531</td></tr>\n",
       "<tr><td>13985</td><td>2021-08-28</td><td>8.858905983923913</td><td>29521780474</td><td>53.48708461298834</td></tr>\n",
       "<tr><td>13985</td><td>2021-08-28</td><td>8.858905983923913</td><td>14939466370</td><td>110.8907650771532</td></tr>\n",
       "<tr><td>13985</td><td>2021-08-28</td><td>8.858905983923913</td><td>76078244980</td><td>2640.036126106496</td></tr>\n",
       "<tr><td>13985</td><td>2021-10-12</td><td>9.924680306154238</td><td>96781066746</td><td>2879.9427384355076</td></tr>\n",
       "<tr><td>13985</td><td>2021-10-12</td><td>9.924680306154238</td><td>39368471973</td><td>261.8574123280791</td></tr>\n",
       "</table>\n"
      ],
      "text/plain": [
       "+-------+--------------+------------------+------------+------------------+\n",
       "|user_id|order_datetime| fraud_probability|merchant_abn|      dollar_value|\n",
       "+-------+--------------+------------------+------------+------------------+\n",
       "|  13985|    2021-03-16|19.385484342587592| 44345785419|12272.241157945278|\n",
       "|  13985|    2021-03-16|19.385484342587592| 45629217853|1.2660486092350531|\n",
       "|  13985|    2021-08-28| 8.858905983923913| 29521780474| 53.48708461298834|\n",
       "|  13985|    2021-08-28| 8.858905983923913| 14939466370| 110.8907650771532|\n",
       "|  13985|    2021-08-28| 8.858905983923913| 76078244980| 2640.036126106496|\n",
       "|  13985|    2021-10-12| 9.924680306154238| 96781066746|2879.9427384355076|\n",
       "|  13985|    2021-10-12| 9.924680306154238| 39368471973| 261.8574123280791|\n",
       "+-------+--------------+------------------+------------+------------------+"
      ]
     },
     "execution_count": 77,
     "metadata": {},
     "output_type": "execute_result"
    }
   ],
   "source": [
    "fraud_data.where(F.col('user_id') == 13985)"
   ]
  },
  {
   "cell_type": "code",
   "execution_count": 78,
   "metadata": {},
   "outputs": [
    {
     "name": "stderr",
     "output_type": "stream",
     "text": [
      "                                                                                \r"
     ]
    },
    {
     "data": {
      "text/html": [
       "<table border='1'>\n",
       "<tr><th>user_id</th><th>order_datetime</th><th>fraud_probability</th><th>merchant_abn</th><th>dollar_value</th></tr>\n",
       "<tr><td>6629</td><td>2021-11-16</td><td>9.787518625637492</td><td>91873181182</td><td>59.30772310737456</td></tr>\n",
       "<tr><td>6629</td><td>2021-11-16</td><td>9.787518625637492</td><td>17208085375</td><td>2524.968127586685</td></tr>\n",
       "</table>\n"
      ],
      "text/plain": [
       "+-------+--------------+-----------------+------------+-----------------+\n",
       "|user_id|order_datetime|fraud_probability|merchant_abn|     dollar_value|\n",
       "+-------+--------------+-----------------+------------+-----------------+\n",
       "|   6629|    2021-11-16|9.787518625637492| 91873181182|59.30772310737456|\n",
       "|   6629|    2021-11-16|9.787518625637492| 17208085375|2524.968127586685|\n",
       "+-------+--------------+-----------------+------------+-----------------+"
      ]
     },
     "execution_count": 78,
     "metadata": {},
     "output_type": "execute_result"
    }
   ],
   "source": [
    "fraud_data.where(F.col('user_id') == 6629)"
   ]
  },
  {
   "cell_type": "code",
   "execution_count": 79,
   "metadata": {},
   "outputs": [
    {
     "name": "stderr",
     "output_type": "stream",
     "text": [
      "                                                                                \r"
     ]
    },
    {
     "data": {
      "text/html": [
       "<table border='1'>\n",
       "<tr><th>user_id</th><th>order_datetime</th><th>fraud_probability</th><th>merchant_abn</th><th>dollar_value</th></tr>\n",
       "<tr><td>3129</td><td>2021-06-18</td><td>38.711053902453386</td><td>94609427687</td><td>24.237540392529773</td></tr>\n",
       "<tr><td>3129</td><td>2021-06-18</td><td>38.711053902453386</td><td>19492220327</td><td>26359.935695654203</td></tr>\n",
       "<tr><td>3129</td><td>2021-06-18</td><td>38.711053902453386</td><td>73804469952</td><td>53.419217647013696</td></tr>\n",
       "<tr><td>3129</td><td>2021-06-18</td><td>38.711053902453386</td><td>85574524327</td><td>839.8062242376436</td></tr>\n",
       "</table>\n"
      ],
      "text/plain": [
       "+-------+--------------+------------------+------------+------------------+\n",
       "|user_id|order_datetime| fraud_probability|merchant_abn|      dollar_value|\n",
       "+-------+--------------+------------------+------------+------------------+\n",
       "|   3129|    2021-06-18|38.711053902453386| 94609427687|24.237540392529773|\n",
       "|   3129|    2021-06-18|38.711053902453386| 19492220327|26359.935695654203|\n",
       "|   3129|    2021-06-18|38.711053902453386| 73804469952|53.419217647013696|\n",
       "|   3129|    2021-06-18|38.711053902453386| 85574524327| 839.8062242376436|\n",
       "+-------+--------------+------------------+------------+------------------+"
      ]
     },
     "execution_count": 79,
     "metadata": {},
     "output_type": "execute_result"
    }
   ],
   "source": [
    "fraud_data.where(F.col('user_id') == 3129)"
   ]
  },
  {
   "cell_type": "code",
   "execution_count": 80,
   "metadata": {},
   "outputs": [
    {
     "name": "stderr",
     "output_type": "stream",
     "text": [
      "                                                                                \r"
     ]
    },
    {
     "data": {
      "text/html": [
       "<table border='1'>\n",
       "<tr><th>user_id</th><th>order_datetime</th><th>fraud_probability</th><th>merchant_abn</th><th>dollar_value</th></tr>\n",
       "<tr><td>7760</td><td>2021-05-30</td><td>10.287848217893623</td><td>10553813474</td><td>685.6180985215592</td></tr>\n",
       "<tr><td>7760</td><td>2021-05-30</td><td>10.287848217893623</td><td>79417999332</td><td>49.68157686030487</td></tr>\n",
       "<tr><td>7760</td><td>2021-05-30</td><td>10.287848217893623</td><td>59258669983</td><td>6364.953187356746</td></tr>\n",
       "<tr><td>7760</td><td>2021-08-05</td><td>11.337519569164382</td><td>28767881738</td><td>7640.509350931848</td></tr>\n",
       "<tr><td>7760</td><td>2021-08-05</td><td>11.337519569164382</td><td>14583462783</td><td>184.1838280851497</td></tr>\n",
       "<tr><td>7760</td><td>2021-09-10</td><td>15.472977886116244</td><td>49505931725</td><td>233.49968388633187</td></tr>\n",
       "<tr><td>7760</td><td>2021-09-10</td><td>15.472977886116244</td><td>75892370170</td><td>4774.759565278814</td></tr>\n",
       "<tr><td>7760</td><td>2021-09-10</td><td>15.472977886116244</td><td>24471518053</td><td>182.50986897704533</td></tr>\n",
       "<tr><td>7760</td><td>2021-09-10</td><td>15.472977886116244</td><td>99022808555</td><td>148.63972635773575</td></tr>\n",
       "</table>\n"
      ],
      "text/plain": [
       "+-------+--------------+------------------+------------+------------------+\n",
       "|user_id|order_datetime| fraud_probability|merchant_abn|      dollar_value|\n",
       "+-------+--------------+------------------+------------+------------------+\n",
       "|   7760|    2021-05-30|10.287848217893623| 10553813474| 685.6180985215592|\n",
       "|   7760|    2021-05-30|10.287848217893623| 79417999332| 49.68157686030487|\n",
       "|   7760|    2021-05-30|10.287848217893623| 59258669983| 6364.953187356746|\n",
       "|   7760|    2021-08-05|11.337519569164382| 28767881738| 7640.509350931848|\n",
       "|   7760|    2021-08-05|11.337519569164382| 14583462783| 184.1838280851497|\n",
       "|   7760|    2021-09-10|15.472977886116244| 49505931725|233.49968388633187|\n",
       "|   7760|    2021-09-10|15.472977886116244| 75892370170| 4774.759565278814|\n",
       "|   7760|    2021-09-10|15.472977886116244| 24471518053|182.50986897704533|\n",
       "|   7760|    2021-09-10|15.472977886116244| 99022808555|148.63972635773575|\n",
       "+-------+--------------+------------------+------------+------------------+"
      ]
     },
     "execution_count": 80,
     "metadata": {},
     "output_type": "execute_result"
    }
   ],
   "source": [
    "fraud_data.where(F.col('user_id') == 7760)"
   ]
  },
  {
   "cell_type": "code",
   "execution_count": 81,
   "metadata": {},
   "outputs": [
    {
     "name": "stderr",
     "output_type": "stream",
     "text": [
      "                                                                                \r"
     ]
    },
    {
     "data": {
      "text/html": [
       "<table border='1'>\n",
       "<tr><th>user_id</th><th>order_datetime</th><th>fraud_probability</th><th>merchant_abn</th><th>dollar_value</th></tr>\n",
       "<tr><td>10904</td><td>2021-11-26</td><td>9.18446165409599</td><td>69108448846</td><td>501.6658704429282</td></tr>\n",
       "<tr><td>10904</td><td>2021-11-26</td><td>9.18446165409599</td><td>64403598239</td><td>83.56050775803784</td></tr>\n",
       "<tr><td>10904</td><td>2021-11-26</td><td>9.18446165409599</td><td>44631836704</td><td>165.05357225929762</td></tr>\n",
       "<tr><td>10904</td><td>2021-11-26</td><td>9.18446165409599</td><td>13118172970</td><td>95.88121771628131</td></tr>\n",
       "<tr><td>10904</td><td>2021-11-26</td><td>9.18446165409599</td><td>88553358884</td><td>264.2523935932471</td></tr>\n",
       "<tr><td>10904</td><td>2021-11-26</td><td>9.18446165409599</td><td>58321530622</td><td>339.49161015530603</td></tr>\n",
       "<tr><td>10904</td><td>2021-11-26</td><td>9.18446165409599</td><td>92980848589</td><td>349.62560768274557</td></tr>\n",
       "<tr><td>10904</td><td>2021-11-26</td><td>9.18446165409599</td><td>76323008415</td><td>943.1939680723254</td></tr>\n",
       "<tr><td>10904</td><td>2021-11-26</td><td>9.18446165409599</td><td>15903176024</td><td>237.43521264660149</td></tr>\n",
       "<tr><td>10904</td><td>2021-11-26</td><td>9.18446165409599</td><td>24852446429</td><td>18.136592883487193</td></tr>\n",
       "<tr><td>10904</td><td>2021-09-25</td><td>21.61525142201922</td><td>35713332328</td><td>200.8915785019266</td></tr>\n",
       "<tr><td>10904</td><td>2021-09-25</td><td>21.61525142201922</td><td>93260930990</td><td>6855.4756073211565</td></tr>\n",
       "</table>\n"
      ],
      "text/plain": [
       "+-------+--------------+-----------------+------------+------------------+\n",
       "|user_id|order_datetime|fraud_probability|merchant_abn|      dollar_value|\n",
       "+-------+--------------+-----------------+------------+------------------+\n",
       "|  10904|    2021-11-26| 9.18446165409599| 69108448846| 501.6658704429282|\n",
       "|  10904|    2021-11-26| 9.18446165409599| 64403598239| 83.56050775803784|\n",
       "|  10904|    2021-11-26| 9.18446165409599| 44631836704|165.05357225929762|\n",
       "|  10904|    2021-11-26| 9.18446165409599| 13118172970| 95.88121771628131|\n",
       "|  10904|    2021-11-26| 9.18446165409599| 88553358884| 264.2523935932471|\n",
       "|  10904|    2021-11-26| 9.18446165409599| 58321530622|339.49161015530603|\n",
       "|  10904|    2021-11-26| 9.18446165409599| 92980848589|349.62560768274557|\n",
       "|  10904|    2021-11-26| 9.18446165409599| 76323008415| 943.1939680723254|\n",
       "|  10904|    2021-11-26| 9.18446165409599| 15903176024|237.43521264660149|\n",
       "|  10904|    2021-11-26| 9.18446165409599| 24852446429|18.136592883487193|\n",
       "|  10904|    2021-09-25|21.61525142201922| 35713332328| 200.8915785019266|\n",
       "|  10904|    2021-09-25|21.61525142201922| 93260930990|6855.4756073211565|\n",
       "+-------+--------------+-----------------+------------+------------------+"
      ]
     },
     "execution_count": 81,
     "metadata": {},
     "output_type": "execute_result"
    }
   ],
   "source": [
    "fraud_data.where(F.col('user_id') == 10904)"
   ]
  },
  {
   "cell_type": "code",
   "execution_count": 82,
   "metadata": {},
   "outputs": [
    {
     "name": "stderr",
     "output_type": "stream",
     "text": [
      "[Stage 5173:(21 + 5) / 26][Stage 5174:> (0 + 1) / 1][Stage 5175:>(0 + 2) / 26]1]\r"
     ]
    },
    {
     "data": {
      "text/html": [
       "<table border='1'>\n",
       "<tr><th>user_id</th><th>order_datetime</th><th>fraud_probability</th><th>merchant_abn</th><th>dollar_value</th></tr>\n",
       "</table>\n"
      ],
      "text/plain": [
       "+-------+--------------+-----------------+------------+------------+\n",
       "|user_id|order_datetime|fraud_probability|merchant_abn|dollar_value|\n",
       "+-------+--------------+-----------------+------------+------------+\n",
       "+-------+--------------+-----------------+------------+------------+"
      ]
     },
     "execution_count": 82,
     "metadata": {},
     "output_type": "execute_result"
    }
   ],
   "source": [
    "fraud_data.where(F.col('user_id') == 6376)"
   ]
  },
  {
   "cell_type": "code",
   "execution_count": 83,
   "metadata": {},
   "outputs": [
    {
     "name": "stderr",
     "output_type": "stream",
     "text": [
      "                                                                                \r"
     ]
    },
    {
     "data": {
      "text/html": [
       "<table border='1'>\n",
       "<tr><th>user_id</th><th>order_datetime</th><th>fraud_probability</th><th>merchant_abn</th><th>dollar_value</th></tr>\n",
       "<tr><td>22439</td><td>2022-01-01</td><td>14.500993608550584</td><td>20269486864</td><td>4134.732540496104</td></tr>\n",
       "</table>\n"
      ],
      "text/plain": [
       "+-------+--------------+------------------+------------+-----------------+\n",
       "|user_id|order_datetime| fraud_probability|merchant_abn|     dollar_value|\n",
       "+-------+--------------+------------------+------------+-----------------+\n",
       "|  22439|    2022-01-01|14.500993608550584| 20269486864|4134.732540496104|\n",
       "+-------+--------------+------------------+------------+-----------------+"
      ]
     },
     "execution_count": 83,
     "metadata": {},
     "output_type": "execute_result"
    }
   ],
   "source": [
    "fraud_data.where(F.col('user_id') == 22439)"
   ]
  },
  {
   "cell_type": "code",
   "execution_count": 84,
   "metadata": {},
   "outputs": [
    {
     "name": "stderr",
     "output_type": "stream",
     "text": [
      "                                                                                \r"
     ]
    },
    {
     "data": {
      "text/html": [
       "<table border='1'>\n",
       "<tr><th>user_id</th><th>order_datetime</th><th>fraud_probability</th><th>merchant_abn</th><th>dollar_value</th></tr>\n",
       "<tr><td>23137</td><td>2021-11-26</td><td>17.178119061117922</td><td>96146457679</td><td>23.493416071205736</td></tr>\n",
       "<tr><td>23137</td><td>2021-11-26</td><td>17.178119061117922</td><td>17324645993</td><td>0.9948614582795873</td></tr>\n",
       "<tr><td>23137</td><td>2021-11-26</td><td>17.178119061117922</td><td>68483735536</td><td>14.682537928742864</td></tr>\n",
       "<tr><td>23137</td><td>2021-11-26</td><td>17.178119061117922</td><td>10023283211</td><td>732.5092004890014</td></tr>\n",
       "<tr><td>23137</td><td>2021-11-26</td><td>17.178119061117922</td><td>46331355995</td><td>958.1369389868084</td></tr>\n",
       "<tr><td>23137</td><td>2021-11-26</td><td>17.178119061117922</td><td>28057731482</td><td>1140.9930568533246</td></tr>\n",
       "<tr><td>23137</td><td>2021-11-26</td><td>17.178119061117922</td><td>55955609006</td><td>115.80250995180677</td></tr>\n",
       "<tr><td>23137</td><td>2021-11-26</td><td>17.178119061117922</td><td>33412969398</td><td>1062.5037754705343</td></tr>\n",
       "<tr><td>23137</td><td>2021-11-26</td><td>17.178119061117922</td><td>11240426404</td><td>242.0153423853247</td></tr>\n",
       "<tr><td>23137</td><td>2021-11-26</td><td>17.178119061117922</td><td>76626119831</td><td>124.39398050461146</td></tr>\n",
       "</table>\n"
      ],
      "text/plain": [
       "+-------+--------------+------------------+------------+------------------+\n",
       "|user_id|order_datetime| fraud_probability|merchant_abn|      dollar_value|\n",
       "+-------+--------------+------------------+------------+------------------+\n",
       "|  23137|    2021-11-26|17.178119061117922| 96146457679|23.493416071205736|\n",
       "|  23137|    2021-11-26|17.178119061117922| 17324645993|0.9948614582795873|\n",
       "|  23137|    2021-11-26|17.178119061117922| 68483735536|14.682537928742864|\n",
       "|  23137|    2021-11-26|17.178119061117922| 10023283211| 732.5092004890014|\n",
       "|  23137|    2021-11-26|17.178119061117922| 46331355995| 958.1369389868084|\n",
       "|  23137|    2021-11-26|17.178119061117922| 28057731482|1140.9930568533246|\n",
       "|  23137|    2021-11-26|17.178119061117922| 55955609006|115.80250995180677|\n",
       "|  23137|    2021-11-26|17.178119061117922| 33412969398|1062.5037754705343|\n",
       "|  23137|    2021-11-26|17.178119061117922| 11240426404| 242.0153423853247|\n",
       "|  23137|    2021-11-26|17.178119061117922| 76626119831|124.39398050461146|\n",
       "+-------+--------------+------------------+------------+------------------+"
      ]
     },
     "execution_count": 84,
     "metadata": {},
     "output_type": "execute_result"
    }
   ],
   "source": [
    "fraud_data.where(F.col('user_id') == 23137)"
   ]
  },
  {
   "cell_type": "code",
   "execution_count": 85,
   "metadata": {},
   "outputs": [
    {
     "name": "stderr",
     "output_type": "stream",
     "text": [
      "                                                                                \r"
     ]
    },
    {
     "data": {
      "text/html": [
       "<table border='1'>\n",
       "<tr><th>user_id</th><th>order_datetime</th><th>fraud_probability</th><th>merchant_abn</th><th>dollar_value</th></tr>\n",
       "<tr><td>23638</td><td>2021-12-05</td><td>12.445232870455428</td><td>35911782646</td><td>2851.0736441583886</td></tr>\n",
       "<tr><td>23638</td><td>2021-12-05</td><td>12.445232870455428</td><td>89518629617</td><td>17.04000551694936</td></tr>\n",
       "</table>\n"
      ],
      "text/plain": [
       "+-------+--------------+------------------+------------+------------------+\n",
       "|user_id|order_datetime| fraud_probability|merchant_abn|      dollar_value|\n",
       "+-------+--------------+------------------+------------+------------------+\n",
       "|  23638|    2021-12-05|12.445232870455428| 35911782646|2851.0736441583886|\n",
       "|  23638|    2021-12-05|12.445232870455428| 89518629617| 17.04000551694936|\n",
       "+-------+--------------+------------------+------------+------------------+"
      ]
     },
     "execution_count": 85,
     "metadata": {},
     "output_type": "execute_result"
    }
   ],
   "source": [
    "fraud_data.where(F.col('user_id') == 23638)"
   ]
  },
  {
   "cell_type": "markdown",
   "metadata": {},
   "source": [
    "As we can see, the probability of fraud for multiple purchases in the same day doesn't seem to be very high. Thus, it would be enough to check for high dollar values in purhcases from a given distribution for any given customer rather than checking for frequency of purchases.\n",
    "\n",
    "As mentioned previously, this may be attributed to customers having random spikes in their purchases due to the nature of the day - boxing day, black friday and many more days where a high purchase frequency would be reasonable. Thus, it should be safe to ignore this as a factor as fraud."
   ]
  },
  {
   "cell_type": "code",
   "execution_count": 19,
   "metadata": {},
   "outputs": [],
   "source": [
    "import seaborn as sns\n",
    "import matplotlib.pyplot as plt"
   ]
  },
  {
   "cell_type": "code",
   "execution_count": 12,
   "metadata": {},
   "outputs": [],
   "source": [
    "x = fraud_data.select(F.col(\"dollar_value\"))\n",
    "y = fraud_data.select(F.col(\"fraud_probability\"))\n",
    "hist_data = fraud_data.select(F.col('dollar_value'), F.col('fraud_probability'))"
   ]
  },
  {
   "cell_type": "code",
   "execution_count": 13,
   "metadata": {},
   "outputs": [
    {
     "name": "stderr",
     "output_type": "stream",
     "text": [
      "                                                                                \r"
     ]
    }
   ],
   "source": [
    "hist_df = hist_data.toPandas()\n",
    "x_list = x.toPandas()['dollar_value'].values.tolist()\n",
    "y_list = y.toPandas()['fraud_probability'].values.tolist()"
   ]
  },
  {
   "cell_type": "code",
   "execution_count": 15,
   "metadata": {},
   "outputs": [],
   "source": [
    "hist_df.dropna(inplace=True)"
   ]
  },
  {
   "cell_type": "code",
   "execution_count": 32,
   "metadata": {},
   "outputs": [
    {
     "data": {
      "text/plain": [
       "(1.0, 10000.0)"
      ]
     },
     "execution_count": 32,
     "metadata": {},
     "output_type": "execute_result"
    },
    {
     "data": {
      "image/png": "[encoded data removed]",
      "text/plain": [
       "<Figure size 432x288 with 1 Axes>"
      ]
     },
     "metadata": {
      "needs_background": "light"
     },
     "output_type": "display_data"
    }
   ],
   "source": [
    "fig = sns.histplot(hist_df.dollar_value)\n",
    "\n",
    "fig.set_xlim(1, 10000) # We set limit since the majority of our dollar values are less than $10000"
   ]
  },
  {
   "cell_type": "markdown",
   "metadata": {},
   "source": [
    "There doesn't seem to be a relationship between higher dollar value and fraud probability."
   ]
  },
  {
   "cell_type": "code",
   "execution_count": 25,
   "metadata": {},
   "outputs": [
    {
     "name": "stderr",
     "output_type": "stream",
     "text": [
      "                                                                                \r"
     ]
    },
    {
     "data": {
      "text/html": [
       "<table border='1'>\n",
       "<tr><th>user_id</th><th>order_datetime</th><th>fraud_probability</th><th>merchant_abn</th><th>dollar_value</th></tr>\n",
       "<tr><td>8347</td><td>2021-10-06</td><td>92.99138306039121</td><td>73972053940</td><td>13.807156691382522</td></tr>\n",
       "<tr><td>8347</td><td>2021-10-06</td><td>92.99138306039121</td><td>23686790459</td><td>40317.45505936584</td></tr>\n",
       "<tr><td>8347</td><td>2021-10-06</td><td>92.99138306039121</td><td>73972053940</td><td>13.807156691382522</td></tr>\n",
       "<tr><td>8347</td><td>2021-10-06</td><td>92.99138306039121</td><td>23686790459</td><td>40317.45505936584</td></tr>\n",
       "<tr><td>22239</td><td>2021-10-19</td><td>94.70342477508035</td><td>67264251405</td><td>51876.637563877644</td></tr>\n",
       "<tr><td>22239</td><td>2021-10-19</td><td>94.70342477508035</td><td>67264251405</td><td>51876.637563877644</td></tr>\n",
       "<tr><td>3101</td><td>2021-04-17</td><td>91.42192091901347</td><td>91880575299</td><td>105193.88578925544</td></tr>\n",
       "<tr><td>6228</td><td>2021-12-19</td><td>97.6298077657765</td><td>49549583265</td><td>1682.693398737649</td></tr>\n",
       "<tr><td>6228</td><td>2021-12-19</td><td>97.6298077657765</td><td>82999039227</td><td>77320.86980270348</td></tr>\n",
       "<tr><td>6228</td><td>2021-12-19</td><td>97.6298077657765</td><td>21025433654</td><td>2.7444223963251986</td></tr>\n",
       "<tr><td>6228</td><td>2021-12-19</td><td>97.6298077657765</td><td>49549583265</td><td>1682.693398737649</td></tr>\n",
       "<tr><td>6228</td><td>2021-12-19</td><td>97.6298077657765</td><td>82999039227</td><td>77320.86980270348</td></tr>\n",
       "<tr><td>6228</td><td>2021-12-19</td><td>97.6298077657765</td><td>21025433654</td><td>2.7444223963251986</td></tr>\n",
       "<tr><td>17900</td><td>2022-02-25</td><td>92.73262811161372</td><td>11149063370</td><td>42797.34835914282</td></tr>\n",
       "<tr><td>17900</td><td>2022-02-25</td><td>92.73262811161372</td><td>11149063370</td><td>42797.34835914282</td></tr>\n",
       "<tr><td>21419</td><td>2021-12-10</td><td>99.24738020302328</td><td>23686790459</td><td>67706.74019097649</td></tr>\n",
       "<tr><td>21419</td><td>2021-12-10</td><td>99.24738020302328</td><td>23686790459</td><td>67706.74019097649</td></tr>\n",
       "</table>\n"
      ],
      "text/plain": [
       "+-------+--------------+-----------------+------------+------------------+\n",
       "|user_id|order_datetime|fraud_probability|merchant_abn|      dollar_value|\n",
       "+-------+--------------+-----------------+------------+------------------+\n",
       "|   8347|    2021-10-06|92.99138306039121| 73972053940|13.807156691382522|\n",
       "|   8347|    2021-10-06|92.99138306039121| 23686790459| 40317.45505936584|\n",
       "|   8347|    2021-10-06|92.99138306039121| 73972053940|13.807156691382522|\n",
       "|   8347|    2021-10-06|92.99138306039121| 23686790459| 40317.45505936584|\n",
       "|  22239|    2021-10-19|94.70342477508035| 67264251405|51876.637563877644|\n",
       "|  22239|    2021-10-19|94.70342477508035| 67264251405|51876.637563877644|\n",
       "|   3101|    2021-04-17|91.42192091901347| 91880575299|105193.88578925544|\n",
       "|   6228|    2021-12-19| 97.6298077657765| 49549583265| 1682.693398737649|\n",
       "|   6228|    2021-12-19| 97.6298077657765| 82999039227| 77320.86980270348|\n",
       "|   6228|    2021-12-19| 97.6298077657765| 21025433654|2.7444223963251986|\n",
       "|   6228|    2021-12-19| 97.6298077657765| 49549583265| 1682.693398737649|\n",
       "|   6228|    2021-12-19| 97.6298077657765| 82999039227| 77320.86980270348|\n",
       "|   6228|    2021-12-19| 97.6298077657765| 21025433654|2.7444223963251986|\n",
       "|  17900|    2022-02-25|92.73262811161372| 11149063370| 42797.34835914282|\n",
       "|  17900|    2022-02-25|92.73262811161372| 11149063370| 42797.34835914282|\n",
       "|  21419|    2021-12-10|99.24738020302328| 23686790459| 67706.74019097649|\n",
       "|  21419|    2021-12-10|99.24738020302328| 23686790459| 67706.74019097649|\n",
       "+-------+--------------+-----------------+------------+------------------+"
      ]
     },
     "execution_count": 25,
     "metadata": {},
     "output_type": "execute_result"
    }
   ],
   "source": [
    "fraud_data.where(F.col(\"fraud_probability\") > 90)"
   ]
  },
  {
   "cell_type": "markdown",
   "metadata": {},
   "source": [
    "Given that we say that 70% fraud is considered high enough as the cutoff, we consider what is an 'extreme' value"
   ]
  },
  {
   "cell_type": "code",
   "execution_count": 34,
   "metadata": {},
   "outputs": [
    {
     "name": "stderr",
     "output_type": "stream",
     "text": [
      "                                                                                \r"
     ]
    },
    {
     "data": {
      "text/html": [
       "<table border='1'>\n",
       "<tr><th>user_id</th><th>order_datetime</th><th>fraud_probability</th><th>merchant_abn</th><th>dollar_value</th></tr>\n",
       "<tr><td>22982</td><td>2021-11-29</td><td>79.5097014466787</td><td>78118727544</td><td>29782.46283433956</td></tr>\n",
       "<tr><td>22982</td><td>2021-11-29</td><td>79.5097014466787</td><td>78118727544</td><td>29782.46283433956</td></tr>\n",
       "<tr><td>761</td><td>2021-11-27</td><td>74.15534349046963</td><td>88040874613</td><td>28660.98021408071</td></tr>\n",
       "<tr><td>11145</td><td>2021-11-30</td><td>74.43663883233376</td><td>79070032105</td><td>26164.71598795186</td></tr>\n",
       "<tr><td>4615</td><td>2021-12-10</td><td>71.1922274619567</td><td>29215623643</td><td>22970.60520814089</td></tr>\n",
       "<tr><td>24041</td><td>2021-12-15</td><td>74.8982837932529</td><td>69184324876</td><td>29918.278102471766</td></tr>\n",
       "<tr><td>1886</td><td>2021-11-13</td><td>72.44040131522998</td><td>31334588839</td><td>29174.929747379138</td></tr>\n",
       "<tr><td>20188</td><td>2021-12-28</td><td>71.29598863091222</td><td>13289167958</td><td>27662.657444808836</td></tr>\n",
       "<tr><td>17281</td><td>2021-10-28</td><td>75.83080516549336</td><td>35575706403</td><td>29852.89707035264</td></tr>\n",
       "<tr><td>6661</td><td>2021-09-02</td><td>71.7714810710456</td><td>97590358496</td><td>28378.248111680907</td></tr>\n",
       "<tr><td>17204</td><td>2022-02-26</td><td>71.64990307552216</td><td>46244515644</td><td>24100.618816768798</td></tr>\n",
       "<tr><td>18248</td><td>2022-02-26</td><td>74.66466138261414</td><td>54860127682</td><td>28481.099055066145</td></tr>\n",
       "<tr><td>13616</td><td>2022-01-22</td><td>73.73813062635178</td><td>97217894162</td><td>26985.44063369972</td></tr>\n",
       "</table>\n"
      ],
      "text/plain": [
       "+-------+--------------+-----------------+------------+------------------+\n",
       "|user_id|order_datetime|fraud_probability|merchant_abn|      dollar_value|\n",
       "+-------+--------------+-----------------+------------+------------------+\n",
       "|  22982|    2021-11-29| 79.5097014466787| 78118727544| 29782.46283433956|\n",
       "|  22982|    2021-11-29| 79.5097014466787| 78118727544| 29782.46283433956|\n",
       "|    761|    2021-11-27|74.15534349046963| 88040874613| 28660.98021408071|\n",
       "|  11145|    2021-11-30|74.43663883233376| 79070032105| 26164.71598795186|\n",
       "|   4615|    2021-12-10| 71.1922274619567| 29215623643| 22970.60520814089|\n",
       "|  24041|    2021-12-15| 74.8982837932529| 69184324876|29918.278102471766|\n",
       "|   1886|    2021-11-13|72.44040131522998| 31334588839|29174.929747379138|\n",
       "|  20188|    2021-12-28|71.29598863091222| 13289167958|27662.657444808836|\n",
       "|  17281|    2021-10-28|75.83080516549336| 35575706403| 29852.89707035264|\n",
       "|   6661|    2021-09-02| 71.7714810710456| 97590358496|28378.248111680907|\n",
       "|  17204|    2022-02-26|71.64990307552216| 46244515644|24100.618816768798|\n",
       "|  18248|    2022-02-26|74.66466138261414| 54860127682|28481.099055066145|\n",
       "|  13616|    2022-01-22|73.73813062635178| 97217894162| 26985.44063369972|\n",
       "+-------+--------------+-----------------+------------+------------------+"
      ]
     },
     "execution_count": 34,
     "metadata": {},
     "output_type": "execute_result"
    }
   ],
   "source": [
    "fraud_data.where((F.col(\"fraud_probability\") > 70) & (F.col(\"dollar_value\") > 20000) & (F.col(\"dollar_value\") < 30000))"
   ]
  },
  {
   "cell_type": "code",
   "execution_count": 33,
   "metadata": {},
   "outputs": [
    {
     "name": "stderr",
     "output_type": "stream",
     "text": [
      "                                                                                \r"
     ]
    },
    {
     "data": {
      "text/html": [
       "<table border='1'>\n",
       "<tr><th>user_id</th><th>order_datetime</th><th>fraud_probability</th><th>merchant_abn</th><th>dollar_value</th></tr>\n",
       "</table>\n"
      ],
      "text/plain": [
       "+-------+--------------+-----------------+------------+------------+\n",
       "|user_id|order_datetime|fraud_probability|merchant_abn|dollar_value|\n",
       "+-------+--------------+-----------------+------------+------------+\n",
       "+-------+--------------+-----------------+------------+------------+"
      ]
     },
     "execution_count": 33,
     "metadata": {},
     "output_type": "execute_result"
    }
   ],
   "source": [
    "fraud_data.where((F.col(\"fraud_probability\") > 70) & (F.col(\"dollar_value\") > 10000) & (F.col(\"dollar_value\") < 20000))"
   ]
  },
  {
   "cell_type": "markdown",
   "metadata": {},
   "source": [
    "It appears that there is nothing below $20000 in a single purchase that is considered more than 70% fraud, so we take $20000 as the lowest for visualisations"
   ]
  },
  {
   "cell_type": "code",
   "execution_count": 43,
   "metadata": {},
   "outputs": [],
   "source": [
    "i = 0\n",
    "x = []\n",
    "y = []\n",
    "\n",
    "while i < len(x_list):\n",
    "    if x_list[i] > 20000:\n",
    "        x.append(x_list.pop(i))\n",
    "        y.append(y_list.pop(i))\n",
    "\n",
    "    i += 1"
   ]
  },
  {
   "cell_type": "code",
   "execution_count": 46,
   "metadata": {},
   "outputs": [
    {
     "data": {
      "text/plain": [
       "Text(0, 0.5, 'Fraud probability')"
      ]
     },
     "execution_count": 46,
     "metadata": {},
     "output_type": "execute_result"
    },
    {
     "data": {
      "image/png": "[encoded data removed]",
      "text/plain": [
       "<Figure size 432x288 with 1 Axes>"
      ]
     },
     "metadata": {
      "needs_background": "light"
     },
     "output_type": "display_data"
    }
   ],
   "source": [
    "plt.scatter(x, y)\n",
    "plt.xlabel(\"Dollar value\")\n",
    "plt.ylabel(\"Fraud probability\")"
   ]
  },
  {
   "cell_type": "markdown",
   "metadata": {},
   "source": [
    "There doesn't seem to be much trend between dollar value spent and increasing probability however. We confirm that this is actually possible"
   ]
  },
  {
   "cell_type": "code",
   "execution_count": 47,
   "metadata": {},
   "outputs": [
    {
     "name": "stderr",
     "output_type": "stream",
     "text": [
      "                                                                                \r"
     ]
    },
    {
     "data": {
      "text/html": [
       "<table border='1'>\n",
       "<tr><th>user_id</th><th>order_datetime</th><th>fraud_probability</th><th>merchant_abn</th><th>dollar_value</th></tr>\n",
       "<tr><td>135</td><td>2021-08-21</td><td>30.69621736051136</td><td>58830373879</td><td>20634.537351094226</td></tr>\n",
       "<tr><td>4205</td><td>2021-08-21</td><td>35.858612553</td><td>72058040180</td><td>22149.60193906642</td></tr>\n",
       "<tr><td>18389</td><td>2021-08-21</td><td>49.30985454752586</td><td>58495294020</td><td>35039.06026078579</td></tr>\n",
       "<tr><td>12865</td><td>2021-08-19</td><td>35.081845582853106</td><td>67213521157</td><td>21808.25111679347</td></tr>\n",
       "<tr><td>11970</td><td>2021-08-22</td><td>39.318427277172255</td><td>82999039227</td><td>25667.009075814098</td></tr>\n",
       "<tr><td>1007</td><td>2021-08-14</td><td>42.146037814337866</td><td>79100970961</td><td>24856.843234929504</td></tr>\n",
       "<tr><td>8163</td><td>2021-08-14</td><td>36.55555808898818</td><td>29215623643</td><td>23374.807570058147</td></tr>\n",
       "<tr><td>11389</td><td>2021-08-14</td><td>26.63319050402645</td><td>64701685993</td><td>21103.889985406404</td></tr>\n",
       "<tr><td>12053</td><td>2021-08-14</td><td>38.61206521933114</td><td>31334588839</td><td>25448.89601968317</td></tr>\n",
       "<tr><td>11568</td><td>2021-08-16</td><td>41.35595994786046</td><td>11590404675</td><td>32972.12363252083</td></tr>\n",
       "<tr><td>13935</td><td>2021-08-16</td><td>19.58561684303681</td><td>11149063370</td><td>22407.079516504265</td></tr>\n",
       "<tr><td>5821</td><td>2021-08-27</td><td>67.15624565619812</td><td>82999039227</td><td>49329.66427128224</td></tr>\n",
       "<tr><td>9632</td><td>2021-08-27</td><td>42.169510468592904</td><td>69184324876</td><td>31614.835484143554</td></tr>\n",
       "<tr><td>13498</td><td>2021-08-27</td><td>41.96052027436091</td><td>19010030815</td><td>26644.419616626743</td></tr>\n",
       "<tr><td>8215</td><td>2021-08-13</td><td>41.04690699900036</td><td>23686790459</td><td>25539.548482510774</td></tr>\n",
       "<tr><td>7746</td><td>2021-07-23</td><td>38.700887079994494</td><td>63248668429</td><td>25846.45707696811</td></tr>\n",
       "<tr><td>10536</td><td>2021-07-23</td><td>50.86162907949458</td><td>39896168660</td><td>32751.72941148004</td></tr>\n",
       "<tr><td>15110</td><td>2021-05-21</td><td>66.45289563935754</td><td>11149063370</td><td>44013.84478981606</td></tr>\n",
       "<tr><td>8401</td><td>2021-07-30</td><td>33.228240305573514</td><td>32493270774</td><td>25924.2291137698</td></tr>\n",
       "<tr><td>14036</td><td>2021-06-30</td><td>43.91305947476534</td><td>75892370170</td><td>37974.40857915225</td></tr>\n",
       "</table>\n",
       "only showing top 20 rows\n"
      ],
      "text/plain": [
       "+-------+--------------+------------------+------------+------------------+\n",
       "|user_id|order_datetime| fraud_probability|merchant_abn|      dollar_value|\n",
       "+-------+--------------+------------------+------------+------------------+\n",
       "|    135|    2021-08-21| 30.69621736051136| 58830373879|20634.537351094226|\n",
       "|   4205|    2021-08-21|      35.858612553| 72058040180| 22149.60193906642|\n",
       "|  18389|    2021-08-21| 49.30985454752586| 58495294020| 35039.06026078579|\n",
       "|  12865|    2021-08-19|35.081845582853106| 67213521157| 21808.25111679347|\n",
       "|  11970|    2021-08-22|39.318427277172255| 82999039227|25667.009075814098|\n",
       "|   1007|    2021-08-14|42.146037814337866| 79100970961|24856.843234929504|\n",
       "|   8163|    2021-08-14| 36.55555808898818| 29215623643|23374.807570058147|\n",
       "|  11389|    2021-08-14| 26.63319050402645| 64701685993|21103.889985406404|\n",
       "|  12053|    2021-08-14| 38.61206521933114| 31334588839| 25448.89601968317|\n",
       "|  11568|    2021-08-16| 41.35595994786046| 11590404675| 32972.12363252083|\n",
       "|  13935|    2021-08-16| 19.58561684303681| 11149063370|22407.079516504265|\n",
       "|   5821|    2021-08-27| 67.15624565619812| 82999039227| 49329.66427128224|\n",
       "|   9632|    2021-08-27|42.169510468592904| 69184324876|31614.835484143554|\n",
       "|  13498|    2021-08-27| 41.96052027436091| 19010030815|26644.419616626743|\n",
       "|   8215|    2021-08-13| 41.04690699900036| 23686790459|25539.548482510774|\n",
       "|   7746|    2021-07-23|38.700887079994494| 63248668429| 25846.45707696811|\n",
       "|  10536|    2021-07-23| 50.86162907949458| 39896168660| 32751.72941148004|\n",
       "|  15110|    2021-05-21| 66.45289563935754| 11149063370| 44013.84478981606|\n",
       "|   8401|    2021-07-30|33.228240305573514| 32493270774|  25924.2291137698|\n",
       "|  14036|    2021-06-30| 43.91305947476534| 75892370170| 37974.40857915225|\n",
       "+-------+--------------+------------------+------------+------------------+\n",
       "only showing top 20 rows"
      ]
     },
     "execution_count": 47,
     "metadata": {},
     "output_type": "execute_result"
    }
   ],
   "source": [
    "fraud_data.where((F.col(\"fraud_probability\") < 70) & (F.col(\"dollar_value\") > 20000) )"
   ]
  },
  {
   "cell_type": "code",
   "execution_count": 48,
   "metadata": {},
   "outputs": [
    {
     "name": "stderr",
     "output_type": "stream",
     "text": [
      "                                                                                \r"
     ]
    },
    {
     "data": {
      "text/html": [
       "<table border='1'>\n",
       "<tr><th>user_id</th><th>order_datetime</th><th>fraud_probability</th><th>merchant_abn</th><th>dollar_value</th></tr>\n",
       "<tr><td>135</td><td>2021-08-21</td><td>30.69621736051136</td><td>52959528548</td><td>84.22049822506577</td></tr>\n",
       "<tr><td>135</td><td>2021-08-21</td><td>30.69621736051136</td><td>81219314324</td><td>42.81484805566927</td></tr>\n",
       "<tr><td>135</td><td>2021-08-21</td><td>30.69621736051136</td><td>58830373879</td><td>20634.537351094226</td></tr>\n",
       "<tr><td>135</td><td>2021-12-07</td><td>11.439527398948597</td><td>67978471888</td><td>464.36221884307724</td></tr>\n",
       "<tr><td>135</td><td>2021-12-07</td><td>11.439527398948597</td><td>15069598461</td><td>50.08283894640252</td></tr>\n",
       "<tr><td>135</td><td>2021-12-07</td><td>11.439527398948597</td><td>51479541036</td><td>3354.151794512186</td></tr>\n",
       "</table>\n"
      ],
      "text/plain": [
       "+-------+--------------+------------------+------------+------------------+\n",
       "|user_id|order_datetime| fraud_probability|merchant_abn|      dollar_value|\n",
       "+-------+--------------+------------------+------------+------------------+\n",
       "|    135|    2021-08-21| 30.69621736051136| 52959528548| 84.22049822506577|\n",
       "|    135|    2021-08-21| 30.69621736051136| 81219314324| 42.81484805566927|\n",
       "|    135|    2021-08-21| 30.69621736051136| 58830373879|20634.537351094226|\n",
       "|    135|    2021-12-07|11.439527398948597| 67978471888|464.36221884307724|\n",
       "|    135|    2021-12-07|11.439527398948597| 15069598461| 50.08283894640252|\n",
       "|    135|    2021-12-07|11.439527398948597| 51479541036| 3354.151794512186|\n",
       "+-------+--------------+------------------+------------+------------------+"
      ]
     },
     "execution_count": 48,
     "metadata": {},
     "output_type": "execute_result"
    }
   ],
   "source": [
    "fraud_data.where(F.col(\"user_id\") == 135)"
   ]
  },
  {
   "cell_type": "code",
   "execution_count": 49,
   "metadata": {},
   "outputs": [
    {
     "name": "stderr",
     "output_type": "stream",
     "text": [
      "                                                                                \r"
     ]
    },
    {
     "data": {
      "text/html": [
       "<table border='1'>\n",
       "<tr><th>avg(dollar_value)</th></tr>\n",
       "<tr><td>4105.028258279438</td></tr>\n",
       "</table>\n"
      ],
      "text/plain": [
       "+-----------------+\n",
       "|avg(dollar_value)|\n",
       "+-----------------+\n",
       "|4105.028258279438|\n",
       "+-----------------+"
      ]
     },
     "execution_count": 49,
     "metadata": {},
     "output_type": "execute_result"
    }
   ],
   "source": [
    "fraud_data.where(F.col(\"user_id\") == 135).select(F.mean(\"dollar_value\"))"
   ]
  },
  {
   "cell_type": "code",
   "execution_count": 50,
   "metadata": {},
   "outputs": [
    {
     "name": "stderr",
     "output_type": "stream",
     "text": [
      "                                                                                \r"
     ]
    },
    {
     "data": {
      "text/html": [
       "<table border='1'>\n",
       "<tr><th>stddev_samp(dollar_value)</th></tr>\n",
       "<tr><td>8199.438891915433</td></tr>\n",
       "</table>\n"
      ],
      "text/plain": [
       "+-------------------------+\n",
       "|stddev_samp(dollar_value)|\n",
       "+-------------------------+\n",
       "|        8199.438891915433|\n",
       "+-------------------------+"
      ]
     },
     "execution_count": 50,
     "metadata": {},
     "output_type": "execute_result"
    }
   ],
   "source": [
    "fraud_data.where(F.col(\"user_id\") == 135).select(F.stddev(\"dollar_value\"))"
   ]
  },
  {
   "cell_type": "code",
   "execution_count": 52,
   "metadata": {},
   "outputs": [
    {
     "data": {
      "text/plain": [
       "799.124"
      ]
     },
     "execution_count": 52,
     "metadata": {},
     "output_type": "execute_result"
    }
   ],
   "source": [
    "# Mean of user 135 without 'outlier'\n",
    "\n",
    "(84.22+42.81+464.36+50.08+3354.15)/5"
   ]
  },
  {
   "cell_type": "code",
   "execution_count": 54,
   "metadata": {},
   "outputs": [
    {
     "data": {
      "text/plain": [
       "1439.130840663906"
      ]
     },
     "execution_count": 54,
     "metadata": {},
     "output_type": "execute_result"
    }
   ],
   "source": [
    "# Stddev of user 135 without 'outlier'\n",
    "\n",
    "(((84.22-799.12)**2 + (42.81-799.12)**2 + (464.36-799.12)**2 + (50.08-799.12)**2 + (3354.15-799.12)**2)/4)**(1/2)"
   ]
  },
  {
   "cell_type": "markdown",
   "metadata": {},
   "source": [
    "As fraud probabilities did not appear to have strong relationships with other factors, we will not be modelling fraud probability. However, we will use the given fraud probabilities when weighting transactions."
   ]
  }
 ],
 "metadata": {
  "kernelspec": {
   "display_name": "Python 3.10.4 64-bit",
   "language": "python",
   "name": "python3"
  },
  "language_info": {
   "codemirror_mode": {
    "name": "ipython",
    "version": 3
   },
   "file_extension": ".py",
   "mimetype": "text/x-python",
   "name": "python",
   "nbconvert_exporter": "python",
   "pygments_lexer": "ipython3",
   "version": "3.10.4"
  },
  "orig_nbformat": 4,
  "vscode": {
   "interpreter": {
    "hash": "916dbcbb3f70747c44a77c7bcd40155683ae19c65e1c03b4aa3499c5328201f1"
   }
  }
 },
 "nbformat": 4,
 "nbformat_minor": 2
}
