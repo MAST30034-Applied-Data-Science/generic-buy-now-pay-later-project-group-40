{
 "cells": [
  {
   "cell_type": "code",
   "execution_count": 1,
   "metadata": {},
   "outputs": [
    {
     "name": "stdout",
     "output_type": "stream",
     "text": [
      "22/10/06 10:17:32 WARN Utils: Your hostname, adi-laptop resolves to a loopback address: 127.0.1.1; using 172.23.90.35 instead (on interface eth0)\n",
      "22/10/06 10:17:32 WARN Utils: Set SPARK_LOCAL_IP if you need to bind to another address\n"
     ]
    },
    {
     "name": "stderr",
     "output_type": "stream",
     "text": [
      "Setting default log level to \"WARN\".\n",
      "To adjust logging level use sc.setLogLevel(newLevel). For SparkR, use setLogLevel(newLevel).\n"
     ]
    },
    {
     "name": "stdout",
     "output_type": "stream",
     "text": [
      "22/10/06 10:17:34 WARN NativeCodeLoader: Unable to load native-hadoop library for your platform... using builtin-java classes where applicable\n"
     ]
    }
   ],
   "source": [
    "from pyspark.sql import SparkSession\n",
    "\n",
    "spark = (\n",
    "    SparkSession.builder.appName(\"MAST30034 Project 2\")\n",
    "    .config(\"spark.driver.memory\", '4g')\n",
    "    .config(\"spark.executor.memory\", '8g')\n",
    "    .config(\"spark.sql.session.timeZone\", \"Etc/UTC\")\n",
    "    .config(\"spark.sql.parquet.enableVectorizedReader\",\"false\")\n",
    "    .config(\"spark.sql.repl.eagerEval.enabled\", True) \n",
    "    .config(\"spark.sql.parquet.cacheMetadata\", \"true\")\n",
    "    .getOrCreate()\n",
    ")"
   ]
  },
  {
   "cell_type": "code",
   "execution_count": 2,
   "metadata": {},
   "outputs": [],
   "source": [
    "from pyspark.sql.functions import *\n",
    "from pyspark.sql import functions as F"
   ]
  },
  {
   "cell_type": "code",
   "execution_count": 3,
   "metadata": {},
   "outputs": [
    {
     "name": "stdout",
     "output_type": "stream",
     "text": [
      "+-----------------+-----------------------------+-----+--------+------+-----------+\n",
      "|name             |address                      |state|postcode|gender|consumer_id|\n",
      "+-----------------+-----------------------------+-----+--------+------+-----------+\n",
      "|Yolanda Williams |413 Haney Gardens Apt. 742   |WA   |6935    |Female|1195503    |\n",
      "|Mary Smith       |3764 Amber Oval              |NSW  |2782    |Female|179208     |\n",
      "|Jill Jones MD    |40693 Henry Greens           |NT   |862     |Female|1194530    |\n",
      "|Lindsay Jimenez  |00653 Davenport Crossroad    |NSW  |2780    |Female|154128     |\n",
      "|Rebecca Blanchard|9271 Michael Manors Suite 651|WA   |6355    |Female|712975     |\n",
      "+-----------------+-----------------------------+-----+--------+------+-----------+\n",
      "only showing top 5 rows\n",
      "\n"
     ]
    }
   ],
   "source": [
    "sdf_consumer = spark.read.csv('../data/tables/tbl_consumer.csv', sep='|', header=True)\n",
    "sdf_consumer.show(5, truncate=False)"
   ]
  },
  {
   "cell_type": "markdown",
   "metadata": {},
   "source": [
    "Convert postcodes to strings with leading zeros"
   ]
  },
  {
   "cell_type": "code",
   "execution_count": 4,
   "metadata": {},
   "outputs": [],
   "source": [
    "sdf_consumer = sdf_consumer.withColumn('postcode', F.format_string(\"%04d\", F.col('postcode').cast('int')))"
   ]
  },
  {
   "cell_type": "code",
   "execution_count": 5,
   "metadata": {},
   "outputs": [
    {
     "data": {
      "text/plain": [
       "499999"
      ]
     },
     "execution_count": 5,
     "metadata": {},
     "output_type": "execute_result"
    }
   ],
   "source": [
    "sdf_consumer.count()"
   ]
  },
  {
   "cell_type": "code",
   "execution_count": 6,
   "metadata": {},
   "outputs": [],
   "source": [
    "VIC_sdf = sdf_consumer.where(\n",
    "    (F.col('state') == 'VIC' ))\n",
    "\n",
    "NSW_sdf = sdf_consumer.where(\n",
    "    (F.col('state') == 'NSW' ))\n",
    "\n",
    "QLD_sdf = sdf_consumer.where(\n",
    "    (F.col('state') == 'QLD' ))\n",
    "\n",
    "WA_sdf = sdf_consumer.where(\n",
    "    (F.col('state') == 'WA' ))\n",
    "\n",
    "TAS_sdf = sdf_consumer.where(\n",
    "    (F.col('state') == 'TAS' ))\n",
    "\n",
    "SA_sdf = sdf_consumer.where(\n",
    "    (F.col('state') == 'SA' ))\n",
    "\n",
    "ACT_sdf = sdf_consumer.where(\n",
    "    (F.col('state') == 'ACT' ))\n",
    "\n",
    "NT_sdf = sdf_consumer.where(\n",
    "    (F.col('state') == 'NT' ))"
   ]
  },
  {
   "cell_type": "code",
   "execution_count": 7,
   "metadata": {},
   "outputs": [],
   "source": [
    "VIC_sdf = VIC_sdf.withColumn(\n",
    "    'postcode',\n",
    "    F.when((F.col('postcode') >= '3000') & (F.col('postcode') <= '3999')\n",
    "    | ((F.col('postcode') >=  '8000') & (F.col('postcode') <= '8999')), F.col('postcode'))\n",
    ")"
   ]
  },
  {
   "cell_type": "code",
   "execution_count": 8,
   "metadata": {},
   "outputs": [],
   "source": [
    "NT_sdf = NT_sdf.withColumn(\n",
    "    'postcode',\n",
    "    F.when((F.col('postcode') >=  '0800') & (F.col('postcode') <= '0999'), F.col('postcode'))\n",
    ")"
   ]
  },
  {
   "cell_type": "code",
   "execution_count": 9,
   "metadata": {},
   "outputs": [],
   "source": [
    "TAS_sdf = TAS_sdf.withColumn(\n",
    "    'postcode',\n",
    "    F.when((F.col('postcode') >=  '7000') & (F.col('postcode') <= '7999'), F.col('postcode'))\n",
    ")"
   ]
  },
  {
   "cell_type": "code",
   "execution_count": 11,
   "metadata": {},
   "outputs": [],
   "source": [
    "WA_sdf = WA_sdf.withColumn(\n",
    "    'postcode',\n",
    "    F.when((F.col('postcode') >=  '6000') & (F.col('postcode') <= '6797')\n",
    "    | (F.col('postcode') >=  '6800') & (F.col('postcode') <= '6999'), F.col('postcode'))\n",
    ")"
   ]
  },
  {
   "cell_type": "code",
   "execution_count": 13,
   "metadata": {},
   "outputs": [],
   "source": [
    "SA_sdf = SA_sdf.withColumn(\n",
    "    'postcode',\n",
    "    F.when((F.col('postcode') >=  '5000') & (F.col('postcode') <= '5999'), F.col('postcode'))\n",
    ")"
   ]
  },
  {
   "cell_type": "code",
   "execution_count": 14,
   "metadata": {},
   "outputs": [],
   "source": [
    "QLD_sdf = QLD_sdf.withColumn(\n",
    "    'postcode',\n",
    "    F.when((F.col('postcode') >=  '4000') & (F.col('postcode') <= '4999')\n",
    "    | (F.col('postcode') >=  '9000') & (F.col('postcode') <= '9999'), F.col('postcode'))\n",
    ")"
   ]
  },
  {
   "cell_type": "code",
   "execution_count": 15,
   "metadata": {},
   "outputs": [],
   "source": [
    "NSW_sdf = NSW_sdf.withColumn(\n",
    "    'postcode',\n",
    "    F.when((F.col('postcode') >=  '1000') & (F.col('postcode') <= '2599')\n",
    "    | (F.col('postcode') >=  '2619') & (F.col('postcode') <= '2899')\n",
    "    | (F.col('postcode') >=  '2921') & (F.col('postcode') <= '2999'), F.col('postcode'))\n",
    ")"
   ]
  },
  {
   "cell_type": "code",
   "execution_count": 16,
   "metadata": {},
   "outputs": [],
   "source": [
    "ACT_sdf = ACT_sdf.withColumn(\n",
    "    'postcode',\n",
    "    F.when((F.col('postcode') >=  '0200') & (F.col('postcode') <= '0300')\n",
    "    | (F.col('postcode') >=  '2600') & (F.col('postcode') <= '2618')\n",
    "    | (F.col('postcode') >=  '2900') & (F.col('postcode') <= '2920'), F.col('postcode'))\n",
    ")"
   ]
  },
  {
   "cell_type": "code",
   "execution_count": 17,
   "metadata": {},
   "outputs": [
    {
     "name": "stderr",
     "output_type": "stream",
     "text": [
      "                                                                                \r"
     ]
    },
    {
     "data": {
      "text/plain": [
       "499999"
      ]
     },
     "execution_count": 17,
     "metadata": {},
     "output_type": "execute_result"
    }
   ],
   "source": [
    "cleaned_consumer = VIC_sdf.union(NSW_sdf) \\\n",
    "        .union(QLD_sdf) \\\n",
    "        .union(WA_sdf) \\\n",
    "        .union(TAS_sdf) \\\n",
    "        .union(SA_sdf) \\\n",
    "        .union(ACT_sdf) \\\n",
    "        .union(NT_sdf)\n",
    "\n",
    "cleaned_consumer.count()"
   ]
  },
  {
   "cell_type": "code",
   "execution_count": 22,
   "metadata": {},
   "outputs": [
    {
     "name": "stderr",
     "output_type": "stream",
     "text": [
      "                                                                                \r"
     ]
    },
    {
     "data": {
      "text/plain": [
       "1209"
      ]
     },
     "execution_count": 22,
     "metadata": {},
     "output_type": "execute_result"
    }
   ],
   "source": [
    "cleaned_consumer.where(F.isnull(F.col('postcode'))).count()"
   ]
  },
  {
   "cell_type": "markdown",
   "metadata": {},
   "source": [
    "1209 (0.24%) instances had postcodes that did not match their state."
   ]
  },
  {
   "cell_type": "code",
   "execution_count": 23,
   "metadata": {},
   "outputs": [
    {
     "name": "stderr",
     "output_type": "stream",
     "text": [
      "                                                                                \r"
     ]
    }
   ],
   "source": [
    "cleaned_consumer.write.mode('overwrite').parquet('../data/curated/cleaned_consumers.parquet')"
   ]
  }
 ],
 "metadata": {
  "kernelspec": {
   "display_name": "Python 3.8.10 64-bit",
   "language": "python",
   "name": "python3"
  },
  "language_info": {
   "codemirror_mode": {
    "name": "ipython",
    "version": 3
   },
   "file_extension": ".py",
   "mimetype": "text/x-python",
   "name": "python",
   "nbconvert_exporter": "python",
   "pygments_lexer": "ipython3",
   "version": "3.10.4"
  },
  "vscode": {
   "interpreter": {
    "hash": "916dbcbb3f70747c44a77c7bcd40155683ae19c65e1c03b4aa3499c5328201f1"
   }
  }
 },
 "nbformat": 4,
 "nbformat_minor": 2
}
