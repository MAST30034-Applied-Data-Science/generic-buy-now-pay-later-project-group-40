{
 "cells": [
  {
   "cell_type": "code",
   "execution_count": 1,
   "metadata": {},
   "outputs": [
    {
     "name": "stdout",
     "output_type": "stream",
     "text": [
      "22/09/19 16:00:20 WARN Utils: Your hostname, DESKTOP-3NQ3PQI resolves to a loopback address: 127.0.1.1; using 172.31.183.205 instead (on interface eth0)\n",
      "22/09/19 16:00:20 WARN Utils: Set SPARK_LOCAL_IP if you need to bind to another address\n"
     ]
    },
    {
     "name": "stderr",
     "output_type": "stream",
     "text": [
      "Setting default log level to \"WARN\".\n",
      "To adjust logging level use sc.setLogLevel(newLevel). For SparkR, use setLogLevel(newLevel).\n"
     ]
    },
    {
     "name": "stdout",
     "output_type": "stream",
     "text": [
      "22/09/19 16:00:26 WARN NativeCodeLoader: Unable to load native-hadoop library for your platform... using builtin-java classes where applicable\n",
      "22/09/19 16:00:29 WARN Utils: Service 'SparkUI' could not bind on port 4040. Attempting port 4041.\n"
     ]
    }
   ],
   "source": [
    "from pyspark.sql import SparkSession\n",
    "\n",
    "spark = (\n",
    "    SparkSession.builder.appName(\"MAST30034 Project 2\")\n",
    "    .config(\"spark.driver.memory\", '4g')\n",
    "    .config(\"spark.executor.memory\", '8g')\n",
    "    .config(\"spark.sql.session.timeZone\", \"Etc/UTC\")\n",
    "    .config(\"spark.sql.parquet.enableVectorizedReader\",\"false\")\n",
    "    .config(\"spark.sql.repl.eagerEval.enabled\", True) \n",
    "    .config(\"spark.sql.parquet.cacheMetadata\", \"true\")\n",
    "    .getOrCreate()\n",
    ")"
   ]
  },
  {
   "cell_type": "code",
   "execution_count": null,
   "metadata": {},
   "outputs": [],
   "source": [
    "from pyspark.sql.functions import *\n",
    "from pyspark.sql import functions as F"
   ]
  },
  {
   "cell_type": "code",
   "execution_count": null,
   "metadata": {},
   "outputs": [],
   "source": [
    "sdf_consumer = spark.read.csv('../data/tables/tbl_consumer.csv', sep='|', header=True)\n",
    "sdf_consumer.show(5, truncate=False)"
   ]
  },
  {
   "cell_type": "markdown",
   "metadata": {},
   "source": [
    "Convert postcodes to strings with leading zeros"
   ]
  },
  {
   "cell_type": "code",
   "execution_count": null,
   "metadata": {},
   "outputs": [],
   "source": [
    "sdf_consumer = sdf_consumer.withColumn('postcode', F.format_string(\"%04d\", F.col('postcode').cast('int')))"
   ]
  },
  {
   "cell_type": "code",
   "execution_count": null,
   "metadata": {},
   "outputs": [],
   "source": [
    "sdf_consumer.count()"
   ]
  },
  {
   "cell_type": "code",
   "execution_count": null,
   "metadata": {},
   "outputs": [],
   "source": [
    "VIC_sdf = sdf_consumer.where(\n",
    "    (F.col('state') == 'VIC' ))\n",
    "\n",
    "NSW_sdf = sdf_consumer.where(\n",
    "    (F.col('state') == 'NSW' ))\n",
    "\n",
    "QLD_sdf = sdf_consumer.where(\n",
    "    (F.col('state') == 'QLD' ))\n",
    "\n",
    "WA_sdf = sdf_consumer.where(\n",
    "    (F.col('state') == 'WA' ))\n",
    "\n",
    "TAS_sdf = sdf_consumer.where(\n",
    "    (F.col('state') == 'TAS' ))\n",
    "\n",
    "SA_sdf = sdf_consumer.where(\n",
    "    (F.col('state') == 'SA' ))\n",
    "\n",
    "ACT_sdf = sdf_consumer.where(\n",
    "    (F.col('state') == 'ACT' ))\n",
    "\n",
    "NT_sdf = sdf_consumer.where(\n",
    "    (F.col('state') == 'NT' ))"
   ]
  },
  {
   "cell_type": "code",
   "execution_count": null,
   "metadata": {},
   "outputs": [],
   "source": [
    "VIC_sdf.count()\n",
    "VIC_sdf= VIC_sdf.where(\n",
    "    ((F.col('postcode') >=  '3000') & (F.col('postcode') <= '3999'))\n",
    "    | ((F.col('postcode') >=  '8000') & (F.col('postcode') <= '8999'))\n",
    ")\n",
    "VIC_sdf.count()"
   ]
  },
  {
   "cell_type": "code",
   "execution_count": null,
   "metadata": {},
   "outputs": [],
   "source": [
    "NT_sdf.count()\n",
    "NT_sdf= NT_sdf.where(\n",
    "    (F.col('postcode') >=  '800') & (F.col('postcode') <= '999'))\n",
    "NT_sdf.count()"
   ]
  },
  {
   "cell_type": "code",
   "execution_count": null,
   "metadata": {},
   "outputs": [],
   "source": [
    "TAS_sdf.count()\n",
    "TAS_sdf= TAS_sdf.where(\n",
    "    (F.col('postcode') >=  '7000') & (F.col('postcode') <= '7999'))\n",
    "TAS_sdf.count()"
   ]
  },
  {
   "cell_type": "code",
   "execution_count": null,
   "metadata": {},
   "outputs": [],
   "source": [
    "WA_sdf.count()\n",
    "WA_sdf= WA_sdf.where(\n",
    "    ((F.col('postcode') >=  '6000') & (F.col('postcode') <= '6797'))\n",
    "    | ((F.col('postcode') >=  '6800') & (F.col('postcode') <= '6999'))\n",
    ")\n",
    "WA_sdf.count()"
   ]
  },
  {
   "cell_type": "code",
   "execution_count": null,
   "metadata": {},
   "outputs": [],
   "source": [
    "SA_sdf.count()\n",
    "SA_sdf= SA_sdf.where(\n",
    "    (F.col('postcode') >=  '5000') & (F.col('postcode') <= '5999'))\n",
    "SA_sdf.count()"
   ]
  },
  {
   "cell_type": "code",
   "execution_count": null,
   "metadata": {},
   "outputs": [],
   "source": [
    "QLD_sdf.count()\n",
    "QLD_sdf= QLD_sdf.where(\n",
    "    ((F.col('postcode') >=  '4000') & (F.col('postcode') <= '4999'))\n",
    "    | ((F.col('postcode') >=  '9000') & (F.col('postcode') <= '9999'))\n",
    ")\n",
    "QLD_sdf.count()"
   ]
  },
  {
   "cell_type": "code",
   "execution_count": null,
   "metadata": {},
   "outputs": [],
   "source": [
    "NSW_sdf.count()\n",
    "NSW_sdf= NSW_sdf.where(\n",
    "    ((F.col('postcode') >=  '1000') & (F.col('postcode') <= '2599'))\n",
    "    | ((F.col('postcode') >=  '2619') & (F.col('postcode') <= '2899'))\n",
    "    | ((F.col('postcode') >=  '2921') & (F.col('postcode') <= '2999'))\n",
    ")\n",
    "NSW_sdf.count()"
   ]
  },
  {
   "cell_type": "code",
   "execution_count": null,
   "metadata": {},
   "outputs": [],
   "source": [
    "ACT_sdf.count()\n",
    "ACT_sdf= ACT_sdf.where(\n",
    "    ((F.col('postcode') >=  '200') & (F.col('postcode') <= '300'))\n",
    "    | ((F.col('postcode') >=  '2600') & (F.col('postcode') <= '2618'))\n",
    "    | ((F.col('postcode') >=  '2900') & (F.col('postcode') <= '2920'))\n",
    ")\n",
    "ACT_sdf.count()"
   ]
  },
  {
   "cell_type": "code",
   "execution_count": null,
   "metadata": {},
   "outputs": [],
   "source": [
    "cleaned_consumer = VIC_sdf.union(NSW_sdf)\n",
    "cleaned_consumer = cleaned_consumer.union(QLD_sdf)\n",
    "cleaned_consumer = cleaned_consumer.union(WA_sdf)\n",
    "cleaned_consumer = cleaned_consumer.union(TAS_sdf)\n",
    "cleaned_consumer = cleaned_consumer.union(SA_sdf)\n",
    "cleaned_consumer = cleaned_consumer.union(ACT_sdf)\n",
    "cleaned_consumer = cleaned_consumer.union(NT_sdf)\n",
    "\n",
    "cleaned_consumer.count()"
   ]
  },
  {
   "cell_type": "code",
   "execution_count": null,
   "metadata": {},
   "outputs": [],
   "source": [
    "cleaned_consumer.write.mode('overwrite').parquet('../data/curated/cleaned_consumers.parquet')"
   ]
  },
  {
   "cell_type": "code",
   "execution_count": null,
   "metadata": {},
   "outputs": [],
   "source": []
  }
 ],
 "metadata": {
  "kernelspec": {
   "display_name": "Python 3.8.10 64-bit",
   "language": "python",
   "name": "python3"
  },
  "language_info": {
   "codemirror_mode": {
    "name": "ipython",
    "version": 3
   },
   "file_extension": ".py",
   "mimetype": "text/x-python",
   "name": "python",
   "nbconvert_exporter": "python",
   "pygments_lexer": "ipython3",
   "version": "3.10.4"
  },
  "vscode": {
   "interpreter": {
    "hash": "916dbcbb3f70747c44a77c7bcd40155683ae19c65e1c03b4aa3499c5328201f1"
   }
  }
 },
 "nbformat": 4,
 "nbformat_minor": 2
}
