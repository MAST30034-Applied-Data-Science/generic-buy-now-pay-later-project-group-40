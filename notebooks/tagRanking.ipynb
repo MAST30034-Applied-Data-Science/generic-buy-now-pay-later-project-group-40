{
 "cells": [
  {
   "cell_type": "code",
   "execution_count": 40,
   "metadata": {},
   "outputs": [],
   "source": [
    "import pandas as pd\n",
    "from collections import Counter\n",
    "from pyspark.sql.functions import *\n",
    "from pyspark.sql import functions as F"
   ]
  },
  {
   "cell_type": "code",
   "execution_count": 7,
   "metadata": {},
   "outputs": [
    {
     "name": "stdout",
     "output_type": "stream",
     "text": [
      "22/09/13 10:19:07 WARN Utils: Your hostname, LAPTOP-4PS96C35 resolves to a loopback address: 127.0.1.1; using 172.24.42.143 instead (on interface eth0)\n",
      "22/09/13 10:19:07 WARN Utils: Set SPARK_LOCAL_IP if you need to bind to another address\n"
     ]
    },
    {
     "name": "stderr",
     "output_type": "stream",
     "text": [
      "Setting default log level to \"WARN\".\n",
      "To adjust logging level use sc.setLogLevel(newLevel). For SparkR, use setLogLevel(newLevel).\n"
     ]
    },
    {
     "name": "stdout",
     "output_type": "stream",
     "text": [
      "22/09/13 10:19:15 WARN NativeCodeLoader: Unable to load native-hadoop library for your platform... using builtin-java classes where applicable\n",
      "22/09/13 10:19:19 WARN Utils: Service 'SparkUI' could not bind on port 4040. Attempting port 4041.\n"
     ]
    }
   ],
   "source": [
    "from pyspark.sql import SparkSession\n",
    "\n",
    "spark = (\n",
    "    SparkSession.builder.appName(\"MAST30034 Project 2\")\n",
    "    .config(\"spark.driver.memory\", '4g')\n",
    "    .config(\"spark.executor.memory\", '8g')\n",
    "    .config(\"spark.sql.session.timeZone\", \"Etc/UTC\")\n",
    "    .config(\"spark.sql.parquet.enableVectorizedReader\",\"false\")\n",
    "    .config(\"spark.sql.repl.eagerEval.enabled\", True) \n",
    "    .config(\"spark.sql.parquet.cacheMetadata\", \"true\")\n",
    "    .getOrCreate()\n",
    ")"
   ]
  },
  {
   "cell_type": "code",
   "execution_count": 28,
   "metadata": {},
   "outputs": [],
   "source": [
    "merchants_df = spark.read.parquet('../data/curated/merchants_df.parquet')"
   ]
  },
  {
   "cell_type": "code",
   "execution_count": 29,
   "metadata": {},
   "outputs": [
    {
     "name": "stdout",
     "output_type": "stream",
     "text": [
      "+------------+--------------------+--------------------+-------------+---------+\n",
      "|merchant_abn|                name|            category|revenue_level|take_rate|\n",
      "+------------+--------------------+--------------------+-------------+---------+\n",
      "| 10023283211|       Felis Limited|[furniture, home ...|            e|     0.18|\n",
      "| 10142254217|Arcu Ac Orci Corp...|[cable, satellite...|            b|     4.22|\n",
      "| 10165489824|    Nunc Sed Company|[jewelry, watch, ...|            b|      4.4|\n",
      "| 10187291046|Ultricies Digniss...|[watch, clock, je...|            b|     3.29|\n",
      "| 10192359162| Enim Condimentum PC|[music shops - mu...|            a|     6.33|\n",
      "+------------+--------------------+--------------------+-------------+---------+\n",
      "only showing top 5 rows\n",
      "\n"
     ]
    }
   ],
   "source": [
    "merchants_df.show(5)"
   ]
  },
  {
   "cell_type": "code",
   "execution_count": 8,
   "metadata": {},
   "outputs": [
    {
     "name": "stderr",
     "output_type": "stream",
     "text": [
      "                                                                                \r"
     ]
    }
   ],
   "source": [
    "transactions_1 = spark.read.parquet('../data/curated/transactions_1.parquet')"
   ]
  },
  {
   "cell_type": "code",
   "execution_count": 9,
   "metadata": {},
   "outputs": [
    {
     "name": "stderr",
     "output_type": "stream",
     "text": [
      "                                                                                \r"
     ]
    },
    {
     "data": {
      "text/html": [
       "<table border='1'>\n",
       "<tr><th>consumer_id</th><th>user_id</th><th>merchant_abn</th><th>dollar_value</th><th>order_datetime</th><th>state</th><th>postcode</th><th>gender</th></tr>\n",
       "<tr><td>561</td><td>14108</td><td>32709545238</td><td>361.7919109492337</td><td>2021-08-21</td><td>NSW</td><td>2293</td><td>Male</td></tr>\n",
       "<tr><td>561</td><td>14108</td><td>19839532017</td><td>157.0</td><td>2021-08-21</td><td>NSW</td><td>2293</td><td>Male</td></tr>\n",
       "<tr><td>561</td><td>14108</td><td>14639489823</td><td>217.70536080483546</td><td>2021-08-21</td><td>NSW</td><td>2293</td><td>Male</td></tr>\n",
       "<tr><td>561</td><td>14108</td><td>69666829657</td><td>178.1273076070476</td><td>2021-08-21</td><td>NSW</td><td>2293</td><td>Male</td></tr>\n",
       "<tr><td>561</td><td>14108</td><td>26148653604</td><td>15.598745581918507</td><td>2021-08-21</td><td>NSW</td><td>2293</td><td>Male</td></tr>\n",
       "</table>\n"
      ],
      "text/plain": [
       "+-----------+-------+------------+------------------+--------------+-----+--------+------+\n",
       "|consumer_id|user_id|merchant_abn|      dollar_value|order_datetime|state|postcode|gender|\n",
       "+-----------+-------+------------+------------------+--------------+-----+--------+------+\n",
       "|        561|  14108| 32709545238| 361.7919109492337|    2021-08-21|  NSW|    2293|  Male|\n",
       "|        561|  14108| 19839532017|             157.0|    2021-08-21|  NSW|    2293|  Male|\n",
       "|        561|  14108| 14639489823|217.70536080483546|    2021-08-21|  NSW|    2293|  Male|\n",
       "|        561|  14108| 69666829657| 178.1273076070476|    2021-08-21|  NSW|    2293|  Male|\n",
       "|        561|  14108| 26148653604|15.598745581918507|    2021-08-21|  NSW|    2293|  Male|\n",
       "+-----------+-------+------------+------------------+--------------+-----+--------+------+"
      ]
     },
     "execution_count": 9,
     "metadata": {},
     "output_type": "execute_result"
    }
   ],
   "source": [
    "transactions_1.limit(5)"
   ]
  },
  {
   "cell_type": "code",
   "execution_count": 24,
   "metadata": {},
   "outputs": [],
   "source": [
    "company_total_1 = transactions_1.groupBy(\"merchant_abn\").sum('dollar_value')"
   ]
  },
  {
   "cell_type": "code",
   "execution_count": 63,
   "metadata": {},
   "outputs": [
    {
     "name": "stderr",
     "output_type": "stream",
     "text": [
      "                                                                                \r"
     ]
    },
    {
     "data": {
      "text/html": [
       "<table border='1'>\n",
       "<tr><th>merchant_abn</th><th>count</th></tr>\n",
       "<tr><td>19839532017</td><td>190</td></tr>\n",
       "<tr><td>83412691377</td><td>3645</td></tr>\n",
       "<tr><td>38700038932</td><td>1846</td></tr>\n",
       "<tr><td>35344855546</td><td>384</td></tr>\n",
       "<tr><td>73256306726</td><td>1378</td></tr>\n",
       "<tr><td>24406529929</td><td>1043</td></tr>\n",
       "<tr><td>15613631617</td><td>515</td></tr>\n",
       "<tr><td>38986645707</td><td>8</td></tr>\n",
       "<tr><td>73841664453</td><td>261</td></tr>\n",
       "<tr><td>12516851436</td><td>52</td></tr>\n",
       "<tr><td>34440496342</td><td>57</td></tr>\n",
       "<tr><td>48214071373</td><td>128</td></tr>\n",
       "<tr><td>41956465747</td><td>65</td></tr>\n",
       "<tr><td>96946925998</td><td>42</td></tr>\n",
       "<tr><td>60654402457</td><td>52</td></tr>\n",
       "<tr><td>52763133264</td><td>38</td></tr>\n",
       "<tr><td>78916025936</td><td>16</td></tr>\n",
       "<tr><td>56395390867</td><td>9</td></tr>\n",
       "<tr><td>92202115241</td><td>35</td></tr>\n",
       "<tr><td>45339304653</td><td>291</td></tr>\n",
       "</table>\n",
       "only showing top 20 rows\n"
      ],
      "text/plain": [
       "+------------+-----+\n",
       "|merchant_abn|count|\n",
       "+------------+-----+\n",
       "| 19839532017|  190|\n",
       "| 83412691377| 3645|\n",
       "| 38700038932| 1846|\n",
       "| 35344855546|  384|\n",
       "| 73256306726| 1378|\n",
       "| 24406529929| 1043|\n",
       "| 15613631617|  515|\n",
       "| 38986645707|    8|\n",
       "| 73841664453|  261|\n",
       "| 12516851436|   52|\n",
       "| 34440496342|   57|\n",
       "| 48214071373|  128|\n",
       "| 41956465747|   65|\n",
       "| 96946925998|   42|\n",
       "| 60654402457|   52|\n",
       "| 52763133264|   38|\n",
       "| 78916025936|   16|\n",
       "| 56395390867|    9|\n",
       "| 92202115241|   35|\n",
       "| 45339304653|  291|\n",
       "+------------+-----+\n",
       "only showing top 20 rows"
      ]
     },
     "execution_count": 63,
     "metadata": {},
     "output_type": "execute_result"
    }
   ],
   "source": [
    "# Testing cell\n",
    "# transactions_1.select(countDistinct('merchant_abn'))\n",
    "transactions_1.groupBy('merchant_abn').count()"
   ]
  },
  {
   "cell_type": "code",
   "execution_count": null,
   "metadata": {},
   "outputs": [],
   "source": [
    "tr"
   ]
  },
  {
   "cell_type": "code",
   "execution_count": 25,
   "metadata": {},
   "outputs": [
    {
     "name": "stderr",
     "output_type": "stream",
     "text": [
      "[Stage 28:===================================================>      (8 + 1) / 9]\r"
     ]
    },
    {
     "name": "stdout",
     "output_type": "stream",
     "text": [
      "+------------+------------------+\n",
      "|merchant_abn| sum(dollar_value)|\n",
      "+------------+------------------+\n",
      "| 19839532017|           29830.0|\n",
      "| 83412691377|127216.11957102377|\n",
      "| 38700038932|2434872.0408709096|\n",
      "| 35344855546|33886.502992264264|\n",
      "| 73256306726| 403476.5997903018|\n",
      "+------------+------------------+\n",
      "only showing top 5 rows\n",
      "\n"
     ]
    },
    {
     "name": "stderr",
     "output_type": "stream",
     "text": [
      "                                                                                \r"
     ]
    }
   ],
   "source": [
    "company_total_1.show(5)"
   ]
  },
  {
   "cell_type": "code",
   "execution_count": 39,
   "metadata": {},
   "outputs": [
    {
     "name": "stderr",
     "output_type": "stream",
     "text": [
      "                                                                                \r"
     ]
    },
    {
     "name": "stdout",
     "output_type": "stream",
     "text": [
      "+------------+--------------------+--------------------+-------------+---------+------------------+\n",
      "|merchant_abn|                name|            category|revenue_level|take_rate| sum(dollar_value)|\n",
      "+------------+--------------------+--------------------+-------------+---------+------------------+\n",
      "| 19839532017|Pellentesque Habi...|[cable, satellite...|            b|     4.94|           29830.0|\n",
      "| 83412691377|Suspendisse Sagit...|[watch, clock, je...|            c|     2.94|127216.11957102377|\n",
      "| 38700038932|Etiam Bibendum In...|[tent, awning shops]|            a|     6.31|2434872.0408709096|\n",
      "| 35344855546|Quis Tristique Ac...|[watch, clock, je...|            c|     2.92|33886.502992264264|\n",
      "| 73256306726|              Id LLP|[health, beauty s...|            b|     4.81| 403476.5997903018|\n",
      "+------------+--------------------+--------------------+-------------+---------+------------------+\n",
      "only showing top 5 rows\n",
      "\n"
     ]
    }
   ],
   "source": [
    "joined_merchants_df = merchants_df.join(company_total_1, merchants_df.merchant_abn == company_total_1.merchant_abn, 'inner').drop(company_total_1['merchant_abn'])\n",
    "joined_merchants_df.show(5)"
   ]
  },
  {
   "cell_type": "code",
   "execution_count": 62,
   "metadata": {},
   "outputs": [
    {
     "name": "stderr",
     "output_type": "stream",
     "text": [
      "                                                                                \r"
     ]
    },
    {
     "name": "stdout",
     "output_type": "stream",
     "text": [
      "+------------+--------------------+--------------------+-------------+---------+------------------+------------+-----+\n",
      "|merchant_abn|                name|            category|revenue_level|take_rate| sum(dollar_value)|merchant_abn|count|\n",
      "+------------+--------------------+--------------------+-------------+---------+------------------+------------+-----+\n",
      "| 19839532017|Pellentesque Habi...|[cable, satellite...|            b|     4.94|           29830.0| 19839532017|  190|\n",
      "| 83412691377|Suspendisse Sagit...|[watch, clock, je...|            c|     2.94|127216.11957102377| 83412691377| 3645|\n",
      "| 38700038932|Etiam Bibendum In...|[tent, awning shops]|            a|     6.31|2434872.0408709096| 38700038932| 1846|\n",
      "| 35344855546|Quis Tristique Ac...|[watch, clock, je...|            c|     2.92|33886.502992264264| 35344855546|  384|\n",
      "| 73256306726|              Id LLP|[health, beauty s...|            b|     4.81| 403476.5997903018| 73256306726| 1378|\n",
      "| 15613631617|     Ante Industries|[motor vehicle su...|            e|     0.35|154867.73722015062| 15613631617|  515|\n",
      "| 38986645707|    Lectus Justo LLC|[bicycle shops - ...|            c|     1.72| 7864.849052832641| 38986645707|    8|\n",
      "| 73841664453|      Lacinia At LLP|[digital goods: b...|            a|     5.55| 23197.67346403758| 73841664453|  261|\n",
      "| 12516851436|        Mollis Corp.|[watch, clock, je...|            a|     6.71| 7347.201005931926| 12516851436|   52|\n",
      "| 34440496342|Mauris Nulla Inte...|[opticians, optic...|            c|     2.85| 4895.414688495531| 34440496342|   57|\n",
      "| 48214071373|       Ridiculus LLC|[motor vehicle su...|            b|     4.02| 37438.95939726031| 48214071373|  128|\n",
      "| 41956465747|       Pede Cras LLP|[motor vehicle su...|            b|     3.79|15494.941906721382| 41956465747|   65|\n",
      "| 96946925998|Nisi Cum Corporation|[music shops - mu...|            a|     5.99| 40339.65538108158| 96946925998|   42|\n",
      "| 60654402457|Lacus Quisque Imp...|[digital goods: b...|            b|     3.52| 4466.488364786173| 60654402457|   52|\n",
      "| 52763133264|      Dui Lectus LLP|[watch, clock, je...|            a|     5.63| 4342.681099626477| 52763133264|   38|\n",
      "| 78916025936|Urna Nec Corporation|[florists supplie...|            e|     0.37| 5666.546692861138| 78916025936|   16|\n",
      "| 92202115241|Fames Ac Turpis L...|[books, periodica...|            a|     5.66|10244.416283061546| 92202115241|   35|\n",
      "| 45339304653|Phasellus Libero ...|[cable, satellite...|            a|     6.43| 23548.95495842753| 45339304653|  291|\n",
      "| 29216160692|    Class Aptent LLC|[lawn, garden sup...|            a|      5.6|123674.23951616784| 29216160692| 1154|\n",
      "| 59128133246|Ut Tincidunt Foun...|[opticians, optic...|            a|      6.3| 51511.77301117987| 59128133246| 1665|\n",
      "+------------+--------------------+--------------------+-------------+---------+------------------+------------+-----+\n",
      "only showing top 20 rows\n",
      "\n"
     ]
    }
   ],
   "source": [
    "transactions_per_company = transactions_1.groupBy('merchant_abn').count()\n",
    "joined_merchants_df.join(transactions_per_company, joined_merchants_df.merchant_abn == transactions_per_company.merchant_abn, 'inner').drop(transactions_per_company['merchant_abn']).show(20)"
   ]
  },
  {
   "cell_type": "code",
   "execution_count": 56,
   "metadata": {},
   "outputs": [
    {
     "name": "stderr",
     "output_type": "stream",
     "text": [
      "                                                                                \r"
     ]
    },
    {
     "name": "stdout",
     "output_type": "stream",
     "text": [
      "+------------+--------------------+--------------------+-------------+---------+------------------+\n",
      "|merchant_abn|                name|            category|revenue_level|take_rate| sum(dollar_value)|\n",
      "+------------+--------------------+--------------------+-------------+---------+------------------+\n",
      "| 39649557865|Arcu Morbi Institute|[artist supply, c...|            c|     1.47|2586772.5714433747|\n",
      "| 79827781481|     Amet Risus Inc.|[furniture, home ...|            a|     6.82|  2569945.73735937|\n",
      "| 31334588839|Lacus Aliquam Cor...|[antique shops - ...|            b|     4.22| 2506651.862665567|\n",
      "| 27093785141|Placerat Orci Ins...|[stationery, offi...|            c|     2.73|2505283.7549576736|\n",
      "| 96680767841|      Ornare Limited|[motor vehicle su...|            a|     5.91|2471313.3819261594|\n",
      "| 86578477987|   Leo In Consulting|[watch, clock, je...|            a|     6.43|2451541.3464945666|\n",
      "| 32709545238|Tempor Est Founda...|[stationery, offi...|            c|     3.04|2448476.5028270427|\n",
      "| 38700038932|Etiam Bibendum In...|[tent, awning shops]|            a|     6.31|2434872.0408709096|\n",
      "| 50315283629|Iaculis Aliquet D...|[lawn, garden sup...|            c|     1.76| 2431807.816708967|\n",
      "| 32361057556|Orci In Consequat...|[gift, card, nove...|            a|     6.61|2424500.5274058646|\n",
      "| 35909341340|Arcu Sed Eu Incor...|[computer program...|            b|      4.8|2421117.9238255564|\n",
      "| 76767266140|Phasellus At Limited|[furniture, home ...|            b|     4.65| 2410846.496641409|\n",
      "| 21439773999|Mauris Non Institute|[cable, satellite...|            a|      6.1| 2408141.738369146|\n",
      "| 28057731482|  Dignissim Lacus PC|[music shops - mu...|            c|     1.47|2399897.0993485237|\n",
      "| 82368304209|    Nec Incorporated|           [telecom]|            a|     5.55| 2399439.130913176|\n",
      "| 90568944804|   Diam Eu Dolor LLC|[tent, awning shops]|            b|      4.1| 2399170.146709954|\n",
      "| 48534649627|Dignissim Maecena...|[opticians, optic...|            a|     6.64|2384193.6510769604|\n",
      "| 34096466752|     Nullam Enim Ltd|[computers, compu...|            b|     3.22| 2378196.216556078|\n",
      "| 22033359776|Suspendisse Non L...|[motor vehicle su...|            b|      3.1|2334712.3351025777|\n",
      "| 18158387243|      Nec Tellus Ltd|[health, beauty s...|            c|     2.03|2331306.4321084404|\n",
      "+------------+--------------------+--------------------+-------------+---------+------------------+\n",
      "only showing top 20 rows\n",
      "\n"
     ]
    }
   ],
   "source": [
    "joined_merchants_df.sort(col('sum(dollar_value)').desc()).show(20)"
   ]
  }
 ],
 "metadata": {
  "kernelspec": {
   "display_name": "Python 3.10.4 64-bit",
   "language": "python",
   "name": "python3"
  },
  "language_info": {
   "codemirror_mode": {
    "name": "ipython",
    "version": 3
   },
   "file_extension": ".py",
   "mimetype": "text/x-python",
   "name": "python",
   "nbconvert_exporter": "python",
   "pygments_lexer": "ipython3",
   "version": "3.10.4"
  },
  "orig_nbformat": 4,
  "vscode": {
   "interpreter": {
    "hash": "916dbcbb3f70747c44a77c7bcd40155683ae19c65e1c03b4aa3499c5328201f1"
   }
  }
 },
 "nbformat": 4,
 "nbformat_minor": 2
}
