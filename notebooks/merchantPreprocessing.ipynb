{
 "cells": [
  {
   "cell_type": "code",
   "execution_count": 2,
   "metadata": {},
   "outputs": [],
   "source": [
    "import pandas as pd\n",
    "import re\n",
    "from collections import Counter, OrderedDict\n",
    "import numpy as np\n",
    "from sklearn.preprocessing import LabelEncoder\n",
    "# from nltk.stem import WordNetLemmatizer\n",
    "# nltk.download('wordnet')\n",
    "# nltk.download('omw-1.4')\n",
    "# lemma = WordNetLemmatizer()\n",
    "# from sklearn.feature_extraction.text import CountVectorizer"
   ]
  },
  {
   "cell_type": "markdown",
   "metadata": {},
   "source": [
    "# Merchants data preprocessing"
   ]
  },
  {
   "cell_type": "code",
   "execution_count": 53,
   "metadata": {},
   "outputs": [],
   "source": [
    "merchants_df = pd.read_parquet('../data/tables/tbl_merchants.parquet').reset_index()"
   ]
  },
  {
   "cell_type": "code",
   "execution_count": 43,
   "metadata": {},
   "outputs": [
    {
     "data": {
      "text/plain": [
       "'((furniture, home furnishings and equipment shops, and manufacturers, except appliances), (e), (take rate: 0.18))'"
      ]
     },
     "execution_count": 43,
     "metadata": {},
     "output_type": "execute_result"
    }
   ],
   "source": [
    "merchants_df.head(1).loc[0, 'tags']"
   ]
  },
  {
   "cell_type": "markdown",
   "metadata": {},
   "source": [
    "### Remove invalid ABNS\n",
    "All have length 11"
   ]
  },
  {
   "cell_type": "code",
   "execution_count": 54,
   "metadata": {},
   "outputs": [],
   "source": [
    "merchants_df = merchants_df[merchants_df['merchant_abn'].astype(str).str.len() == 11]"
   ]
  },
  {
   "cell_type": "code",
   "execution_count": 55,
   "metadata": {},
   "outputs": [],
   "source": [
    "#First separte text into 3 separate features (separated by () or [])\n",
    "def separate_tags(row):\n",
    "    features = re.findall(r'[\\(|\\[][\\(|\\[](.*)[\\)|\\]],\\s[\\(|\\[](.*)[\\)|\\]],\\s[\\(|\\[](.*)[\\)|\\]][\\)|\\]]', row['tags'])\n",
    "    row['feature_1'] = features[0][0]\n",
    "    row['feature_2'] = features[0][1]\n",
    "    row['feature_3'] = features[0][2]\n",
    "    return row\n",
    "merchants_df = merchants_df.apply(separate_tags, axis = 1)"
   ]
  },
  {
   "cell_type": "code",
   "execution_count": 57,
   "metadata": {},
   "outputs": [],
   "source": [
    "# convert the take rate feature (feature_2) to float type\n",
    "def get_take_rate(x):\n",
    "    feature = re.findall('take rate: (\\d+\\.\\d+)', x)\n",
    "    return float(feature[0])/100\n",
    "\n",
    "merchants_df['feature_3'] = merchants_df['feature_3'].apply(get_take_rate)\n",
    "merchants_df = merchants_df.rename(columns = {'feature_2': 'revenue_level', 'feature_1': 'category', 'feature_3' : 'take_rate'})\n",
    "merchants_df = merchants_df.drop(columns = 'tags')"
   ]
  },
  {
   "cell_type": "code",
   "execution_count": 58,
   "metadata": {},
   "outputs": [],
   "source": [
    "# 971 Unique instances of the unpreprocessed tags\n",
    "# Preprocessing 'category' occurs in this cell\n",
    "\n",
    "merchants_df['category'] = merchants_df['category'].str.lower()\n",
    "merchants_df['category'] = merchants_df['category'].str.split(' and ')\n",
    "\n",
    "new_category = []\n",
    "for e in merchants_df['category']:\n",
    "    new = ', '.join(e)\n",
    "    new_category.append(new)\n",
    "merchants_df['category'] = new_category\n",
    "\n",
    "merchants_df['category'] = merchants_df['category'].str.split(',')\n",
    "\n",
    "new_category = []\n",
    "for e in merchants_df['category']: \n",
    "    # # Lemmatizing\n",
    "    # for i in e:\n",
    "    #     new_e.append(lemma.lemmatize(i))\n",
    "    \n",
    "    new_e = []\n",
    "    # Removing leading and trailing whitespace\n",
    "    for i in e:\n",
    "        word = i.lstrip().rstrip()\n",
    "        word = re.sub(r'\\s{2,}', ' ', word)\n",
    "        new_e.append(word)\n",
    "\n",
    "    # Removing empty options in list\n",
    "    removeIndex = []\n",
    "    for i in range(len(new_e)):\n",
    "        if not new_e[i]:\n",
    "            removeIndex.insert(0, i)\n",
    "    for i in removeIndex:\n",
    "        new_e.pop(i)     \n",
    "\n",
    "    new_category.append(new_e)\n",
    "\n",
    "merchants_df['category'] = new_category"
   ]
  },
  {
   "cell_type": "code",
   "execution_count": 59,
   "metadata": {},
   "outputs": [
    {
     "name": "stdout",
     "output_type": "stream",
     "text": [
      "11731\n"
     ]
    }
   ],
   "source": [
    "merged_categories = []\n",
    "for e in merchants_df['category']:\n",
    "    merged_categories.extend(e)\n",
    "print(len(merged_categories))\n",
    "C = Counter(merged_categories)\n",
    "# print(len(C))\n",
    "# print(C)"
   ]
  },
  {
   "cell_type": "code",
   "execution_count": null,
   "metadata": {},
   "outputs": [],
   "source": [
    "le = LabelEncoder()\n",
    "merchants_df['category_indexed'] = le.fit_transform(merchants_df['category'].astype(str))"
   ]
  },
  {
   "cell_type": "code",
   "execution_count": 67,
   "metadata": {},
   "outputs": [],
   "source": [
    "merchants_df.to_parquet('../data/curated/merchants.parquet', index = False)"
   ]
  },
  {
   "cell_type": "code",
   "execution_count": 41,
   "metadata": {},
   "outputs": [],
   "source": [
    "merchants_df = pd.read_parquet('../data/curated/merchants.parquet')"
   ]
  },
  {
   "cell_type": "markdown",
   "metadata": {},
   "source": [
    "Implementing a rudimentary heuristic for ranking 'category', based on the average revenue level associated with the category"
   ]
  },
  {
   "cell_type": "code",
   "execution_count": 170,
   "metadata": {},
   "outputs": [
    {
     "data": {
      "text/plain": [
       "{'furniture': 1.7527472527472527,\n",
       " 'home furnishings': 1.7527472527472527,\n",
       " 'equipment shops': 1.7527472527472527,\n",
       " 'manufacturers': 1.7527472527472527,\n",
       " 'except appliances': 1.7647058823529411,\n",
       " 'cable': 1.7647058823529411,\n",
       " 'satellite': 1.7647058823529411,\n",
       " 'other pay television': 1.7724550898203593,\n",
       " 'radio services': 1.7724550898203593,\n",
       " 'jewelry': 1.7724550898203593,\n",
       " 'watch': 1.7802197802197801,\n",
       " 'clock': 1.7802197802197801,\n",
       " 'silverware shops': 1.7802197802197801,\n",
       " 'jewelry repair shops': 1.7802197802197801,\n",
       " 'music shops - musical instruments': 1.8054054054054054,\n",
       " 'pianos': 1.8102564102564103,\n",
       " 'sheet music': 1.8102564102564103,\n",
       " 'gift': 1.8102564102564103,\n",
       " 'card': 1.8176470588235294,\n",
       " 'novelty': 1.822857142857143,\n",
       " 'souvenir shops': 1.822857142857143,\n",
       " 'computers': 1.822857142857143,\n",
       " 'computer peripheral equipment': 1.822857142857143,\n",
       " 'software': 1.8232044198895028,\n",
       " 'computer programming': 1.8232044198895028,\n",
       " 'data processing': 1.8232044198895028,\n",
       " 'integrated systems design services': 1.8707865168539326,\n",
       " 'equipment': 1.8707865168539326,\n",
       " 'tool': 1.9024390243902438,\n",
       " 'appliance rent al': 1.9024390243902438,\n",
       " 'leasing': 1.9055555555555554,\n",
       " 'artist supply': 1.9055555555555554,\n",
       " 'craft shops': 1.9055555555555554,\n",
       " 'florists supplies': 1.9082278481012658,\n",
       " 'nursery stock': 1.908450704225352,\n",
       " 'flowers': 1.908450704225352,\n",
       " 'antique shops - sales': 1.908450704225352,\n",
       " 'repairs': 1.911764705882353,\n",
       " 'restoration services': 1.911764705882353,\n",
       " 'motor vehicle supplies': 1.9146341463414633,\n",
       " 'new parts': 1.9146341463414633,\n",
       " 'books': 1.9146341463414633,\n",
       " 'periodicals': 1.927461139896373,\n",
       " 'newspapers': 1.927461139896373,\n",
       " 'stationery': 1.9602649006622517,\n",
       " 'office supplies': 1.9602649006622517,\n",
       " 'printing': 1.9602649006622517,\n",
       " 'writing paper': 1.9842931937172774,\n",
       " 'tent': 1.9842931937172774,\n",
       " 'awning shops': 1.9842931937172774,\n",
       " 'art dealers': 1.9933774834437086,\n",
       " 'galleries': 1.9933774834437086,\n",
       " 'bicycle shops - sales': 2.0229885057471266,\n",
       " 'service': 2.0229885057471266,\n",
       " 'digital goods: books': 2.0775193798449614,\n",
       " 'movies': 2.0775193798449614,\n",
       " 'music': 2.0775193798449614,\n",
       " 'shoe shops': 2.1194029850746268,\n",
       " 'opticians': 2.1194029850746268,\n",
       " 'optical goods': 2.1194029850746268,\n",
       " 'eyeglasses': 2.1194029850746268,\n",
       " 'health': 2.130434782608696,\n",
       " 'beauty spas': 2.130434782608696,\n",
       " 'hobby': 2.130434782608696,\n",
       " 'toy': 2.130434782608696,\n",
       " 'game shops': 2.16,\n",
       " 'lawn': 2.169642857142857,\n",
       " 'garden supply outlets': 2.169642857142857,\n",
       " 'including nurseries': 2.4065934065934065,\n",
       " 'telecom': 2.4065934065934065}"
      ]
     },
     "execution_count": 170,
     "metadata": {},
     "output_type": "execute_result"
    }
   ],
   "source": [
    "revenue_level_dict = {category : [] for category in list(C)}\n",
    "\n",
    "for index in merchants_df.index:\n",
    "    for category in merchants_df['category'][index]:\n",
    "        revenue_level_dict[category].append(merchants_df['revenue_level'][index])\n",
    "\n",
    "# for category in list(C):\n",
    "#     C2 = Counter(revenue_level_dict[category])\n",
    "#     revenue_level_dict[category] = C2\n",
    "\n",
    "for category in list(C):    \n",
    "    sum = 0\n",
    "    instances = 0\n",
    "    for revenue_level in revenue_level_dict[category]:\n",
    "        match revenue_level:\n",
    "            case \"a\":\n",
    "                sum += 1\n",
    "            case \"b\":\n",
    "                sum += 2\n",
    "            case \"c\":\n",
    "                sum += 3\n",
    "            case \"d\":\n",
    "                sum += 4\n",
    "            case \"e\":\n",
    "                sum += 5\n",
    "        instances += 1\n",
    "    revenue_level_dict[category] = sum / instances\n",
    "\n",
    "# Reference: https://www.geeksforgeeks.org/python-sort-python-dictionaries-by-key-or-value/\n",
    "sorted_value_index = np.argsort(revenue_level_dict.values())\n",
    "dictionary_keys = list(revenue_level_dict.keys())\n",
    "sorted_dict = {dictionary_keys[i]: sorted(\n",
    "    revenue_level_dict.values())[i] for i in range(len(dictionary_keys))}\n",
    "\n",
    "\n",
    "sorted_dict"
   ]
  },
  {
   "cell_type": "markdown",
   "metadata": {},
   "source": [
    "Not a large difference between the minimum and maximum categories according to this heuristic. Plan to scrap this, and rank categories better once total transactions per company are calculated."
   ]
  }
 ],
 "metadata": {
  "kernelspec": {
   "display_name": "Python 3.10.4 64-bit",
   "language": "python",
   "name": "python3"
  },
  "language_info": {
   "codemirror_mode": {
    "name": "ipython",
    "version": 3
   },
   "file_extension": ".py",
   "mimetype": "text/x-python",
   "name": "python",
   "nbconvert_exporter": "python",
   "pygments_lexer": "ipython3",
   "version": "3.10.4"
  },
  "orig_nbformat": 4,
  "vscode": {
   "interpreter": {
    "hash": "916dbcbb3f70747c44a77c7bcd40155683ae19c65e1c03b4aa3499c5328201f1"
   }
  }
 },
 "nbformat": 4,
 "nbformat_minor": 2
}
