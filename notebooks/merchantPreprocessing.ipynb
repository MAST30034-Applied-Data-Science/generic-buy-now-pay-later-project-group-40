{
 "cells": [
  {
   "cell_type": "code",
   "execution_count": 6,
   "metadata": {},
   "outputs": [],
   "source": [
    "import pandas as pd\n",
    "import re\n",
    "from collections import Counter, OrderedDict\n",
    "import numpy as np\n",
    "from sklearn.preprocessing import LabelEncoder\n",
    "# from nltk.stem import WordNetLemmatizer\n",
    "# nltk.download('wordnet')\n",
    "# nltk.download('omw-1.4')\n",
    "# lemma = WordNetLemmatizer()\n",
    "# from sklearn.feature_extraction.text import CountVectorizer"
   ]
  },
  {
   "cell_type": "markdown",
   "metadata": {},
   "source": [
    "# Merchants data preprocessing"
   ]
  },
  {
   "cell_type": "code",
   "execution_count": 7,
   "metadata": {},
   "outputs": [],
   "source": [
    "merchants_df = pd.read_parquet('../data/tables/tbl_merchants.parquet').reset_index()"
   ]
  },
  {
   "cell_type": "code",
   "execution_count": 8,
   "metadata": {},
   "outputs": [
    {
     "data": {
      "text/plain": [
       "'((furniture, home furnishings and equipment shops, and manufacturers, except appliances), (e), (take rate: 0.18))'"
      ]
     },
     "execution_count": 8,
     "metadata": {},
     "output_type": "execute_result"
    }
   ],
   "source": [
    "merchants_df.head(1).loc[0, 'tags']"
   ]
  },
  {
   "cell_type": "markdown",
   "metadata": {},
   "source": [
    "### Remove invalid ABNS\n",
    "All have length 11"
   ]
  },
  {
   "cell_type": "code",
   "execution_count": 9,
   "metadata": {},
   "outputs": [],
   "source": [
    "merchants_df = merchants_df[merchants_df['merchant_abn'].astype(str).str.len() == 11]"
   ]
  },
  {
   "cell_type": "code",
   "execution_count": 10,
   "metadata": {},
   "outputs": [],
   "source": [
    "#First separte text into 3 separate features (separated by () or [])\n",
    "def separate_tags(row):\n",
    "    features = re.findall(r'[\\(|\\[][\\(|\\[](.*)[\\)|\\]],\\s[\\(|\\[](.*)[\\)|\\]],\\s[\\(|\\[](.*)[\\)|\\]][\\)|\\]]', row['tags'])\n",
    "    row['feature_1'] = features[0][0]\n",
    "    row['feature_2'] = features[0][1]\n",
    "    row['feature_3'] = features[0][2]\n",
    "    return row\n",
    "merchants_df = merchants_df.apply(separate_tags, axis = 1)"
   ]
  },
  {
   "cell_type": "code",
   "execution_count": 11,
   "metadata": {},
   "outputs": [],
   "source": [
    "# convert the take rate feature (feature_2) to float type\n",
    "def get_take_rate(x):\n",
    "    feature = re.findall('take rate: (\\d+\\.\\d+)', x)\n",
    "    return float(feature[0])/100\n",
    "\n",
    "merchants_df['feature_3'] = merchants_df['feature_3'].apply(get_take_rate)\n",
    "merchants_df = merchants_df.rename(columns = {'feature_2': 'revenue_level', 'feature_1': 'category', 'feature_3' : 'take_rate'})\n",
    "merchants_df = merchants_df.drop(columns = 'tags')"
   ]
  },
  {
   "cell_type": "code",
   "execution_count": 12,
   "metadata": {},
   "outputs": [],
   "source": [
    "# 971 Unique instances of the unpreprocessed tags\n",
    "# Preprocessing 'category' occurs in this cell\n",
    "\n",
    "merchants_df['category'] = merchants_df['category'].str.lower()\n",
    "merchants_df['category'] = merchants_df['category'].str.split(' and ')\n",
    "\n",
    "new_category = []\n",
    "for e in merchants_df['category']:\n",
    "    new = ', '.join(e)\n",
    "    new_category.append(new)\n",
    "merchants_df['category'] = new_category\n",
    "\n",
    "merchants_df['category'] = merchants_df['category'].str.split(',')\n",
    "\n",
    "new_category = []\n",
    "for e in merchants_df['category']: \n",
    "    # # Lemmatizing\n",
    "    # for i in e:\n",
    "    #     new_e.append(lemma.lemmatize(i))\n",
    "    \n",
    "    new_e = []\n",
    "    # Removing leading and trailing whitespace\n",
    "    for i in e:\n",
    "        word = i.lstrip().rstrip()\n",
    "        word = re.sub(r'\\s{2,}', ' ', word)\n",
    "        new_e.append(word)\n",
    "\n",
    "    # Removing empty options in list\n",
    "    removeIndex = []\n",
    "    for i in range(len(new_e)):\n",
    "        if not new_e[i]:\n",
    "            removeIndex.insert(0, i)\n",
    "    for i in removeIndex:\n",
    "        new_e.pop(i)     \n",
    "\n",
    "    new_category.append(new_e)\n",
    "\n",
    "merchants_df['category'] = new_category"
   ]
  },
  {
   "cell_type": "code",
   "execution_count": 13,
   "metadata": {},
   "outputs": [
    {
     "name": "stdout",
     "output_type": "stream",
     "text": [
      "11731\n"
     ]
    }
   ],
   "source": [
    "merged_categories = []\n",
    "for e in merchants_df['category']:\n",
    "    merged_categories.extend(e)\n",
    "print(len(merged_categories))\n",
    "C = Counter(merged_categories)\n",
    "# print(len(C))\n",
    "# print(C)"
   ]
  },
  {
   "cell_type": "code",
   "execution_count": 14,
   "metadata": {},
   "outputs": [],
   "source": [
    "le = LabelEncoder()\n",
    "merchants_df['category_indexed'] = le.fit_transform(merchants_df['category'].astype(str))"
   ]
  },
  {
   "cell_type": "markdown",
   "metadata": {},
   "source": [
    "### Assigning Segments"
   ]
  },
  {
   "cell_type": "code",
   "execution_count": 15,
   "metadata": {},
   "outputs": [
    {
     "data": {
      "text/html": [
       "<div>\n",
       "<style scoped>\n",
       "    .dataframe tbody tr th:only-of-type {\n",
       "        vertical-align: middle;\n",
       "    }\n",
       "\n",
       "    .dataframe tbody tr th {\n",
       "        vertical-align: top;\n",
       "    }\n",
       "\n",
       "    .dataframe thead th {\n",
       "        text-align: right;\n",
       "    }\n",
       "</style>\n",
       "<table border=\"1\" class=\"dataframe\">\n",
       "  <thead>\n",
       "    <tr style=\"text-align: right;\">\n",
       "      <th></th>\n",
       "      <th>category</th>\n",
       "      <th>segment</th>\n",
       "    </tr>\n",
       "    <tr>\n",
       "      <th>category_indexed</th>\n",
       "      <th></th>\n",
       "      <th></th>\n",
       "    </tr>\n",
       "  </thead>\n",
       "  <tbody>\n",
       "    <tr>\n",
       "      <th>0</th>\n",
       "      <td>['antique shops - sales', 'repairs', 'restorat...</td>\n",
       "      <td>Home</td>\n",
       "    </tr>\n",
       "    <tr>\n",
       "      <th>1</th>\n",
       "      <td>['art dealers', 'galleries']</td>\n",
       "      <td>Art</td>\n",
       "    </tr>\n",
       "    <tr>\n",
       "      <th>2</th>\n",
       "      <td>['artist supply', 'craft shops']</td>\n",
       "      <td>Art</td>\n",
       "    </tr>\n",
       "    <tr>\n",
       "      <th>3</th>\n",
       "      <td>['bicycle shops - sales', 'service']</td>\n",
       "      <td>Home</td>\n",
       "    </tr>\n",
       "    <tr>\n",
       "      <th>4</th>\n",
       "      <td>['books', 'periodicals', 'newspapers']</td>\n",
       "      <td>Media and Technology</td>\n",
       "    </tr>\n",
       "    <tr>\n",
       "      <th>5</th>\n",
       "      <td>['cable', 'satellite', 'other pay television',...</td>\n",
       "      <td>Media and Technology</td>\n",
       "    </tr>\n",
       "    <tr>\n",
       "      <th>6</th>\n",
       "      <td>['computer programming', 'data processing', 'i...</td>\n",
       "      <td>Media and Technology</td>\n",
       "    </tr>\n",
       "    <tr>\n",
       "      <th>7</th>\n",
       "      <td>['computers', 'computer peripheral equipment',...</td>\n",
       "      <td>Media and Technology</td>\n",
       "    </tr>\n",
       "    <tr>\n",
       "      <th>8</th>\n",
       "      <td>['digital goods: books', 'movies', 'music']</td>\n",
       "      <td>Media and Technology</td>\n",
       "    </tr>\n",
       "    <tr>\n",
       "      <th>9</th>\n",
       "      <td>['equipment', 'tool', 'furniture', 'appliance ...</td>\n",
       "      <td>Home</td>\n",
       "    </tr>\n",
       "    <tr>\n",
       "      <th>10</th>\n",
       "      <td>['florists supplies', 'nursery stock', 'flowers']</td>\n",
       "      <td>Home</td>\n",
       "    </tr>\n",
       "    <tr>\n",
       "      <th>11</th>\n",
       "      <td>['furniture', 'home furnishings', 'equipment s...</td>\n",
       "      <td>Home</td>\n",
       "    </tr>\n",
       "    <tr>\n",
       "      <th>12</th>\n",
       "      <td>['gift', 'card', 'novelty', 'souvenir shops']</td>\n",
       "      <td>Miscellaneous</td>\n",
       "    </tr>\n",
       "    <tr>\n",
       "      <th>13</th>\n",
       "      <td>['health', 'beauty spas']</td>\n",
       "      <td>Miscellaneous</td>\n",
       "    </tr>\n",
       "    <tr>\n",
       "      <th>14</th>\n",
       "      <td>['hobby', 'toy', 'game shops']</td>\n",
       "      <td>Miscellaneous</td>\n",
       "    </tr>\n",
       "    <tr>\n",
       "      <th>15</th>\n",
       "      <td>['jewelry', 'watch', 'clock', 'silverware shops']</td>\n",
       "      <td>Accessories</td>\n",
       "    </tr>\n",
       "    <tr>\n",
       "      <th>16</th>\n",
       "      <td>['lawn', 'garden supply outlets', 'including n...</td>\n",
       "      <td>Home</td>\n",
       "    </tr>\n",
       "    <tr>\n",
       "      <th>17</th>\n",
       "      <td>['motor vehicle supplies', 'new parts']</td>\n",
       "      <td>Home</td>\n",
       "    </tr>\n",
       "    <tr>\n",
       "      <th>18</th>\n",
       "      <td>['music shops - musical instruments', 'pianos'...</td>\n",
       "      <td>Art</td>\n",
       "    </tr>\n",
       "    <tr>\n",
       "      <th>19</th>\n",
       "      <td>['opticians', 'optical goods', 'eyeglasses']</td>\n",
       "      <td>Accessories</td>\n",
       "    </tr>\n",
       "    <tr>\n",
       "      <th>20</th>\n",
       "      <td>['shoe shops']</td>\n",
       "      <td>Accessories</td>\n",
       "    </tr>\n",
       "    <tr>\n",
       "      <th>21</th>\n",
       "      <td>['stationery', 'office supplies', 'printing', ...</td>\n",
       "      <td>Miscellaneous</td>\n",
       "    </tr>\n",
       "    <tr>\n",
       "      <th>22</th>\n",
       "      <td>['telecom']</td>\n",
       "      <td>Media and Technology</td>\n",
       "    </tr>\n",
       "    <tr>\n",
       "      <th>23</th>\n",
       "      <td>['tent', 'awning shops']</td>\n",
       "      <td>Home</td>\n",
       "    </tr>\n",
       "    <tr>\n",
       "      <th>24</th>\n",
       "      <td>['watch', 'clock', 'jewelry repair shops']</td>\n",
       "      <td>Accessories</td>\n",
       "    </tr>\n",
       "  </tbody>\n",
       "</table>\n",
       "</div>"
      ],
      "text/plain": [
       "                                                           category  \\\n",
       "category_indexed                                                      \n",
       "0                 ['antique shops - sales', 'repairs', 'restorat...   \n",
       "1                                      ['art dealers', 'galleries']   \n",
       "2                                  ['artist supply', 'craft shops']   \n",
       "3                              ['bicycle shops - sales', 'service']   \n",
       "4                            ['books', 'periodicals', 'newspapers']   \n",
       "5                 ['cable', 'satellite', 'other pay television',...   \n",
       "6                 ['computer programming', 'data processing', 'i...   \n",
       "7                 ['computers', 'computer peripheral equipment',...   \n",
       "8                       ['digital goods: books', 'movies', 'music']   \n",
       "9                 ['equipment', 'tool', 'furniture', 'appliance ...   \n",
       "10                ['florists supplies', 'nursery stock', 'flowers']   \n",
       "11                ['furniture', 'home furnishings', 'equipment s...   \n",
       "12                    ['gift', 'card', 'novelty', 'souvenir shops']   \n",
       "13                                        ['health', 'beauty spas']   \n",
       "14                                   ['hobby', 'toy', 'game shops']   \n",
       "15                ['jewelry', 'watch', 'clock', 'silverware shops']   \n",
       "16                ['lawn', 'garden supply outlets', 'including n...   \n",
       "17                          ['motor vehicle supplies', 'new parts']   \n",
       "18                ['music shops - musical instruments', 'pianos'...   \n",
       "19                     ['opticians', 'optical goods', 'eyeglasses']   \n",
       "20                                                   ['shoe shops']   \n",
       "21                ['stationery', 'office supplies', 'printing', ...   \n",
       "22                                                      ['telecom']   \n",
       "23                                         ['tent', 'awning shops']   \n",
       "24                       ['watch', 'clock', 'jewelry repair shops']   \n",
       "\n",
       "                               segment  \n",
       "category_indexed                        \n",
       "0                                 Home  \n",
       "1                                  Art  \n",
       "2                                  Art  \n",
       "3                                 Home  \n",
       "4                 Media and Technology  \n",
       "5                 Media and Technology  \n",
       "6                 Media and Technology  \n",
       "7                 Media and Technology  \n",
       "8                 Media and Technology  \n",
       "9                                 Home  \n",
       "10                                Home  \n",
       "11                                Home  \n",
       "12                       Miscellaneous  \n",
       "13                       Miscellaneous  \n",
       "14                       Miscellaneous  \n",
       "15                         Accessories  \n",
       "16                                Home  \n",
       "17                                Home  \n",
       "18                                 Art  \n",
       "19                         Accessories  \n",
       "20                         Accessories  \n",
       "21                       Miscellaneous  \n",
       "22                Media and Technology  \n",
       "23                                Home  \n",
       "24                         Accessories  "
      ]
     },
     "execution_count": 15,
     "metadata": {},
     "output_type": "execute_result"
    }
   ],
   "source": [
    "segments_df = pd.read_csv('../data/curated/segments.csv')\n",
    "segments_df = segments_df.set_index('category_indexed')\n",
    "segments_df.head(25)"
   ]
  },
  {
   "cell_type": "code",
   "execution_count": 17,
   "metadata": {},
   "outputs": [
    {
     "data": {
      "text/plain": [
       "(4026, 6)"
      ]
     },
     "execution_count": 17,
     "metadata": {},
     "output_type": "execute_result"
    }
   ],
   "source": [
    "merchants_df.shape"
   ]
  },
  {
   "cell_type": "code",
   "execution_count": 18,
   "metadata": {},
   "outputs": [
    {
     "data": {
      "text/html": [
       "<div>\n",
       "<style scoped>\n",
       "    .dataframe tbody tr th:only-of-type {\n",
       "        vertical-align: middle;\n",
       "    }\n",
       "\n",
       "    .dataframe tbody tr th {\n",
       "        vertical-align: top;\n",
       "    }\n",
       "\n",
       "    .dataframe thead th {\n",
       "        text-align: right;\n",
       "    }\n",
       "</style>\n",
       "<table border=\"1\" class=\"dataframe\">\n",
       "  <thead>\n",
       "    <tr style=\"text-align: right;\">\n",
       "      <th></th>\n",
       "      <th>merchant_abn</th>\n",
       "      <th>name</th>\n",
       "      <th>category</th>\n",
       "      <th>revenue_level</th>\n",
       "      <th>take_rate</th>\n",
       "      <th>category_indexed</th>\n",
       "      <th>segment</th>\n",
       "    </tr>\n",
       "  </thead>\n",
       "  <tbody>\n",
       "    <tr>\n",
       "      <th>0</th>\n",
       "      <td>10023283211</td>\n",
       "      <td>Felis Limited</td>\n",
       "      <td>[furniture, home furnishings, equipment shops,...</td>\n",
       "      <td>e</td>\n",
       "      <td>0.0018</td>\n",
       "      <td>11</td>\n",
       "      <td>Home</td>\n",
       "    </tr>\n",
       "    <tr>\n",
       "      <th>1</th>\n",
       "      <td>10142254217</td>\n",
       "      <td>Arcu Ac Orci Corporation</td>\n",
       "      <td>[cable, satellite, other pay television, radio...</td>\n",
       "      <td>b</td>\n",
       "      <td>0.0422</td>\n",
       "      <td>5</td>\n",
       "      <td>Media and Technology</td>\n",
       "    </tr>\n",
       "    <tr>\n",
       "      <th>2</th>\n",
       "      <td>10165489824</td>\n",
       "      <td>Nunc Sed Company</td>\n",
       "      <td>[jewelry, watch, clock, silverware shops]</td>\n",
       "      <td>b</td>\n",
       "      <td>0.0440</td>\n",
       "      <td>15</td>\n",
       "      <td>Accessories</td>\n",
       "    </tr>\n",
       "    <tr>\n",
       "      <th>3</th>\n",
       "      <td>10187291046</td>\n",
       "      <td>Ultricies Dignissim Lacus Foundation</td>\n",
       "      <td>[watch, clock, jewelry repair shops]</td>\n",
       "      <td>b</td>\n",
       "      <td>0.0329</td>\n",
       "      <td>24</td>\n",
       "      <td>Accessories</td>\n",
       "    </tr>\n",
       "    <tr>\n",
       "      <th>4</th>\n",
       "      <td>10192359162</td>\n",
       "      <td>Enim Condimentum PC</td>\n",
       "      <td>[music shops - musical instruments, pianos, sh...</td>\n",
       "      <td>a</td>\n",
       "      <td>0.0633</td>\n",
       "      <td>18</td>\n",
       "      <td>Art</td>\n",
       "    </tr>\n",
       "    <tr>\n",
       "      <th>5</th>\n",
       "      <td>10206519221</td>\n",
       "      <td>Fusce Company</td>\n",
       "      <td>[gift, card, novelty, souvenir shops]</td>\n",
       "      <td>a</td>\n",
       "      <td>0.0634</td>\n",
       "      <td>12</td>\n",
       "      <td>Miscellaneous</td>\n",
       "    </tr>\n",
       "    <tr>\n",
       "      <th>6</th>\n",
       "      <td>10255988167</td>\n",
       "      <td>Aliquam Enim Incorporated</td>\n",
       "      <td>[computers, computer peripheral equipment, sof...</td>\n",
       "      <td>b</td>\n",
       "      <td>0.0432</td>\n",
       "      <td>7</td>\n",
       "      <td>Media and Technology</td>\n",
       "    </tr>\n",
       "    <tr>\n",
       "      <th>7</th>\n",
       "      <td>10264435225</td>\n",
       "      <td>Ipsum Primis Ltd</td>\n",
       "      <td>[watch, clock, jewelry repair shops]</td>\n",
       "      <td>c</td>\n",
       "      <td>0.0239</td>\n",
       "      <td>24</td>\n",
       "      <td>Accessories</td>\n",
       "    </tr>\n",
       "    <tr>\n",
       "      <th>8</th>\n",
       "      <td>10279061213</td>\n",
       "      <td>Pede Ultrices Industries</td>\n",
       "      <td>[computer programming, data processing, integr...</td>\n",
       "      <td>a</td>\n",
       "      <td>0.0571</td>\n",
       "      <td>6</td>\n",
       "      <td>Media and Technology</td>\n",
       "    </tr>\n",
       "    <tr>\n",
       "      <th>9</th>\n",
       "      <td>10323485998</td>\n",
       "      <td>Nunc Inc.</td>\n",
       "      <td>[furniture, home furnishings, equipment shops,...</td>\n",
       "      <td>a</td>\n",
       "      <td>0.0661</td>\n",
       "      <td>11</td>\n",
       "      <td>Home</td>\n",
       "    </tr>\n",
       "  </tbody>\n",
       "</table>\n",
       "</div>"
      ],
      "text/plain": [
       "   merchant_abn                                  name  \\\n",
       "0   10023283211                         Felis Limited   \n",
       "1   10142254217              Arcu Ac Orci Corporation   \n",
       "2   10165489824                      Nunc Sed Company   \n",
       "3   10187291046  Ultricies Dignissim Lacus Foundation   \n",
       "4   10192359162                   Enim Condimentum PC   \n",
       "5   10206519221                         Fusce Company   \n",
       "6   10255988167             Aliquam Enim Incorporated   \n",
       "7   10264435225                      Ipsum Primis Ltd   \n",
       "8   10279061213              Pede Ultrices Industries   \n",
       "9   10323485998                             Nunc Inc.   \n",
       "\n",
       "                                            category revenue_level  take_rate  \\\n",
       "0  [furniture, home furnishings, equipment shops,...             e     0.0018   \n",
       "1  [cable, satellite, other pay television, radio...             b     0.0422   \n",
       "2          [jewelry, watch, clock, silverware shops]             b     0.0440   \n",
       "3               [watch, clock, jewelry repair shops]             b     0.0329   \n",
       "4  [music shops - musical instruments, pianos, sh...             a     0.0633   \n",
       "5              [gift, card, novelty, souvenir shops]             a     0.0634   \n",
       "6  [computers, computer peripheral equipment, sof...             b     0.0432   \n",
       "7               [watch, clock, jewelry repair shops]             c     0.0239   \n",
       "8  [computer programming, data processing, integr...             a     0.0571   \n",
       "9  [furniture, home furnishings, equipment shops,...             a     0.0661   \n",
       "\n",
       "   category_indexed               segment  \n",
       "0                11                  Home  \n",
       "1                 5  Media and Technology  \n",
       "2                15           Accessories  \n",
       "3                24           Accessories  \n",
       "4                18                   Art  \n",
       "5                12         Miscellaneous  \n",
       "6                 7  Media and Technology  \n",
       "7                24           Accessories  \n",
       "8                 6  Media and Technology  \n",
       "9                11                  Home  "
      ]
     },
     "execution_count": 18,
     "metadata": {},
     "output_type": "execute_result"
    }
   ],
   "source": [
    "merchants_segments_df = merchants_df.join(segments_df, on='category_indexed', how='left', lsuffix='_merchant', rsuffix='_segment')\n",
    "merchants_segments_df = merchants_segments_df[['merchant_abn','name','category_merchant','revenue_level','take_rate','category_indexed','segment']]\n",
    "merchants_segments_df.rename(columns = {'category_merchant':'category'}, inplace = True)\n",
    "merchants_segments_df.head(10)"
   ]
  },
  {
   "cell_type": "code",
   "execution_count": 19,
   "metadata": {},
   "outputs": [
    {
     "data": {
      "text/plain": [
       "(4026, 7)"
      ]
     },
     "execution_count": 19,
     "metadata": {},
     "output_type": "execute_result"
    }
   ],
   "source": [
    "merchants_segments_df.shape"
   ]
  },
  {
   "cell_type": "markdown",
   "metadata": {},
   "source": [
    "Export dataframe as parquet"
   ]
  },
  {
   "cell_type": "code",
   "execution_count": 20,
   "metadata": {},
   "outputs": [],
   "source": [
    "merchants_segments_df.to_parquet('../data/curated/merchants.parquet', index = False)"
   ]
  },
  {
   "cell_type": "code",
   "execution_count": 21,
   "metadata": {},
   "outputs": [],
   "source": [
    "merchants2_df = pd.read_parquet('../data/curated/merchants.parquet')"
   ]
  }
 ],
 "metadata": {
  "kernelspec": {
   "display_name": "Python 3.10.4 64-bit",
   "language": "python",
   "name": "python3"
  },
  "language_info": {
   "codemirror_mode": {
    "name": "ipython",
    "version": 3
   },
   "file_extension": ".py",
   "mimetype": "text/x-python",
   "name": "python",
   "nbconvert_exporter": "python",
   "pygments_lexer": "ipython3",
   "version": "3.10.4"
  },
  "orig_nbformat": 4,
  "vscode": {
   "interpreter": {
    "hash": "916dbcbb3f70747c44a77c7bcd40155683ae19c65e1c03b4aa3499c5328201f1"
   }
  }
 },
 "nbformat": 4,
 "nbformat_minor": 2
}
