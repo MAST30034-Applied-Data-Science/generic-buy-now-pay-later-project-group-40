{
 "cells": [
  {
   "cell_type": "markdown",
   "metadata": {},
   "source": [
    "# Preprocessing"
   ]
  },
  {
   "cell_type": "markdown",
   "metadata": {},
   "source": [
    "### External preprocessing\n",
    "- Generates weights for each combination of postal area and gender (male, female, unknown)\n",
    "\n",
    "Chloropleth map of proportion of 18-24 year olds by postcode"
   ]
  },
  {
   "cell_type": "markdown",
   "metadata": {},
   "source": [
    "### Consumer preprocessing\n",
    "- Set null postcode for postcodes that didnt match state\n",
    "\n",
    "Chloropleth map of customers by postal area"
   ]
  },
  {
   "cell_type": "markdown",
   "metadata": {},
   "source": [
    "### Merchant preprocessing\n",
    "- Clean tags (25 unique tags)\n",
    "- Separate tags into 5 segments\n",
    "\n",
    "Load in 25 unique tags and the 5 segments"
   ]
  },
  {
   "cell_type": "markdown",
   "metadata": {},
   "source": [
    "### Transaction preprocessing\n",
    "- Remove transactions not between 5 and 10000\n",
    "- Apply weights (include weighting formula)\n",
    "\n",
    "Add some time series charts for a select few abns to justify use of forecasting model"
   ]
  },
  {
   "cell_type": "markdown",
   "metadata": {},
   "source": [
    "# Modelling"
   ]
  },
  {
   "cell_type": "markdown",
   "metadata": {},
   "source": [
    "### Pytorch neural network\n",
    "- Ben will explain model\n",
    "\n",
    "Evaluation charts"
   ]
  },
  {
   "cell_type": "markdown",
   "metadata": {},
   "source": [
    "# Results\n",
    "- Results by segment and total"
   ]
  },
  {
   "cell_type": "code",
   "execution_count": null,
   "metadata": {},
   "outputs": [],
   "source": []
  }
 ],
 "metadata": {
  "interpreter": {
   "hash": "92ea58c70db46728db75825e7170aaba7ae15ca2d0e36751b515e78ab3619849"
  },
  "kernelspec": {
   "display_name": "Python 3.10.4 64-bit ('ads_proj2': virtualenv)",
   "language": "python",
   "name": "python3"
  },
  "language_info": {
   "name": "python",
   "version": "3.10.4"
  },
  "orig_nbformat": 4
 },
 "nbformat": 4,
 "nbformat_minor": 2
}
