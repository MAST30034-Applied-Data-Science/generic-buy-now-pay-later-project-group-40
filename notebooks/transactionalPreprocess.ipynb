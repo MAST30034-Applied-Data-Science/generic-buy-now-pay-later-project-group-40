{
 "cells": [
  {
   "cell_type": "code",
   "execution_count": 2,
   "metadata": {},
   "outputs": [
    {
     "name": "stdout",
     "output_type": "stream",
     "text": [
      "22/09/12 01:38:16 WARN Utils: Your hostname, dash_surface resolves to a loopback address: 127.0.1.1; using 172.17.62.49 instead (on interface eth0)\n",
      "22/09/12 01:38:16 WARN Utils: Set SPARK_LOCAL_IP if you need to bind to another address\n"
     ]
    },
    {
     "name": "stderr",
     "output_type": "stream",
     "text": [
      "Setting default log level to \"WARN\".\n",
      "To adjust logging level use sc.setLogLevel(newLevel). For SparkR, use setLogLevel(newLevel).\n"
     ]
    },
    {
     "name": "stdout",
     "output_type": "stream",
     "text": [
      "22/09/12 01:38:19 WARN NativeCodeLoader: Unable to load native-hadoop library for your platform... using builtin-java classes where applicable\n"
     ]
    }
   ],
   "source": [
    "from pyspark.sql import SparkSession\n",
    "\n",
    "spark = (\n",
    "    SparkSession.builder.appName(\"MAST30034 Project 2\")\n",
    "    .config(\"spark.driver.memory\", '4g')\n",
    "    .config(\"spark.executor.memory\", '8g')\n",
    "    .config(\"spark.sql.session.timeZone\", \"Etc/UTC\")\n",
    "    .config(\"spark.sql.parquet.enableVectorizedReader\",\"false\")\n",
    "    .config(\"spark.sql.repl.eagerEval.enabled\", True) \n",
    "    .config(\"spark.sql.parquet.cacheMetadata\", \"true\")\n",
    "    .getOrCreate()\n",
    ")"
   ]
  },
  {
   "cell_type": "code",
   "execution_count": 3,
   "metadata": {},
   "outputs": [],
   "source": [
    "from pyspark.sql.functions import *\n",
    "from pyspark.sql import functions as F"
   ]
  },
  {
   "cell_type": "markdown",
   "metadata": {},
   "source": [
    "### Load consumer data"
   ]
  },
  {
   "cell_type": "code",
   "execution_count": 4,
   "metadata": {},
   "outputs": [
    {
     "name": "stderr",
     "output_type": "stream",
     "text": [
      "                                                                                \r"
     ]
    },
    {
     "name": "stdout",
     "output_type": "stream",
     "text": [
      "+-----------------+-----------------------------+-----+--------+------+-----------+\n",
      "|name             |address                      |state|postcode|gender|consumer_id|\n",
      "+-----------------+-----------------------------+-----+--------+------+-----------+\n",
      "|Yolanda Williams |413 Haney Gardens Apt. 742   |WA   |6935    |Female|1195503    |\n",
      "|Mary Smith       |3764 Amber Oval              |NSW  |2782    |Female|179208     |\n",
      "|Jill Jones MD    |40693 Henry Greens           |NT   |862     |Female|1194530    |\n",
      "|Lindsay Jimenez  |00653 Davenport Crossroad    |NSW  |2780    |Female|154128     |\n",
      "|Rebecca Blanchard|9271 Michael Manors Suite 651|WA   |6355    |Female|712975     |\n",
      "+-----------------+-----------------------------+-----+--------+------+-----------+\n",
      "only showing top 5 rows\n",
      "\n"
     ]
    }
   ],
   "source": [
    "sdf_consumer = spark.read.csv('../data/tables/tbl_consumer.csv', sep='|', header=True)\n",
    "sdf_consumer.show(5, truncate=False)"
   ]
  },
  {
   "cell_type": "code",
   "execution_count": 5,
   "metadata": {},
   "outputs": [
    {
     "data": {
      "text/plain": [
       "499999"
      ]
     },
     "execution_count": 5,
     "metadata": {},
     "output_type": "execute_result"
    }
   ],
   "source": [
    "sdf_consumer.count()"
   ]
  },
  {
   "cell_type": "markdown",
   "metadata": {},
   "source": [
    "### Load transactional data"
   ]
  },
  {
   "cell_type": "code",
   "execution_count": 5,
   "metadata": {},
   "outputs": [
    {
     "name": "stderr",
     "output_type": "stream",
     "text": [
      "                                                                                \r"
     ]
    },
    {
     "name": "stdout",
     "output_type": "stream",
     "text": [
      "+-------+------------+------------------+------------------------------------+--------------+\n",
      "|user_id|merchant_abn|dollar_value      |order_id                            |order_datetime|\n",
      "+-------+------------+------------------+------------------------------------+--------------+\n",
      "|18478  |62191208634 |63.255848959735246|949a63c8-29f7-4ab0-ada4-99ac50a88952|2021-08-20    |\n",
      "|2      |15549624934 |130.3505283105634 |6a84c3cf-612a-4574-835b-144a47353eff|2021-08-20    |\n",
      "|18479  |64403598239 |120.15860593212783|b10dcc33-e53f-4254-863c-de5266810cbc|2021-08-20    |\n",
      "|3      |60956456424 |136.6785200286976 |0f09c5a5-784e-4477-b049-8ee4dd069b7b|2021-08-20    |\n",
      "|18479  |94493496784 |72.96316578355305 |f6c78c1a-4600-4c5f-8e97-6e9eb534b586|2021-08-20    |\n",
      "|3      |76819856970 |448.529684285612  |5ace6a24-cdf0-4aa3-b571-1d9406b352b5|2021-08-20    |\n",
      "|18479  |67609108741 |86.4040605836911  |d0e180f0-cb06-42a3-bd1a-c47dca15bc55|2021-08-20    |\n",
      "|3      |34096466752 |301.5793450525113 |6fb1ff48-24bb-4f97-9a96-d2e8ca009bda|2021-08-20    |\n",
      "|18482  |70501974849 |68.75486276223054 |8505fb33-b69a-412a-a8e1-827983a66577|2021-08-20    |\n",
      "|4      |49891706470 |48.89796461900801 |ed11e477-b09f-4ae0-84fb-74531ce8c30c|2021-08-20    |\n",
      "+-------+------------+------------------+------------------------------------+--------------+\n",
      "only showing top 10 rows\n",
      "\n"
     ]
    },
    {
     "name": "stderr",
     "output_type": "stream",
     "text": [
      "                                                                                \r"
     ]
    }
   ],
   "source": [
    "sdf_transactions = spark.read.parquet('../data/tables/transactions_20210228_20210827_snapshot')\n",
    "sdf_transactions.show(10, truncate=False)"
   ]
  },
  {
   "cell_type": "code",
   "execution_count": 8,
   "metadata": {},
   "outputs": [
    {
     "name": "stderr",
     "output_type": "stream",
     "text": [
      "                                                                                \r"
     ]
    },
    {
     "data": {
      "text/plain": [
       "3643266"
      ]
     },
     "execution_count": 8,
     "metadata": {},
     "output_type": "execute_result"
    }
   ],
   "source": [
    "sdf_transactions.count()"
   ]
  },
  {
   "cell_type": "markdown",
   "metadata": {},
   "source": [
    "### Read consumer details (joining table)"
   ]
  },
  {
   "cell_type": "code",
   "execution_count": 6,
   "metadata": {},
   "outputs": [
    {
     "name": "stdout",
     "output_type": "stream",
     "text": [
      "+-------+-----------+\n",
      "|user_id|consumer_id|\n",
      "+-------+-----------+\n",
      "|1      |1195503    |\n",
      "|2      |179208     |\n",
      "|3      |1194530    |\n",
      "|4      |154128     |\n",
      "|5      |712975     |\n",
      "|6      |407340     |\n",
      "|7      |511685     |\n",
      "|8      |448088     |\n",
      "|9      |650435     |\n",
      "|10     |1058499    |\n",
      "+-------+-----------+\n",
      "only showing top 10 rows\n",
      "\n"
     ]
    }
   ],
   "source": [
    "sdf_userdetails = spark.read.parquet('../data/tables/consumer_user_details.parquet')\n",
    "sdf_userdetails.show(10, truncate=False)"
   ]
  },
  {
   "cell_type": "code",
   "execution_count": 10,
   "metadata": {},
   "outputs": [
    {
     "data": {
      "text/plain": [
       "499999"
      ]
     },
     "execution_count": 10,
     "metadata": {},
     "output_type": "execute_result"
    }
   ],
   "source": [
    "sdf_userdetails.count()"
   ]
  },
  {
   "cell_type": "markdown",
   "metadata": {},
   "source": [
    "### Join transactional data with consumer data"
   ]
  },
  {
   "cell_type": "code",
   "execution_count": 7,
   "metadata": {},
   "outputs": [
    {
     "name": "stderr",
     "output_type": "stream",
     "text": [
      "[Stage 12:>                                                         (0 + 1) / 1]\r"
     ]
    },
    {
     "name": "stdout",
     "output_type": "stream",
     "text": [
      "+-----------+-------+------------+------------------+--------------------+--------------+---------+--------------------+-----+--------+------+\n",
      "|consumer_id|user_id|merchant_abn|      dollar_value|            order_id|order_datetime|     name|             address|state|postcode|gender|\n",
      "+-----------+-------+------------+------------------+--------------------+--------------+---------+--------------------+-----+--------+------+\n",
      "|        551|   3471| 68216911708|  39.2325218595659|c921263e-489e-45a...|    2021-08-21|Todd Long|883 Patty Mountai...|  NSW|    2021|  Male|\n",
      "|        551|   3471| 77698107389| 90.16967584866273|aaea14f5-48e8-4ef...|    2021-08-21|Todd Long|883 Patty Mountai...|  NSW|    2021|  Male|\n",
      "|        551|   3471| 46451548968|3.8405569898888428|7e8e7fca-04a1-4f2...|    2021-08-19|Todd Long|883 Patty Mountai...|  NSW|    2021|  Male|\n",
      "|        551|   3471| 35556933338| 66.18325079406301|13b0be6a-20b7-439...|    2021-08-22|Todd Long|883 Patty Mountai...|  NSW|    2021|  Male|\n",
      "|        551|   3471| 91772719127|33.692747732339996|3750984f-4313-47d...|    2021-08-14|Todd Long|883 Patty Mountai...|  NSW|    2021|  Male|\n",
      "+-----------+-------+------------+------------------+--------------------+--------------+---------+--------------------+-----+--------+------+\n",
      "only showing top 5 rows\n",
      "\n"
     ]
    },
    {
     "name": "stderr",
     "output_type": "stream",
     "text": [
      "                                                                                \r"
     ]
    }
   ],
   "source": [
    "sdf_usertransaction = sdf_userdetails.join(sdf_transactions, on='user_id')\n",
    "sdf_consumer_transaction = sdf_usertransaction.join(sdf_consumer, on='consumer_id')\n",
    "sdf_consumer_transaction.show(5)"
   ]
  },
  {
   "cell_type": "code",
   "execution_count": 8,
   "metadata": {},
   "outputs": [
    {
     "name": "stderr",
     "output_type": "stream",
     "text": [
      "[Stage 15:=============================>                            (4 + 4) / 8]\r"
     ]
    },
    {
     "name": "stdout",
     "output_type": "stream",
     "text": [
      "+-----------+-------+------------+------------------+--------------+-----+--------+------+\n",
      "|consumer_id|user_id|merchant_abn|      dollar_value|order_datetime|state|postcode|gender|\n",
      "+-----------+-------+------------+------------------+--------------+-----+--------+------+\n",
      "|        551|   3471| 68216911708|  39.2325218595659|    2021-08-21|  NSW|    2021|  Male|\n",
      "|        551|   3471| 77698107389| 90.16967584866273|    2021-08-21|  NSW|    2021|  Male|\n",
      "|        551|   3471| 46451548968|3.8405569898888428|    2021-08-19|  NSW|    2021|  Male|\n",
      "|        551|   3471| 35556933338| 66.18325079406301|    2021-08-22|  NSW|    2021|  Male|\n",
      "|        551|   3471| 91772719127|33.692747732339996|    2021-08-14|  NSW|    2021|  Male|\n",
      "+-----------+-------+------------+------------------+--------------+-----+--------+------+\n",
      "only showing top 5 rows\n",
      "\n"
     ]
    },
    {
     "name": "stderr",
     "output_type": "stream",
     "text": [
      "                                                                                \r"
     ]
    }
   ],
   "source": [
    "# Only keeping useful features\n",
    "sdf_consumer_transaction = sdf_consumer_transaction.select(\"consumer_id\",\"user_id\",'merchant_abn','dollar_value',\n",
    "                            'order_datetime','state','postcode','gender')\n",
    "sdf_consumer_transaction.show(5)                   "
   ]
  },
  {
   "cell_type": "code",
   "execution_count": 13,
   "metadata": {},
   "outputs": [
    {
     "name": "stderr",
     "output_type": "stream",
     "text": [
      "                                                                                \r"
     ]
    },
    {
     "data": {
      "text/plain": [
       "3643266"
      ]
     },
     "execution_count": 13,
     "metadata": {},
     "output_type": "execute_result"
    }
   ],
   "source": [
    "# Checking final count to see if it joined properly\n",
    "sdf_consumer_transaction.count()"
   ]
  },
  {
   "cell_type": "code",
   "execution_count": 14,
   "metadata": {},
   "outputs": [
    {
     "name": "stderr",
     "output_type": "stream",
     "text": [
      "                                                                                \r"
     ]
    },
    {
     "data": {
      "text/html": [
       "<table border='1'>\n",
       "<tr><th>summary</th><th>consumer_id</th><th>user_id</th><th>merchant_abn</th><th>dollar_value</th><th>state</th><th>postcode</th><th>gender</th></tr>\n",
       "<tr><td>count</td><td>3643266</td><td>3643266</td><td>3643266</td><td>3643266</td><td>3643266</td><td>3643266</td><td>3643266</td></tr>\n",
       "<tr><td>mean</td><td>753342.8796423319</td><td>12038.386185362255</td><td>5.542282307467807E10</td><td>166.27987538249533</td><td>null</td><td>4043.809383119432</td><td>null</td></tr>\n",
       "<tr><td>stddev</td><td>435447.4489588989</td><td>6951.397455767658</td><td>2.532956222776528...</td><td>520.5869486446928</td><td>null</td><td>1780.2337681551908</td><td>null</td></tr>\n",
       "<tr><td>min</td><td>30</td><td>1</td><td>10023283211</td><td>9.756658099412162E-8</td><td>ACT</td><td>1001</td><td>Female</td></tr>\n",
       "<tr><td>max</td><td>1499867</td><td>24081</td><td>99990536339</td><td>105193.88578925544</td><td>WA</td><td>9999</td><td>Undisclosed</td></tr>\n",
       "</table>\n"
      ],
      "text/plain": [
       "+-------+-----------------+------------------+--------------------+--------------------+-------+------------------+-----------+\n",
       "|summary|      consumer_id|           user_id|        merchant_abn|        dollar_value|  state|          postcode|     gender|\n",
       "+-------+-----------------+------------------+--------------------+--------------------+-------+------------------+-----------+\n",
       "|  count|          3643266|           3643266|             3643266|             3643266|3643266|           3643266|    3643266|\n",
       "|   mean|753342.8796423319|12038.386185362255|5.542282307467807E10|  166.27987538249533|   null| 4043.809383119432|       null|\n",
       "| stddev|435447.4489588989| 6951.397455767658|2.532956222776528...|   520.5869486446928|   null|1780.2337681551908|       null|\n",
       "|    min|               30|                 1|         10023283211|9.756658099412162E-8|    ACT|              1001|     Female|\n",
       "|    max|          1499867|             24081|         99990536339|  105193.88578925544|     WA|              9999|Undisclosed|\n",
       "+-------+-----------------+------------------+--------------------+--------------------+-------+------------------+-----------+"
      ]
     },
     "execution_count": 14,
     "metadata": {},
     "output_type": "execute_result"
    }
   ],
   "source": [
    "# Looking at descriptive statistics for outlier analysis\n",
    "sdf_consumer_transaction.describe()"
   ]
  },
  {
   "cell_type": "code",
   "execution_count": 15,
   "metadata": {},
   "outputs": [
    {
     "name": "stdout",
     "output_type": "stream",
     "text": [
      "root\n",
      " |-- consumer_id: long (nullable = true)\n",
      " |-- user_id: long (nullable = true)\n",
      " |-- merchant_abn: long (nullable = true)\n",
      " |-- dollar_value: double (nullable = true)\n",
      " |-- order_datetime: date (nullable = true)\n",
      " |-- state: string (nullable = true)\n",
      " |-- postcode: string (nullable = true)\n",
      " |-- gender: string (nullable = true)\n",
      "\n"
     ]
    }
   ],
   "source": [
    "sdf_consumer_transaction.printSchema()"
   ]
  },
  {
   "cell_type": "markdown",
   "metadata": {},
   "source": [
    "### Deal with gender"
   ]
  },
  {
   "cell_type": "code",
   "execution_count": 16,
   "metadata": {},
   "outputs": [
    {
     "name": "stderr",
     "output_type": "stream",
     "text": [
      "                                                                                \r"
     ]
    },
    {
     "data": {
      "text/html": [
       "<table border='1'>\n",
       "<tr><th>gender</th><th>count</th></tr>\n",
       "<tr><td>Undisclosed</td><td>369963</td></tr>\n",
       "<tr><td>Female</td><td>1619059</td></tr>\n",
       "<tr><td>Male</td><td>1654244</td></tr>\n",
       "</table>\n"
      ],
      "text/plain": [
       "+-----------+-------+\n",
       "|     gender|  count|\n",
       "+-----------+-------+\n",
       "|Undisclosed| 369963|\n",
       "|     Female|1619059|\n",
       "|       Male|1654244|\n",
       "+-----------+-------+"
      ]
     },
     "execution_count": 16,
     "metadata": {},
     "output_type": "execute_result"
    }
   ],
   "source": [
    "# Checking gender categories\n",
    "sdf_consumer_transaction.groupBy('gender').count()"
   ]
  },
  {
   "cell_type": "markdown",
   "metadata": {},
   "source": [
    "With our genders, it may be a promising feature which woucl dbe used further along the line. Thus, we want to keep it for future references. However, there are people who wish to not disclose their gender and a gender feature as 'undisclosed' has appeared. The following code deals with attempting to find if there has been any past that customers who have said 'undisclosed' have provided us."
   ]
  },
  {
   "cell_type": "code",
   "execution_count": 24,
   "metadata": {},
   "outputs": [],
   "source": [
    "# Find all undisclosed information user id, then turn it into a  list\n",
    "\n",
    "undisc_user_id = sdf_consumer_transaction.select(F.col(\"user_id\")).where(F.col('gender') == \"Undisclosed\")\n",
    "undisc_user_id = undisc_user_id.distinct()"
   ]
  },
  {
   "cell_type": "code",
   "execution_count": 25,
   "metadata": {},
   "outputs": [
    {
     "name": "stderr",
     "output_type": "stream",
     "text": [
      "                                                                                \r"
     ]
    }
   ],
   "source": [
    "undisc_user_id = undisc_user_id.toPandas()[\"user_id\"].values.tolist()"
   ]
  },
  {
   "cell_type": "code",
   "execution_count": 21,
   "metadata": {},
   "outputs": [],
   "source": [
    "# Make sdf of all labelled genders\n",
    "\n",
    "disc_user_id = sdf_consumer_transaction.where(F.col('gender') != \"Undisclosed\")\n",
    "disc_user_id = disc_user_id.distinct()"
   ]
  },
  {
   "cell_type": "code",
   "execution_count": 23,
   "metadata": {},
   "outputs": [
    {
     "name": "stderr",
     "output_type": "stream",
     "text": [
      "                                                                                \r"
     ]
    }
   ],
   "source": [
    "disc_user_id = disc_user_id.toPandas()[\"user_id\"].values.tolist()"
   ]
  },
  {
   "cell_type": "code",
   "execution_count": 26,
   "metadata": {},
   "outputs": [],
   "source": [
    "# Observe if there's any customers who have previously put in a gender\n",
    "\n",
    "for undisc in undisc_user_id:\n",
    "    if undisc in disc_user_id:\n",
    "        print(undisc)"
   ]
  },
  {
   "cell_type": "markdown",
   "metadata": {},
   "source": [
    "For the first set of data, doesn't seem like there's any overlap. Smoge useless analysis"
   ]
  },
  {
   "cell_type": "code",
   "execution_count": 21,
   "metadata": {},
   "outputs": [
    {
     "name": "stderr",
     "output_type": "stream",
     "text": [
      "                                                                                \r"
     ]
    },
    {
     "data": {
      "text/plain": [
       "3273303"
      ]
     },
     "execution_count": 21,
     "metadata": {},
     "output_type": "execute_result"
    }
   ],
   "source": [
    "# Only keep male and female genders, make boolean\n",
    "# sdf_consumer_transaction = sdf_consumer_transaction.where(\n",
    "#     (F.col('gender') == 'Male') | (F.col('gender') == 'Female')\n",
    "# )\n",
    "# sdf_consumer_transaction = sdf_consumer_transaction.withColumn(\n",
    "#     'gender',\n",
    "#     (F.col('gender') == 'Male').cast('BOOLEAN')\n",
    "# )\n",
    "# sdf_consumer_transaction.count()\n"
   ]
  },
  {
   "cell_type": "code",
   "execution_count": 17,
   "metadata": {},
   "outputs": [
    {
     "name": "stderr",
     "output_type": "stream",
     "text": [
      "                                                                                \r"
     ]
    },
    {
     "data": {
      "text/html": [
       "<table border='1'>\n",
       "<tr><th>state</th><th>count</th></tr>\n",
       "<tr><td>NT</td><td>51779</td></tr>\n",
       "<tr><td>ACT</td><td>33596</td></tr>\n",
       "<tr><td>SA</td><td>414261</td></tr>\n",
       "<tr><td>TAS</td><td>134807</td></tr>\n",
       "<tr><td>WA</td><td>577024</td></tr>\n",
       "<tr><td>QLD</td><td>538942</td></tr>\n",
       "<tr><td>VIC</td><td>842008</td></tr>\n",
       "<tr><td>NSW</td><td>1050849</td></tr>\n",
       "</table>\n"
      ],
      "text/plain": [
       "+-----+-------+\n",
       "|state|  count|\n",
       "+-----+-------+\n",
       "|   NT|  51779|\n",
       "|  ACT|  33596|\n",
       "|   SA| 414261|\n",
       "|  TAS| 134807|\n",
       "|   WA| 577024|\n",
       "|  QLD| 538942|\n",
       "|  VIC| 842008|\n",
       "|  NSW|1050849|\n",
       "+-----+-------+"
      ]
     },
     "execution_count": 17,
     "metadata": {},
     "output_type": "execute_result"
    }
   ],
   "source": [
    "# Checking if there is only correct states\n",
    "sdf_consumer_transaction.groupBy('state').count()"
   ]
  },
  {
   "cell_type": "markdown",
   "metadata": {},
   "source": [
    "### Round dollar values to 2dp"
   ]
  },
  {
   "cell_type": "code",
   "execution_count": 9,
   "metadata": {},
   "outputs": [],
   "source": [
    "# Round to 2 decimal places, and remove transactions equal to zero\n",
    "# Discuss min value\n",
    "min_value = 5\n",
    "sdf_consumer_transaction = sdf_consumer_transaction.withColumn('dollar_value', F.round(F.col('dollar_value'), 2))\n",
    "sdf_consumer_transaction = sdf_consumer_transaction.where(\n",
    "    (F.col('dollar_value') > min_value)\n",
    ")"
   ]
  },
  {
   "cell_type": "markdown",
   "metadata": {},
   "source": [
    "### Check ABN validity"
   ]
  },
  {
   "cell_type": "code",
   "execution_count": 17,
   "metadata": {},
   "outputs": [],
   "source": [
    "# Make sure ABN is valid, takes in long\n",
    "\n",
    "def validateABN(merchant_abn):\n",
    "\n",
    "    str_abn = str(merchant_abn)\n",
    "    i = 0\n",
    "    sum = 0\n",
    "\n",
    "    for digit in str_abn:\n",
    "\n",
    "        digit = int(digit)\n",
    "        \n",
    "        if i == 0:\n",
    "            digit -= 1\n",
    "            sum += digit * 10\n",
    "        elif i == 1:\n",
    "            sum += digit\n",
    "        elif i == 2:\n",
    "            sum += digit * 3\n",
    "        elif i == 3:\n",
    "            sum += digit * 5\n",
    "        elif i == 4:\n",
    "            sum += digit * 7\n",
    "        elif i == 5:\n",
    "            sum += digit * 9\n",
    "        elif i == 6:\n",
    "            sum += digit * 11\n",
    "        elif i == 7:\n",
    "            sum += digit * 13\n",
    "        elif i == 8:\n",
    "            sum += digit * 15\n",
    "        elif i == 9:\n",
    "            sum += digit * 17\n",
    "        elif i == 10:\n",
    "            sum += digit * 19\n",
    "\n",
    "        i += 1\n",
    "    if sum % 89 == 0:\n",
    "        return True\n",
    "    else:\n",
    "        return False"
   ]
  },
  {
   "cell_type": "code",
   "execution_count": 11,
   "metadata": {},
   "outputs": [
    {
     "name": "stderr",
     "output_type": "stream",
     "text": [
      "                                                                                \r"
     ]
    }
   ],
   "source": [
    "# Create a list of all row values, used for validating ABN\n",
    "\n",
    "sdf_list = sdf_consumer_transaction.select(\"merchant_abn\").collect()"
   ]
  },
  {
   "cell_type": "code",
   "execution_count": 12,
   "metadata": {},
   "outputs": [
    {
     "data": {
      "text/plain": [
       "3479953"
      ]
     },
     "execution_count": 12,
     "metadata": {},
     "output_type": "execute_result"
    }
   ],
   "source": [
    "sdf_len = len(sdf_list)\n",
    "sdf_len"
   ]
  },
  {
   "cell_type": "code",
   "execution_count": 18,
   "metadata": {},
   "outputs": [],
   "source": [
    "# Find any merchants without a valid ABN\n",
    "\n",
    "i = 0\n",
    "invalidABN = []\n",
    "\n",
    "while i < sdf_len:\n",
    "    abn = str(sdf_list[i].__getitem__('merchant_abn'))\n",
    "    if validateABN(abn) == False:\n",
    "        invalidABN.append(abn)\n",
    "    i += 1"
   ]
  },
  {
   "cell_type": "code",
   "execution_count": 24,
   "metadata": {},
   "outputs": [
    {
     "data": {
      "text/plain": [
       "3442696"
      ]
     },
     "execution_count": 24,
     "metadata": {},
     "output_type": "execute_result"
    }
   ],
   "source": [
    "len(invalidABN)"
   ]
  },
  {
   "cell_type": "code",
   "execution_count": 23,
   "metadata": {},
   "outputs": [
    {
     "data": {
      "text/plain": [
       "['62191208634',\n",
       " '15549624934',\n",
       " '64403598239',\n",
       " '60956456424',\n",
       " '94493496784',\n",
       " '76819856970',\n",
       " '67609108741',\n",
       " '34096466752',\n",
       " '70501974849',\n",
       " '49891706470',\n",
       " '46804135891',\n",
       " '33064796871',\n",
       " '44160392990',\n",
       " '68435002949',\n",
       " '70033549200',\n",
       " '41944909975',\n",
       " '41705715409',\n",
       " '29566626791',\n",
       " '32361057556',\n",
       " '47663262928',\n",
       " '30458474292',\n",
       " '82065156333',\n",
       " '16096277862',\n",
       " '21025433654',\n",
       " '76819856970',\n",
       " '96161947306',\n",
       " '57900494384',\n",
       " '32234779638',\n",
       " '68216911708',\n",
       " '75034515922',\n",
       " '11237511112',\n",
       " '23661821077',\n",
       " '13565102775',\n",
       " '70620117107',\n",
       " '67202032418',\n",
       " '86578477987',\n",
       " '71787414647',\n",
       " '86578477987',\n",
       " '64203420245',\n",
       " '96680767841',\n",
       " '15299889494',\n",
       " '33651513345',\n",
       " '32461318592',\n",
       " '63290521567',\n",
       " '19249968599',\n",
       " '56559128138',\n",
       " '72472909171',\n",
       " '58476363584',\n",
       " '32234779638',\n",
       " '43186523025',\n",
       " '63290521567',\n",
       " '34179569263',\n",
       " '23633724513',\n",
       " '45380641195',\n",
       " '77679081913',\n",
       " '89640578182',\n",
       " '49505931725',\n",
       " '45337626814',\n",
       " '87921002735',\n",
       " '39869100896',\n",
       " '28341499489',\n",
       " '12173100693',\n",
       " '21359184622',\n",
       " '76767266140',\n",
       " '63290521567',\n",
       " '97159474697',\n",
       " '47086412084',\n",
       " '48534649627',\n",
       " '10142254217',\n",
       " '64203420245',\n",
       " '32530636640',\n",
       " '48854820141',\n",
       " '29521780474',\n",
       " '73114530701',\n",
       " '81579058108',\n",
       " '40099570304',\n",
       " '61845622676',\n",
       " '64203420245',\n",
       " '80788167198',\n",
       " '88553358884',\n",
       " '37687523474',\n",
       " '96880556465',\n",
       " '63123845164',\n",
       " '21772962346',\n",
       " '17934773261',\n",
       " '32234779638',\n",
       " '49891706470',\n",
       " '32361057556',\n",
       " '32709545238',\n",
       " '76767266140',\n",
       " '94729574738',\n",
       " '35223308778',\n",
       " '13118172970',\n",
       " '86578477987',\n",
       " '27130058170',\n",
       " '24852446429',\n",
       " '77690613296',\n",
       " '94072762560',\n",
       " '96152467973',\n",
       " '68216911708',\n",
       " '49891706470',\n",
       " '31101120643',\n",
       " '37379915451',\n",
       " '99803748393',\n",
       " '24852446429',\n",
       " '50866797623',\n",
       " '28855451293',\n",
       " '75372814642',\n",
       " '35391497890',\n",
       " '11121775571',\n",
       " '72553304202',\n",
       " '16256895427',\n",
       " '76646764782',\n",
       " '27022400550',\n",
       " '60706491699',\n",
       " '49505931725',\n",
       " '42464370262',\n",
       " '81219314324',\n",
       " '49505931725',\n",
       " '75944642726',\n",
       " '70038202360',\n",
       " '29122719261',\n",
       " '88816810320',\n",
       " '11121775571',\n",
       " '68216911708',\n",
       " '29323795999',\n",
       " '98973094975',\n",
       " '84703983173',\n",
       " '22033359776',\n",
       " '68216911708',\n",
       " '86578477987',\n",
       " '86578477987',\n",
       " '88652114856',\n",
       " '72472909171',\n",
       " '42500153308',\n",
       " '30772059502',\n",
       " '97603729191',\n",
       " '80324045558',\n",
       " '80324045558',\n",
       " '96680767841',\n",
       " '81219314324',\n",
       " '29641342749',\n",
       " '72472909171',\n",
       " '45629217853',\n",
       " '82448693380',\n",
       " '54550134954',\n",
       " '16587082018',\n",
       " '79008028287',\n",
       " '56946407125',\n",
       " '68559320474',\n",
       " '51321276923',\n",
       " '45559085309',\n",
       " '55090181035',\n",
       " '67202032418',\n",
       " '79645157255',\n",
       " '12870663624',\n",
       " '38700038932',\n",
       " '54988683231',\n",
       " '13118172970',\n",
       " '35424691626',\n",
       " '71178069190',\n",
       " '17060583346',\n",
       " '91923722701',\n",
       " '94493496784',\n",
       " '87802246756',\n",
       " '20885454195',\n",
       " '90578415511',\n",
       " '32361057556',\n",
       " '29566626791',\n",
       " '66370248931',\n",
       " '49891706470',\n",
       " '46298404088',\n",
       " '67202032418',\n",
       " '57900494384',\n",
       " '71961434094',\n",
       " '22059270846',\n",
       " '63290521567',\n",
       " '36125151647',\n",
       " '98314397036',\n",
       " '36866208934',\n",
       " '66079287213',\n",
       " '29616684420',\n",
       " '32825608803',\n",
       " '47459279421',\n",
       " '46804135891',\n",
       " '81333423763',\n",
       " '43186523025',\n",
       " '21439773999',\n",
       " '64203420245',\n",
       " '21439773999',\n",
       " '67400260923',\n",
       " '37379915451',\n",
       " '65668855732',\n",
       " '98533840054',\n",
       " '63290521567',\n",
       " '32530636640',\n",
       " '65337745105',\n",
       " '70052129860',\n",
       " '81410315303',\n",
       " '70038202360',\n",
       " '49212265466',\n",
       " '94493496784',\n",
       " '49891706470',\n",
       " '40252040480',\n",
       " '89518629617',\n",
       " '31585975447',\n",
       " '48248269920',\n",
       " '46804135891',\n",
       " '38721857169',\n",
       " '63290521567',\n",
       " '95508140753',\n",
       " '96161808980',\n",
       " '40555823280',\n",
       " '79953723663',\n",
       " '29023134283',\n",
       " '30458474292',\n",
       " '30214222203',\n",
       " '79517819732',\n",
       " '89726005175',\n",
       " '16570599421',\n",
       " '43186523025',\n",
       " '87667432396',\n",
       " '31585975447',\n",
       " '81333423763',\n",
       " '43162178066',\n",
       " '27500085887',\n",
       " '63290521567',\n",
       " '24852446429',\n",
       " '21025433654',\n",
       " '40515428545',\n",
       " '93077671049',\n",
       " '45433476494',\n",
       " '80324045558',\n",
       " '98269572896',\n",
       " '56180588880',\n",
       " '88435572170',\n",
       " '60602272553',\n",
       " '56723208962',\n",
       " '68559320474',\n",
       " '45865544833',\n",
       " '86578477987',\n",
       " '46298404088',\n",
       " '71759376949',\n",
       " '46804135891',\n",
       " '62694031334',\n",
       " '46380096952',\n",
       " '76314317957',\n",
       " '89260537373',\n",
       " '80324045558',\n",
       " '73895811023',\n",
       " '90651237279',\n",
       " '24852446429',\n",
       " '51279178333',\n",
       " '62694031334',\n",
       " '28681229636',\n",
       " '89022158521',\n",
       " '80324045558',\n",
       " '49891706470',\n",
       " '94493496784',\n",
       " '37379915451',\n",
       " '60836029312',\n",
       " '35223308778',\n",
       " '89726005175',\n",
       " '24852446429',\n",
       " '70620117107',\n",
       " '91923722701',\n",
       " '32361057556',\n",
       " '90173050473',\n",
       " '80324045558',\n",
       " '72857570096',\n",
       " '43671774465',\n",
       " '94833823558',\n",
       " '46804135891',\n",
       " '76767266140',\n",
       " '49891706470',\n",
       " '29323795999',\n",
       " '72472909171',\n",
       " '39649557865',\n",
       " '16256895427',\n",
       " '52065114842',\n",
       " '49505931725',\n",
       " '35223308778',\n",
       " '68645868338',\n",
       " '77338620996',\n",
       " '76767266140',\n",
       " '15269431008',\n",
       " '50866797623',\n",
       " '18904790666',\n",
       " '27288001271',\n",
       " '81369312244',\n",
       " '81471697088',\n",
       " '15560455575',\n",
       " '72472909171',\n",
       " '62403837535',\n",
       " '89297547843',\n",
       " '46298404088',\n",
       " '67609108741',\n",
       " '24852446429',\n",
       " '79827781481',\n",
       " '66079287213',\n",
       " '79417999332',\n",
       " '89726005175',\n",
       " '57862801023',\n",
       " '32234779638',\n",
       " '38435278995',\n",
       " '11566786699',\n",
       " '41881349154',\n",
       " '98314397036',\n",
       " '83690644458',\n",
       " '71538439295',\n",
       " '20562405782',\n",
       " '67202032418',\n",
       " '78213188724',\n",
       " '72472909171',\n",
       " '51550230865',\n",
       " '60956456424',\n",
       " '25732256442',\n",
       " '48534649627',\n",
       " '26148653604',\n",
       " '81877438808',\n",
       " '32234779638',\n",
       " '62694031334',\n",
       " '64203420245',\n",
       " '62170730910',\n",
       " '49891706470',\n",
       " '45629217853',\n",
       " '96152467973',\n",
       " '73804469952',\n",
       " '30195713177',\n",
       " '13514558491',\n",
       " '45629217853',\n",
       " '13942467372',\n",
       " '46298404088',\n",
       " '91455531890',\n",
       " '17324645993',\n",
       " '98072939449',\n",
       " '76314317957',\n",
       " '21439773999',\n",
       " '98314397036',\n",
       " '39010056512',\n",
       " '20939962818',\n",
       " '80324045558',\n",
       " '66567150019',\n",
       " '31101120643',\n",
       " '54705111450',\n",
       " '91873181182',\n",
       " '96680767841',\n",
       " '75244502629',\n",
       " '75089928159',\n",
       " '91873181182',\n",
       " '72673996108',\n",
       " '93260930990',\n",
       " '62224020443',\n",
       " '25810287809',\n",
       " '19249968599',\n",
       " '75034515922',\n",
       " '55417076134',\n",
       " '26925196872',\n",
       " '41881349154',\n",
       " '80324045558',\n",
       " '71528203369',\n",
       " '91720867026',\n",
       " '35809331583',\n",
       " '17559476022',\n",
       " '38212167834',\n",
       " '49322182190',\n",
       " '94827960324',\n",
       " '11566786699',\n",
       " '86904466480',\n",
       " '32329455050',\n",
       " '27093785141',\n",
       " '89502033586',\n",
       " '77590625261',\n",
       " '60978195146',\n",
       " '57900494384',\n",
       " '42822345560',\n",
       " '57900494384',\n",
       " '81761494572',\n",
       " '49891706470',\n",
       " '46804135891',\n",
       " '67202032418',\n",
       " '99976658299',\n",
       " '49505931725',\n",
       " '37967061831',\n",
       " '21439773999',\n",
       " '28208763477',\n",
       " '71989214810',\n",
       " '35424691626',\n",
       " '30458474292',\n",
       " '69108448846',\n",
       " '54550134954',\n",
       " '76767266140',\n",
       " '64485980706',\n",
       " '67609108741',\n",
       " '96161947306',\n",
       " '88553358884',\n",
       " '90568944804',\n",
       " '89726005175',\n",
       " '92343252737',\n",
       " '54550134954',\n",
       " '96161808980',\n",
       " '37379915451',\n",
       " '31637210281',\n",
       " '81761494572',\n",
       " '14443753481',\n",
       " '46804135891',\n",
       " '50866797623',\n",
       " '55559667703',\n",
       " '65674339048',\n",
       " '70401028896',\n",
       " '16248082282',\n",
       " '64203420245',\n",
       " '67797658023',\n",
       " '68216911708',\n",
       " '52342208808',\n",
       " '86871438193',\n",
       " '71041015148',\n",
       " '51959118092',\n",
       " '49891706470',\n",
       " '35223308778',\n",
       " '47086412084',\n",
       " '41663117354',\n",
       " '32361057556',\n",
       " '50075408315',\n",
       " '17324645993',\n",
       " '93894215354',\n",
       " '17208085375',\n",
       " '47086412084',\n",
       " '19618998054',\n",
       " '34179569263',\n",
       " '19492220327',\n",
       " '65668855732',\n",
       " '70309831462',\n",
       " '32825608803',\n",
       " '47374330858',\n",
       " '98314397036',\n",
       " '83373791025',\n",
       " '66842618444',\n",
       " '26148653604',\n",
       " '60978195146',\n",
       " '16644129035',\n",
       " '11566786699',\n",
       " '83412691377',\n",
       " '15560455575',\n",
       " '26556866679',\n",
       " '10462560289',\n",
       " '19575005485',\n",
       " '43186523025',\n",
       " '50315283629',\n",
       " '79417999332',\n",
       " '81219314324',\n",
       " '21025433654',\n",
       " '96146457679',\n",
       " '31637210281',\n",
       " '58454491168',\n",
       " '89932674734',\n",
       " '76626119831',\n",
       " '74648589246',\n",
       " '46804135891',\n",
       " '49891706470',\n",
       " '26556866679',\n",
       " '63290521567',\n",
       " '43186523025',\n",
       " '81219314324',\n",
       " '47086412084',\n",
       " '22812667768',\n",
       " '35040817462',\n",
       " '74046727484',\n",
       " '63728747020',\n",
       " '33138327540',\n",
       " '35424691626',\n",
       " '94493496784',\n",
       " '49891706470',\n",
       " '75902032169',\n",
       " '43186523025',\n",
       " '71961434094',\n",
       " '47086412084',\n",
       " '38090089066',\n",
       " '18582096775',\n",
       " '13290952071',\n",
       " '94493496784',\n",
       " '35733444320',\n",
       " '82065156333',\n",
       " '60650953328',\n",
       " '43186523025',\n",
       " '51515623602',\n",
       " '49891706470',\n",
       " '30818723636',\n",
       " '27639240514',\n",
       " '97453536197',\n",
       " '64203420245',\n",
       " '73114530701',\n",
       " '60050955776',\n",
       " '58476363584',\n",
       " '19933438190',\n",
       " '71528203369',\n",
       " '53938467553',\n",
       " '55306842177',\n",
       " '62191208634',\n",
       " '94631077822',\n",
       " '75850458091',\n",
       " '25674631453',\n",
       " '99976658299',\n",
       " '80324045558',\n",
       " '15912561882',\n",
       " '60956456424',\n",
       " '75559137486',\n",
       " '73980410353',\n",
       " '15613631617',\n",
       " '58392414752',\n",
       " '54272781746',\n",
       " '33233265647',\n",
       " '60706491699',\n",
       " '80324045558',\n",
       " '49322182190',\n",
       " '33233265647',\n",
       " '87457891433',\n",
       " '66567150019',\n",
       " '94493496784',\n",
       " '58139231665',\n",
       " '71668072331',\n",
       " '81761494572',\n",
       " '14480530534',\n",
       " '99976658299',\n",
       " '46298404088',\n",
       " '61080648284',\n",
       " '96880556465',\n",
       " '66079287213',\n",
       " '45629217853',\n",
       " '46804135891',\n",
       " '24852446429',\n",
       " '89518629617',\n",
       " '81219314324',\n",
       " '62464569593',\n",
       " '21439773999',\n",
       " '20985347699',\n",
       " '80324045558',\n",
       " '87340243269',\n",
       " '63290521567',\n",
       " '98269572896',\n",
       " '31969420866',\n",
       " '82076270246',\n",
       " '54550134954',\n",
       " '72472909171',\n",
       " '19933438190',\n",
       " '67696830978',\n",
       " '21439773999',\n",
       " '99976658299',\n",
       " '11240426404',\n",
       " '86578477987',\n",
       " '35909341340',\n",
       " '76314317957',\n",
       " '86578477987',\n",
       " '11240426404',\n",
       " '17324645993',\n",
       " '94729574738',\n",
       " '81219314324',\n",
       " '40272107679',\n",
       " '17523010120',\n",
       " '67400260923',\n",
       " '25674631453',\n",
       " '94493496784',\n",
       " '45629217853',\n",
       " '94493496784',\n",
       " '83690644458',\n",
       " '79417999332',\n",
       " '89726005175',\n",
       " '72472909171',\n",
       " '80982848464',\n",
       " '63728747020',\n",
       " '46607130088',\n",
       " '94072762560',\n",
       " '70501974849',\n",
       " '87639550697',\n",
       " '83690644458',\n",
       " '86223953880',\n",
       " '68216911708',\n",
       " '43186523025',\n",
       " '11240426404',\n",
       " '30378250411',\n",
       " '37687523474',\n",
       " '19854089605',\n",
       " '91720867026',\n",
       " '75034515922',\n",
       " '35071907475',\n",
       " '64203420245',\n",
       " '86578477987',\n",
       " '32361057556',\n",
       " '77590625261',\n",
       " '31570712230',\n",
       " '63290521567',\n",
       " '42483854662',\n",
       " '86772484982',\n",
       " '32530636640',\n",
       " '76767266140',\n",
       " '33495932835',\n",
       " '14492521225',\n",
       " '33163130598',\n",
       " '22059270846',\n",
       " '90635623930',\n",
       " '86578477987',\n",
       " '82065156333',\n",
       " '56946407125',\n",
       " '41271931352',\n",
       " '20985347699',\n",
       " '64203420245',\n",
       " '61997656782',\n",
       " '29521780474',\n",
       " '64403598239',\n",
       " '35223308778',\n",
       " '22206721435',\n",
       " '67202032418',\n",
       " '55417076134',\n",
       " '88816810320',\n",
       " '61112604295',\n",
       " '33064796871',\n",
       " '24852446429',\n",
       " '96152467973',\n",
       " '17324645993',\n",
       " '31101120643',\n",
       " '46804135891',\n",
       " '76251945060',\n",
       " '43186523025',\n",
       " '43186523025',\n",
       " '31101120643',\n",
       " '22206721435',\n",
       " '15560455575',\n",
       " '64203420245',\n",
       " '98269572896',\n",
       " '20562405782',\n",
       " '45433476494',\n",
       " '38337815814',\n",
       " '36196225600',\n",
       " '43356103768',\n",
       " '65426342453',\n",
       " '96152467973',\n",
       " '89726005175',\n",
       " '49505931725',\n",
       " '35813492759',\n",
       " '28000487688',\n",
       " '34744764368',\n",
       " '91418529927',\n",
       " '80779820715',\n",
       " '68216911708',\n",
       " '60061691817',\n",
       " '41944909975',\n",
       " '34059083860',\n",
       " '56945597985',\n",
       " '82065156333',\n",
       " '19839532017',\n",
       " '45337626814',\n",
       " '86578477987',\n",
       " '57566534349',\n",
       " '20325086904',\n",
       " '40507108040',\n",
       " '20562405782',\n",
       " '37459245212',\n",
       " '17739089622',\n",
       " '46804135891',\n",
       " '94472466107',\n",
       " '45629217853',\n",
       " '41383736952',\n",
       " '70501974849',\n",
       " '24938000144',\n",
       " '64203420245',\n",
       " '28941011848',\n",
       " '43186523025',\n",
       " '52065114842',\n",
       " '89726005175',\n",
       " '40555823280',\n",
       " '45629217853',\n",
       " '37097551567',\n",
       " '46804135891',\n",
       " '32234779638',\n",
       " '19933438190',\n",
       " '24852446429',\n",
       " '21439773999',\n",
       " '34172909925',\n",
       " '68216911708',\n",
       " '45629217853',\n",
       " '64203420245',\n",
       " '29616684420',\n",
       " '54272781746',\n",
       " '98861937890',\n",
       " '90543168331',\n",
       " '45629217853',\n",
       " '17324645993',\n",
       " '72472909171',\n",
       " '62224020443',\n",
       " '64203420245',\n",
       " '20562405782',\n",
       " '52310302169',\n",
       " '29639699851',\n",
       " '46804135891',\n",
       " '49891706470',\n",
       " '86662713230',\n",
       " '49891706470',\n",
       " '75104340635',\n",
       " '90087872851',\n",
       " '89726005175',\n",
       " '71350572766',\n",
       " '32451620193',\n",
       " '13285958344',\n",
       " '24852446429',\n",
       " '73972053940',\n",
       " '45362042297',\n",
       " '65122248893',\n",
       " '64974914166',\n",
       " '28230498046',\n",
       " '75723980434',\n",
       " '32749065279',\n",
       " '15069598461',\n",
       " '74019238521',\n",
       " '13285958344',\n",
       " '63290521567',\n",
       " '19618998054',\n",
       " '96680767841',\n",
       " '81219314324',\n",
       " '30214222203',\n",
       " '29023134283',\n",
       " '24852446429',\n",
       " '76767266140',\n",
       " '64403598239',\n",
       " '80324045558',\n",
       " '43061683632',\n",
       " '33286410763',\n",
       " '81219314324',\n",
       " '49212265466',\n",
       " '75239540583',\n",
       " '89726005175',\n",
       " '21025433654',\n",
       " '35016722348',\n",
       " '22033359776',\n",
       " '81877438808',\n",
       " '54291122944',\n",
       " '35014882568',\n",
       " '31101120643',\n",
       " '49891706470',\n",
       " '64203420245',\n",
       " '71787414647',\n",
       " '71961434094',\n",
       " '62464569593',\n",
       " '43186523025',\n",
       " '24852446429',\n",
       " '48534649627',\n",
       " '45362042297',\n",
       " '29639699851',\n",
       " '45629217853',\n",
       " '46564887665',\n",
       " '21772962346',\n",
       " '91923722701',\n",
       " '77090965820',\n",
       " '43186523025',\n",
       " '72177236569',\n",
       " '18313275661',\n",
       " '28510201393',\n",
       " '23338656015',\n",
       " '90612658132',\n",
       " '63290521567',\n",
       " '24852446429',\n",
       " '88547577701',\n",
       " '76626119831',\n",
       " '29616684420',\n",
       " '15299889494',\n",
       " '53714166188',\n",
       " '72177236569',\n",
       " '21025433654',\n",
       " '81219314324',\n",
       " '72539760068',\n",
       " '62773208456',\n",
       " '11437621158',\n",
       " '19618998054',\n",
       " '79417999332',\n",
       " '96152467973',\n",
       " '21359184622',\n",
       " '55325186693',\n",
       " '64203420245',\n",
       " '32361057556',\n",
       " '11439466003',\n",
       " '68216911708',\n",
       " '41251795489',\n",
       " '92207241352',\n",
       " '27022400550',\n",
       " '23925773818',\n",
       " '49536733338',\n",
       " '31471800699',\n",
       " '46533246372',\n",
       " '72472909171',\n",
       " '96680767841',\n",
       " '94493496784',\n",
       " '45629217853',\n",
       " '85502310765',\n",
       " '45629217853',\n",
       " '74019238521',\n",
       " '29616684420',\n",
       " '46987545043',\n",
       " '69703285964',\n",
       " '12438697459',\n",
       " '31101120643',\n",
       " '57900494384',\n",
       " '90188095187',\n",
       " '32234779638',\n",
       " '32361057556',\n",
       " '80324045558',\n",
       " '10264435225',\n",
       " '57900494384',\n",
       " '89726005175',\n",
       " '14492521225',\n",
       " '85765359302',\n",
       " '88816810320',\n",
       " '60956456424',\n",
       " '45629217853',\n",
       " '78747520227',\n",
       " '43186523025',\n",
       " '41827752591',\n",
       " '27975606844',\n",
       " '91923722701',\n",
       " '33495932835',\n",
       " '86578477987',\n",
       " '74780446526',\n",
       " '56945597985',\n",
       " '64974914166',\n",
       " '46804135891',\n",
       " '26510188921',\n",
       " '15560455575',\n",
       " '29227046551',\n",
       " '83147343261',\n",
       " '84088835754',\n",
       " '72472909171',\n",
       " '99976658299',\n",
       " '64403598239',\n",
       " '82027679475',\n",
       " '34398628767',\n",
       " '69934752604',\n",
       " '91848160033',\n",
       " '23092329041',\n",
       " '36196225600',\n",
       " '15253672771',\n",
       " '51279178333',\n",
       " '55417076134',\n",
       " '55090181035',\n",
       " '89726005175',\n",
       " '13839274306',\n",
       " '64203420245',\n",
       " '91404276865',\n",
       " '54874856789',\n",
       " '75944642726',\n",
       " '11240426404',\n",
       " '80324045558',\n",
       " '49891706470',\n",
       " '86578477987',\n",
       " '38090089066',\n",
       " '49212265466',\n",
       " '64403598239',\n",
       " '19933438190',\n",
       " '46804135891',\n",
       " '25467145329',\n",
       " '68645868338',\n",
       " '71674475255',\n",
       " '49891706470',\n",
       " '72738688428',\n",
       " '34179569263',\n",
       " '88699453206',\n",
       " '77505747217',\n",
       " '62204398944',\n",
       " '54272781746',\n",
       " '84703983173',\n",
       " '11944993446',\n",
       " '49322182190',\n",
       " '42500153308',\n",
       " '18303734841',\n",
       " '32176774610',\n",
       " '14492521225',\n",
       " '16256895427',\n",
       " '63290521567',\n",
       " '43186523025',\n",
       " '76767266140',\n",
       " '46804135891',\n",
       " '75034515922',\n",
       " '24852446429',\n",
       " '35909341340',\n",
       " '95682671933',\n",
       " '82065156333',\n",
       " '35733444320',\n",
       " '93558142492',\n",
       " '29550468444',\n",
       " '49891706470',\n",
       " '81219314324',\n",
       " '86578477987',\n",
       " '57757792876',\n",
       " '21439773999',\n",
       " '89726005175',\n",
       " '57011992135',\n",
       " '45899477665',\n",
       " '11439466003',\n",
       " '89022158521',\n",
       " '35909341340',\n",
       " '64203420245',\n",
       " '98269572896',\n",
       " '71041015148',\n",
       " '64203420245',\n",
       " '58692398254',\n",
       " '12404803031',\n",
       " '43186523025',\n",
       " '24938000144',\n",
       " '58392414752',\n",
       " '35016722348',\n",
       " '45629217853',\n",
       " '63290521567',\n",
       " '68216911708',\n",
       " '11566786699',\n",
       " '34822634769',\n",
       " '46674437504',\n",
       " '50951615219',\n",
       " '86578477987',\n",
       " '65202518558',\n",
       " '60956456424',\n",
       " '99976658299',\n",
       " '35733444320',\n",
       " '82076270246',\n",
       " '79517819732',\n",
       " '35664226523',\n",
       " '92075595936',\n",
       " '43186523025',\n",
       " '29936037423',\n",
       " '34172909925',\n",
       " '66626020312',\n",
       " '18305506006',\n",
       " '20562405782',\n",
       " '53003062892',\n",
       " '76314317957',\n",
       " '50866797623',\n",
       " '39872028975',\n",
       " '44780100984',\n",
       " '48534649627',\n",
       " '78637548196',\n",
       " '73256306726',\n",
       " '21772962346',\n",
       " '24852446429',\n",
       " '11566786699',\n",
       " '33163130598',\n",
       " '72231375027',\n",
       " '22840936261',\n",
       " '42309113034',\n",
       " '63358217962',\n",
       " '73980410353',\n",
       " '62224020443',\n",
       " '32234779638',\n",
       " '33437657911',\n",
       " '28687004922',\n",
       " '58380745308',\n",
       " '64403598239',\n",
       " '94455880010',\n",
       " '24852446429',\n",
       " '34179569263',\n",
       " '83690644458',\n",
       " '35223308778',\n",
       " '65122248893',\n",
       " '36555094223',\n",
       " '64203420245',\n",
       " '79417999332',\n",
       " '79070278461',\n",
       " '94380689142',\n",
       " '67400260923',\n",
       " '41705715409',\n",
       " '99241925348',\n",
       " '27086915609',\n",
       " '82065156333',\n",
       " '62285108846',\n",
       " '60956456424',\n",
       " '94729574738',\n",
       " '37459245212',\n",
       " '41944909975',\n",
       " '84703983173',\n",
       " '45056974934',\n",
       " '90672655190',\n",
       " '17158952809',\n",
       " '31101120643',\n",
       " '39649557865',\n",
       " '45629217853',\n",
       " '21232022824',\n",
       " '79633007926',\n",
       " '21439773999',\n",
       " '20885454195',\n",
       " '68559320474',\n",
       " '92990617267',\n",
       " '22795471441',\n",
       " '16256895427',\n",
       " '90672655190',\n",
       " '29566626791',\n",
       " '66000151638',\n",
       " '72472909171',\n",
       " '32234779638',\n",
       " '35556933338',\n",
       " '64203420245',\n",
       " '64203420245',\n",
       " '40515428545',\n",
       " '88230622213',\n",
       " '75089928159',\n",
       " '81761494572',\n",
       " ...]"
      ]
     },
     "execution_count": 23,
     "metadata": {},
     "output_type": "execute_result"
    }
   ],
   "source": [
    "invalidABN"
   ]
  },
  {
   "cell_type": "markdown",
   "metadata": {},
   "source": [
    "### Check for valid postcodes in Australia"
   ]
  },
  {
   "cell_type": "code",
   "execution_count": 23,
   "metadata": {},
   "outputs": [],
   "source": [
    "# Make sure post codes in right range and only digits\n",
    "min_postcode = '0200'\n",
    "max_postcode = '9999'\n",
    "\n",
    "# Check if only digits\n",
    "# sdf_consumer_transaction = sdf_consumer_transaction.where(F.col(\"postcode\").cast('string'))\n",
    "\n",
    "sdf_consumer_transaction = sdf_consumer_transaction.where(\n",
    "    (F.col('postcode') >= min_postcode)\n",
    "    & (F.col('postcode') <= max_postcode)\n",
    ")\n"
   ]
  },
  {
   "cell_type": "code",
   "execution_count": 39,
   "metadata": {},
   "outputs": [
    {
     "name": "stderr",
     "output_type": "stream",
     "text": [
      "                                                                                \r"
     ]
    },
    {
     "data": {
      "text/html": [
       "<table border='1'>\n",
       "<tr><th>summary</th><th>consumer_id</th><th>user_id</th><th>merchant_abn</th><th>dollar_value</th><th>state</th><th>postcode</th><th>gender</th></tr>\n",
       "<tr><td>count</td><td>3479953</td><td>3479953</td><td>3479953</td><td>3479953</td><td>3479953</td><td>3479953</td><td>3479953</td></tr>\n",
       "<tr><td>mean</td><td>753335.9036369169</td><td>12038.683883661648</td><td>5.545921570646908E10</td><td>173.960070414744</td><td>null</td><td>4043.795159589799</td><td>null</td></tr>\n",
       "<tr><td>stddev</td><td>435468.2355945888</td><td>6951.87581999312</td><td>2.535943687229347...</td><td>531.4256728713924</td><td>null</td><td>1780.3214030078946</td><td>null</td></tr>\n",
       "<tr><td>min</td><td>30</td><td>1</td><td>10023283211</td><td>5.01</td><td>ACT</td><td>1001</td><td>Female</td></tr>\n",
       "<tr><td>max</td><td>1499867</td><td>24081</td><td>99990536339</td><td>105193.89</td><td>WA</td><td>9999</td><td>Undisclosed</td></tr>\n",
       "</table>\n"
      ],
      "text/plain": [
       "+-------+-----------------+------------------+--------------------+-----------------+-------+------------------+-----------+\n",
       "|summary|      consumer_id|           user_id|        merchant_abn|     dollar_value|  state|          postcode|     gender|\n",
       "+-------+-----------------+------------------+--------------------+-----------------+-------+------------------+-----------+\n",
       "|  count|          3479953|           3479953|             3479953|          3479953|3479953|           3479953|    3479953|\n",
       "|   mean|753335.9036369169|12038.683883661648|5.545921570646908E10| 173.960070414744|   null| 4043.795159589799|       null|\n",
       "| stddev|435468.2355945888|  6951.87581999312|2.535943687229347...|531.4256728713924|   null|1780.3214030078946|       null|\n",
       "|    min|               30|                 1|         10023283211|             5.01|    ACT|              1001|     Female|\n",
       "|    max|          1499867|             24081|         99990536339|        105193.89|     WA|              9999|Undisclosed|\n",
       "+-------+-----------------+------------------+--------------------+-----------------+-------+------------------+-----------+"
      ]
     },
     "execution_count": 39,
     "metadata": {},
     "output_type": "execute_result"
    }
   ],
   "source": [
    "# Checking descriptive statistics again\n",
    "sdf_consumer_transaction.describe()"
   ]
  },
  {
   "cell_type": "code",
   "execution_count": null,
   "metadata": {},
   "outputs": [],
   "source": [
    "# Deal with NULL values"
   ]
  },
  {
   "cell_type": "code",
   "execution_count": null,
   "metadata": {},
   "outputs": [],
   "source": [
    "# Export cleaned data"
   ]
  }
 ],
 "metadata": {
  "kernelspec": {
   "display_name": "Python 3.8.10 64-bit",
   "language": "python",
   "name": "python3"
  },
  "language_info": {
   "codemirror_mode": {
    "name": "ipython",
    "version": 3
   },
   "file_extension": ".py",
   "mimetype": "text/x-python",
   "name": "python",
   "nbconvert_exporter": "python",
   "pygments_lexer": "ipython3",
   "version": "3.10.4"
  },
  "orig_nbformat": 4,
  "vscode": {
   "interpreter": {
    "hash": "916dbcbb3f70747c44a77c7bcd40155683ae19c65e1c03b4aa3499c5328201f1"
   }
  }
 },
 "nbformat": 4,
 "nbformat_minor": 2
}
