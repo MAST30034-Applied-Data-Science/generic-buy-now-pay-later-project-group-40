{
 "cells": [
  {
   "cell_type": "code",
   "execution_count": 1,
   "metadata": {},
   "outputs": [
    {
     "name": "stdout",
     "output_type": "stream",
     "text": [
      "22/09/08 14:38:45 WARN Utils: Your hostname, DESKTOP-5U9FK5P resolves to a loopback address: 127.0.1.1; using 172.23.217.69 instead (on interface eth0)\n",
      "22/09/08 14:38:45 WARN Utils: Set SPARK_LOCAL_IP if you need to bind to another address\n"
     ]
    },
    {
     "name": "stderr",
     "output_type": "stream",
     "text": [
      "Setting default log level to \"WARN\".\n",
      "To adjust logging level use sc.setLogLevel(newLevel). For SparkR, use setLogLevel(newLevel).\n"
     ]
    },
    {
     "name": "stdout",
     "output_type": "stream",
     "text": [
      "22/09/08 14:38:47 WARN NativeCodeLoader: Unable to load native-hadoop library for your platform... using builtin-java classes where applicable\n"
     ]
    }
   ],
   "source": [
    "from pyspark.sql import SparkSession\n",
    "\n",
    "spark = (\n",
    "    SparkSession.builder.appName(\"MAST30034 Project 2\")\n",
    "    .config(\"spark.driver.memory\", '4g')\n",
    "    .config(\"spark.executor.memory\", '8g')\n",
    "    .config(\"spark.sql.session.timeZone\", \"Etc/UTC\")\n",
    "    .config(\"spark.sql.parquet.enableVectorizedReader\",\"false\")\n",
    "    .config(\"spark.sql.repl.eagerEval.enabled\", True) \n",
    "    .config(\"spark.sql.parquet.cacheMetadata\", \"true\")\n",
    "    .getOrCreate()\n",
    ")"
   ]
  },
  {
   "cell_type": "code",
   "execution_count": 4,
   "metadata": {},
   "outputs": [],
   "source": [
    "from pyspark.sql.functions import *\n",
    "from pyspark.sql import functions as F"
   ]
  },
  {
   "cell_type": "code",
   "execution_count": 5,
   "metadata": {},
   "outputs": [
    {
     "name": "stdout",
     "output_type": "stream",
     "text": [
      "+-----------------+-----------------------------+-----+--------+------+-----------+\n",
      "|name             |address                      |state|postcode|gender|consumer_id|\n",
      "+-----------------+-----------------------------+-----+--------+------+-----------+\n",
      "|Yolanda Williams |413 Haney Gardens Apt. 742   |WA   |6935    |Female|1195503    |\n",
      "|Mary Smith       |3764 Amber Oval              |NSW  |2782    |Female|179208     |\n",
      "|Jill Jones MD    |40693 Henry Greens           |NT   |862     |Female|1194530    |\n",
      "|Lindsay Jimenez  |00653 Davenport Crossroad    |NSW  |2780    |Female|154128     |\n",
      "|Rebecca Blanchard|9271 Michael Manors Suite 651|WA   |6355    |Female|712975     |\n",
      "+-----------------+-----------------------------+-----+--------+------+-----------+\n",
      "only showing top 5 rows\n",
      "\n"
     ]
    }
   ],
   "source": [
    "sdf_consumer = spark.read.csv('../data/tables/tbl_consumer.csv', sep='|', header=True)\n",
    "sdf_consumer.show(5, truncate=False)"
   ]
  },
  {
   "cell_type": "code",
   "execution_count": 6,
   "metadata": {},
   "outputs": [
    {
     "data": {
      "text/plain": [
       "499999"
      ]
     },
     "execution_count": 6,
     "metadata": {},
     "output_type": "execute_result"
    }
   ],
   "source": [
    "sdf_consumer.count()"
   ]
  },
  {
   "cell_type": "code",
   "execution_count": 7,
   "metadata": {},
   "outputs": [
    {
     "name": "stderr",
     "output_type": "stream",
     "text": [
      "                                                                                \r"
     ]
    },
    {
     "name": "stdout",
     "output_type": "stream",
     "text": [
      "+-------+------------+------------------+------------------------------------+--------------+\n",
      "|user_id|merchant_abn|dollar_value      |order_id                            |order_datetime|\n",
      "+-------+------------+------------------+------------------------------------+--------------+\n",
      "|18478  |62191208634 |63.255848959735246|949a63c8-29f7-4ab0-ada4-99ac50a88952|2021-08-20    |\n",
      "|2      |15549624934 |130.3505283105634 |6a84c3cf-612a-4574-835b-144a47353eff|2021-08-20    |\n",
      "|18479  |64403598239 |120.15860593212783|b10dcc33-e53f-4254-863c-de5266810cbc|2021-08-20    |\n",
      "|3      |60956456424 |136.6785200286976 |0f09c5a5-784e-4477-b049-8ee4dd069b7b|2021-08-20    |\n",
      "|18479  |94493496784 |72.96316578355305 |f6c78c1a-4600-4c5f-8e97-6e9eb534b586|2021-08-20    |\n",
      "|3      |76819856970 |448.529684285612  |5ace6a24-cdf0-4aa3-b571-1d9406b352b5|2021-08-20    |\n",
      "|18479  |67609108741 |86.4040605836911  |d0e180f0-cb06-42a3-bd1a-c47dca15bc55|2021-08-20    |\n",
      "|3      |34096466752 |301.5793450525113 |6fb1ff48-24bb-4f97-9a96-d2e8ca009bda|2021-08-20    |\n",
      "|18482  |70501974849 |68.75486276223054 |8505fb33-b69a-412a-a8e1-827983a66577|2021-08-20    |\n",
      "|4      |49891706470 |48.89796461900801 |ed11e477-b09f-4ae0-84fb-74531ce8c30c|2021-08-20    |\n",
      "+-------+------------+------------------+------------------------------------+--------------+\n",
      "only showing top 10 rows\n",
      "\n"
     ]
    }
   ],
   "source": [
    "sdf_transactions = spark.read.parquet('../data/tables/transactions_20210228_20210827_snapshot')\n",
    "sdf_transactions.show(10, truncate=False)"
   ]
  },
  {
   "cell_type": "code",
   "execution_count": 8,
   "metadata": {},
   "outputs": [
    {
     "name": "stderr",
     "output_type": "stream",
     "text": [
      "                                                                                \r"
     ]
    },
    {
     "data": {
      "text/plain": [
       "3643266"
      ]
     },
     "execution_count": 8,
     "metadata": {},
     "output_type": "execute_result"
    }
   ],
   "source": [
    "sdf_transactions.count()"
   ]
  },
  {
   "cell_type": "code",
   "execution_count": 9,
   "metadata": {},
   "outputs": [
    {
     "name": "stdout",
     "output_type": "stream",
     "text": [
      "+-------+-----------+\n",
      "|user_id|consumer_id|\n",
      "+-------+-----------+\n",
      "|1      |1195503    |\n",
      "|2      |179208     |\n",
      "|3      |1194530    |\n",
      "|4      |154128     |\n",
      "|5      |712975     |\n",
      "|6      |407340     |\n",
      "|7      |511685     |\n",
      "|8      |448088     |\n",
      "|9      |650435     |\n",
      "|10     |1058499    |\n",
      "+-------+-----------+\n",
      "only showing top 10 rows\n",
      "\n"
     ]
    }
   ],
   "source": [
    "sdf_userdetails = spark.read.parquet('../data/tables/consumer_user_details.parquet')\n",
    "sdf_userdetails.show(10, truncate=False)"
   ]
  },
  {
   "cell_type": "code",
   "execution_count": 10,
   "metadata": {},
   "outputs": [
    {
     "data": {
      "text/plain": [
       "499999"
      ]
     },
     "execution_count": 10,
     "metadata": {},
     "output_type": "execute_result"
    }
   ],
   "source": [
    "sdf_userdetails.count()"
   ]
  },
  {
   "cell_type": "code",
   "execution_count": 11,
   "metadata": {},
   "outputs": [
    {
     "name": "stderr",
     "output_type": "stream",
     "text": [
      "[Stage 20:==================================================>       (7 + 1) / 8]\r"
     ]
    },
    {
     "name": "stdout",
     "output_type": "stream",
     "text": [
      "+-----------+-------+------------+------------------+--------------------+--------------+---------+--------------------+-----+--------+------+\n",
      "|consumer_id|user_id|merchant_abn|      dollar_value|            order_id|order_datetime|     name|             address|state|postcode|gender|\n",
      "+-----------+-------+------------+------------------+--------------------+--------------+---------+--------------------+-----+--------+------+\n",
      "|        551|   3471| 68216911708|  39.2325218595659|c921263e-489e-45a...|    2021-08-21|Todd Long|883 Patty Mountai...|  NSW|    2021|  Male|\n",
      "|        551|   3471| 77698107389| 90.16967584866273|aaea14f5-48e8-4ef...|    2021-08-21|Todd Long|883 Patty Mountai...|  NSW|    2021|  Male|\n",
      "|        551|   3471| 46451548968|3.8405569898888428|7e8e7fca-04a1-4f2...|    2021-08-19|Todd Long|883 Patty Mountai...|  NSW|    2021|  Male|\n",
      "|        551|   3471| 35556933338| 66.18325079406301|13b0be6a-20b7-439...|    2021-08-22|Todd Long|883 Patty Mountai...|  NSW|    2021|  Male|\n",
      "|        551|   3471| 91772719127|33.692747732339996|3750984f-4313-47d...|    2021-08-14|Todd Long|883 Patty Mountai...|  NSW|    2021|  Male|\n",
      "+-----------+-------+------------+------------------+--------------------+--------------+---------+--------------------+-----+--------+------+\n",
      "only showing top 5 rows\n",
      "\n"
     ]
    },
    {
     "name": "stderr",
     "output_type": "stream",
     "text": [
      "                                                                                \r"
     ]
    }
   ],
   "source": [
    "sdf_usertransaction = sdf_userdetails.join(sdf_transactions, on='user_id')\n",
    "sdf_consumer_transaction = sdf_usertransaction.join(sdf_consumer, on='consumer_id')\n",
    "sdf_consumer_transaction.show(5)"
   ]
  },
  {
   "cell_type": "code",
   "execution_count": 12,
   "metadata": {},
   "outputs": [
    {
     "name": "stderr",
     "output_type": "stream",
     "text": [
      "[Stage 26:=============================>                            (4 + 4) / 8]\r"
     ]
    },
    {
     "name": "stdout",
     "output_type": "stream",
     "text": [
      "+-----------+-------+------------+------------------+--------------+-----+--------+------+\n",
      "|consumer_id|user_id|merchant_abn|      dollar_value|order_datetime|state|postcode|gender|\n",
      "+-----------+-------+------------+------------------+--------------+-----+--------+------+\n",
      "|        551|   3471| 68216911708|  39.2325218595659|    2021-08-21|  NSW|    2021|  Male|\n",
      "|        551|   3471| 77698107389| 90.16967584866273|    2021-08-21|  NSW|    2021|  Male|\n",
      "|        551|   3471| 46451548968|3.8405569898888428|    2021-08-19|  NSW|    2021|  Male|\n",
      "|        551|   3471| 35556933338| 66.18325079406301|    2021-08-22|  NSW|    2021|  Male|\n",
      "|        551|   3471| 91772719127|33.692747732339996|    2021-08-14|  NSW|    2021|  Male|\n",
      "+-----------+-------+------------+------------------+--------------+-----+--------+------+\n",
      "only showing top 5 rows\n",
      "\n"
     ]
    },
    {
     "name": "stderr",
     "output_type": "stream",
     "text": [
      "                                                                                \r"
     ]
    }
   ],
   "source": [
    "# Only keeping useful features\n",
    "sdf_consumer_transaction = sdf_consumer_transaction.select(\"consumer_id\",\"user_id\",'merchant_abn','dollar_value',\n",
    "                            'order_datetime','state','postcode','gender')\n",
    "sdf_consumer_transaction.show(5)                   "
   ]
  },
  {
   "cell_type": "code",
   "execution_count": 13,
   "metadata": {},
   "outputs": [
    {
     "name": "stderr",
     "output_type": "stream",
     "text": [
      "                                                                                \r"
     ]
    },
    {
     "data": {
      "text/plain": [
       "3643266"
      ]
     },
     "execution_count": 13,
     "metadata": {},
     "output_type": "execute_result"
    }
   ],
   "source": [
    "# Checking final count to see if it joined properly\n",
    "sdf_consumer_transaction.count()"
   ]
  },
  {
   "cell_type": "code",
   "execution_count": 14,
   "metadata": {},
   "outputs": [
    {
     "name": "stderr",
     "output_type": "stream",
     "text": [
      "                                                                                \r"
     ]
    },
    {
     "data": {
      "text/html": [
       "<table border='1'>\n",
       "<tr><th>summary</th><th>consumer_id</th><th>user_id</th><th>merchant_abn</th><th>dollar_value</th><th>state</th><th>postcode</th><th>gender</th></tr>\n",
       "<tr><td>count</td><td>3643266</td><td>3643266</td><td>3643266</td><td>3643266</td><td>3643266</td><td>3643266</td><td>3643266</td></tr>\n",
       "<tr><td>mean</td><td>753342.8796423319</td><td>12038.386185362255</td><td>5.542282307467807E10</td><td>166.27987538249533</td><td>null</td><td>4043.809383119432</td><td>null</td></tr>\n",
       "<tr><td>stddev</td><td>435447.4489588989</td><td>6951.397455767658</td><td>2.532956222776528...</td><td>520.5869486446928</td><td>null</td><td>1780.2337681551908</td><td>null</td></tr>\n",
       "<tr><td>min</td><td>30</td><td>1</td><td>10023283211</td><td>9.756658099412162E-8</td><td>ACT</td><td>1001</td><td>Female</td></tr>\n",
       "<tr><td>max</td><td>1499867</td><td>24081</td><td>99990536339</td><td>105193.88578925544</td><td>WA</td><td>9999</td><td>Undisclosed</td></tr>\n",
       "</table>\n"
      ],
      "text/plain": [
       "+-------+-----------------+------------------+--------------------+--------------------+-------+------------------+-----------+\n",
       "|summary|      consumer_id|           user_id|        merchant_abn|        dollar_value|  state|          postcode|     gender|\n",
       "+-------+-----------------+------------------+--------------------+--------------------+-------+------------------+-----------+\n",
       "|  count|          3643266|           3643266|             3643266|             3643266|3643266|           3643266|    3643266|\n",
       "|   mean|753342.8796423319|12038.386185362255|5.542282307467807E10|  166.27987538249533|   null| 4043.809383119432|       null|\n",
       "| stddev|435447.4489588989| 6951.397455767658|2.532956222776528...|   520.5869486446928|   null|1780.2337681551908|       null|\n",
       "|    min|               30|                 1|         10023283211|9.756658099412162E-8|    ACT|              1001|     Female|\n",
       "|    max|          1499867|             24081|         99990536339|  105193.88578925544|     WA|              9999|Undisclosed|\n",
       "+-------+-----------------+------------------+--------------------+--------------------+-------+------------------+-----------+"
      ]
     },
     "execution_count": 14,
     "metadata": {},
     "output_type": "execute_result"
    }
   ],
   "source": [
    "# Looking at descriptive statistics for outlier analysis\n",
    "sdf_consumer_transaction.describe()"
   ]
  },
  {
   "cell_type": "code",
   "execution_count": 15,
   "metadata": {},
   "outputs": [
    {
     "name": "stdout",
     "output_type": "stream",
     "text": [
      "root\n",
      " |-- consumer_id: long (nullable = true)\n",
      " |-- user_id: long (nullable = true)\n",
      " |-- merchant_abn: long (nullable = true)\n",
      " |-- dollar_value: double (nullable = true)\n",
      " |-- order_datetime: date (nullable = true)\n",
      " |-- state: string (nullable = true)\n",
      " |-- postcode: string (nullable = true)\n",
      " |-- gender: string (nullable = true)\n",
      "\n"
     ]
    }
   ],
   "source": [
    "sdf_consumer_transaction.printSchema()"
   ]
  },
  {
   "cell_type": "code",
   "execution_count": 16,
   "metadata": {},
   "outputs": [
    {
     "name": "stderr",
     "output_type": "stream",
     "text": [
      "                                                                                \r"
     ]
    },
    {
     "data": {
      "text/html": [
       "<table border='1'>\n",
       "<tr><th>gender</th><th>count</th></tr>\n",
       "<tr><td>Undisclosed</td><td>369963</td></tr>\n",
       "<tr><td>Female</td><td>1619059</td></tr>\n",
       "<tr><td>Male</td><td>1654244</td></tr>\n",
       "</table>\n"
      ],
      "text/plain": [
       "+-----------+-------+\n",
       "|     gender|  count|\n",
       "+-----------+-------+\n",
       "|Undisclosed| 369963|\n",
       "|     Female|1619059|\n",
       "|       Male|1654244|\n",
       "+-----------+-------+"
      ]
     },
     "execution_count": 16,
     "metadata": {},
     "output_type": "execute_result"
    }
   ],
   "source": [
    "# Checking gender categories\n",
    "sdf_consumer_transaction.groupBy('gender').count()"
   ]
  },
  {
   "cell_type": "code",
   "execution_count": 21,
   "metadata": {},
   "outputs": [
    {
     "name": "stderr",
     "output_type": "stream",
     "text": [
      "                                                                                \r"
     ]
    },
    {
     "data": {
      "text/plain": [
       "3273303"
      ]
     },
     "execution_count": 21,
     "metadata": {},
     "output_type": "execute_result"
    }
   ],
   "source": [
    "# Only keep male and female genders, make boolean\n",
    "# sdf_consumer_transaction = sdf_consumer_transaction.where(\n",
    "#     (F.col('gender') == 'Male') | (F.col('gender') == 'Female')\n",
    "# )\n",
    "# sdf_consumer_transaction = sdf_consumer_transaction.withColumn(\n",
    "#     'gender',\n",
    "#     (F.col('gender') == 'Male').cast('BOOLEAN')\n",
    "# )\n",
    "# sdf_consumer_transaction.count()\n"
   ]
  },
  {
   "cell_type": "code",
   "execution_count": 17,
   "metadata": {},
   "outputs": [
    {
     "name": "stderr",
     "output_type": "stream",
     "text": [
      "                                                                                \r"
     ]
    },
    {
     "data": {
      "text/html": [
       "<table border='1'>\n",
       "<tr><th>state</th><th>count</th></tr>\n",
       "<tr><td>NT</td><td>51779</td></tr>\n",
       "<tr><td>ACT</td><td>33596</td></tr>\n",
       "<tr><td>SA</td><td>414261</td></tr>\n",
       "<tr><td>TAS</td><td>134807</td></tr>\n",
       "<tr><td>WA</td><td>577024</td></tr>\n",
       "<tr><td>QLD</td><td>538942</td></tr>\n",
       "<tr><td>VIC</td><td>842008</td></tr>\n",
       "<tr><td>NSW</td><td>1050849</td></tr>\n",
       "</table>\n"
      ],
      "text/plain": [
       "+-----+-------+\n",
       "|state|  count|\n",
       "+-----+-------+\n",
       "|   NT|  51779|\n",
       "|  ACT|  33596|\n",
       "|   SA| 414261|\n",
       "|  TAS| 134807|\n",
       "|   WA| 577024|\n",
       "|  QLD| 538942|\n",
       "|  VIC| 842008|\n",
       "|  NSW|1050849|\n",
       "+-----+-------+"
      ]
     },
     "execution_count": 17,
     "metadata": {},
     "output_type": "execute_result"
    }
   ],
   "source": [
    "# Checking if there is only correct states\n",
    "sdf_consumer_transaction.groupBy('state').count()"
   ]
  },
  {
   "cell_type": "code",
   "execution_count": 38,
   "metadata": {},
   "outputs": [],
   "source": [
    "# Round to 2 decimal places, and remove transactions equal to zero\n",
    "# Discuss min value\n",
    "min_value = 5\n",
    "sdf_consumer_transaction = sdf_consumer_transaction.withColumn('dollar_value', F.round(F.col('dollar_value'), 2))\n",
    "sdf_consumer_transaction = sdf_consumer_transaction.where(\n",
    "    (F.col('dollar_value') > min_value)\n",
    ")"
   ]
  },
  {
   "cell_type": "code",
   "execution_count": null,
   "metadata": {},
   "outputs": [],
   "source": [
    "# Make sure ABN is valid"
   ]
  },
  {
   "cell_type": "code",
   "execution_count": 23,
   "metadata": {},
   "outputs": [],
   "source": [
    "# Make sure post codes in right range and only digits\n",
    "min_postcode = '0200'\n",
    "max_postcode = '9999'\n",
    "\n",
    "# Check if only digits\n",
    "# sdf_consumer_transaction = sdf_consumer_transaction.where(F.col(\"postcode\").cast('string'))\n",
    "\n",
    "sdf_consumer_transaction = sdf_consumer_transaction.where(\n",
    "    (F.col('postcode') >= min_postcode)\n",
    "    & (F.col('postcode') <= max_postcode)\n",
    ")\n"
   ]
  },
  {
   "cell_type": "code",
   "execution_count": 39,
   "metadata": {},
   "outputs": [
    {
     "name": "stderr",
     "output_type": "stream",
     "text": [
      "                                                                                \r"
     ]
    },
    {
     "data": {
      "text/html": [
       "<table border='1'>\n",
       "<tr><th>summary</th><th>consumer_id</th><th>user_id</th><th>merchant_abn</th><th>dollar_value</th><th>state</th><th>postcode</th><th>gender</th></tr>\n",
       "<tr><td>count</td><td>3479953</td><td>3479953</td><td>3479953</td><td>3479953</td><td>3479953</td><td>3479953</td><td>3479953</td></tr>\n",
       "<tr><td>mean</td><td>753335.9036369169</td><td>12038.683883661648</td><td>5.545921570646908E10</td><td>173.960070414744</td><td>null</td><td>4043.795159589799</td><td>null</td></tr>\n",
       "<tr><td>stddev</td><td>435468.2355945888</td><td>6951.87581999312</td><td>2.535943687229347...</td><td>531.4256728713924</td><td>null</td><td>1780.3214030078946</td><td>null</td></tr>\n",
       "<tr><td>min</td><td>30</td><td>1</td><td>10023283211</td><td>5.01</td><td>ACT</td><td>1001</td><td>Female</td></tr>\n",
       "<tr><td>max</td><td>1499867</td><td>24081</td><td>99990536339</td><td>105193.89</td><td>WA</td><td>9999</td><td>Undisclosed</td></tr>\n",
       "</table>\n"
      ],
      "text/plain": [
       "+-------+-----------------+------------------+--------------------+-----------------+-------+------------------+-----------+\n",
       "|summary|      consumer_id|           user_id|        merchant_abn|     dollar_value|  state|          postcode|     gender|\n",
       "+-------+-----------------+------------------+--------------------+-----------------+-------+------------------+-----------+\n",
       "|  count|          3479953|           3479953|             3479953|          3479953|3479953|           3479953|    3479953|\n",
       "|   mean|753335.9036369169|12038.683883661648|5.545921570646908E10| 173.960070414744|   null| 4043.795159589799|       null|\n",
       "| stddev|435468.2355945888|  6951.87581999312|2.535943687229347...|531.4256728713924|   null|1780.3214030078946|       null|\n",
       "|    min|               30|                 1|         10023283211|             5.01|    ACT|              1001|     Female|\n",
       "|    max|          1499867|             24081|         99990536339|        105193.89|     WA|              9999|Undisclosed|\n",
       "+-------+-----------------+------------------+--------------------+-----------------+-------+------------------+-----------+"
      ]
     },
     "execution_count": 39,
     "metadata": {},
     "output_type": "execute_result"
    }
   ],
   "source": [
    "# Checking descriptive statistics again\n",
    "sdf_consumer_transaction.describe()"
   ]
  },
  {
   "cell_type": "code",
   "execution_count": null,
   "metadata": {},
   "outputs": [],
   "source": [
    "# Deal with NULL values"
   ]
  },
  {
   "cell_type": "code",
   "execution_count": null,
   "metadata": {},
   "outputs": [],
   "source": [
    "# Export cleaned data"
   ]
  }
 ],
 "metadata": {
  "kernelspec": {
   "display_name": "Python 3.8.10 64-bit",
   "language": "python",
   "name": "python3"
  },
  "language_info": {
   "codemirror_mode": {
    "name": "ipython",
    "version": 3
   },
   "file_extension": ".py",
   "mimetype": "text/x-python",
   "name": "python",
   "nbconvert_exporter": "python",
   "pygments_lexer": "ipython3",
   "version": "3.8.10"
  },
  "orig_nbformat": 4,
  "vscode": {
   "interpreter": {
    "hash": "916dbcbb3f70747c44a77c7bcd40155683ae19c65e1c03b4aa3499c5328201f1"
   }
  }
 },
 "nbformat": 4,
 "nbformat_minor": 2
}
