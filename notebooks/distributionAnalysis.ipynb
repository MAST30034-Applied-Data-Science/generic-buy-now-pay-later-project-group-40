{
 "cells": [
  {
   "cell_type": "markdown",
   "metadata": {},
   "source": [
    "Notebook to analyse how transaction amounts change per revenue band."
   ]
  },
  {
   "cell_type": "code",
   "execution_count": 1,
   "metadata": {},
   "outputs": [
    {
     "name": "stdout",
     "output_type": "stream",
     "text": [
      "22/09/15 13:42:10 WARN Utils: Your hostname, adi-laptop resolves to a loopback address: 127.0.1.1; using 172.22.121.94 instead (on interface eth0)\n",
      "22/09/15 13:42:10 WARN Utils: Set SPARK_LOCAL_IP if you need to bind to another address\n"
     ]
    },
    {
     "name": "stderr",
     "output_type": "stream",
     "text": [
      "Setting default log level to \"WARN\".\n",
      "To adjust logging level use sc.setLogLevel(newLevel). For SparkR, use setLogLevel(newLevel).\n"
     ]
    },
    {
     "name": "stdout",
     "output_type": "stream",
     "text": [
      "22/09/15 13:42:12 WARN NativeCodeLoader: Unable to load native-hadoop library for your platform... using builtin-java classes where applicable\n"
     ]
    }
   ],
   "source": [
    "from pyspark.sql import SparkSession\n",
    "\n",
    "spark = (\n",
    "    SparkSession.builder.appName(\"MAST30034 Project 2\")\n",
    "    .config(\"spark.driver.memory\", '4g')\n",
    "    .config(\"spark.executor.memory\", '8g')\n",
    "    .config(\"spark.sql.session.timeZone\", \"Etc/UTC\")\n",
    "    .config(\"spark.sql.parquet.enableVectorizedReader\",\"false\")\n",
    "    .config(\"spark.sql.repl.eagerEval.enabled\", True) \n",
    "    .config(\"spark.sql.parquet.cacheMetadata\", \"true\")\n",
    "    .getOrCreate()\n",
    ")"
   ]
  },
  {
   "cell_type": "markdown",
   "metadata": {},
   "source": [
    "Reading in the data."
   ]
  },
  {
   "cell_type": "code",
   "execution_count": 2,
   "metadata": {},
   "outputs": [
    {
     "name": "stderr",
     "output_type": "stream",
     "text": [
      "                                                                                \r"
     ]
    }
   ],
   "source": [
    "merchants = spark.read.parquet('../data/curated/merchants_df.parquet')\n",
    "transactions1 = spark.read.parquet('../data/tables/transactions_20210228_20210827_snapshot/')"
   ]
  },
  {
   "cell_type": "code",
   "execution_count": 3,
   "metadata": {},
   "outputs": [
    {
     "name": "stdout",
     "output_type": "stream",
     "text": [
      "+------------+------------------------------------+--------------------------------------------------------------------------------+-------------+---------+\n",
      "|merchant_abn|name                                |category                                                                        |revenue_level|take_rate|\n",
      "+------------+------------------------------------+--------------------------------------------------------------------------------+-------------+---------+\n",
      "|10023283211 |Felis Limited                       |[furniture, home furnishings, equipment shops, manufacturers, except appliances]|e            |0.18     |\n",
      "|10142254217 |Arcu Ac Orci Corporation            |[cable, satellite, other pay television, radio services]                        |b            |4.22     |\n",
      "|10165489824 |Nunc Sed Company                    |[jewelry, watch, clock, silverware shops]                                       |b            |4.4      |\n",
      "|10187291046 |Ultricies Dignissim Lacus Foundation|[watch, clock, jewelry repair shops]                                            |b            |3.29     |\n",
      "|10192359162 |Enim Condimentum PC                 |[music shops - musical instruments, pianos, sheet music]                        |a            |6.33     |\n",
      "|10206519221 |Fusce Company                       |[gift, card, novelty, souvenir shops]                                           |a            |6.34     |\n",
      "|10255988167 |Aliquam Enim Incorporated           |[computers, computer peripheral equipment, software]                            |b            |4.32     |\n",
      "|10264435225 |Ipsum Primis Ltd                    |[watch, clock, jewelry repair shops]                                            |c            |2.39     |\n",
      "|10279061213 |Pede Ultrices Industries            |[computer programming, data processing, integrated systems design services]     |a            |5.71     |\n",
      "|10323485998 |Nunc Inc.                           |[furniture, home furnishings, equipment shops, manufacturers, except appliances]|a            |6.61     |\n",
      "+------------+------------------------------------+--------------------------------------------------------------------------------+-------------+---------+\n",
      "only showing top 10 rows\n",
      "\n"
     ]
    }
   ],
   "source": [
    "merchants.show(10, truncate=False)"
   ]
  },
  {
   "cell_type": "code",
   "execution_count": 4,
   "metadata": {},
   "outputs": [
    {
     "name": "stdout",
     "output_type": "stream",
     "text": [
      "+-------+------------+------------------+------------------------------------+--------------+\n",
      "|user_id|merchant_abn|dollar_value      |order_id                            |order_datetime|\n",
      "+-------+------------+------------------+------------------------------------+--------------+\n",
      "|18478  |62191208634 |63.255848959735246|949a63c8-29f7-4ab0-ada4-99ac50a88952|2021-08-20    |\n",
      "|2      |15549624934 |130.3505283105634 |6a84c3cf-612a-4574-835b-144a47353eff|2021-08-20    |\n",
      "|18479  |64403598239 |120.15860593212783|b10dcc33-e53f-4254-863c-de5266810cbc|2021-08-20    |\n",
      "|3      |60956456424 |136.6785200286976 |0f09c5a5-784e-4477-b049-8ee4dd069b7b|2021-08-20    |\n",
      "|18479  |94493496784 |72.96316578355305 |f6c78c1a-4600-4c5f-8e97-6e9eb534b586|2021-08-20    |\n",
      "|3      |76819856970 |448.529684285612  |5ace6a24-cdf0-4aa3-b571-1d9406b352b5|2021-08-20    |\n",
      "|18479  |67609108741 |86.4040605836911  |d0e180f0-cb06-42a3-bd1a-c47dca15bc55|2021-08-20    |\n",
      "|3      |34096466752 |301.5793450525113 |6fb1ff48-24bb-4f97-9a96-d2e8ca009bda|2021-08-20    |\n",
      "|18482  |70501974849 |68.75486276223054 |8505fb33-b69a-412a-a8e1-827983a66577|2021-08-20    |\n",
      "|4      |49891706470 |48.89796461900801 |ed11e477-b09f-4ae0-84fb-74531ce8c30c|2021-08-20    |\n",
      "+-------+------------+------------------+------------------------------------+--------------+\n",
      "only showing top 10 rows\n",
      "\n"
     ]
    }
   ],
   "source": [
    "transactions1.show(10, truncate=False)"
   ]
  },
  {
   "cell_type": "code",
   "execution_count": 5,
   "metadata": {},
   "outputs": [
    {
     "name": "stderr",
     "output_type": "stream",
     "text": [
      "                                                                                \r"
     ]
    },
    {
     "data": {
      "text/plain": [
       "3643266"
      ]
     },
     "execution_count": 5,
     "metadata": {},
     "output_type": "execute_result"
    }
   ],
   "source": [
    "transactions1.count()"
   ]
  },
  {
   "cell_type": "code",
   "execution_count": 6,
   "metadata": {},
   "outputs": [
    {
     "name": "stderr",
     "output_type": "stream",
     "text": [
      "                                                                                \r"
     ]
    }
   ],
   "source": [
    "transactions2 = spark.read.parquet('../data/tables/transactions_20210828_20220227_snapshot/')\n",
    "transactions3 = spark.read.parquet('../data/tables/transactions_20220228_20220828_snapshot/')"
   ]
  },
  {
   "cell_type": "code",
   "execution_count": 7,
   "metadata": {},
   "outputs": [
    {
     "name": "stderr",
     "output_type": "stream",
     "text": [
      "                                                                                \r"
     ]
    },
    {
     "data": {
      "text/plain": [
       "(4508106, 6044133)"
      ]
     },
     "execution_count": 7,
     "metadata": {},
     "output_type": "execute_result"
    }
   ],
   "source": [
    "transactions2.count(), transactions3.count()"
   ]
  },
  {
   "cell_type": "code",
   "execution_count": 8,
   "metadata": {},
   "outputs": [
    {
     "name": "stdout",
     "output_type": "stream",
     "text": [
      "+-------+------------+------------------+------------------------------------+--------------+\n",
      "|user_id|merchant_abn|dollar_value      |order_id                            |order_datetime|\n",
      "+-------+------------+------------------+------------------------------------+--------------+\n",
      "|14935  |79417999332 |136.06570809815838|23acbb7b-cf98-4580-9775-86b8e0a2bd88|2021-11-26    |\n",
      "|1      |46451548968 |72.61581642788431 |76bab304-fa2d-4004-8179-8638b56a873e|2021-11-26    |\n",
      "|14936  |89518629617 |3.0783487174439297|a2ae446a-2959-41c4-81fd-a30c1efbde0c|2021-11-26    |\n",
      "|1      |49167531725 |51.58228625503599 |7080c274-17f7-4ccf-be22-1d33a45f7f81|2021-11-26    |\n",
      "|14936  |31101120643 |25.228114942417797|8e301c0f-06ab-45cb-a573-47c8e9b95423|2021-11-26    |\n",
      "|2      |67978471888 |691.5028234458998 |0380e9ad-b0e8-4203-a74b-e4ad3504d643|2021-11-26    |\n",
      "|14936  |60956456424 |102.13952056640888|5ac3da9c-5147-4524-8efb-0d312cfe6748|2021-11-26    |\n",
      "|2      |47644196714 |644.5220654863093 |4e368e44-86f8-4dee-b576-af18679bd2dd|2021-11-26    |\n",
      "|14938  |39649557865 |209.12780951421405|4d78cd01-4bab-494f-97cf-f7443faa348b|2021-11-26    |\n",
      "|3      |88402174457 |141.0387993699113 |c50c957d-ecfc-430f-9082-61a86eac2e0d|2021-11-26    |\n",
      "+-------+------------+------------------+------------------------------------+--------------+\n",
      "only showing top 10 rows\n",
      "\n"
     ]
    }
   ],
   "source": [
    "transactions2.show(10, truncate=False)"
   ]
  },
  {
   "cell_type": "code",
   "execution_count": 9,
   "metadata": {},
   "outputs": [
    {
     "name": "stdout",
     "output_type": "stream",
     "text": [
      "+-------+------------+------------------+------------------------------------+--------------+\n",
      "|user_id|merchant_abn|dollar_value      |order_id                            |order_datetime|\n",
      "+-------+------------+------------------+------------------------------------+--------------+\n",
      "|11139  |96152467973 |16.213590228273233|785b0080-9e4b-471a-9b1f-6a8a9dc535c2|2022-08-20    |\n",
      "|1      |98973094975 |86.97955945703498 |2560f7b0-ee5d-4b3e-bfc2-a00c011ff63c|2022-08-20    |\n",
      "|11139  |56762458844 |31.513502323509194|0311717b-8b5b-410b-89f3-f6e984b54a30|2022-08-20    |\n",
      "|1      |89502033586 |124.18468694868491|f8891626-f098-45bf-bd6b-a50d12823338|2022-08-20    |\n",
      "|11139  |96161808980 |61.620445567668966|d90a421f-f1da-4bff-97ac-47b53fd841fd|2022-08-20    |\n",
      "|2      |72472909171 |32.26524985312485 |523e0403-b677-4505-a8b8-fb9bce781127|2022-08-20    |\n",
      "|11139  |91923722701 |11.331586767322225|f45a842b-0366-41d7-87e3-b7dd0fa13bec|2022-08-20    |\n",
      "|3      |46380096952 |119.80011239189334|58d0f423-037c-43f0-aaf0-fe0971758487|2022-08-20    |\n",
      "|11140  |79283124876 |198.13027742225435|60b12d41-41d6-4c1a-acf2-ceb2d4e63046|2022-08-20    |\n",
      "|4      |67202032418 |206.20865323560022|64a05a23-a078-4818-9991-0080d988e0c9|2022-08-20    |\n",
      "+-------+------------+------------------+------------------------------------+--------------+\n",
      "only showing top 10 rows\n",
      "\n"
     ]
    }
   ],
   "source": [
    "transactions3.show(10, truncate=False)"
   ]
  },
  {
   "cell_type": "code",
   "execution_count": 10,
   "metadata": {},
   "outputs": [],
   "source": [
    "# Combining all transactions\n",
    "all_transactions = transactions1.union(transactions2).union(transactions3)"
   ]
  },
  {
   "cell_type": "code",
   "execution_count": 11,
   "metadata": {},
   "outputs": [
    {
     "name": "stderr",
     "output_type": "stream",
     "text": [
      "                                                                                \r"
     ]
    },
    {
     "data": {
      "text/plain": [
       "14195505"
      ]
     },
     "execution_count": 11,
     "metadata": {},
     "output_type": "execute_result"
    }
   ],
   "source": [
    "all_transactions.count()"
   ]
  },
  {
   "cell_type": "code",
   "execution_count": 12,
   "metadata": {},
   "outputs": [],
   "source": [
    "all_transactions = all_transactions.join(merchants, on='merchant_abn')"
   ]
  },
  {
   "cell_type": "code",
   "execution_count": 13,
   "metadata": {},
   "outputs": [
    {
     "name": "stdout",
     "output_type": "stream",
     "text": [
      "+------------+-------+------------------+------------------------------------+--------------+---------------------------------+--------------------------------------------------------------------------------+-------------+---------+\n",
      "|merchant_abn|user_id|dollar_value      |order_id                            |order_datetime|name                             |category                                                                        |revenue_level|take_rate|\n",
      "+------------+-------+------------------+------------------------------------+--------------+---------------------------------+--------------------------------------------------------------------------------+-------------+---------+\n",
      "|62191208634 |18478  |63.255848959735246|949a63c8-29f7-4ab0-ada4-99ac50a88952|2021-08-20    |Cursus Non Egestas Foundation    |[furniture, home furnishings, equipment shops, manufacturers, except appliances]|c            |2.17     |\n",
      "|15549624934 |2      |130.3505283105634 |6a84c3cf-612a-4574-835b-144a47353eff|2021-08-20    |Commodo Associates               |[opticians, optical goods, eyeglasses]                                          |c            |2.76     |\n",
      "|64403598239 |18479  |120.15860593212783|b10dcc33-e53f-4254-863c-de5266810cbc|2021-08-20    |Lobortis Ultrices Company        |[music shops - musical instruments, pianos, sheet music]                        |a            |6.31     |\n",
      "|60956456424 |3      |136.6785200286976 |0f09c5a5-784e-4477-b049-8ee4dd069b7b|2021-08-20    |Ultricies Dignissim LLP          |[gift, card, novelty, souvenir shops]                                           |b            |4.69     |\n",
      "|94493496784 |18479  |72.96316578355305 |f6c78c1a-4600-4c5f-8e97-6e9eb534b586|2021-08-20    |Dictum Phasellus In Institute    |[gift, card, novelty, souvenir shops]                                           |a            |5.65     |\n",
      "|76819856970 |3      |448.529684285612  |5ace6a24-cdf0-4aa3-b571-1d9406b352b5|2021-08-20    |Egestas Blandit Ltd              |[tent, awning shops]                                                            |b            |3.19     |\n",
      "|67609108741 |18479  |86.4040605836911  |d0e180f0-cb06-42a3-bd1a-c47dca15bc55|2021-08-20    |Metus Sit Amet Incorporated      |[cable, satellite, other pay television, radio services]                        |e            |0.38     |\n",
      "|34096466752 |3      |301.5793450525113 |6fb1ff48-24bb-4f97-9a96-d2e8ca009bda|2021-08-20    |Nullam Enim Ltd                  |[computers, computer peripheral equipment, software]                            |b            |3.22     |\n",
      "|70501974849 |18482  |68.75486276223054 |8505fb33-b69a-412a-a8e1-827983a66577|2021-08-20    |Facilisis Lorem Tristique Company|[computers, computer peripheral equipment, software]                            |b            |3.3      |\n",
      "|49891706470 |4      |48.89796461900801 |ed11e477-b09f-4ae0-84fb-74531ce8c30c|2021-08-20    |Non Vestibulum Industries        |[tent, awning shops]                                                            |a            |5.8      |\n",
      "+------------+-------+------------------+------------------------------------+--------------+---------------------------------+--------------------------------------------------------------------------------+-------------+---------+\n",
      "only showing top 10 rows\n",
      "\n"
     ]
    }
   ],
   "source": [
    "all_transactions.show(10, truncate=False)"
   ]
  },
  {
   "cell_type": "code",
   "execution_count": 14,
   "metadata": {},
   "outputs": [],
   "source": [
    "import pyspark.sql.functions as F"
   ]
  },
  {
   "cell_type": "code",
   "execution_count": 16,
   "metadata": {},
   "outputs": [
    {
     "name": "stderr",
     "output_type": "stream",
     "text": [
      "                                                                                \r"
     ]
    },
    {
     "data": {
      "text/html": [
       "<table border='1'>\n",
       "<tr><th>revenue_level</th></tr>\n",
       "<tr><td>e</td></tr>\n",
       "<tr><td>d</td></tr>\n",
       "<tr><td>c</td></tr>\n",
       "<tr><td>b</td></tr>\n",
       "<tr><td>a</td></tr>\n",
       "</table>\n"
      ],
      "text/plain": [
       "+-------------+\n",
       "|revenue_level|\n",
       "+-------------+\n",
       "|            e|\n",
       "|            d|\n",
       "|            c|\n",
       "|            b|\n",
       "|            a|\n",
       "+-------------+"
      ]
     },
     "execution_count": 16,
     "metadata": {},
     "output_type": "execute_result"
    }
   ],
   "source": [
    "# Just making sure there are no other revenue levels\n",
    "all_transactions.select('revenue_level').distinct()"
   ]
  },
  {
   "cell_type": "code",
   "execution_count": 15,
   "metadata": {},
   "outputs": [],
   "source": [
    "a = all_transactions.where(F.col('revenue_level') == 'a')\n",
    "b = all_transactions.where(F.col('revenue_level') == 'b')\n",
    "c = all_transactions.where(F.col('revenue_level') == 'c')\n",
    "d = all_transactions.where(F.col('revenue_level') == 'd')\n",
    "e = all_transactions.where(F.col('revenue_level') == 'e')"
   ]
  },
  {
   "cell_type": "code",
   "execution_count": 16,
   "metadata": {},
   "outputs": [],
   "source": [
    "import matplotlib.pyplot as plt\n",
    "import pandas as pd\n",
    "import numpy as np\n",
    "import seaborn as sns"
   ]
  },
  {
   "cell_type": "code",
   "execution_count": 19,
   "metadata": {},
   "outputs": [
    {
     "name": "stderr",
     "output_type": "stream",
     "text": [
      "                                                                                \r"
     ]
    },
    {
     "data": {
      "text/plain": [
       "(6111561, 3921368, 3324800, 136838, 120108)"
      ]
     },
     "execution_count": 19,
     "metadata": {},
     "output_type": "execute_result"
    }
   ],
   "source": [
    "a.count(), b.count(), c.count(), d.count(), e.count()"
   ]
  },
  {
   "cell_type": "code",
   "execution_count": 25,
   "metadata": {},
   "outputs": [
    {
     "name": "stdout",
     "output_type": "stream",
     "text": [
      "+------------+-------+------------------+------------------------------------+--------------+---------------------------+--------------------------------------------------------+-------------+---------+\n",
      "|merchant_abn|user_id|dollar_value      |order_id                            |order_datetime|name                       |category                                                |revenue_level|take_rate|\n",
      "+------------+-------+------------------+------------------------------------+--------------+---------------------------+--------------------------------------------------------+-------------+---------+\n",
      "|67609108741 |18479  |86.4040605836911  |d0e180f0-cb06-42a3-bd1a-c47dca15bc55|2021-08-20    |Metus Sit Amet Incorporated|[cable, satellite, other pay television, radio services]|e            |0.38     |\n",
      "|41944909975 |7      |30.910755230234322|302ae628-8eba-4a52-b77f-9f8aedc906e8|2021-08-20    |Et Nunc Consulting         |[books, periodicals, newspapers]                        |e            |0.16     |\n",
      "|79008028287 |70     |7.3133826834502385|68f23792-1f1d-41a0-9fc0-b4d2245d75ec|2021-08-20    |Feugiat Nec Diam LLC       |[computers, computer peripheral equipment, software]    |e            |0.3      |\n",
      "|67609108741 |145    |26.347837741235328|4dcf3e19-01e8-49e7-8c9a-63ba05a93988|2021-08-20    |Metus Sit Amet Incorporated|[cable, satellite, other pay television, radio services]|e            |0.38     |\n",
      "|67609108741 |185    |65.11768852570502 |c5e6365e-b75a-4c47-b632-fc9221f11cb0|2021-08-20    |Metus Sit Amet Incorporated|[cable, satellite, other pay television, radio services]|e            |0.38     |\n",
      "+------------+-------+------------------+------------------------------------+--------------+---------------------------+--------------------------------------------------------+-------------+---------+\n",
      "only showing top 5 rows\n",
      "\n"
     ]
    }
   ],
   "source": [
    "e.show(5, truncate=False)"
   ]
  },
  {
   "cell_type": "code",
   "execution_count": 17,
   "metadata": {},
   "outputs": [
    {
     "name": "stderr",
     "output_type": "stream",
     "text": [
      "                                                                                \r"
     ]
    }
   ],
   "source": [
    "# This takes 2-3 minutes\n",
    "a_sales = a.select('dollar_value').toPandas()['dollar_value']\n",
    "b_sales = b.select('dollar_value').toPandas()['dollar_value']\n",
    "c_sales = c.select('dollar_value').toPandas()['dollar_value']\n",
    "d_sales = d.select('dollar_value').toPandas()['dollar_value']\n",
    "e_sales = e.select('dollar_value').toPandas()['dollar_value']"
   ]
  },
  {
   "cell_type": "code",
   "execution_count": 52,
   "metadata": {},
   "outputs": [
    {
     "data": {
      "text/plain": [
       "0           120.158606\n",
       "1            72.963166\n",
       "2            48.897965\n",
       "3            83.984731\n",
       "4           232.536499\n",
       "              ...     \n",
       "6111556    2090.840134\n",
       "6111557      54.810394\n",
       "6111558     501.587746\n",
       "6111559     103.389906\n",
       "6111560     123.982236\n",
       "Name: dollar_value, Length: 6111561, dtype: float64"
      ]
     },
     "execution_count": 52,
     "metadata": {},
     "output_type": "execute_result"
    }
   ],
   "source": [
    "a_sales"
   ]
  },
  {
   "cell_type": "code",
   "execution_count": 60,
   "metadata": {},
   "outputs": [
    {
     "data": {
      "image/png": "[encoded data removed]",
      "text/plain": [
       "<Figure size 432x288 with 1 Axes>"
      ]
     },
     "metadata": {
      "needs_background": "light"
     },
     "output_type": "display_data"
    }
   ],
   "source": [
    "sns.histplot(x = np.log(a_sales), bins=100, kde=True)\n",
    "plt.xlabel('log(dollar value)')\n",
    "plt.ylabel('Frequency')\n",
    "plt.title('Transcation amount distribution: Band \\'a\\'')\n",
    "plt.show()"
   ]
  },
  {
   "cell_type": "code",
   "execution_count": 59,
   "metadata": {},
   "outputs": [
    {
     "data": {
      "image/png": "[encoded data removed]",
      "text/plain": [
       "<Figure size 432x288 with 1 Axes>"
      ]
     },
     "metadata": {
      "needs_background": "light"
     },
     "output_type": "display_data"
    }
   ],
   "source": [
    "sns.histplot(x = np.log(b_sales), bins=100, kde=True)\n",
    "plt.xlabel('log(dollar value)')\n",
    "plt.ylabel('Frequency')\n",
    "plt.title('Transcation amount distribution: Band \\'b\\'')\n",
    "plt.show()"
   ]
  },
  {
   "cell_type": "code",
   "execution_count": 58,
   "metadata": {},
   "outputs": [
    {
     "data": {
      "image/png": "[encoded data removed]",
      "text/plain": [
       "<Figure size 432x288 with 1 Axes>"
      ]
     },
     "metadata": {
      "needs_background": "light"
     },
     "output_type": "display_data"
    }
   ],
   "source": [
    "sns.histplot(x = np.log(c_sales), bins=100, kde=True)\n",
    "plt.xlabel('log(dollar value)')\n",
    "plt.ylabel('Frequency')\n",
    "plt.title('Transcation amount distribution: Band \\'c\\'')\n",
    "plt.show()"
   ]
  },
  {
   "cell_type": "code",
   "execution_count": 56,
   "metadata": {},
   "outputs": [
    {
     "data": {
      "image/png": "[encoded data removed]",
      "text/plain": [
       "<Figure size 432x288 with 1 Axes>"
      ]
     },
     "metadata": {
      "needs_background": "light"
     },
     "output_type": "display_data"
    }
   ],
   "source": [
    "sns.histplot(x = np.log(d_sales), bins=100, kde=True)\n",
    "plt.xlabel('log(dollar value)')\n",
    "plt.ylabel('Frequency')\n",
    "plt.title('Transcation amount distribution: Band \\'d\\'')\n",
    "plt.show()"
   ]
  },
  {
   "cell_type": "code",
   "execution_count": 53,
   "metadata": {},
   "outputs": [
    {
     "data": {
      "image/png": "[encoded data removed]",
      "text/plain": [
       "<Figure size 432x288 with 1 Axes>"
      ]
     },
     "metadata": {
      "needs_background": "light"
     },
     "output_type": "display_data"
    }
   ],
   "source": [
    "sns.histplot(x = np.log(e_sales), bins=100, kde=True)\n",
    "plt.xlabel('log(dollar value)')\n",
    "plt.ylabel('Frequency')\n",
    "plt.title('Transcation amount distribution: Band \\'e\\'')\n",
    "plt.show()"
   ]
  },
  {
   "cell_type": "code",
   "execution_count": 61,
   "metadata": {},
   "outputs": [
    {
     "data": {
      "text/plain": [
       "(142.08113719402917,\n",
       " 197.10167061189236,\n",
       " 136.49983808642682,\n",
       " 272.26155837560873,\n",
       " 205.81212763881703)"
      ]
     },
     "execution_count": 61,
     "metadata": {},
     "output_type": "execute_result"
    }
   ],
   "source": [
    "a_sales.mean(), b_sales.mean(), c_sales.mean(), d_sales.mean(), e_sales.mean()"
   ]
  },
  {
   "cell_type": "code",
   "execution_count": 64,
   "metadata": {},
   "outputs": [
    {
     "data": {
      "text/plain": [
       "(360.364383024938,\n",
       " 594.2474556747854,\n",
       " 434.4194858803137,\n",
       " 681.0203258609793,\n",
       " 399.06297651466207)"
      ]
     },
     "execution_count": 64,
     "metadata": {},
     "output_type": "execute_result"
    }
   ],
   "source": [
    "a_sales.std(), b_sales.std(), c_sales.std(), d_sales.std(), e_sales.std()"
   ]
  },
  {
   "cell_type": "code",
   "execution_count": 63,
   "metadata": {},
   "outputs": [
    {
     "data": {
      "text/plain": [
       "(4.038955118245836,\n",
       " 4.3331199931654005,\n",
       " 3.8278962973530644,\n",
       " 4.679709710974686,\n",
       " 4.652288332667037)"
      ]
     },
     "execution_count": 63,
     "metadata": {},
     "output_type": "execute_result"
    }
   ],
   "source": [
    "np.log(a_sales).mean(), np.log(b_sales).mean(), np.log(c_sales).mean(), np.log(d_sales).mean(), np.log(e_sales).mean()"
   ]
  },
  {
   "cell_type": "code",
   "execution_count": 65,
   "metadata": {},
   "outputs": [
    {
     "data": {
      "text/plain": [
       "(1.3931536001478384,\n",
       " 1.4093276901216711,\n",
       " 1.484117360298092,\n",
       " 1.451020251736283,\n",
       " 1.1852868257354157)"
      ]
     },
     "execution_count": 65,
     "metadata": {},
     "output_type": "execute_result"
    }
   ],
   "source": [
    "np.log(a_sales).std(), np.log(b_sales).std(), np.log(c_sales).std(), np.log(d_sales).std(), np.log(e_sales).std()"
   ]
  },
  {
   "cell_type": "code",
   "execution_count": null,
   "metadata": {},
   "outputs": [],
   "source": []
  }
 ],
 "metadata": {
  "kernelspec": {
   "display_name": "Python 3.10.4 64-bit",
   "language": "python",
   "name": "python3"
  },
  "language_info": {
   "codemirror_mode": {
    "name": "ipython",
    "version": 3
   },
   "file_extension": ".py",
   "mimetype": "text/x-python",
   "name": "python",
   "nbconvert_exporter": "python",
   "pygments_lexer": "ipython3",
   "version": "3.10.4"
  },
  "orig_nbformat": 4,
  "vscode": {
   "interpreter": {
    "hash": "916dbcbb3f70747c44a77c7bcd40155683ae19c65e1c03b4aa3499c5328201f1"
   }
  }
 },
 "nbformat": 4,
 "nbformat_minor": 2
}
