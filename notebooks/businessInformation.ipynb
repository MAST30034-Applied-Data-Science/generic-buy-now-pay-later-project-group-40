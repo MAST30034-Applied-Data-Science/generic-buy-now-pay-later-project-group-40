{
 "cells": [
  {
   "cell_type": "code",
   "execution_count": 32,
   "metadata": {},
   "outputs": [],
   "source": [
    "from pyspark.sql.functions import *\n",
    "from pyspark.sql import functions as F\n",
    "import pandas as pd"
   ]
  },
  {
   "cell_type": "code",
   "execution_count": 33,
   "metadata": {},
   "outputs": [],
   "source": [
    "predictions = pd.read_parquet('../data/curated/transaction_predictions.parquet')\n",
    "merchants_df = pd.read_parquet('../data/curated/merchants.parquet')"
   ]
  },
  {
   "cell_type": "code",
   "execution_count": 11,
   "metadata": {},
   "outputs": [],
   "source": [
    "merchants_df = merchants_df[['merchant_abn', 'name','segment']]\n",
    "total_ranking = predictions.groupby('merchant_abn').sum().sort_values(by = 'value', ascending = False)\n",
    "total_ranking = total_ranking[['value']]\n",
    "segments_ranking = merchants_df.join(total_ranking, on='merchant_abn', how='right')\n",
    "total_ranking = segments_ranking[['merchant_abn','name','value']]\n",
    "\n",
    "misc_df = segments_ranking[segments_ranking['segment'] == 'Miscellaneous']\n",
    "misc_df = misc_df.sort_values(by = 'value', ascending = False)\n",
    "\n",
    "home_df = segments_ranking[segments_ranking['segment'] == 'Home']\n",
    "home_df = home_df.sort_values(by = 'value', ascending = False)\n",
    "\n",
    "acc_df = segments_ranking[segments_ranking['segment'] == 'Accessories']\n",
    "acc_df = acc_df.sort_values(by = 'value', ascending = False)\n",
    "\n",
    "art_df = segments_ranking[segments_ranking['segment'] == 'Art']\n",
    "art_df = art_df.sort_values(by = 'value', ascending = False)\n",
    "\n",
    "tech_df = segments_ranking[segments_ranking['segment'] == 'Media & Technology']\n",
    "tech_df = tech_df.sort_values(by = 'value', ascending = False)"
   ]
  },
  {
   "cell_type": "code",
   "execution_count": 13,
   "metadata": {},
   "outputs": [
    {
     "data": {
      "text/html": [
       "<div>\n",
       "<style scoped>\n",
       "    .dataframe tbody tr th:only-of-type {\n",
       "        vertical-align: middle;\n",
       "    }\n",
       "\n",
       "    .dataframe tbody tr th {\n",
       "        vertical-align: top;\n",
       "    }\n",
       "\n",
       "    .dataframe thead th {\n",
       "        text-align: right;\n",
       "    }\n",
       "</style>\n",
       "<table border=\"1\" class=\"dataframe\">\n",
       "  <thead>\n",
       "    <tr style=\"text-align: right;\">\n",
       "      <th></th>\n",
       "      <th>merchant_abn</th>\n",
       "      <th>name</th>\n",
       "      <th>value</th>\n",
       "    </tr>\n",
       "  </thead>\n",
       "  <tbody>\n",
       "    <tr>\n",
       "      <th>2060</th>\n",
       "      <td>55403018592</td>\n",
       "      <td>Elit Limited</td>\n",
       "      <td>5.773170e-15</td>\n",
       "    </tr>\n",
       "    <tr>\n",
       "      <th>1851</th>\n",
       "      <td>50532670634</td>\n",
       "      <td>Accumsan Laoreet Ipsum Company</td>\n",
       "      <td>5.773170e-15</td>\n",
       "    </tr>\n",
       "    <tr>\n",
       "      <th>2640</th>\n",
       "      <td>68591542501</td>\n",
       "      <td>Felis Ltd</td>\n",
       "      <td>5.773170e-15</td>\n",
       "    </tr>\n",
       "    <tr>\n",
       "      <th>2</th>\n",
       "      <td>10165489824</td>\n",
       "      <td>Nunc Sed Company</td>\n",
       "      <td>5.773170e-15</td>\n",
       "    </tr>\n",
       "    <tr>\n",
       "      <th>594</th>\n",
       "      <td>22853038342</td>\n",
       "      <td>Semper Pretium Limited</td>\n",
       "      <td>5.773170e-15</td>\n",
       "    </tr>\n",
       "    <tr>\n",
       "      <th>3428</th>\n",
       "      <td>86201937910</td>\n",
       "      <td>Libero Et LLC</td>\n",
       "      <td>5.773170e-15</td>\n",
       "    </tr>\n",
       "    <tr>\n",
       "      <th>3184</th>\n",
       "      <td>80426072728</td>\n",
       "      <td>Massa Non Ante Industries</td>\n",
       "      <td>5.773170e-15</td>\n",
       "    </tr>\n",
       "    <tr>\n",
       "      <th>3029</th>\n",
       "      <td>76866488151</td>\n",
       "      <td>Euismod Urna Company</td>\n",
       "      <td>5.773170e-15</td>\n",
       "    </tr>\n",
       "    <tr>\n",
       "      <th>381</th>\n",
       "      <td>18261886835</td>\n",
       "      <td>Massa Rutrum LLP</td>\n",
       "      <td>5.773170e-15</td>\n",
       "    </tr>\n",
       "    <tr>\n",
       "      <th>2067</th>\n",
       "      <td>55555661470</td>\n",
       "      <td>Nullam Scelerisque LLC</td>\n",
       "      <td>5.773170e-15</td>\n",
       "    </tr>\n",
       "    <tr>\n",
       "      <th>1896</th>\n",
       "      <td>51425051982</td>\n",
       "      <td>Sem Corporation</td>\n",
       "      <td>5.773170e-15</td>\n",
       "    </tr>\n",
       "    <tr>\n",
       "      <th>234</th>\n",
       "      <td>15293888435</td>\n",
       "      <td>Ipsum Sodales Purus Company</td>\n",
       "      <td>5.773170e-15</td>\n",
       "    </tr>\n",
       "    <tr>\n",
       "      <th>3231</th>\n",
       "      <td>81548651453</td>\n",
       "      <td>Mauris Blandit Limited</td>\n",
       "      <td>5.773170e-15</td>\n",
       "    </tr>\n",
       "    <tr>\n",
       "      <th>1290</th>\n",
       "      <td>37815517789</td>\n",
       "      <td>Odio PC</td>\n",
       "      <td>5.773170e-15</td>\n",
       "    </tr>\n",
       "    <tr>\n",
       "      <th>658</th>\n",
       "      <td>24212300522</td>\n",
       "      <td>Consectetuer Industries</td>\n",
       "      <td>5.773170e-15</td>\n",
       "    </tr>\n",
       "    <tr>\n",
       "      <th>419</th>\n",
       "      <td>19340071232</td>\n",
       "      <td>Magna Sed Associates</td>\n",
       "      <td>2.828364e-14</td>\n",
       "    </tr>\n",
       "    <tr>\n",
       "      <th>813</th>\n",
       "      <td>27518736748</td>\n",
       "      <td>Enim LLP</td>\n",
       "      <td>3.174247e-14</td>\n",
       "    </tr>\n",
       "    <tr>\n",
       "      <th>2008</th>\n",
       "      <td>54277261175</td>\n",
       "      <td>In Magna PC</td>\n",
       "      <td>3.359950e-14</td>\n",
       "    </tr>\n",
       "    <tr>\n",
       "      <th>1725</th>\n",
       "      <td>47441593515</td>\n",
       "      <td>Tempor PC</td>\n",
       "      <td>3.392556e-14</td>\n",
       "    </tr>\n",
       "    <tr>\n",
       "      <th>1684</th>\n",
       "      <td>46537010521</td>\n",
       "      <td>Tempor Augue Ac Company</td>\n",
       "      <td>3.518110e-14</td>\n",
       "    </tr>\n",
       "  </tbody>\n",
       "</table>\n",
       "</div>"
      ],
      "text/plain": [
       "      merchant_abn                            name         value\n",
       "2060   55403018592                    Elit Limited  5.773170e-15\n",
       "1851   50532670634  Accumsan Laoreet Ipsum Company  5.773170e-15\n",
       "2640   68591542501                       Felis Ltd  5.773170e-15\n",
       "2      10165489824                Nunc Sed Company  5.773170e-15\n",
       "594    22853038342          Semper Pretium Limited  5.773170e-15\n",
       "3428   86201937910                   Libero Et LLC  5.773170e-15\n",
       "3184   80426072728       Massa Non Ante Industries  5.773170e-15\n",
       "3029   76866488151            Euismod Urna Company  5.773170e-15\n",
       "381    18261886835                Massa Rutrum LLP  5.773170e-15\n",
       "2067   55555661470          Nullam Scelerisque LLC  5.773170e-15\n",
       "1896   51425051982                 Sem Corporation  5.773170e-15\n",
       "234    15293888435     Ipsum Sodales Purus Company  5.773170e-15\n",
       "3231   81548651453          Mauris Blandit Limited  5.773170e-15\n",
       "1290   37815517789                         Odio PC  5.773170e-15\n",
       "658    24212300522         Consectetuer Industries  5.773170e-15\n",
       "419    19340071232            Magna Sed Associates  2.828364e-14\n",
       "813    27518736748                        Enim LLP  3.174247e-14\n",
       "2008   54277261175                     In Magna PC  3.359950e-14\n",
       "1725   47441593515                       Tempor PC  3.392556e-14\n",
       "1684   46537010521         Tempor Augue Ac Company  3.518110e-14"
      ]
     },
     "execution_count": 13,
     "metadata": {},
     "output_type": "execute_result"
    }
   ],
   "source": [
    "total_ranking.sort_values(by = 'value', ascending = True).head(20)"
   ]
  },
  {
   "cell_type": "code",
   "execution_count": 3,
   "metadata": {},
   "outputs": [
    {
     "name": "stdout",
     "output_type": "stream",
     "text": [
      "22/10/09 17:22:45 WARN Utils: Your hostname, dash_surface resolves to a loopback address: 127.0.1.1; using 172.24.198.246 instead (on interface eth0)\n",
      "22/10/09 17:22:45 WARN Utils: Set SPARK_LOCAL_IP if you need to bind to another address\n"
     ]
    },
    {
     "name": "stderr",
     "output_type": "stream",
     "text": [
      "Setting default log level to \"WARN\".\n",
      "To adjust logging level use sc.setLogLevel(newLevel). For SparkR, use setLogLevel(newLevel).\n"
     ]
    },
    {
     "name": "stdout",
     "output_type": "stream",
     "text": [
      "22/10/09 17:22:47 WARN NativeCodeLoader: Unable to load native-hadoop library for your platform... using builtin-java classes where applicable\n"
     ]
    }
   ],
   "source": [
    "from pyspark.sql import SparkSession\n",
    "\n",
    "\n",
    "spark = (\n",
    "    SparkSession.builder.appName(\"MAST30034 Project 2\")\n",
    "    .config(\"spark.driver.memory\", '4g')\n",
    "    .config(\"spark.executor.memory\", '8g')\n",
    "    .config(\"spark.sql.session.timeZone\", \"Etc/UTC\")\n",
    "    .config(\"spark.sql.parquet.enableVectorizedReader\",\"false\")\n",
    "    .config(\"spark.sql.repl.eagerEval.enabled\", True) \n",
    "    .config(\"spark.sql.parquet.cacheMetadata\", \"true\")\n",
    "    .getOrCreate()\n",
    ")"
   ]
  },
  {
   "cell_type": "code",
   "execution_count": 35,
   "metadata": {},
   "outputs": [],
   "source": [
    "predictions = spark.read.parquet('../data/curated/transaction_predictions.parquet')"
   ]
  },
  {
   "cell_type": "code",
   "execution_count": 36,
   "metadata": {},
   "outputs": [
    {
     "data": {
      "text/html": [
       "<table border='1'>\n",
       "<tr><th>merchant_idx</th><th>week_idx</th><th>merchant_abn</th><th>value</th></tr>\n",
       "<tr><td>0</td><td>86</td><td>10023283211</td><td>0.5608883</td></tr>\n",
       "<tr><td>0</td><td>87</td><td>10023283211</td><td>0.5671433</td></tr>\n",
       "<tr><td>0</td><td>88</td><td>10023283211</td><td>0.5668918</td></tr>\n",
       "<tr><td>0</td><td>89</td><td>10023283211</td><td>0.589157</td></tr>\n",
       "<tr><td>0</td><td>90</td><td>10023283211</td><td>0.5888265</td></tr>\n",
       "<tr><td>0</td><td>91</td><td>10023283211</td><td>0.59795564</td></tr>\n",
       "<tr><td>0</td><td>92</td><td>10023283211</td><td>0.5868635</td></tr>\n",
       "<tr><td>0</td><td>93</td><td>10023283211</td><td>0.5869298</td></tr>\n",
       "<tr><td>0</td><td>94</td><td>10023283211</td><td>0.60623986</td></tr>\n",
       "<tr><td>0</td><td>95</td><td>10023283211</td><td>0.610332</td></tr>\n",
       "<tr><td>0</td><td>96</td><td>10023283211</td><td>0.5909189</td></tr>\n",
       "<tr><td>0</td><td>97</td><td>10023283211</td><td>0.5906171</td></tr>\n",
       "<tr><td>0</td><td>98</td><td>10023283211</td><td>0.59870046</td></tr>\n",
       "<tr><td>0</td><td>99</td><td>10023283211</td><td>0.5974721</td></tr>\n",
       "<tr><td>0</td><td>100</td><td>10023283211</td><td>0.60061526</td></tr>\n",
       "<tr><td>0</td><td>101</td><td>10023283211</td><td>0.6002099</td></tr>\n",
       "<tr><td>0</td><td>102</td><td>10023283211</td><td>0.60228217</td></tr>\n",
       "<tr><td>0</td><td>103</td><td>10023283211</td><td>0.6019879</td></tr>\n",
       "<tr><td>0</td><td>104</td><td>10023283211</td><td>0.60296494</td></tr>\n",
       "<tr><td>0</td><td>105</td><td>10023283211</td><td>0.6102963</td></tr>\n",
       "</table>\n",
       "only showing top 20 rows\n"
      ],
      "text/plain": [
       "+------------+--------+------------+----------+\n",
       "|merchant_idx|week_idx|merchant_abn|     value|\n",
       "+------------+--------+------------+----------+\n",
       "|           0|      86| 10023283211| 0.5608883|\n",
       "|           0|      87| 10023283211| 0.5671433|\n",
       "|           0|      88| 10023283211| 0.5668918|\n",
       "|           0|      89| 10023283211|  0.589157|\n",
       "|           0|      90| 10023283211| 0.5888265|\n",
       "|           0|      91| 10023283211|0.59795564|\n",
       "|           0|      92| 10023283211| 0.5868635|\n",
       "|           0|      93| 10023283211| 0.5869298|\n",
       "|           0|      94| 10023283211|0.60623986|\n",
       "|           0|      95| 10023283211|  0.610332|\n",
       "|           0|      96| 10023283211| 0.5909189|\n",
       "|           0|      97| 10023283211| 0.5906171|\n",
       "|           0|      98| 10023283211|0.59870046|\n",
       "|           0|      99| 10023283211| 0.5974721|\n",
       "|           0|     100| 10023283211|0.60061526|\n",
       "|           0|     101| 10023283211| 0.6002099|\n",
       "|           0|     102| 10023283211|0.60228217|\n",
       "|           0|     103| 10023283211| 0.6019879|\n",
       "|           0|     104| 10023283211|0.60296494|\n",
       "|           0|     105| 10023283211| 0.6102963|\n",
       "+------------+--------+------------+----------+\n",
       "only showing top 20 rows"
      ]
     },
     "execution_count": 36,
     "metadata": {},
     "output_type": "execute_result"
    }
   ],
   "source": [
    "predictions"
   ]
  },
  {
   "cell_type": "code",
   "execution_count": 4,
   "metadata": {},
   "outputs": [
    {
     "name": "stderr",
     "output_type": "stream",
     "text": [
      "                                                                                \r"
     ]
    }
   ],
   "source": [
    "transactions_sdf = spark.read.parquet('../data/curated/cleaned_transactions.parquet/')"
   ]
  },
  {
   "cell_type": "code",
   "execution_count": 15,
   "metadata": {},
   "outputs": [],
   "source": [
    "# Number 1 ranked merchant\n",
    "\n",
    "topMerchant = transactions_sdf.where(F.col('merchant_abn') == 79827781481)"
   ]
  },
  {
   "cell_type": "code",
   "execution_count": 16,
   "metadata": {},
   "outputs": [
    {
     "name": "stderr",
     "output_type": "stream",
     "text": [
      "                                                                                \r"
     ]
    }
   ],
   "source": [
    "total = topMerchant.count()\n",
    "maleCount = topMerchant.where(F.col('gender') == \"Male\").count()\n",
    "femaleCount = topMerchant.where(F.col('gender') == \"Female\").count()\n",
    "undisCount = topMerchant.where(F.col('gender') == \"Undisclosed\").count()"
   ]
  },
  {
   "cell_type": "code",
   "execution_count": 19,
   "metadata": {},
   "outputs": [
    {
     "name": "stdout",
     "output_type": "stream",
     "text": [
      "Top merchant male proportion: 0.45229681978798586\n",
      "Top merchant female proportion: 0.44617196702002354\n",
      "Top merchant undisclosed proportion: 0.10153121319199057\n",
      "Top merchant total count: 4245\n"
     ]
    }
   ],
   "source": [
    "print(f\"Top merchant male proportion: {maleCount/total}\")\n",
    "print(f\"Top merchant female proportion: {femaleCount/total}\")\n",
    "print(f\"Top merchant undisclosed proportion: {undisCount/total}\")\n",
    "print(f\"Top merchant total count: {total}\")"
   ]
  },
  {
   "cell_type": "code",
   "execution_count": 28,
   "metadata": {},
   "outputs": [],
   "source": [
    "# Worst ranked merchant\n",
    "\n",
    "badMerchant = transactions_sdf.where(F.col('merchant_abn') == 55403018592)"
   ]
  },
  {
   "cell_type": "code",
   "execution_count": 29,
   "metadata": {},
   "outputs": [
    {
     "name": "stderr",
     "output_type": "stream",
     "text": [
      "                                                                                \r"
     ]
    }
   ],
   "source": [
    "btotal = badMerchant.count()\n",
    "bmaleCount = badMerchant.where(F.col('gender') == \"Male\").count()\n",
    "bfemaleCount = badMerchant.where(F.col('gender') == \"Female\").count()\n",
    "bundisCount = badMerchant.where(F.col('gender') == \"Undisclosed\").count()"
   ]
  },
  {
   "cell_type": "code",
   "execution_count": 31,
   "metadata": {},
   "outputs": [
    {
     "name": "stdout",
     "output_type": "stream",
     "text": [
      "Worst merchant male proportion: 1.0\n",
      "Worst merchant female proportion: 0.0\n",
      "Worst merchant undisclosed proportion: 0.0\n",
      "Worst merchant total count: 1\n"
     ]
    }
   ],
   "source": [
    "print(f\"Worst merchant male proportion: {bmaleCount/btotal}\")\n",
    "print(f\"Worst merchant female proportion: {bfemaleCount/btotal}\")\n",
    "print(f\"Worst merchant undisclosed proportion: {bundisCount/btotal}\")\n",
    "print(f\"Worst merchant total count: {btotal}\")"
   ]
  }
 ],
 "metadata": {
  "kernelspec": {
   "display_name": "Python 3.10.4 64-bit",
   "language": "python",
   "name": "python3"
  },
  "language_info": {
   "codemirror_mode": {
    "name": "ipython",
    "version": 3
   },
   "file_extension": ".py",
   "mimetype": "text/x-python",
   "name": "python",
   "nbconvert_exporter": "python",
   "pygments_lexer": "ipython3",
   "version": "3.10.4"
  },
  "orig_nbformat": 4,
  "vscode": {
   "interpreter": {
    "hash": "916dbcbb3f70747c44a77c7bcd40155683ae19c65e1c03b4aa3499c5328201f1"
   }
  }
 },
 "nbformat": 4,
 "nbformat_minor": 2
}
