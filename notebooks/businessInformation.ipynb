{
 "cells": [
  {
   "cell_type": "markdown",
   "metadata": {},
   "source": [
    "# Observe top and bottom merchants from ranking system"
   ]
  },
  {
   "cell_type": "code",
   "execution_count": 58,
   "metadata": {},
   "outputs": [],
   "source": [
    "from pyspark.sql.functions import *\n",
    "from pyspark.sql import functions as F\n",
    "import pandas as pd\n",
    "import matplotlib.pyplot as plt"
   ]
  },
  {
   "cell_type": "code",
   "execution_count": 2,
   "metadata": {},
   "outputs": [],
   "source": [
    "predictions = pd.read_parquet('../data/curated/lr_transaction_predictions.parquet')\n",
    "merchants_df = pd.read_parquet('../data/curated/merchants.parquet')"
   ]
  },
  {
   "cell_type": "code",
   "execution_count": 7,
   "metadata": {},
   "outputs": [],
   "source": [
    "merchants_df = merchants_df[['merchant_abn', 'name','segment']]\n",
    "total_ranking = predictions.groupby('merchant_abn').sum().sort_values(by = 'weighted_dollar_value', ascending = False)\n",
    "total_ranking = total_ranking[['weighted_dollar_value']]\n",
    "segments_ranking = merchants_df.join(total_ranking, on='merchant_abn', how='right')\n",
    "total_ranking = segments_ranking[['merchant_abn','name','weighted_dollar_value']]\n",
    "\n",
    "misc_df = segments_ranking[segments_ranking['segment'] == 'Miscellaneous']\n",
    "misc_df = misc_df.sort_values(by = 'weighted_dollar_value', ascending = False)\n",
    "\n",
    "home_df = segments_ranking[segments_ranking['segment'] == 'Home']\n",
    "home_df = home_df.sort_values(by = 'weighted_dollar_value', ascending = False)\n",
    "\n",
    "acc_df = segments_ranking[segments_ranking['segment'] == 'Accessories']\n",
    "acc_df = acc_df.sort_values(by = 'weighted_dollar_value', ascending = False)\n",
    "\n",
    "art_df = segments_ranking[segments_ranking['segment'] == 'Art']\n",
    "art_df = art_df.sort_values(by = 'weighted_dollar_value', ascending = False)\n",
    "\n",
    "tech_df = segments_ranking[segments_ranking['segment'] == 'Media & Technology']\n",
    "tech_df = tech_df.sort_values(by = 'weighted_dollar_value', ascending = False)"
   ]
  },
  {
   "cell_type": "code",
   "execution_count": 56,
   "metadata": {},
   "outputs": [
    {
     "data": {
      "text/html": [
       "<div>\n",
       "<style scoped>\n",
       "    .dataframe tbody tr th:only-of-type {\n",
       "        vertical-align: middle;\n",
       "    }\n",
       "\n",
       "    .dataframe tbody tr th {\n",
       "        vertical-align: top;\n",
       "    }\n",
       "\n",
       "    .dataframe thead th {\n",
       "        text-align: right;\n",
       "    }\n",
       "</style>\n",
       "<table border=\"1\" class=\"dataframe\">\n",
       "  <thead>\n",
       "    <tr style=\"text-align: right;\">\n",
       "      <th></th>\n",
       "      <th>merchant_abn</th>\n",
       "      <th>name</th>\n",
       "      <th>weighted_dollar_value</th>\n",
       "    </tr>\n",
       "  </thead>\n",
       "  <tbody>\n",
       "    <tr>\n",
       "      <th>3154</th>\n",
       "      <td>79827781481</td>\n",
       "      <td>Amet Risus Inc.</td>\n",
       "      <td>84001.727162</td>\n",
       "    </tr>\n",
       "    <tr>\n",
       "      <th>1034</th>\n",
       "      <td>32361057556</td>\n",
       "      <td>Orci In Consequat Corporation</td>\n",
       "      <td>83155.451151</td>\n",
       "    </tr>\n",
       "    <tr>\n",
       "      <th>1766</th>\n",
       "      <td>48534649627</td>\n",
       "      <td>Dignissim Maecenas Foundation</td>\n",
       "      <td>82641.999103</td>\n",
       "    </tr>\n",
       "    <tr>\n",
       "      <th>3443</th>\n",
       "      <td>86578477987</td>\n",
       "      <td>Leo In Consulting</td>\n",
       "      <td>80189.674176</td>\n",
       "    </tr>\n",
       "    <tr>\n",
       "      <th>1329</th>\n",
       "      <td>38700038932</td>\n",
       "      <td>Etiam Bibendum Industries</td>\n",
       "      <td>80006.719445</td>\n",
       "    </tr>\n",
       "    <tr>\n",
       "      <th>3881</th>\n",
       "      <td>96680767841</td>\n",
       "      <td>Ornare Limited</td>\n",
       "      <td>77117.781440</td>\n",
       "    </tr>\n",
       "    <tr>\n",
       "      <th>519</th>\n",
       "      <td>21439773999</td>\n",
       "      <td>Mauris Non Institute</td>\n",
       "      <td>76308.881769</td>\n",
       "    </tr>\n",
       "    <tr>\n",
       "      <th>1637</th>\n",
       "      <td>45629217853</td>\n",
       "      <td>Lacus Consulting</td>\n",
       "      <td>76122.079393</td>\n",
       "    </tr>\n",
       "    <tr>\n",
       "      <th>2386</th>\n",
       "      <td>63123845164</td>\n",
       "      <td>Odio Phasellus Institute</td>\n",
       "      <td>75511.357080</td>\n",
       "    </tr>\n",
       "    <tr>\n",
       "      <th>2446</th>\n",
       "      <td>64403598239</td>\n",
       "      <td>Lobortis Ultrices Company</td>\n",
       "      <td>74505.204105</td>\n",
       "    </tr>\n",
       "  </tbody>\n",
       "</table>\n",
       "</div>"
      ],
      "text/plain": [
       "      merchant_abn                           name  weighted_dollar_value\n",
       "3154   79827781481                Amet Risus Inc.           84001.727162\n",
       "1034   32361057556  Orci In Consequat Corporation           83155.451151\n",
       "1766   48534649627  Dignissim Maecenas Foundation           82641.999103\n",
       "3443   86578477987              Leo In Consulting           80189.674176\n",
       "1329   38700038932      Etiam Bibendum Industries           80006.719445\n",
       "3881   96680767841                 Ornare Limited           77117.781440\n",
       "519    21439773999           Mauris Non Institute           76308.881769\n",
       "1637   45629217853               Lacus Consulting           76122.079393\n",
       "2386   63123845164       Odio Phasellus Institute           75511.357080\n",
       "2446   64403598239      Lobortis Ultrices Company           74505.204105"
      ]
     },
     "execution_count": 56,
     "metadata": {},
     "output_type": "execute_result"
    }
   ],
   "source": [
    "# Observing best merchants\n",
    "\n",
    "topTen = total_ranking.sort_values(by = 'weighted_dollar_value', ascending = False).head(10)\n",
    "topTen"
   ]
  },
  {
   "cell_type": "code",
   "execution_count": 86,
   "metadata": {},
   "outputs": [
    {
     "data": {
      "image/png": "[encoded data removed]",
      "text/plain": [
       "<Figure size 2160x648 with 1 Axes>"
      ]
     },
     "metadata": {
      "needs_background": "light"
     },
     "output_type": "display_data"
    }
   ],
   "source": [
    "# Create histogram for top 10 merchants\n",
    "\n",
    "histData = topTen[['name', 'weighted_dollar_value']]\n",
    "x = histData['name']\n",
    "y = histData['weighted_dollar_value']\n",
    "\n",
    "fig = plt.figure(figsize=(30, 9))\n",
    "plt.bar(x, y, width=0.6, color='pink', edgecolor = None)\n",
    "plt.xlabel(\"Merchant Names\")\n",
    "plt.ylabel(\"Weighted Revenue\")\n",
    "plt.title(\"Top 10 Merchant's Weighted Revenue\")\n",
    "plt.show()"
   ]
  },
  {
   "cell_type": "code",
   "execution_count": 11,
   "metadata": {},
   "outputs": [
    {
     "data": {
      "text/html": [
       "<div>\n",
       "<style scoped>\n",
       "    .dataframe tbody tr th:only-of-type {\n",
       "        vertical-align: middle;\n",
       "    }\n",
       "\n",
       "    .dataframe tbody tr th {\n",
       "        vertical-align: top;\n",
       "    }\n",
       "\n",
       "    .dataframe thead th {\n",
       "        text-align: right;\n",
       "    }\n",
       "</style>\n",
       "<table border=\"1\" class=\"dataframe\">\n",
       "  <thead>\n",
       "    <tr style=\"text-align: right;\">\n",
       "      <th></th>\n",
       "      <th>merchant_abn</th>\n",
       "      <th>name</th>\n",
       "      <th>weighted_dollar_value</th>\n",
       "    </tr>\n",
       "  </thead>\n",
       "  <tbody>\n",
       "    <tr>\n",
       "      <th>658</th>\n",
       "      <td>24212300522</td>\n",
       "      <td>Consectetuer Industries</td>\n",
       "      <td>4.184918</td>\n",
       "    </tr>\n",
       "    <tr>\n",
       "      <th>2067</th>\n",
       "      <td>55555661470</td>\n",
       "      <td>Nullam Scelerisque LLC</td>\n",
       "      <td>4.184918</td>\n",
       "    </tr>\n",
       "    <tr>\n",
       "      <th>419</th>\n",
       "      <td>19340071232</td>\n",
       "      <td>Magna Sed Associates</td>\n",
       "      <td>4.900691</td>\n",
       "    </tr>\n",
       "    <tr>\n",
       "      <th>2072</th>\n",
       "      <td>55622580330</td>\n",
       "      <td>Lacus LLP</td>\n",
       "      <td>6.048617</td>\n",
       "    </tr>\n",
       "    <tr>\n",
       "      <th>2008</th>\n",
       "      <td>54277261175</td>\n",
       "      <td>In Magna PC</td>\n",
       "      <td>8.860830</td>\n",
       "    </tr>\n",
       "    <tr>\n",
       "      <th>687</th>\n",
       "      <td>25019506172</td>\n",
       "      <td>Proin Vel Inc.</td>\n",
       "      <td>9.215218</td>\n",
       "    </tr>\n",
       "    <tr>\n",
       "      <th>2145</th>\n",
       "      <td>57079678065</td>\n",
       "      <td>Hendrerit Donec Limited</td>\n",
       "      <td>9.356863</td>\n",
       "    </tr>\n",
       "    <tr>\n",
       "      <th>2438</th>\n",
       "      <td>64196096120</td>\n",
       "      <td>Turpis Incorporated</td>\n",
       "      <td>9.878175</td>\n",
       "    </tr>\n",
       "    <tr>\n",
       "      <th>3029</th>\n",
       "      <td>76866488151</td>\n",
       "      <td>Euismod Urna Company</td>\n",
       "      <td>10.052972</td>\n",
       "    </tr>\n",
       "    <tr>\n",
       "      <th>1677</th>\n",
       "      <td>46391946761</td>\n",
       "      <td>Libero Nec Ligula LLP</td>\n",
       "      <td>11.058243</td>\n",
       "    </tr>\n",
       "    <tr>\n",
       "      <th>1684</th>\n",
       "      <td>46537010521</td>\n",
       "      <td>Tempor Augue Ac Company</td>\n",
       "      <td>11.180473</td>\n",
       "    </tr>\n",
       "    <tr>\n",
       "      <th>3075</th>\n",
       "      <td>78080443264</td>\n",
       "      <td>Nullam Enim Sed Incorporated</td>\n",
       "      <td>11.353662</td>\n",
       "    </tr>\n",
       "    <tr>\n",
       "      <th>2233</th>\n",
       "      <td>59358011432</td>\n",
       "      <td>Lacinia Orci Associates</td>\n",
       "      <td>12.202568</td>\n",
       "    </tr>\n",
       "    <tr>\n",
       "      <th>450</th>\n",
       "      <td>19995295153</td>\n",
       "      <td>Risus Nulla Institute</td>\n",
       "      <td>12.233635</td>\n",
       "    </tr>\n",
       "    <tr>\n",
       "      <th>3120</th>\n",
       "      <td>79008028287</td>\n",
       "      <td>Feugiat Nec Diam LLC</td>\n",
       "      <td>12.314661</td>\n",
       "    </tr>\n",
       "    <tr>\n",
       "      <th>3304</th>\n",
       "      <td>83004629651</td>\n",
       "      <td>Auctor Odio Company</td>\n",
       "      <td>12.541074</td>\n",
       "    </tr>\n",
       "    <tr>\n",
       "      <th>573</th>\n",
       "      <td>22503967537</td>\n",
       "      <td>Iaculis Quis LLC</td>\n",
       "      <td>13.580565</td>\n",
       "    </tr>\n",
       "    <tr>\n",
       "      <th>2844</th>\n",
       "      <td>73205504863</td>\n",
       "      <td>At Pretium Limited</td>\n",
       "      <td>14.107474</td>\n",
       "    </tr>\n",
       "    <tr>\n",
       "      <th>1245</th>\n",
       "      <td>36758807067</td>\n",
       "      <td>Pellentesque Ut Ipsum Institute</td>\n",
       "      <td>14.266427</td>\n",
       "    </tr>\n",
       "    <tr>\n",
       "      <th>234</th>\n",
       "      <td>15293888435</td>\n",
       "      <td>Ipsum Sodales Purus Company</td>\n",
       "      <td>14.423578</td>\n",
       "    </tr>\n",
       "  </tbody>\n",
       "</table>\n",
       "</div>"
      ],
      "text/plain": [
       "      merchant_abn                             name  weighted_dollar_value\n",
       "658    24212300522          Consectetuer Industries               4.184918\n",
       "2067   55555661470           Nullam Scelerisque LLC               4.184918\n",
       "419    19340071232             Magna Sed Associates               4.900691\n",
       "2072   55622580330                        Lacus LLP               6.048617\n",
       "2008   54277261175                      In Magna PC               8.860830\n",
       "687    25019506172                   Proin Vel Inc.               9.215218\n",
       "2145   57079678065          Hendrerit Donec Limited               9.356863\n",
       "2438   64196096120              Turpis Incorporated               9.878175\n",
       "3029   76866488151             Euismod Urna Company              10.052972\n",
       "1677   46391946761            Libero Nec Ligula LLP              11.058243\n",
       "1684   46537010521          Tempor Augue Ac Company              11.180473\n",
       "3075   78080443264     Nullam Enim Sed Incorporated              11.353662\n",
       "2233   59358011432          Lacinia Orci Associates              12.202568\n",
       "450    19995295153            Risus Nulla Institute              12.233635\n",
       "3120   79008028287             Feugiat Nec Diam LLC              12.314661\n",
       "3304   83004629651              Auctor Odio Company              12.541074\n",
       "573    22503967537                 Iaculis Quis LLC              13.580565\n",
       "2844   73205504863               At Pretium Limited              14.107474\n",
       "1245   36758807067  Pellentesque Ut Ipsum Institute              14.266427\n",
       "234    15293888435      Ipsum Sodales Purus Company              14.423578"
      ]
     },
     "execution_count": 11,
     "metadata": {},
     "output_type": "execute_result"
    }
   ],
   "source": [
    "# Observing worst merchants\n",
    "\n",
    "total_ranking.sort_values(by = 'weighted_dollar_value', ascending = True).head(20)"
   ]
  },
  {
   "cell_type": "markdown",
   "metadata": {},
   "source": [
    "# Observe relevant information for selected merchants"
   ]
  },
  {
   "cell_type": "code",
   "execution_count": 12,
   "metadata": {},
   "outputs": [
    {
     "name": "stdout",
     "output_type": "stream",
     "text": [
      "22/10/10 00:51:35 WARN Utils: Your hostname, dash_surface resolves to a loopback address: 127.0.1.1; using 172.24.204.1 instead (on interface eth0)\n",
      "22/10/10 00:51:35 WARN Utils: Set SPARK_LOCAL_IP if you need to bind to another address\n"
     ]
    },
    {
     "name": "stderr",
     "output_type": "stream",
     "text": [
      "Setting default log level to \"WARN\".\n",
      "To adjust logging level use sc.setLogLevel(newLevel). For SparkR, use setLogLevel(newLevel).\n"
     ]
    },
    {
     "name": "stdout",
     "output_type": "stream",
     "text": [
      "22/10/10 00:51:37 WARN NativeCodeLoader: Unable to load native-hadoop library for your platform... using builtin-java classes where applicable\n"
     ]
    }
   ],
   "source": [
    "from pyspark.sql import SparkSession\n",
    "\n",
    "\n",
    "spark = (\n",
    "    SparkSession.builder.appName(\"MAST30034 Project 2\")\n",
    "    .config(\"spark.driver.memory\", '4g')\n",
    "    .config(\"spark.executor.memory\", '8g')\n",
    "    .config(\"spark.sql.session.timeZone\", \"Etc/UTC\")\n",
    "    .config(\"spark.sql.parquet.enableVectorizedReader\",\"false\")\n",
    "    .config(\"spark.sql.repl.eagerEval.enabled\", True) \n",
    "    .config(\"spark.sql.parquet.cacheMetadata\", \"true\")\n",
    "    .getOrCreate()\n",
    ")"
   ]
  },
  {
   "cell_type": "code",
   "execution_count": 13,
   "metadata": {},
   "outputs": [
    {
     "name": "stderr",
     "output_type": "stream",
     "text": [
      "                                                                                \r"
     ]
    }
   ],
   "source": [
    "transactions_sdf = spark.read.parquet('../data/curated/cleaned_transactions.parquet/')"
   ]
  },
  {
   "cell_type": "code",
   "execution_count": 14,
   "metadata": {},
   "outputs": [],
   "source": [
    "merchant_info = spark.read.parquet('../data/curated/merchants.parquet')"
   ]
  },
  {
   "cell_type": "code",
   "execution_count": 24,
   "metadata": {},
   "outputs": [
    {
     "name": "stderr",
     "output_type": "stream",
     "text": [
      "                                                                                \r"
     ]
    }
   ],
   "source": [
    "predictions = spark.read.parquet('../data/curated/lr_transaction_predictions.parquet')"
   ]
  },
  {
   "cell_type": "code",
   "execution_count": 27,
   "metadata": {},
   "outputs": [],
   "source": [
    "predictions = predictions.groupBy(F.col('merchant_abn')).agg({\n",
    "    'weighted_dollar_value': 'sum'\n",
    "})"
   ]
  },
  {
   "cell_type": "markdown",
   "metadata": {},
   "source": [
    "### Info on best merchant"
   ]
  },
  {
   "cell_type": "code",
   "execution_count": 34,
   "metadata": {},
   "outputs": [],
   "source": [
    "# Number 1 ranked merchant\n",
    "\n",
    "topMerchant = transactions_sdf.where(F.col('merchant_abn') == 79827781481)"
   ]
  },
  {
   "cell_type": "code",
   "execution_count": 9,
   "metadata": {},
   "outputs": [
    {
     "data": {
      "text/html": [
       "<table border='1'>\n",
       "<tr><th>merchant_abn</th><th>name</th><th>category</th><th>revenue_level</th><th>take_rate</th><th>category_indexed</th><th>segment</th></tr>\n",
       "<tr><td>79827781481</td><td>Amet Risus Inc.</td><td>[furniture, home ...</td><td>a</td><td>0.0682</td><td>11</td><td>Home</td></tr>\n",
       "</table>\n"
      ],
      "text/plain": [
       "+------------+---------------+--------------------+-------------+---------+----------------+-------+\n",
       "|merchant_abn|           name|            category|revenue_level|take_rate|category_indexed|segment|\n",
       "+------------+---------------+--------------------+-------------+---------+----------------+-------+\n",
       "| 79827781481|Amet Risus Inc.|[furniture, home ...|            a|   0.0682|              11|   Home|\n",
       "+------------+---------------+--------------------+-------------+---------+----------------+-------+"
      ]
     },
     "execution_count": 9,
     "metadata": {},
     "output_type": "execute_result"
    }
   ],
   "source": [
    "# Find take rate\n",
    "\n",
    "merchant_info.where(F.col('merchant_abn') == 79827781481)"
   ]
  },
  {
   "cell_type": "code",
   "execution_count": 35,
   "metadata": {},
   "outputs": [
    {
     "name": "stderr",
     "output_type": "stream",
     "text": [
      "                                                                                \r"
     ]
    }
   ],
   "source": [
    "total = topMerchant.count()"
   ]
  },
  {
   "cell_type": "code",
   "execution_count": 36,
   "metadata": {},
   "outputs": [
    {
     "name": "stdout",
     "output_type": "stream",
     "text": [
      "Top merchant total count: 4245\n"
     ]
    }
   ],
   "source": [
    "print(f\"Top merchant total count: {total}\")"
   ]
  },
  {
   "cell_type": "code",
   "execution_count": 30,
   "metadata": {},
   "outputs": [
    {
     "data": {
      "text/html": [
       "<table border='1'>\n",
       "<tr><th>merchant_abn</th><th>sum(weighted_dollar_value)</th></tr>\n",
       "<tr><td>79827781481</td><td>84001.72716168387</td></tr>\n",
       "</table>\n"
      ],
      "text/plain": [
       "+------------+--------------------------+\n",
       "|merchant_abn|sum(weighted_dollar_value)|\n",
       "+------------+--------------------------+\n",
       "| 79827781481|         84001.72716168387|\n",
       "+------------+--------------------------+"
      ]
     },
     "execution_count": 30,
     "metadata": {},
     "output_type": "execute_result"
    }
   ],
   "source": [
    "topMerchant"
   ]
  },
  {
   "cell_type": "markdown",
   "metadata": {},
   "source": [
    "### Info on 2nd best merchant"
   ]
  },
  {
   "cell_type": "code",
   "execution_count": 38,
   "metadata": {},
   "outputs": [],
   "source": [
    "# 2nd best merchant\n",
    "\n",
    "secondMerchant = transactions_sdf.where(F.col('merchant_abn') == 32361057556)"
   ]
  },
  {
   "cell_type": "code",
   "execution_count": 39,
   "metadata": {},
   "outputs": [
    {
     "data": {
      "text/html": [
       "<table border='1'>\n",
       "<tr><th>merchant_abn</th><th>name</th><th>category</th><th>revenue_level</th><th>take_rate</th><th>category_indexed</th><th>segment</th></tr>\n",
       "<tr><td>32361057556</td><td>Orci In Consequat...</td><td>[gift, card, nove...</td><td>a</td><td>0.0661</td><td>12</td><td>Miscellaneous</td></tr>\n",
       "</table>\n"
      ],
      "text/plain": [
       "+------------+--------------------+--------------------+-------------+---------+----------------+-------------+\n",
       "|merchant_abn|                name|            category|revenue_level|take_rate|category_indexed|      segment|\n",
       "+------------+--------------------+--------------------+-------------+---------+----------------+-------------+\n",
       "| 32361057556|Orci In Consequat...|[gift, card, nove...|            a|   0.0661|              12|Miscellaneous|\n",
       "+------------+--------------------+--------------------+-------------+---------+----------------+-------------+"
      ]
     },
     "execution_count": 39,
     "metadata": {},
     "output_type": "execute_result"
    }
   ],
   "source": [
    "merchant_info.where(F.col('merchant_abn') == 32361057556)"
   ]
  },
  {
   "cell_type": "code",
   "execution_count": 40,
   "metadata": {},
   "outputs": [
    {
     "name": "stderr",
     "output_type": "stream",
     "text": [
      "                                                                                \r"
     ]
    }
   ],
   "source": [
    "stotal = secondMerchant.count()"
   ]
  },
  {
   "cell_type": "code",
   "execution_count": 41,
   "metadata": {},
   "outputs": [
    {
     "name": "stdout",
     "output_type": "stream",
     "text": [
      "2nd merchant total count: 75702\n"
     ]
    }
   ],
   "source": [
    "print(f\"2nd merchant total count: {stotal}\")"
   ]
  },
  {
   "cell_type": "code",
   "execution_count": 42,
   "metadata": {},
   "outputs": [],
   "source": [
    "secondRev = predictions.where(F.col('merchant_abn') == 32361057556)"
   ]
  },
  {
   "cell_type": "code",
   "execution_count": 44,
   "metadata": {},
   "outputs": [
    {
     "data": {
      "text/html": [
       "<table border='1'>\n",
       "<tr><th>merchant_abn</th><th>sum(weighted_dollar_value)</th></tr>\n",
       "<tr><td>32361057556</td><td>83155.45115140988</td></tr>\n",
       "</table>\n"
      ],
      "text/plain": [
       "+------------+--------------------------+\n",
       "|merchant_abn|sum(weighted_dollar_value)|\n",
       "+------------+--------------------------+\n",
       "| 32361057556|         83155.45115140988|\n",
       "+------------+--------------------------+"
      ]
     },
     "execution_count": 44,
     "metadata": {},
     "output_type": "execute_result"
    }
   ],
   "source": [
    "secondRev"
   ]
  },
  {
   "cell_type": "markdown",
   "metadata": {},
   "source": [
    "### Info on 20th merchant"
   ]
  },
  {
   "cell_type": "code",
   "execution_count": 45,
   "metadata": {},
   "outputs": [],
   "source": [
    "# 20th best merchant\n",
    "\n",
    "twentyMerchant = transactions_sdf.where(F.col('merchant_abn') == 76767266140)"
   ]
  },
  {
   "cell_type": "code",
   "execution_count": 46,
   "metadata": {},
   "outputs": [
    {
     "data": {
      "text/html": [
       "<table border='1'>\n",
       "<tr><th>merchant_abn</th><th>name</th><th>category</th><th>revenue_level</th><th>take_rate</th><th>category_indexed</th><th>segment</th></tr>\n",
       "<tr><td>76767266140</td><td>Phasellus At Limited</td><td>[furniture, home ...</td><td>b</td><td>0.04650000000000001</td><td>11</td><td>Home</td></tr>\n",
       "</table>\n"
      ],
      "text/plain": [
       "+------------+--------------------+--------------------+-------------+-------------------+----------------+-------+\n",
       "|merchant_abn|                name|            category|revenue_level|          take_rate|category_indexed|segment|\n",
       "+------------+--------------------+--------------------+-------------+-------------------+----------------+-------+\n",
       "| 76767266140|Phasellus At Limited|[furniture, home ...|            b|0.04650000000000001|              11|   Home|\n",
       "+------------+--------------------+--------------------+-------------+-------------------+----------------+-------+"
      ]
     },
     "execution_count": 46,
     "metadata": {},
     "output_type": "execute_result"
    }
   ],
   "source": [
    "merchant_info.where(F.col('merchant_abn') == 76767266140)"
   ]
  },
  {
   "cell_type": "code",
   "execution_count": 47,
   "metadata": {},
   "outputs": [
    {
     "name": "stderr",
     "output_type": "stream",
     "text": [
      "                                                                                \r"
     ]
    }
   ],
   "source": [
    "ttotal = twentyMerchant.count()"
   ]
  },
  {
   "cell_type": "code",
   "execution_count": 48,
   "metadata": {},
   "outputs": [
    {
     "name": "stdout",
     "output_type": "stream",
     "text": [
      "20th merchant total count: 38431\n"
     ]
    }
   ],
   "source": [
    "print(f\"20th merchant total count: {ttotal}\")"
   ]
  },
  {
   "cell_type": "code",
   "execution_count": 26,
   "metadata": {},
   "outputs": [
    {
     "name": "stderr",
     "output_type": "stream",
     "text": [
      "                                                                                \r"
     ]
    },
    {
     "data": {
      "text/html": [
       "<table border='1'>\n",
       "<tr><th>merchant_abn</th><th>sum(dollar_value)</th></tr>\n",
       "<tr><td>76767266140</td><td>8243403.799999999</td></tr>\n",
       "</table>\n"
      ],
      "text/plain": [
       "+------------+-----------------+\n",
       "|merchant_abn|sum(dollar_value)|\n",
       "+------------+-----------------+\n",
       "| 76767266140|8243403.799999999|\n",
       "+------------+-----------------+"
      ]
     },
     "execution_count": 26,
     "metadata": {},
     "output_type": "execute_result"
    }
   ],
   "source": [
    "# Find total revnue for merchant\n",
    "\n",
    "twentyMerchant.groupBy(F.col('merchant_abn')).agg({\n",
    "    'dollar_value': 'sum'\n",
    "})"
   ]
  },
  {
   "cell_type": "code",
   "execution_count": 49,
   "metadata": {},
   "outputs": [],
   "source": [
    "twentyRev = predictions.where(F.col('merchant_abn') == 76767266140)"
   ]
  },
  {
   "cell_type": "code",
   "execution_count": 50,
   "metadata": {},
   "outputs": [
    {
     "data": {
      "text/html": [
       "<table border='1'>\n",
       "<tr><th>merchant_abn</th><th>sum(weighted_dollar_value)</th></tr>\n",
       "<tr><td>76767266140</td><td>57833.37485545214</td></tr>\n",
       "</table>\n"
      ],
      "text/plain": [
       "+------------+--------------------------+\n",
       "|merchant_abn|sum(weighted_dollar_value)|\n",
       "+------------+--------------------------+\n",
       "| 76767266140|         57833.37485545214|\n",
       "+------------+--------------------------+"
      ]
     },
     "execution_count": 50,
     "metadata": {},
     "output_type": "execute_result"
    }
   ],
   "source": [
    "twentyRev"
   ]
  },
  {
   "cell_type": "markdown",
   "metadata": {},
   "source": [
    "### Info on worst ranked merchant"
   ]
  },
  {
   "cell_type": "code",
   "execution_count": 51,
   "metadata": {},
   "outputs": [],
   "source": [
    "# Worst ranked merchant\n",
    "\n",
    "badMerchant = transactions_sdf.where(F.col('merchant_abn') == 24212300522)"
   ]
  },
  {
   "cell_type": "code",
   "execution_count": 52,
   "metadata": {},
   "outputs": [
    {
     "data": {
      "text/html": [
       "<table border='1'>\n",
       "<tr><th>merchant_abn</th><th>name</th><th>category</th><th>revenue_level</th><th>take_rate</th><th>category_indexed</th><th>segment</th></tr>\n",
       "<tr><td>24212300522</td><td>Consectetuer Indu...</td><td>[jewelry, watch, ...</td><td>b</td><td>0.0404</td><td>15</td><td>Accessories</td></tr>\n",
       "</table>\n"
      ],
      "text/plain": [
       "+------------+--------------------+--------------------+-------------+---------+----------------+-----------+\n",
       "|merchant_abn|                name|            category|revenue_level|take_rate|category_indexed|    segment|\n",
       "+------------+--------------------+--------------------+-------------+---------+----------------+-----------+\n",
       "| 24212300522|Consectetuer Indu...|[jewelry, watch, ...|            b|   0.0404|              15|Accessories|\n",
       "+------------+--------------------+--------------------+-------------+---------+----------------+-----------+"
      ]
     },
     "execution_count": 52,
     "metadata": {},
     "output_type": "execute_result"
    }
   ],
   "source": [
    "merchant_info.where(F.col('merchant_abn') == 24212300522)"
   ]
  },
  {
   "cell_type": "code",
   "execution_count": 53,
   "metadata": {},
   "outputs": [
    {
     "name": "stderr",
     "output_type": "stream",
     "text": [
      "                                                                                \r"
     ]
    }
   ],
   "source": [
    "btotal = badMerchant.count()"
   ]
  },
  {
   "cell_type": "code",
   "execution_count": 54,
   "metadata": {},
   "outputs": [
    {
     "name": "stdout",
     "output_type": "stream",
     "text": [
      "Worst merchant total count: 0\n"
     ]
    }
   ],
   "source": [
    "print(f\"Worst merchant total count: {btotal}\")"
   ]
  },
  {
   "cell_type": "markdown",
   "metadata": {},
   "source": [
    "From these results, it is evident that our ranking system is in fact working properly - the highest ranked merchant brings the BNPL service the highest revenue, with all merchants following it returning reduced amounts of revenue. Our lowest ranked merchant currently has no transactions attached to it."
   ]
  }
 ],
 "metadata": {
  "kernelspec": {
   "display_name": "Python 3.10.4 64-bit",
   "language": "python",
   "name": "python3"
  },
  "language_info": {
   "codemirror_mode": {
    "name": "ipython",
    "version": 3
   },
   "file_extension": ".py",
   "mimetype": "text/x-python",
   "name": "python",
   "nbconvert_exporter": "python",
   "pygments_lexer": "ipython3",
   "version": "3.10.4"
  },
  "orig_nbformat": 4,
  "vscode": {
   "interpreter": {
    "hash": "916dbcbb3f70747c44a77c7bcd40155683ae19c65e1c03b4aa3499c5328201f1"
   }
  }
 },
 "nbformat": 4,
 "nbformat_minor": 2
}
