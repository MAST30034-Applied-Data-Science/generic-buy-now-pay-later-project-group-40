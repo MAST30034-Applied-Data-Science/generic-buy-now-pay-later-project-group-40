{
 "cells": [
  {
   "cell_type": "markdown",
   "metadata": {},
   "source": [
    "# Observe top and bottom merchants from ranking system"
   ]
  },
  {
   "cell_type": "code",
   "execution_count": 8,
   "metadata": {},
   "outputs": [],
   "source": [
    "from pyspark.sql.functions import *\n",
    "from pyspark.sql import functions as F\n",
    "import pandas as pd"
   ]
  },
  {
   "cell_type": "code",
   "execution_count": 2,
   "metadata": {},
   "outputs": [],
   "source": [
    "predictions = pd.read_parquet('../data/curated/transaction_predictions.parquet')\n",
    "merchants_df = pd.read_parquet('../data/curated/merchants.parquet')"
   ]
  },
  {
   "cell_type": "code",
   "execution_count": 3,
   "metadata": {},
   "outputs": [],
   "source": [
    "merchants_df = merchants_df[['merchant_abn', 'name','segment']]\n",
    "total_ranking = predictions.groupby('merchant_abn').sum().sort_values(by = 'value', ascending = False)\n",
    "total_ranking = total_ranking[['value']]\n",
    "segments_ranking = merchants_df.join(total_ranking, on='merchant_abn', how='right')\n",
    "total_ranking = segments_ranking[['merchant_abn','name','value']]\n",
    "\n",
    "misc_df = segments_ranking[segments_ranking['segment'] == 'Miscellaneous']\n",
    "misc_df = misc_df.sort_values(by = 'value', ascending = False)\n",
    "\n",
    "home_df = segments_ranking[segments_ranking['segment'] == 'Home']\n",
    "home_df = home_df.sort_values(by = 'value', ascending = False)\n",
    "\n",
    "acc_df = segments_ranking[segments_ranking['segment'] == 'Accessories']\n",
    "acc_df = acc_df.sort_values(by = 'value', ascending = False)\n",
    "\n",
    "art_df = segments_ranking[segments_ranking['segment'] == 'Art']\n",
    "art_df = art_df.sort_values(by = 'value', ascending = False)\n",
    "\n",
    "tech_df = segments_ranking[segments_ranking['segment'] == 'Media & Technology']\n",
    "tech_df = tech_df.sort_values(by = 'value', ascending = False)"
   ]
  },
  {
   "cell_type": "code",
   "execution_count": 4,
   "metadata": {},
   "outputs": [
    {
     "data": {
      "text/html": [
       "<div>\n",
       "<style scoped>\n",
       "    .dataframe tbody tr th:only-of-type {\n",
       "        vertical-align: middle;\n",
       "    }\n",
       "\n",
       "    .dataframe tbody tr th {\n",
       "        vertical-align: top;\n",
       "    }\n",
       "\n",
       "    .dataframe thead th {\n",
       "        text-align: right;\n",
       "    }\n",
       "</style>\n",
       "<table border=\"1\" class=\"dataframe\">\n",
       "  <thead>\n",
       "    <tr style=\"text-align: right;\">\n",
       "      <th></th>\n",
       "      <th>merchant_abn</th>\n",
       "      <th>name</th>\n",
       "      <th>value</th>\n",
       "    </tr>\n",
       "  </thead>\n",
       "  <tbody>\n",
       "    <tr>\n",
       "      <th>3154</th>\n",
       "      <td>79827781481</td>\n",
       "      <td>Amet Risus Inc.</td>\n",
       "      <td>8040.913574</td>\n",
       "    </tr>\n",
       "    <tr>\n",
       "      <th>1034</th>\n",
       "      <td>32361057556</td>\n",
       "      <td>Orci In Consequat Corporation</td>\n",
       "      <td>8030.433594</td>\n",
       "    </tr>\n",
       "    <tr>\n",
       "      <th>1766</th>\n",
       "      <td>48534649627</td>\n",
       "      <td>Dignissim Maecenas Foundation</td>\n",
       "      <td>7974.459473</td>\n",
       "    </tr>\n",
       "    <tr>\n",
       "      <th>1329</th>\n",
       "      <td>38700038932</td>\n",
       "      <td>Etiam Bibendum Industries</td>\n",
       "      <td>7731.416016</td>\n",
       "    </tr>\n",
       "    <tr>\n",
       "      <th>3443</th>\n",
       "      <td>86578477987</td>\n",
       "      <td>Leo In Consulting</td>\n",
       "      <td>7717.433105</td>\n",
       "    </tr>\n",
       "    <tr>\n",
       "      <th>3881</th>\n",
       "      <td>96680767841</td>\n",
       "      <td>Ornare Limited</td>\n",
       "      <td>7418.352051</td>\n",
       "    </tr>\n",
       "    <tr>\n",
       "      <th>519</th>\n",
       "      <td>21439773999</td>\n",
       "      <td>Mauris Non Institute</td>\n",
       "      <td>7387.193848</td>\n",
       "    </tr>\n",
       "    <tr>\n",
       "      <th>1637</th>\n",
       "      <td>45629217853</td>\n",
       "      <td>Lacus Consulting</td>\n",
       "      <td>7343.370605</td>\n",
       "    </tr>\n",
       "    <tr>\n",
       "      <th>2386</th>\n",
       "      <td>63123845164</td>\n",
       "      <td>Odio Phasellus Institute</td>\n",
       "      <td>7316.287109</td>\n",
       "    </tr>\n",
       "    <tr>\n",
       "      <th>2446</th>\n",
       "      <td>64403598239</td>\n",
       "      <td>Lobortis Ultrices Company</td>\n",
       "      <td>7203.781250</td>\n",
       "    </tr>\n",
       "    <tr>\n",
       "      <th>3590</th>\n",
       "      <td>89726005175</td>\n",
       "      <td>Est Nunc Consulting</td>\n",
       "      <td>6868.918945</td>\n",
       "    </tr>\n",
       "    <tr>\n",
       "      <th>3796</th>\n",
       "      <td>94493496784</td>\n",
       "      <td>Dictum Phasellus In Institute</td>\n",
       "      <td>6596.193848</td>\n",
       "    </tr>\n",
       "    <tr>\n",
       "      <th>1802</th>\n",
       "      <td>49322182190</td>\n",
       "      <td>Gravida Mauris Incorporated</td>\n",
       "      <td>6434.661621</td>\n",
       "    </tr>\n",
       "    <tr>\n",
       "      <th>3268</th>\n",
       "      <td>82368304209</td>\n",
       "      <td>Nec Incorporated</td>\n",
       "      <td>6433.019531</td>\n",
       "    </tr>\n",
       "    <tr>\n",
       "      <th>1401</th>\n",
       "      <td>40515428545</td>\n",
       "      <td>Elit Sed Consequat Associates</td>\n",
       "      <td>5942.123047</td>\n",
       "    </tr>\n",
       "    <tr>\n",
       "      <th>1214</th>\n",
       "      <td>35909341340</td>\n",
       "      <td>Arcu Sed Eu Incorporated</td>\n",
       "      <td>5879.646484</td>\n",
       "    </tr>\n",
       "    <tr>\n",
       "      <th>2814</th>\n",
       "      <td>72472909171</td>\n",
       "      <td>Nullam Consulting</td>\n",
       "      <td>5838.879395</td>\n",
       "    </tr>\n",
       "    <tr>\n",
       "      <th>3139</th>\n",
       "      <td>79417999332</td>\n",
       "      <td>Phasellus At Company</td>\n",
       "      <td>5813.819824</td>\n",
       "    </tr>\n",
       "    <tr>\n",
       "      <th>2607</th>\n",
       "      <td>67978471888</td>\n",
       "      <td>Magna Malesuada Corp.</td>\n",
       "      <td>5777.144043</td>\n",
       "    </tr>\n",
       "    <tr>\n",
       "      <th>3025</th>\n",
       "      <td>76767266140</td>\n",
       "      <td>Phasellus At Limited</td>\n",
       "      <td>5577.724121</td>\n",
       "    </tr>\n",
       "  </tbody>\n",
       "</table>\n",
       "</div>"
      ],
      "text/plain": [
       "      merchant_abn                           name        value\n",
       "3154   79827781481                Amet Risus Inc.  8040.913574\n",
       "1034   32361057556  Orci In Consequat Corporation  8030.433594\n",
       "1766   48534649627  Dignissim Maecenas Foundation  7974.459473\n",
       "1329   38700038932      Etiam Bibendum Industries  7731.416016\n",
       "3443   86578477987              Leo In Consulting  7717.433105\n",
       "3881   96680767841                 Ornare Limited  7418.352051\n",
       "519    21439773999           Mauris Non Institute  7387.193848\n",
       "1637   45629217853               Lacus Consulting  7343.370605\n",
       "2386   63123845164       Odio Phasellus Institute  7316.287109\n",
       "2446   64403598239      Lobortis Ultrices Company  7203.781250\n",
       "3590   89726005175            Est Nunc Consulting  6868.918945\n",
       "3796   94493496784  Dictum Phasellus In Institute  6596.193848\n",
       "1802   49322182190    Gravida Mauris Incorporated  6434.661621\n",
       "3268   82368304209               Nec Incorporated  6433.019531\n",
       "1401   40515428545  Elit Sed Consequat Associates  5942.123047\n",
       "1214   35909341340       Arcu Sed Eu Incorporated  5879.646484\n",
       "2814   72472909171              Nullam Consulting  5838.879395\n",
       "3139   79417999332           Phasellus At Company  5813.819824\n",
       "2607   67978471888          Magna Malesuada Corp.  5777.144043\n",
       "3025   76767266140           Phasellus At Limited  5577.724121"
      ]
     },
     "execution_count": 4,
     "metadata": {},
     "output_type": "execute_result"
    }
   ],
   "source": [
    "# Observing best merchants\n",
    "\n",
    "total_ranking.sort_values(by = 'value', ascending = False).head(20)"
   ]
  },
  {
   "cell_type": "code",
   "execution_count": 13,
   "metadata": {},
   "outputs": [
    {
     "data": {
      "text/html": [
       "<div>\n",
       "<style scoped>\n",
       "    .dataframe tbody tr th:only-of-type {\n",
       "        vertical-align: middle;\n",
       "    }\n",
       "\n",
       "    .dataframe tbody tr th {\n",
       "        vertical-align: top;\n",
       "    }\n",
       "\n",
       "    .dataframe thead th {\n",
       "        text-align: right;\n",
       "    }\n",
       "</style>\n",
       "<table border=\"1\" class=\"dataframe\">\n",
       "  <thead>\n",
       "    <tr style=\"text-align: right;\">\n",
       "      <th></th>\n",
       "      <th>merchant_abn</th>\n",
       "      <th>name</th>\n",
       "      <th>value</th>\n",
       "    </tr>\n",
       "  </thead>\n",
       "  <tbody>\n",
       "    <tr>\n",
       "      <th>2060</th>\n",
       "      <td>55403018592</td>\n",
       "      <td>Elit Limited</td>\n",
       "      <td>5.773170e-15</td>\n",
       "    </tr>\n",
       "    <tr>\n",
       "      <th>1851</th>\n",
       "      <td>50532670634</td>\n",
       "      <td>Accumsan Laoreet Ipsum Company</td>\n",
       "      <td>5.773170e-15</td>\n",
       "    </tr>\n",
       "    <tr>\n",
       "      <th>2640</th>\n",
       "      <td>68591542501</td>\n",
       "      <td>Felis Ltd</td>\n",
       "      <td>5.773170e-15</td>\n",
       "    </tr>\n",
       "    <tr>\n",
       "      <th>2</th>\n",
       "      <td>10165489824</td>\n",
       "      <td>Nunc Sed Company</td>\n",
       "      <td>5.773170e-15</td>\n",
       "    </tr>\n",
       "    <tr>\n",
       "      <th>594</th>\n",
       "      <td>22853038342</td>\n",
       "      <td>Semper Pretium Limited</td>\n",
       "      <td>5.773170e-15</td>\n",
       "    </tr>\n",
       "    <tr>\n",
       "      <th>3428</th>\n",
       "      <td>86201937910</td>\n",
       "      <td>Libero Et LLC</td>\n",
       "      <td>5.773170e-15</td>\n",
       "    </tr>\n",
       "    <tr>\n",
       "      <th>3184</th>\n",
       "      <td>80426072728</td>\n",
       "      <td>Massa Non Ante Industries</td>\n",
       "      <td>5.773170e-15</td>\n",
       "    </tr>\n",
       "    <tr>\n",
       "      <th>3029</th>\n",
       "      <td>76866488151</td>\n",
       "      <td>Euismod Urna Company</td>\n",
       "      <td>5.773170e-15</td>\n",
       "    </tr>\n",
       "    <tr>\n",
       "      <th>381</th>\n",
       "      <td>18261886835</td>\n",
       "      <td>Massa Rutrum LLP</td>\n",
       "      <td>5.773170e-15</td>\n",
       "    </tr>\n",
       "    <tr>\n",
       "      <th>2067</th>\n",
       "      <td>55555661470</td>\n",
       "      <td>Nullam Scelerisque LLC</td>\n",
       "      <td>5.773170e-15</td>\n",
       "    </tr>\n",
       "    <tr>\n",
       "      <th>1896</th>\n",
       "      <td>51425051982</td>\n",
       "      <td>Sem Corporation</td>\n",
       "      <td>5.773170e-15</td>\n",
       "    </tr>\n",
       "    <tr>\n",
       "      <th>234</th>\n",
       "      <td>15293888435</td>\n",
       "      <td>Ipsum Sodales Purus Company</td>\n",
       "      <td>5.773170e-15</td>\n",
       "    </tr>\n",
       "    <tr>\n",
       "      <th>3231</th>\n",
       "      <td>81548651453</td>\n",
       "      <td>Mauris Blandit Limited</td>\n",
       "      <td>5.773170e-15</td>\n",
       "    </tr>\n",
       "    <tr>\n",
       "      <th>1290</th>\n",
       "      <td>37815517789</td>\n",
       "      <td>Odio PC</td>\n",
       "      <td>5.773170e-15</td>\n",
       "    </tr>\n",
       "    <tr>\n",
       "      <th>658</th>\n",
       "      <td>24212300522</td>\n",
       "      <td>Consectetuer Industries</td>\n",
       "      <td>5.773170e-15</td>\n",
       "    </tr>\n",
       "    <tr>\n",
       "      <th>419</th>\n",
       "      <td>19340071232</td>\n",
       "      <td>Magna Sed Associates</td>\n",
       "      <td>2.828364e-14</td>\n",
       "    </tr>\n",
       "    <tr>\n",
       "      <th>813</th>\n",
       "      <td>27518736748</td>\n",
       "      <td>Enim LLP</td>\n",
       "      <td>3.174247e-14</td>\n",
       "    </tr>\n",
       "    <tr>\n",
       "      <th>2008</th>\n",
       "      <td>54277261175</td>\n",
       "      <td>In Magna PC</td>\n",
       "      <td>3.359950e-14</td>\n",
       "    </tr>\n",
       "    <tr>\n",
       "      <th>1725</th>\n",
       "      <td>47441593515</td>\n",
       "      <td>Tempor PC</td>\n",
       "      <td>3.392556e-14</td>\n",
       "    </tr>\n",
       "    <tr>\n",
       "      <th>1684</th>\n",
       "      <td>46537010521</td>\n",
       "      <td>Tempor Augue Ac Company</td>\n",
       "      <td>3.518110e-14</td>\n",
       "    </tr>\n",
       "  </tbody>\n",
       "</table>\n",
       "</div>"
      ],
      "text/plain": [
       "      merchant_abn                            name         value\n",
       "2060   55403018592                    Elit Limited  5.773170e-15\n",
       "1851   50532670634  Accumsan Laoreet Ipsum Company  5.773170e-15\n",
       "2640   68591542501                       Felis Ltd  5.773170e-15\n",
       "2      10165489824                Nunc Sed Company  5.773170e-15\n",
       "594    22853038342          Semper Pretium Limited  5.773170e-15\n",
       "3428   86201937910                   Libero Et LLC  5.773170e-15\n",
       "3184   80426072728       Massa Non Ante Industries  5.773170e-15\n",
       "3029   76866488151            Euismod Urna Company  5.773170e-15\n",
       "381    18261886835                Massa Rutrum LLP  5.773170e-15\n",
       "2067   55555661470          Nullam Scelerisque LLC  5.773170e-15\n",
       "1896   51425051982                 Sem Corporation  5.773170e-15\n",
       "234    15293888435     Ipsum Sodales Purus Company  5.773170e-15\n",
       "3231   81548651453          Mauris Blandit Limited  5.773170e-15\n",
       "1290   37815517789                         Odio PC  5.773170e-15\n",
       "658    24212300522         Consectetuer Industries  5.773170e-15\n",
       "419    19340071232            Magna Sed Associates  2.828364e-14\n",
       "813    27518736748                        Enim LLP  3.174247e-14\n",
       "2008   54277261175                     In Magna PC  3.359950e-14\n",
       "1725   47441593515                       Tempor PC  3.392556e-14\n",
       "1684   46537010521         Tempor Augue Ac Company  3.518110e-14"
      ]
     },
     "execution_count": 13,
     "metadata": {},
     "output_type": "execute_result"
    }
   ],
   "source": [
    "# Observing worst merchants\n",
    "\n",
    "total_ranking.sort_values(by = 'value', ascending = True).head(20)"
   ]
  },
  {
   "cell_type": "markdown",
   "metadata": {},
   "source": [
    "# Observe relevant information for selected merchants"
   ]
  },
  {
   "cell_type": "code",
   "execution_count": 2,
   "metadata": {},
   "outputs": [
    {
     "name": "stdout",
     "output_type": "stream",
     "text": [
      "22/10/09 20:47:29 WARN Utils: Your hostname, dash_surface resolves to a loopback address: 127.0.1.1; using 172.24.195.6 instead (on interface eth0)\n",
      "22/10/09 20:47:29 WARN Utils: Set SPARK_LOCAL_IP if you need to bind to another address\n"
     ]
    },
    {
     "name": "stderr",
     "output_type": "stream",
     "text": [
      "Setting default log level to \"WARN\".\n",
      "To adjust logging level use sc.setLogLevel(newLevel). For SparkR, use setLogLevel(newLevel).\n"
     ]
    },
    {
     "name": "stdout",
     "output_type": "stream",
     "text": [
      "22/10/09 20:47:31 WARN NativeCodeLoader: Unable to load native-hadoop library for your platform... using builtin-java classes where applicable\n"
     ]
    }
   ],
   "source": [
    "from pyspark.sql import SparkSession\n",
    "\n",
    "\n",
    "spark = (\n",
    "    SparkSession.builder.appName(\"MAST30034 Project 2\")\n",
    "    .config(\"spark.driver.memory\", '4g')\n",
    "    .config(\"spark.executor.memory\", '8g')\n",
    "    .config(\"spark.sql.session.timeZone\", \"Etc/UTC\")\n",
    "    .config(\"spark.sql.parquet.enableVectorizedReader\",\"false\")\n",
    "    .config(\"spark.sql.repl.eagerEval.enabled\", True) \n",
    "    .config(\"spark.sql.parquet.cacheMetadata\", \"true\")\n",
    "    .getOrCreate()\n",
    ")"
   ]
  },
  {
   "cell_type": "code",
   "execution_count": 3,
   "metadata": {},
   "outputs": [
    {
     "name": "stderr",
     "output_type": "stream",
     "text": [
      "                                                                                \r"
     ]
    }
   ],
   "source": [
    "transactions_sdf = spark.read.parquet('../data/curated/cleaned_transactions.parquet/')"
   ]
  },
  {
   "cell_type": "code",
   "execution_count": 4,
   "metadata": {},
   "outputs": [],
   "source": [
    "merchant_info = spark.read.parquet('../data/curated/merchants.parquet')"
   ]
  },
  {
   "cell_type": "markdown",
   "metadata": {},
   "source": [
    "### Info on best merchant"
   ]
  },
  {
   "cell_type": "code",
   "execution_count": 12,
   "metadata": {},
   "outputs": [],
   "source": [
    "# Number 1 ranked merchant\n",
    "\n",
    "topMerchant = transactions_sdf.where(F.col('merchant_abn') == 79827781481)"
   ]
  },
  {
   "cell_type": "code",
   "execution_count": 9,
   "metadata": {},
   "outputs": [
    {
     "data": {
      "text/html": [
       "<table border='1'>\n",
       "<tr><th>merchant_abn</th><th>name</th><th>category</th><th>revenue_level</th><th>take_rate</th><th>category_indexed</th><th>segment</th></tr>\n",
       "<tr><td>79827781481</td><td>Amet Risus Inc.</td><td>[furniture, home ...</td><td>a</td><td>0.0682</td><td>11</td><td>Home</td></tr>\n",
       "</table>\n"
      ],
      "text/plain": [
       "+------------+---------------+--------------------+-------------+---------+----------------+-------+\n",
       "|merchant_abn|           name|            category|revenue_level|take_rate|category_indexed|segment|\n",
       "+------------+---------------+--------------------+-------------+---------+----------------+-------+\n",
       "| 79827781481|Amet Risus Inc.|[furniture, home ...|            a|   0.0682|              11|   Home|\n",
       "+------------+---------------+--------------------+-------------+---------+----------------+-------+"
      ]
     },
     "execution_count": 9,
     "metadata": {},
     "output_type": "execute_result"
    }
   ],
   "source": [
    "# Find take rate\n",
    "\n",
    "merchant_info.where(F.col('merchant_abn') == 79827781481)"
   ]
  },
  {
   "cell_type": "code",
   "execution_count": 9,
   "metadata": {},
   "outputs": [
    {
     "name": "stderr",
     "output_type": "stream",
     "text": [
      "                                                                                \r"
     ]
    }
   ],
   "source": [
    "total = topMerchant.count()\n",
    "maleCount = topMerchant.where(F.col('gender') == \"Male\").count()\n",
    "femaleCount = topMerchant.where(F.col('gender') == \"Female\").count()\n",
    "undisCount = topMerchant.where(F.col('gender') == \"Undisclosed\").count()"
   ]
  },
  {
   "cell_type": "code",
   "execution_count": 10,
   "metadata": {},
   "outputs": [
    {
     "name": "stdout",
     "output_type": "stream",
     "text": [
      "Top merchant male proportion: 0.45229681978798586\n",
      "Top merchant female proportion: 0.44617196702002354\n",
      "Top merchant undisclosed proportion: 0.10153121319199057\n",
      "Top merchant total count: 4245\n"
     ]
    }
   ],
   "source": [
    "print(f\"Top merchant male proportion: {maleCount/total}\")\n",
    "print(f\"Top merchant female proportion: {femaleCount/total}\")\n",
    "print(f\"Top merchant undisclosed proportion: {undisCount/total}\")\n",
    "print(f\"Top merchant total count: {total}\")"
   ]
  },
  {
   "cell_type": "code",
   "execution_count": 15,
   "metadata": {},
   "outputs": [
    {
     "name": "stderr",
     "output_type": "stream",
     "text": [
      "                                                                                \r"
     ]
    },
    {
     "data": {
      "text/html": [
       "<table border='1'>\n",
       "<tr><th>merchant_abn</th><th>sum(dollar_value)</th></tr>\n",
       "<tr><td>79827781481</td><td>8629467.760000002</td></tr>\n",
       "</table>\n"
      ],
      "text/plain": [
       "+------------+-----------------+\n",
       "|merchant_abn|sum(dollar_value)|\n",
       "+------------+-----------------+\n",
       "| 79827781481|8629467.760000002|\n",
       "+------------+-----------------+"
      ]
     },
     "execution_count": 15,
     "metadata": {},
     "output_type": "execute_result"
    }
   ],
   "source": [
    "# Find total revnue for merchant\n",
    "\n",
    "topMerchant.groupBy(F.col('merchant_abn')).agg({\n",
    "    'dollar_value': 'sum'\n",
    "})"
   ]
  },
  {
   "cell_type": "code",
   "execution_count": 18,
   "metadata": {},
   "outputs": [
    {
     "data": {
      "text/plain": [
       "588529.7012319999"
      ]
     },
     "execution_count": 18,
     "metadata": {},
     "output_type": "execute_result"
    }
   ],
   "source": [
    "# Revenue made by BNPL service\n",
    "\n",
    "topRev = 8629467.76 * 0.0682\n",
    "topRev"
   ]
  },
  {
   "cell_type": "markdown",
   "metadata": {},
   "source": [
    "### Info on 2nd best merchant"
   ]
  },
  {
   "cell_type": "code",
   "execution_count": 19,
   "metadata": {},
   "outputs": [],
   "source": [
    "# 2nd best merchant\n",
    "\n",
    "secondMerchant = transactions_sdf.where(F.col('merchant_abn') == 32361057556)"
   ]
  },
  {
   "cell_type": "code",
   "execution_count": 10,
   "metadata": {},
   "outputs": [
    {
     "data": {
      "text/html": [
       "<table border='1'>\n",
       "<tr><th>merchant_abn</th><th>name</th><th>category</th><th>revenue_level</th><th>take_rate</th><th>category_indexed</th><th>segment</th></tr>\n",
       "<tr><td>32361057556</td><td>Orci In Consequat...</td><td>[gift, card, nove...</td><td>a</td><td>0.0661</td><td>12</td><td>Miscellaneous</td></tr>\n",
       "</table>\n"
      ],
      "text/plain": [
       "+------------+--------------------+--------------------+-------------+---------+----------------+-------------+\n",
       "|merchant_abn|                name|            category|revenue_level|take_rate|category_indexed|      segment|\n",
       "+------------+--------------------+--------------------+-------------+---------+----------------+-------------+\n",
       "| 32361057556|Orci In Consequat...|[gift, card, nove...|            a|   0.0661|              12|Miscellaneous|\n",
       "+------------+--------------------+--------------------+-------------+---------+----------------+-------------+"
      ]
     },
     "execution_count": 10,
     "metadata": {},
     "output_type": "execute_result"
    }
   ],
   "source": [
    "merchant_info.where(F.col('merchant_abn') == 32361057556)"
   ]
  },
  {
   "cell_type": "code",
   "execution_count": 12,
   "metadata": {},
   "outputs": [
    {
     "name": "stderr",
     "output_type": "stream",
     "text": [
      "                                                                                \r"
     ]
    }
   ],
   "source": [
    "stotal = secondMerchant.count()\n",
    "smaleCount = secondMerchant.where(F.col('gender') == \"Male\").count()\n",
    "sfemaleCount = secondMerchant.where(F.col('gender') == \"Female\").count()\n",
    "sundisCount = secondMerchant.where(F.col('gender') == \"Undisclosed\").count()"
   ]
  },
  {
   "cell_type": "code",
   "execution_count": 17,
   "metadata": {},
   "outputs": [
    {
     "name": "stdout",
     "output_type": "stream",
     "text": [
      "2nd merchant male proportion: 0.4527753560011625\n",
      "2nd merchant female proportion: 0.44601199439909117\n",
      "2nd merchant undisclosed proportion: 0.10121264959974638\n",
      "2nd merchant total count: 75702\n"
     ]
    }
   ],
   "source": [
    "print(f\"2nd merchant male proportion: {smaleCount/stotal}\")\n",
    "print(f\"2nd merchant female proportion: {sfemaleCount/stotal}\")\n",
    "print(f\"2nd merchant undisclosed proportion: {sundisCount/stotal}\")\n",
    "print(f\"2nd merchant total count: {stotal}\")"
   ]
  },
  {
   "cell_type": "code",
   "execution_count": 20,
   "metadata": {},
   "outputs": [
    {
     "name": "stderr",
     "output_type": "stream",
     "text": [
      "                                                                                \r"
     ]
    },
    {
     "data": {
      "text/html": [
       "<table border='1'>\n",
       "<tr><th>merchant_abn</th><th>sum(dollar_value)</th></tr>\n",
       "<tr><td>32361057556</td><td>8323057.879999995</td></tr>\n",
       "</table>\n"
      ],
      "text/plain": [
       "+------------+-----------------+\n",
       "|merchant_abn|sum(dollar_value)|\n",
       "+------------+-----------------+\n",
       "| 32361057556|8323057.879999995|\n",
       "+------------+-----------------+"
      ]
     },
     "execution_count": 20,
     "metadata": {},
     "output_type": "execute_result"
    }
   ],
   "source": [
    "# Find total revnue for merchant\n",
    "\n",
    "secondMerchant.groupBy(F.col('merchant_abn')).agg({\n",
    "    'dollar_value': 'sum'\n",
    "})"
   ]
  },
  {
   "cell_type": "code",
   "execution_count": 22,
   "metadata": {},
   "outputs": [
    {
     "data": {
      "text/plain": [
       "550154.1258680001"
      ]
     },
     "execution_count": 22,
     "metadata": {},
     "output_type": "execute_result"
    }
   ],
   "source": [
    "# Revenue made by BNPL service\n",
    "\n",
    "secondRev = 8323057.88 * 0.0661\n",
    "secondRev"
   ]
  },
  {
   "cell_type": "code",
   "execution_count": 23,
   "metadata": {},
   "outputs": [
    {
     "data": {
      "text/plain": [
       "True"
      ]
     },
     "execution_count": 23,
     "metadata": {},
     "output_type": "execute_result"
    }
   ],
   "source": [
    "topRev > secondRev"
   ]
  },
  {
   "cell_type": "markdown",
   "metadata": {},
   "source": [
    "### Info on 20th merchant"
   ]
  },
  {
   "cell_type": "code",
   "execution_count": 25,
   "metadata": {},
   "outputs": [],
   "source": [
    "# 20th best merchant\n",
    "\n",
    "twentyMerchant = transactions_sdf.where(F.col('merchant_abn') == 76767266140)"
   ]
  },
  {
   "cell_type": "code",
   "execution_count": 27,
   "metadata": {},
   "outputs": [
    {
     "data": {
      "text/html": [
       "<table border='1'>\n",
       "<tr><th>merchant_abn</th><th>name</th><th>category</th><th>revenue_level</th><th>take_rate</th><th>category_indexed</th><th>segment</th></tr>\n",
       "<tr><td>76767266140</td><td>Phasellus At Limited</td><td>[furniture, home ...</td><td>b</td><td>0.04650000000000001</td><td>11</td><td>Home</td></tr>\n",
       "</table>\n"
      ],
      "text/plain": [
       "+------------+--------------------+--------------------+-------------+-------------------+----------------+-------+\n",
       "|merchant_abn|                name|            category|revenue_level|          take_rate|category_indexed|segment|\n",
       "+------------+--------------------+--------------------+-------------+-------------------+----------------+-------+\n",
       "| 76767266140|Phasellus At Limited|[furniture, home ...|            b|0.04650000000000001|              11|   Home|\n",
       "+------------+--------------------+--------------------+-------------+-------------------+----------------+-------+"
      ]
     },
     "execution_count": 27,
     "metadata": {},
     "output_type": "execute_result"
    }
   ],
   "source": [
    "merchant_info.where(F.col('merchant_abn') == 76767266140)"
   ]
  },
  {
   "cell_type": "code",
   "execution_count": 22,
   "metadata": {},
   "outputs": [
    {
     "name": "stderr",
     "output_type": "stream",
     "text": [
      "                                                                                \r"
     ]
    }
   ],
   "source": [
    "ttotal = twentyMerchant.count()\n",
    "tmaleCount = twentyMerchant.where(F.col('gender') == \"Male\").count()\n",
    "tfemaleCount = twentyMerchant.where(F.col('gender') == \"Female\").count()\n",
    "tundisCount = twentyMerchant.where(F.col('gender') == \"Undisclosed\").count()"
   ]
  },
  {
   "cell_type": "code",
   "execution_count": 23,
   "metadata": {},
   "outputs": [
    {
     "name": "stdout",
     "output_type": "stream",
     "text": [
      "20th merchant male proportion: 0.4524472431110302\n",
      "20th merchant female proportion: 0.4479977101818844\n",
      "20th merchant undisclosed proportion: 0.09955504670708543\n",
      "20th merchant total count: 38431\n"
     ]
    }
   ],
   "source": [
    "print(f\"20th merchant male proportion: {tmaleCount/ttotal}\")\n",
    "print(f\"20th merchant female proportion: {tfemaleCount/ttotal}\")\n",
    "print(f\"20th merchant undisclosed proportion: {tundisCount/ttotal}\")\n",
    "print(f\"20th merchant total count: {ttotal}\")"
   ]
  },
  {
   "cell_type": "code",
   "execution_count": 26,
   "metadata": {},
   "outputs": [
    {
     "name": "stderr",
     "output_type": "stream",
     "text": [
      "                                                                                \r"
     ]
    },
    {
     "data": {
      "text/html": [
       "<table border='1'>\n",
       "<tr><th>merchant_abn</th><th>sum(dollar_value)</th></tr>\n",
       "<tr><td>76767266140</td><td>8243403.799999999</td></tr>\n",
       "</table>\n"
      ],
      "text/plain": [
       "+------------+-----------------+\n",
       "|merchant_abn|sum(dollar_value)|\n",
       "+------------+-----------------+\n",
       "| 76767266140|8243403.799999999|\n",
       "+------------+-----------------+"
      ]
     },
     "execution_count": 26,
     "metadata": {},
     "output_type": "execute_result"
    }
   ],
   "source": [
    "# Find total revnue for merchant\n",
    "\n",
    "twentyMerchant.groupBy(F.col('merchant_abn')).agg({\n",
    "    'dollar_value': 'sum'\n",
    "})"
   ]
  },
  {
   "cell_type": "code",
   "execution_count": 28,
   "metadata": {},
   "outputs": [
    {
     "data": {
      "text/plain": [
       "383318.2767"
      ]
     },
     "execution_count": 28,
     "metadata": {},
     "output_type": "execute_result"
    }
   ],
   "source": [
    "# Revenue made by BNPL service\n",
    "\n",
    "twentyRev = 8243403.80 * 0.0465\n",
    "twentyRev"
   ]
  },
  {
   "cell_type": "code",
   "execution_count": 29,
   "metadata": {},
   "outputs": [
    {
     "data": {
      "text/plain": [
       "True"
      ]
     },
     "execution_count": 29,
     "metadata": {},
     "output_type": "execute_result"
    }
   ],
   "source": [
    "topRev > twentyRev"
   ]
  },
  {
   "cell_type": "markdown",
   "metadata": {},
   "source": [
    "### Info on worst ranked merchant"
   ]
  },
  {
   "cell_type": "code",
   "execution_count": 31,
   "metadata": {},
   "outputs": [],
   "source": [
    "# Worst ranked merchant\n",
    "\n",
    "badMerchant = transactions_sdf.where(F.col('merchant_abn') == 55403018592)"
   ]
  },
  {
   "cell_type": "code",
   "execution_count": 30,
   "metadata": {},
   "outputs": [
    {
     "data": {
      "text/html": [
       "<table border='1'>\n",
       "<tr><th>merchant_abn</th><th>name</th><th>category</th><th>revenue_level</th><th>take_rate</th><th>category_indexed</th><th>segment</th></tr>\n",
       "<tr><td>55403018592</td><td>Elit Limited</td><td>[antique shops - ...</td><td>b</td><td>0.0484</td><td>0</td><td>Home</td></tr>\n",
       "</table>\n"
      ],
      "text/plain": [
       "+------------+------------+--------------------+-------------+---------+----------------+-------+\n",
       "|merchant_abn|        name|            category|revenue_level|take_rate|category_indexed|segment|\n",
       "+------------+------------+--------------------+-------------+---------+----------------+-------+\n",
       "| 55403018592|Elit Limited|[antique shops - ...|            b|   0.0484|               0|   Home|\n",
       "+------------+------------+--------------------+-------------+---------+----------------+-------+"
      ]
     },
     "execution_count": 30,
     "metadata": {},
     "output_type": "execute_result"
    }
   ],
   "source": [
    "merchant_info.where(F.col('merchant_abn') == 55403018592)"
   ]
  },
  {
   "cell_type": "code",
   "execution_count": 15,
   "metadata": {},
   "outputs": [],
   "source": [
    "btotal = badMerchant.count()\n",
    "bmaleCount = badMerchant.where(F.col('gender') == \"Male\").count()\n",
    "bfemaleCount = badMerchant.where(F.col('gender') == \"Female\").count()\n",
    "bundisCount = badMerchant.where(F.col('gender') == \"Undisclosed\").count()"
   ]
  },
  {
   "cell_type": "code",
   "execution_count": 16,
   "metadata": {},
   "outputs": [
    {
     "name": "stdout",
     "output_type": "stream",
     "text": [
      "Worst merchant male proportion: 1.0\n",
      "Worst merchant female proportion: 0.0\n",
      "Worst merchant undisclosed proportion: 0.0\n",
      "Worst merchant total count: 1\n"
     ]
    }
   ],
   "source": [
    "print(f\"Worst merchant male proportion: {bmaleCount/btotal}\")\n",
    "print(f\"Worst merchant female proportion: {bfemaleCount/btotal}\")\n",
    "print(f\"Worst merchant undisclosed proportion: {bundisCount/btotal}\")\n",
    "print(f\"Worst merchant total count: {btotal}\")"
   ]
  },
  {
   "cell_type": "code",
   "execution_count": 32,
   "metadata": {},
   "outputs": [
    {
     "name": "stderr",
     "output_type": "stream",
     "text": [
      "                                                                                \r"
     ]
    },
    {
     "data": {
      "text/html": [
       "<table border='1'>\n",
       "<tr><th>merchant_abn</th><th>sum(dollar_value)</th></tr>\n",
       "<tr><td>55403018592</td><td>6667.84</td></tr>\n",
       "</table>\n"
      ],
      "text/plain": [
       "+------------+-----------------+\n",
       "|merchant_abn|sum(dollar_value)|\n",
       "+------------+-----------------+\n",
       "| 55403018592|          6667.84|\n",
       "+------------+-----------------+"
      ]
     },
     "execution_count": 32,
     "metadata": {},
     "output_type": "execute_result"
    }
   ],
   "source": [
    "# Find total revnue for merchant\n",
    "\n",
    "badMerchant.groupBy(F.col('merchant_abn')).agg({\n",
    "    'dollar_value': 'sum'\n",
    "})"
   ]
  },
  {
   "cell_type": "code",
   "execution_count": 33,
   "metadata": {},
   "outputs": [
    {
     "data": {
      "text/plain": [
       "322.723456"
      ]
     },
     "execution_count": 33,
     "metadata": {},
     "output_type": "execute_result"
    }
   ],
   "source": [
    "# Revenue made by BNPL service\n",
    "\n",
    "worstRev = 6667.84 * 0.0484\n",
    "worstRev"
   ]
  },
  {
   "cell_type": "markdown",
   "metadata": {},
   "source": [
    "From these results, it is evident that our ranking system is in fact working properly - the highest ranked merchant brings the BNPL service the highest revenue, with all merchants following it returning reduced amounts of revenue. "
   ]
  }
 ],
 "metadata": {
  "kernelspec": {
   "display_name": "Python 3.10.4 64-bit",
   "language": "python",
   "name": "python3"
  },
  "language_info": {
   "codemirror_mode": {
    "name": "ipython",
    "version": 3
   },
   "file_extension": ".py",
   "mimetype": "text/x-python",
   "name": "python",
   "nbconvert_exporter": "python",
   "pygments_lexer": "ipython3",
   "version": "3.10.4"
  },
  "orig_nbformat": 4,
  "vscode": {
   "interpreter": {
    "hash": "916dbcbb3f70747c44a77c7bcd40155683ae19c65e1c03b4aa3499c5328201f1"
   }
  }
 },
 "nbformat": 4,
 "nbformat_minor": 2
}
