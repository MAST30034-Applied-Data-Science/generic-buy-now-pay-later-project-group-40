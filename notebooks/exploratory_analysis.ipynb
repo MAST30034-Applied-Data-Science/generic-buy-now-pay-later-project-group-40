{
 "cells": [
  {
   "cell_type": "code",
   "execution_count": 67,
   "metadata": {},
   "outputs": [],
   "source": [
    "import pandas as pd\n",
    "from pyspark.sql import functions as F, SparkSession\n"
   ]
  },
  {
   "cell_type": "code",
   "execution_count": 2,
   "metadata": {},
   "outputs": [
    {
     "name": "stdout",
     "output_type": "stream",
     "text": [
      "22/09/04 21:27:45 WARN Utils: Your hostname, DESKTOP-3NQ3PQI resolves to a loopback address: 127.0.1.1; using 172.21.150.117 instead (on interface eth0)\n",
      "22/09/04 21:27:45 WARN Utils: Set SPARK_LOCAL_IP if you need to bind to another address\n"
     ]
    },
    {
     "name": "stderr",
     "output_type": "stream",
     "text": [
      "Setting default log level to \"WARN\".\n",
      "To adjust logging level use sc.setLogLevel(newLevel). For SparkR, use setLogLevel(newLevel).\n"
     ]
    },
    {
     "name": "stdout",
     "output_type": "stream",
     "text": [
      "22/09/04 21:27:47 WARN NativeCodeLoader: Unable to load native-hadoop library for your platform... using builtin-java classes where applicable\n"
     ]
    }
   ],
   "source": [
    "spark = (\n",
    "    SparkSession.builder.appName(\"Project 1\")\n",
    "    .config(\"spark.sql.repl.eagerEval.enabled\", True) \n",
    "    .config(\"spark.sql.parquet.cacheMetadata\", \"true\")\n",
    "    .config(\"spark.sql.session.timeZone\", \"Etc/UTC\")\n",
    "    .config(\"spark.driver.memory\", \"4g\")\n",
    "    .getOrCreate()\n",
    ")"
   ]
  },
  {
   "cell_type": "code",
   "execution_count": 23,
   "metadata": {},
   "outputs": [],
   "source": [
    "consumer_ids_sdf = spark.read.parquet('../data/tables/consumer_user_details.parquet')\n",
    "consumer_ids_df = consumer_ids_sdf.toPandas()\n",
    "\n",
    "consumer_details_df = pd.read_csv('../data/tables/tbl_consumer.csv', delimiter=\"|\")\n",
    "\n",
    "merchants_sdf = spark.read.parquet('../data/tables/tbl_merchants.parquet')\n",
    "merchants_df = merchants_sdf.toPandas()\n",
    "\n",
    "transactions_sdf = spark.read.parquet('../data/tables/transactions_20210228_20210827_snapshot/order_datetime=2021-08-27/')\n",
    "transactions_df = transactions_sdf.toPandas()"
   ]
  },
  {
   "cell_type": "markdown",
   "metadata": {},
   "source": [
    "### consumers"
   ]
  },
  {
   "cell_type": "code",
   "execution_count": 83,
   "metadata": {},
   "outputs": [
    {
     "data": {
      "text/html": [
       "<div>\n",
       "<style scoped>\n",
       "    .dataframe tbody tr th:only-of-type {\n",
       "        vertical-align: middle;\n",
       "    }\n",
       "\n",
       "    .dataframe tbody tr th {\n",
       "        vertical-align: top;\n",
       "    }\n",
       "\n",
       "    .dataframe thead th {\n",
       "        text-align: right;\n",
       "    }\n",
       "</style>\n",
       "<table border=\"1\" class=\"dataframe\">\n",
       "  <thead>\n",
       "    <tr style=\"text-align: right;\">\n",
       "      <th></th>\n",
       "      <th>user_id</th>\n",
       "      <th>consumer_id</th>\n",
       "    </tr>\n",
       "  </thead>\n",
       "  <tbody>\n",
       "    <tr>\n",
       "      <th>0</th>\n",
       "      <td>1</td>\n",
       "      <td>1195503</td>\n",
       "    </tr>\n",
       "    <tr>\n",
       "      <th>1</th>\n",
       "      <td>2</td>\n",
       "      <td>179208</td>\n",
       "    </tr>\n",
       "    <tr>\n",
       "      <th>2</th>\n",
       "      <td>3</td>\n",
       "      <td>1194530</td>\n",
       "    </tr>\n",
       "    <tr>\n",
       "      <th>3</th>\n",
       "      <td>4</td>\n",
       "      <td>154128</td>\n",
       "    </tr>\n",
       "    <tr>\n",
       "      <th>4</th>\n",
       "      <td>5</td>\n",
       "      <td>712975</td>\n",
       "    </tr>\n",
       "    <tr>\n",
       "      <th>...</th>\n",
       "      <td>...</td>\n",
       "      <td>...</td>\n",
       "    </tr>\n",
       "    <tr>\n",
       "      <th>499994</th>\n",
       "      <td>499995</td>\n",
       "      <td>1385608</td>\n",
       "    </tr>\n",
       "    <tr>\n",
       "      <th>499995</th>\n",
       "      <td>499996</td>\n",
       "      <td>1466964</td>\n",
       "    </tr>\n",
       "    <tr>\n",
       "      <th>499996</th>\n",
       "      <td>499997</td>\n",
       "      <td>1253484</td>\n",
       "    </tr>\n",
       "    <tr>\n",
       "      <th>499997</th>\n",
       "      <td>499998</td>\n",
       "      <td>175005</td>\n",
       "    </tr>\n",
       "    <tr>\n",
       "      <th>499998</th>\n",
       "      <td>499999</td>\n",
       "      <td>746835</td>\n",
       "    </tr>\n",
       "  </tbody>\n",
       "</table>\n",
       "<p>499999 rows × 2 columns</p>\n",
       "</div>"
      ],
      "text/plain": [
       "        user_id  consumer_id\n",
       "0             1      1195503\n",
       "1             2       179208\n",
       "2             3      1194530\n",
       "3             4       154128\n",
       "4             5       712975\n",
       "...         ...          ...\n",
       "499994   499995      1385608\n",
       "499995   499996      1466964\n",
       "499996   499997      1253484\n",
       "499997   499998       175005\n",
       "499998   499999       746835\n",
       "\n",
       "[499999 rows x 2 columns]"
      ]
     },
     "execution_count": 83,
     "metadata": {},
     "output_type": "execute_result"
    }
   ],
   "source": [
    "consumer_ids_df"
   ]
  },
  {
   "cell_type": "code",
   "execution_count": 31,
   "metadata": {},
   "outputs": [
    {
     "data": {
      "text/html": [
       "<div>\n",
       "<style scoped>\n",
       "    .dataframe tbody tr th:only-of-type {\n",
       "        vertical-align: middle;\n",
       "    }\n",
       "\n",
       "    .dataframe tbody tr th {\n",
       "        vertical-align: top;\n",
       "    }\n",
       "\n",
       "    .dataframe thead th {\n",
       "        text-align: right;\n",
       "    }\n",
       "</style>\n",
       "<table border=\"1\" class=\"dataframe\">\n",
       "  <thead>\n",
       "    <tr style=\"text-align: right;\">\n",
       "      <th></th>\n",
       "      <th>name</th>\n",
       "      <th>address</th>\n",
       "      <th>state</th>\n",
       "      <th>postcode</th>\n",
       "      <th>gender</th>\n",
       "      <th>consumer_id</th>\n",
       "    </tr>\n",
       "  </thead>\n",
       "  <tbody>\n",
       "    <tr>\n",
       "      <th>0</th>\n",
       "      <td>Yolanda Williams</td>\n",
       "      <td>413 Haney Gardens Apt. 742</td>\n",
       "      <td>WA</td>\n",
       "      <td>6935</td>\n",
       "      <td>Female</td>\n",
       "      <td>1195503</td>\n",
       "    </tr>\n",
       "  </tbody>\n",
       "</table>\n",
       "</div>"
      ],
      "text/plain": [
       "               name                     address state  postcode  gender  \\\n",
       "0  Yolanda Williams  413 Haney Gardens Apt. 742    WA      6935  Female   \n",
       "\n",
       "   consumer_id  \n",
       "0      1195503  "
      ]
     },
     "execution_count": 31,
     "metadata": {},
     "output_type": "execute_result"
    }
   ],
   "source": [
    "consumer_details_df.head(1)"
   ]
  },
  {
   "cell_type": "markdown",
   "metadata": {},
   "source": [
    "Each consumer id corresponds to a unique consumer. there are 4999999, unique consumers across the dataset\n",
    "- 8 possible states\n",
    "- 3167 possible postcodes across aus\n",
    "- 3 possible genders"
   ]
  },
  {
   "cell_type": "code",
   "execution_count": 30,
   "metadata": {},
   "outputs": [
    {
     "name": "stdout",
     "output_type": "stream",
     "text": [
      "499999\n"
     ]
    },
    {
     "data": {
      "text/plain": [
       "name           221377\n",
       "address        499955\n",
       "state               8\n",
       "postcode         3167\n",
       "gender              3\n",
       "consumer_id    499999\n",
       "dtype: int64"
      ]
     },
     "execution_count": 30,
     "metadata": {},
     "output_type": "execute_result"
    }
   ],
   "source": [
    "print(len(consumer_details_df))\n",
    "consumer_details_df.nunique()"
   ]
  },
  {
   "cell_type": "markdown",
   "metadata": {},
   "source": [
    "### merchants"
   ]
  },
  {
   "cell_type": "code",
   "execution_count": 29,
   "metadata": {},
   "outputs": [
    {
     "name": "stdout",
     "output_type": "stream",
     "text": [
      "4026\n"
     ]
    },
    {
     "data": {
      "text/html": [
       "<div>\n",
       "<style scoped>\n",
       "    .dataframe tbody tr th:only-of-type {\n",
       "        vertical-align: middle;\n",
       "    }\n",
       "\n",
       "    .dataframe tbody tr th {\n",
       "        vertical-align: top;\n",
       "    }\n",
       "\n",
       "    .dataframe thead th {\n",
       "        text-align: right;\n",
       "    }\n",
       "</style>\n",
       "<table border=\"1\" class=\"dataframe\">\n",
       "  <thead>\n",
       "    <tr style=\"text-align: right;\">\n",
       "      <th></th>\n",
       "      <th>name</th>\n",
       "      <th>tags</th>\n",
       "      <th>merchant_abn</th>\n",
       "    </tr>\n",
       "  </thead>\n",
       "  <tbody>\n",
       "    <tr>\n",
       "      <th>0</th>\n",
       "      <td>Felis Limited</td>\n",
       "      <td>((furniture, home furnishings and equipment sh...</td>\n",
       "      <td>10023283211</td>\n",
       "    </tr>\n",
       "  </tbody>\n",
       "</table>\n",
       "</div>"
      ],
      "text/plain": [
       "            name                                               tags  \\\n",
       "0  Felis Limited  ((furniture, home furnishings and equipment sh...   \n",
       "\n",
       "   merchant_abn  \n",
       "0   10023283211  "
      ]
     },
     "execution_count": 29,
     "metadata": {},
     "output_type": "execute_result"
    }
   ],
   "source": [
    "print(len(merchants_df))\n",
    "merchants_df.head(1)"
   ]
  },
  {
   "cell_type": "markdown",
   "metadata": {},
   "source": [
    "Each merchant_abn corresponds to a unique merchant. There are 4026 unique merchants each with a unique name"
   ]
  },
  {
   "cell_type": "code",
   "execution_count": 34,
   "metadata": {},
   "outputs": [
    {
     "name": "stdout",
     "output_type": "stream",
     "text": [
      "4026\n"
     ]
    },
    {
     "data": {
      "text/plain": [
       "name            4026\n",
       "tags            3954\n",
       "merchant_abn    4026\n",
       "dtype: int64"
      ]
     },
     "execution_count": 34,
     "metadata": {},
     "output_type": "execute_result"
    }
   ],
   "source": [
    "print(len(merchants_df))\n",
    "merchants_df.nunique()"
   ]
  },
  {
   "cell_type": "markdown",
   "metadata": {},
   "source": [
    "### transactions"
   ]
  },
  {
   "cell_type": "code",
   "execution_count": 22,
   "metadata": {},
   "outputs": [
    {
     "data": {
      "text/html": [
       "<div>\n",
       "<style scoped>\n",
       "    .dataframe tbody tr th:only-of-type {\n",
       "        vertical-align: middle;\n",
       "    }\n",
       "\n",
       "    .dataframe tbody tr th {\n",
       "        vertical-align: top;\n",
       "    }\n",
       "\n",
       "    .dataframe thead th {\n",
       "        text-align: right;\n",
       "    }\n",
       "</style>\n",
       "<table border=\"1\" class=\"dataframe\">\n",
       "  <thead>\n",
       "    <tr style=\"text-align: right;\">\n",
       "      <th></th>\n",
       "      <th>user_id</th>\n",
       "      <th>merchant_abn</th>\n",
       "      <th>dollar_value</th>\n",
       "      <th>order_id</th>\n",
       "    </tr>\n",
       "  </thead>\n",
       "  <tbody>\n",
       "    <tr>\n",
       "      <th>0</th>\n",
       "      <td>18478</td>\n",
       "      <td>20985347699</td>\n",
       "      <td>33.485054</td>\n",
       "      <td>22db4e40-f2af-44ad-b091-1070cd29808d</td>\n",
       "    </tr>\n",
       "    <tr>\n",
       "      <th>1</th>\n",
       "      <td>1</td>\n",
       "      <td>63290521567</td>\n",
       "      <td>3.160329</td>\n",
       "      <td>e272051c-aa1f-41be-b84c-8254a68ee2bc</td>\n",
       "    </tr>\n",
       "    <tr>\n",
       "      <th>2</th>\n",
       "      <td>18478</td>\n",
       "      <td>27639240514</td>\n",
       "      <td>387.743012</td>\n",
       "      <td>28effd83-18b6-42f5-9929-b0133ff6a089</td>\n",
       "    </tr>\n",
       "    <tr>\n",
       "      <th>3</th>\n",
       "      <td>2</td>\n",
       "      <td>42355028515</td>\n",
       "      <td>852.787636</td>\n",
       "      <td>053bda30-c1e7-4d8c-8ca5-bd95b2a78fd6</td>\n",
       "    </tr>\n",
       "    <tr>\n",
       "      <th>4</th>\n",
       "      <td>18478</td>\n",
       "      <td>32082195327</td>\n",
       "      <td>0.699817</td>\n",
       "      <td>18992740-84e8-43e3-b152-94589437b473</td>\n",
       "    </tr>\n",
       "    <tr>\n",
       "      <th>...</th>\n",
       "      <td>...</td>\n",
       "      <td>...</td>\n",
       "      <td>...</td>\n",
       "      <td>...</td>\n",
       "    </tr>\n",
       "    <tr>\n",
       "      <th>23197</th>\n",
       "      <td>18470</td>\n",
       "      <td>29323795999</td>\n",
       "      <td>8.346682</td>\n",
       "      <td>f35299fa-c9f4-408e-bb86-b9d5fff65a9a</td>\n",
       "    </tr>\n",
       "    <tr>\n",
       "      <th>23198</th>\n",
       "      <td>18471</td>\n",
       "      <td>21359184622</td>\n",
       "      <td>97.760164</td>\n",
       "      <td>8ed0f865-9f70-4e20-8266-81904c95de89</td>\n",
       "    </tr>\n",
       "    <tr>\n",
       "      <th>23199</th>\n",
       "      <td>18472</td>\n",
       "      <td>21807339153</td>\n",
       "      <td>54.310599</td>\n",
       "      <td>3251ce95-a850-4fbc-98d0-32bce1651d40</td>\n",
       "    </tr>\n",
       "    <tr>\n",
       "      <th>23200</th>\n",
       "      <td>18475</td>\n",
       "      <td>41944909975</td>\n",
       "      <td>103.804012</td>\n",
       "      <td>bd52416a-a7f1-4293-ae96-cc4a8392e414</td>\n",
       "    </tr>\n",
       "    <tr>\n",
       "      <th>23201</th>\n",
       "      <td>18477</td>\n",
       "      <td>63290521567</td>\n",
       "      <td>17.826070</td>\n",
       "      <td>0aa657d5-c559-41f7-9345-5d2162ad46f5</td>\n",
       "    </tr>\n",
       "  </tbody>\n",
       "</table>\n",
       "<p>23202 rows × 4 columns</p>\n",
       "</div>"
      ],
      "text/plain": [
       "       user_id  merchant_abn  dollar_value  \\\n",
       "0        18478   20985347699     33.485054   \n",
       "1            1   63290521567      3.160329   \n",
       "2        18478   27639240514    387.743012   \n",
       "3            2   42355028515    852.787636   \n",
       "4        18478   32082195327      0.699817   \n",
       "...        ...           ...           ...   \n",
       "23197    18470   29323795999      8.346682   \n",
       "23198    18471   21359184622     97.760164   \n",
       "23199    18472   21807339153     54.310599   \n",
       "23200    18475   41944909975    103.804012   \n",
       "23201    18477   63290521567     17.826070   \n",
       "\n",
       "                                   order_id  \n",
       "0      22db4e40-f2af-44ad-b091-1070cd29808d  \n",
       "1      e272051c-aa1f-41be-b84c-8254a68ee2bc  \n",
       "2      28effd83-18b6-42f5-9929-b0133ff6a089  \n",
       "3      053bda30-c1e7-4d8c-8ca5-bd95b2a78fd6  \n",
       "4      18992740-84e8-43e3-b152-94589437b473  \n",
       "...                                     ...  \n",
       "23197  f35299fa-c9f4-408e-bb86-b9d5fff65a9a  \n",
       "23198  8ed0f865-9f70-4e20-8266-81904c95de89  \n",
       "23199  3251ce95-a850-4fbc-98d0-32bce1651d40  \n",
       "23200  bd52416a-a7f1-4293-ae96-cc4a8392e414  \n",
       "23201  0aa657d5-c559-41f7-9345-5d2162ad46f5  \n",
       "\n",
       "[23202 rows x 4 columns]"
      ]
     },
     "execution_count": 22,
     "metadata": {},
     "output_type": "execute_result"
    }
   ],
   "source": [
    "transactions_df"
   ]
  }
 ],
 "metadata": {
  "interpreter": {
   "hash": "fe9fcb870d1be988491f0ca3c99221e9aa9b8f178c61dec4872b309826f2a8a6"
  },
  "kernelspec": {
   "display_name": "Python 3.10.4 64-bit ('ads_proj1': virtualenv)",
   "language": "python",
   "name": "python3"
  },
  "language_info": {
   "codemirror_mode": {
    "name": "ipython",
    "version": 3
   },
   "file_extension": ".py",
   "mimetype": "text/x-python",
   "name": "python",
   "nbconvert_exporter": "python",
   "pygments_lexer": "ipython3",
   "version": "3.10.4"
  },
  "orig_nbformat": 4
 },
 "nbformat": 4,
 "nbformat_minor": 2
}
