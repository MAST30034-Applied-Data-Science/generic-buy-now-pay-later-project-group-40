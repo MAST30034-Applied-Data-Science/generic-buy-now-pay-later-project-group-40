{
 "cells": [
  {
   "cell_type": "code",
   "execution_count": 1,
   "metadata": {},
   "outputs": [],
   "source": [
    "import pandas as pd\n",
    "import re\n",
    "from sklearn.feature_extraction.text import CountVectorizer"
   ]
  },
  {
   "cell_type": "markdown",
   "metadata": {},
   "source": [
    "# Preprocessing "
   ]
  },
  {
   "cell_type": "markdown",
   "metadata": {},
   "source": [
    "### Merchants data preprocessing"
   ]
  },
  {
   "cell_type": "code",
   "execution_count": 10,
   "metadata": {},
   "outputs": [],
   "source": [
    "merchants_df = pd.read_parquet('../data/tables/tbl_merchants.parquet').reset_index()"
   ]
  },
  {
   "cell_type": "code",
   "execution_count": 48,
   "metadata": {},
   "outputs": [
    {
     "data": {
      "text/plain": [
       "'((furniture, home furnishings and equipment shops, and manufacturers, except appliances), (e), (take rate: 0.18))'"
      ]
     },
     "execution_count": 48,
     "metadata": {},
     "output_type": "execute_result"
    }
   ],
   "source": [
    "# A sample of an entry in the tags columns of merchants data\n",
    "merchants_df.head(1).loc[0, 'tags']"
   ]
  },
  {
   "cell_type": "code",
   "execution_count": 24,
   "metadata": {},
   "outputs": [],
   "source": [
    "#First separte text into 3 separate features (separated by () or [])\n",
    "def separate_tags(row):\n",
    "    features = re.findall(r'[\\(|\\[][\\(|\\[](.*)[\\)|\\]],\\s[\\(|\\[](.*)[\\)|\\]],\\s[\\(|\\[](.*)[\\)|\\]][\\)|\\]]', row['tags'])\n",
    "    row['feature_1'] = features[0][0]\n",
    "    row['feature_2'] = features[0][1]\n",
    "    row['feature_3'] = features[0][2]\n",
    "    return row\n",
    "merchants_df = merchants_df.apply(separate_tags, axis = 1)"
   ]
  },
  {
   "cell_type": "code",
   "execution_count": 33,
   "metadata": {},
   "outputs": [],
   "source": [
    "# convert the take rate feature (feature_2) to float type\n",
    "def get_take_rate(x):\n",
    "    feature = re.findall('take rate: (\\d+\\.\\d+)', x)\n",
    "    return float(feature[0])\n",
    "\n",
    "merchants_df['take_rate'] = merchants_df['feature_3'].apply(get_take_rate)"
   ]
  },
  {
   "cell_type": "code",
   "execution_count": 34,
   "metadata": {},
   "outputs": [],
   "source": [
    "# Convert text tags to bag of words vectorized form\n",
    "cv = CountVectorizer(stop_words='english', lowercase=True)\n",
    "X = cv.fit_transform(merchants_df['feature_1'])\n",
    "merchants_df[cv.get_feature_names_out()] = pd.DataFrame.sparse.from_spmatrix(X, columns = cv.get_feature_names_out())\n"
   ]
  },
  {
   "cell_type": "code",
   "execution_count": 50,
   "metadata": {},
   "outputs": [
    {
     "data": {
      "text/html": [
       "<div>\n",
       "<style scoped>\n",
       "    .dataframe tbody tr th:only-of-type {\n",
       "        vertical-align: middle;\n",
       "    }\n",
       "\n",
       "    .dataframe tbody tr th {\n",
       "        vertical-align: top;\n",
       "    }\n",
       "\n",
       "    .dataframe thead th {\n",
       "        text-align: right;\n",
       "    }\n",
       "</style>\n",
       "<table border=\"1\" class=\"dataframe\">\n",
       "  <thead>\n",
       "    <tr style=\"text-align: right;\">\n",
       "      <th></th>\n",
       "      <th>merchant_abn</th>\n",
       "      <th>name</th>\n",
       "      <th>tags</th>\n",
       "      <th>feature_1</th>\n",
       "      <th>feature_2</th>\n",
       "      <th>feature_3</th>\n",
       "      <th>take_rate</th>\n",
       "      <th>al</th>\n",
       "      <th>antique</th>\n",
       "      <th>appliance</th>\n",
       "      <th>...</th>\n",
       "      <th>supply</th>\n",
       "      <th>systems</th>\n",
       "      <th>telecom</th>\n",
       "      <th>television</th>\n",
       "      <th>tent</th>\n",
       "      <th>tool</th>\n",
       "      <th>toy</th>\n",
       "      <th>vehicle</th>\n",
       "      <th>watch</th>\n",
       "      <th>writing</th>\n",
       "    </tr>\n",
       "  </thead>\n",
       "  <tbody>\n",
       "    <tr>\n",
       "      <th>0</th>\n",
       "      <td>10023283211</td>\n",
       "      <td>Felis Limited</td>\n",
       "      <td>((furniture, home furnishings and equipment sh...</td>\n",
       "      <td>furniture, home furnishings and equipment shop...</td>\n",
       "      <td>e</td>\n",
       "      <td>take rate: 0.18</td>\n",
       "      <td>0.18</td>\n",
       "      <td>0</td>\n",
       "      <td>0</td>\n",
       "      <td>0</td>\n",
       "      <td>...</td>\n",
       "      <td>0</td>\n",
       "      <td>0</td>\n",
       "      <td>0</td>\n",
       "      <td>0</td>\n",
       "      <td>0</td>\n",
       "      <td>0</td>\n",
       "      <td>0</td>\n",
       "      <td>0</td>\n",
       "      <td>0</td>\n",
       "      <td>0</td>\n",
       "    </tr>\n",
       "    <tr>\n",
       "      <th>1</th>\n",
       "      <td>10142254217</td>\n",
       "      <td>Arcu Ac Orci Corporation</td>\n",
       "      <td>([cable, satellite, and otHer pay television a...</td>\n",
       "      <td>cable, satellite, and otHer pay television and...</td>\n",
       "      <td>b</td>\n",
       "      <td>take rate: 4.22</td>\n",
       "      <td>4.22</td>\n",
       "      <td>0</td>\n",
       "      <td>0</td>\n",
       "      <td>0</td>\n",
       "      <td>...</td>\n",
       "      <td>0</td>\n",
       "      <td>0</td>\n",
       "      <td>0</td>\n",
       "      <td>1</td>\n",
       "      <td>0</td>\n",
       "      <td>0</td>\n",
       "      <td>0</td>\n",
       "      <td>0</td>\n",
       "      <td>0</td>\n",
       "      <td>0</td>\n",
       "    </tr>\n",
       "    <tr>\n",
       "      <th>2</th>\n",
       "      <td>10165489824</td>\n",
       "      <td>Nunc Sed Company</td>\n",
       "      <td>([jewelry, watch, clock, and silverware shops]...</td>\n",
       "      <td>jewelry, watch, clock, and silverware shops</td>\n",
       "      <td>b</td>\n",
       "      <td>take rate: 4.40</td>\n",
       "      <td>4.40</td>\n",
       "      <td>0</td>\n",
       "      <td>0</td>\n",
       "      <td>0</td>\n",
       "      <td>...</td>\n",
       "      <td>0</td>\n",
       "      <td>0</td>\n",
       "      <td>0</td>\n",
       "      <td>0</td>\n",
       "      <td>0</td>\n",
       "      <td>0</td>\n",
       "      <td>0</td>\n",
       "      <td>0</td>\n",
       "      <td>1</td>\n",
       "      <td>0</td>\n",
       "    </tr>\n",
       "    <tr>\n",
       "      <th>3</th>\n",
       "      <td>10187291046</td>\n",
       "      <td>Ultricies Dignissim Lacus Foundation</td>\n",
       "      <td>([wAtch, clock, and jewelry repair shops], [b]...</td>\n",
       "      <td>wAtch, clock, and jewelry repair shops</td>\n",
       "      <td>b</td>\n",
       "      <td>take rate: 3.29</td>\n",
       "      <td>3.29</td>\n",
       "      <td>0</td>\n",
       "      <td>0</td>\n",
       "      <td>0</td>\n",
       "      <td>...</td>\n",
       "      <td>0</td>\n",
       "      <td>0</td>\n",
       "      <td>0</td>\n",
       "      <td>0</td>\n",
       "      <td>0</td>\n",
       "      <td>0</td>\n",
       "      <td>0</td>\n",
       "      <td>0</td>\n",
       "      <td>1</td>\n",
       "      <td>0</td>\n",
       "    </tr>\n",
       "    <tr>\n",
       "      <th>4</th>\n",
       "      <td>10192359162</td>\n",
       "      <td>Enim Condimentum PC</td>\n",
       "      <td>([music shops - musical instruments, pianos, a...</td>\n",
       "      <td>music shops - musical instruments, pianos, and...</td>\n",
       "      <td>a</td>\n",
       "      <td>take rate: 6.33</td>\n",
       "      <td>6.33</td>\n",
       "      <td>0</td>\n",
       "      <td>0</td>\n",
       "      <td>0</td>\n",
       "      <td>...</td>\n",
       "      <td>0</td>\n",
       "      <td>0</td>\n",
       "      <td>0</td>\n",
       "      <td>0</td>\n",
       "      <td>0</td>\n",
       "      <td>0</td>\n",
       "      <td>0</td>\n",
       "      <td>0</td>\n",
       "      <td>0</td>\n",
       "      <td>0</td>\n",
       "    </tr>\n",
       "  </tbody>\n",
       "</table>\n",
       "<p>5 rows × 99 columns</p>\n",
       "</div>"
      ],
      "text/plain": [
       "   merchant_abn                                  name  \\\n",
       "0   10023283211                         Felis Limited   \n",
       "1   10142254217              Arcu Ac Orci Corporation   \n",
       "2   10165489824                      Nunc Sed Company   \n",
       "3   10187291046  Ultricies Dignissim Lacus Foundation   \n",
       "4   10192359162                   Enim Condimentum PC   \n",
       "\n",
       "                                                tags  \\\n",
       "0  ((furniture, home furnishings and equipment sh...   \n",
       "1  ([cable, satellite, and otHer pay television a...   \n",
       "2  ([jewelry, watch, clock, and silverware shops]...   \n",
       "3  ([wAtch, clock, and jewelry repair shops], [b]...   \n",
       "4  ([music shops - musical instruments, pianos, a...   \n",
       "\n",
       "                                           feature_1 feature_2  \\\n",
       "0  furniture, home furnishings and equipment shop...         e   \n",
       "1  cable, satellite, and otHer pay television and...         b   \n",
       "2        jewelry, watch, clock, and silverware shops         b   \n",
       "3             wAtch, clock, and jewelry repair shops         b   \n",
       "4  music shops - musical instruments, pianos, and...         a   \n",
       "\n",
       "         feature_3  take_rate  al  antique  appliance  ...  supply  systems  \\\n",
       "0  take rate: 0.18       0.18   0        0          0  ...       0        0   \n",
       "1  take rate: 4.22       4.22   0        0          0  ...       0        0   \n",
       "2  take rate: 4.40       4.40   0        0          0  ...       0        0   \n",
       "3  take rate: 3.29       3.29   0        0          0  ...       0        0   \n",
       "4  take rate: 6.33       6.33   0        0          0  ...       0        0   \n",
       "\n",
       "   telecom  television  tent  tool  toy  vehicle  watch  writing  \n",
       "0        0           0     0     0    0        0      0        0  \n",
       "1        0           1     0     0    0        0      0        0  \n",
       "2        0           0     0     0    0        0      1        0  \n",
       "3        0           0     0     0    0        0      1        0  \n",
       "4        0           0     0     0    0        0      0        0  \n",
       "\n",
       "[5 rows x 99 columns]"
      ]
     },
     "execution_count": 50,
     "metadata": {},
     "output_type": "execute_result"
    }
   ],
   "source": [
    "merchants_df.head()"
   ]
  },
  {
   "cell_type": "markdown",
   "metadata": {},
   "source": [
    "### External data processing"
   ]
  },
  {
   "cell_type": "code",
   "execution_count": 2,
   "metadata": {},
   "outputs": [],
   "source": [
    "from pyspark.sql import SparkSession\n",
    "from pyspark.sql import functions as F\n",
    "\n",
    "spark = (\n",
    "    SparkSession.builder.appName(\"MAST30034 Project 2 Preprocessing\")\n",
    "    .config(\"spark.driver.memory\", '4g')\n",
    "    .config(\"spark.executor.memory\", '8g')\n",
    "    .config(\"spark.sql.session.timeZone\", \"Etc/UTC\")\n",
    "    .config(\"spark.sql.parquet.enableVectorizedReader\",\"false\")\n",
    "    .config(\"spark.sql.repl.eagerEval.enabled\", True) \n",
    "    .config(\"spark.sql.parquet.cacheMetadata\", \"true\")\n",
    "    .config(\"spark.sql.parquet.writeLegacyFormat\", 'true')\n",
    "    .getOrCreate()\n",
    ")"
   ]
  },
  {
   "cell_type": "code",
   "execution_count": 14,
   "metadata": {},
   "outputs": [],
   "source": [
    "external_sdf = spark.read.option(\"header\", \"true\").csv(\"../data/tables/external_data/income.csv\")"
   ]
  },
  {
   "cell_type": "code",
   "execution_count": 16,
   "metadata": {},
   "outputs": [
    {
     "data": {
      "text/html": [
       "<table border='1'>\n",
       "<tr><th>Counting</th><th>SA2 (UR)</th><th>INCP Total Personal Income (weekly)</th><th>Count</th></tr>\n",
       "<tr><td>Persons Place of ...</td><td>Braidwood</td><td>Negative income</td><td>17</td></tr>\n",
       "<tr><td>Persons Place of ...</td><td>Braidwood</td><td>Nil income</td><td>213</td></tr>\n",
       "<tr><td>Persons Place of ...</td><td>Braidwood</td><td>$1-$149 ($1-$7,799)</td><td>110</td></tr>\n",
       "<tr><td>Persons Place of ...</td><td>Braidwood</td><td>$150-$299 ($7,800...</td><td>224</td></tr>\n",
       "<tr><td>Persons Place of ...</td><td>Braidwood</td><td>$300-$399 ($15,60...</td><td>323</td></tr>\n",
       "<tr><td>Persons Place of ...</td><td>Braidwood</td><td>$400-$499 ($20,80...</td><td>333</td></tr>\n",
       "<tr><td>Persons Place of ...</td><td>Braidwood</td><td>$500-$649 ($26,00...</td><td>249</td></tr>\n",
       "<tr><td>Persons Place of ...</td><td>Braidwood</td><td>$650-$799 ($33,80...</td><td>244</td></tr>\n",
       "<tr><td>Persons Place of ...</td><td>Braidwood</td><td>$800-$999 ($41,60...</td><td>221</td></tr>\n",
       "<tr><td>Persons Place of ...</td><td>Braidwood</td><td>$1,000-$1,249 ($5...</td><td>256</td></tr>\n",
       "<tr><td>Persons Place of ...</td><td>Braidwood</td><td>$1,250-$1,499 ($6...</td><td>144</td></tr>\n",
       "<tr><td>Persons Place of ...</td><td>Braidwood</td><td>$1,500-$1,749 ($7...</td><td>132</td></tr>\n",
       "<tr><td>Persons Place of ...</td><td>Braidwood</td><td>$1,750-$1,999 ($9...</td><td>91</td></tr>\n",
       "<tr><td>Persons Place of ...</td><td>Braidwood</td><td>$2,000-$2,999 ($1...</td><td>135</td></tr>\n",
       "<tr><td>Persons Place of ...</td><td>Braidwood</td><td>$3,000 or more ($...</td><td>68</td></tr>\n",
       "<tr><td>Persons Place of ...</td><td>Braidwood</td><td>Not stated</td><td>463</td></tr>\n",
       "<tr><td>Persons Place of ...</td><td>Braidwood</td><td>Not applicable</td><td>649</td></tr>\n",
       "<tr><td>Persons Place of ...</td><td>Braidwood</td><td>Total</td><td>3875</td></tr>\n",
       "<tr><td>Persons Place of ...</td><td>Karabar</td><td>Negative income</td><td>30</td></tr>\n",
       "<tr><td>Persons Place of ...</td><td>Karabar</td><td>Nil income</td><td>432</td></tr>\n",
       "</table>\n",
       "only showing top 20 rows\n"
      ],
      "text/plain": [
       "+--------------------+---------+-----------------------------------+-----+\n",
       "|            Counting| SA2 (UR)|INCP Total Personal Income (weekly)|Count|\n",
       "+--------------------+---------+-----------------------------------+-----+\n",
       "|Persons Place of ...|Braidwood|                    Negative income|   17|\n",
       "|Persons Place of ...|Braidwood|                         Nil income|  213|\n",
       "|Persons Place of ...|Braidwood|                $1-$149 ($1-$7,799)|  110|\n",
       "|Persons Place of ...|Braidwood|               $150-$299 ($7,800...|  224|\n",
       "|Persons Place of ...|Braidwood|               $300-$399 ($15,60...|  323|\n",
       "|Persons Place of ...|Braidwood|               $400-$499 ($20,80...|  333|\n",
       "|Persons Place of ...|Braidwood|               $500-$649 ($26,00...|  249|\n",
       "|Persons Place of ...|Braidwood|               $650-$799 ($33,80...|  244|\n",
       "|Persons Place of ...|Braidwood|               $800-$999 ($41,60...|  221|\n",
       "|Persons Place of ...|Braidwood|               $1,000-$1,249 ($5...|  256|\n",
       "|Persons Place of ...|Braidwood|               $1,250-$1,499 ($6...|  144|\n",
       "|Persons Place of ...|Braidwood|               $1,500-$1,749 ($7...|  132|\n",
       "|Persons Place of ...|Braidwood|               $1,750-$1,999 ($9...|   91|\n",
       "|Persons Place of ...|Braidwood|               $2,000-$2,999 ($1...|  135|\n",
       "|Persons Place of ...|Braidwood|               $3,000 or more ($...|   68|\n",
       "|Persons Place of ...|Braidwood|                         Not stated|  463|\n",
       "|Persons Place of ...|Braidwood|                     Not applicable|  649|\n",
       "|Persons Place of ...|Braidwood|                              Total| 3875|\n",
       "|Persons Place of ...|  Karabar|                    Negative income|   30|\n",
       "|Persons Place of ...|  Karabar|                         Nil income|  432|\n",
       "+--------------------+---------+-----------------------------------+-----+\n",
       "only showing top 20 rows"
      ]
     },
     "execution_count": 16,
     "metadata": {},
     "output_type": "execute_result"
    }
   ],
   "source": [
    "external_sdf"
   ]
  },
  {
   "cell_type": "code",
   "execution_count": null,
   "metadata": {},
   "outputs": [],
   "source": []
  }
 ],
 "metadata": {
  "kernelspec": {
   "display_name": "Python 3.10.4 64-bit",
   "language": "python",
   "name": "python3"
  },
  "language_info": {
   "codemirror_mode": {
    "name": "ipython",
    "version": 3
   },
   "file_extension": ".py",
   "mimetype": "text/x-python",
   "name": "python",
   "nbconvert_exporter": "python",
   "pygments_lexer": "ipython3",
   "version": "3.10.4"
  },
  "orig_nbformat": 4,
  "vscode": {
   "interpreter": {
    "hash": "916dbcbb3f70747c44a77c7bcd40155683ae19c65e1c03b4aa3499c5328201f1"
   }
  }
 },
 "nbformat": 4,
 "nbformat_minor": 2
}
