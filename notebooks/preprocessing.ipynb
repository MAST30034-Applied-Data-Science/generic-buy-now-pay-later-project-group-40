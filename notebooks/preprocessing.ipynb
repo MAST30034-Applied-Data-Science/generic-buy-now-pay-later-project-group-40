{
 "cells": [
  {
   "cell_type": "code",
   "execution_count": 1,
   "metadata": {},
   "outputs": [],
   "source": [
    "import pandas as pd\n",
    "import re\n",
    "from sklearn.feature_extraction.text import CountVectorizer"
   ]
  },
  {
   "cell_type": "markdown",
   "metadata": {},
   "source": [
    "# Preprocessing "
   ]
  },
  {
   "cell_type": "markdown",
   "metadata": {},
   "source": [
    "### Merchants data preprocessing"
   ]
  },
  {
   "cell_type": "code",
   "execution_count": 10,
   "metadata": {},
   "outputs": [],
   "source": [
    "merchants_df = pd.read_parquet('../data/tables/tbl_merchants.parquet').reset_index()"
   ]
  },
  {
   "cell_type": "code",
   "execution_count": 48,
   "metadata": {},
   "outputs": [
    {
     "data": {
      "text/plain": [
       "'((furniture, home furnishings and equipment shops, and manufacturers, except appliances), (e), (take rate: 0.18))'"
      ]
     },
     "execution_count": 48,
     "metadata": {},
     "output_type": "execute_result"
    }
   ],
   "source": [
    "# A sample of an entry in the tags columns of merchants data\n",
    "merchants_df.head(1).loc[0, 'tags']"
   ]
  },
  {
   "cell_type": "code",
   "execution_count": 24,
   "metadata": {},
   "outputs": [],
   "source": [
    "#First separte text into 3 separate features (separated by () or [])\n",
    "def separate_tags(row):\n",
    "    features = re.findall(r'[\\(|\\[][\\(|\\[](.*)[\\)|\\]],\\s[\\(|\\[](.*)[\\)|\\]],\\s[\\(|\\[](.*)[\\)|\\]][\\)|\\]]', row['tags'])\n",
    "    row['feature_1'] = features[0][0]\n",
    "    row['feature_2'] = features[0][1]\n",
    "    row['feature_3'] = features[0][2]\n",
    "    return row\n",
    "merchants_df = merchants_df.apply(separate_tags, axis = 1)"
   ]
  },
  {
   "cell_type": "code",
   "execution_count": 33,
   "metadata": {},
   "outputs": [],
   "source": [
    "# convert the take rate feature (feature_2) to float type\n",
    "def get_take_rate(x):\n",
    "    feature = re.findall('take rate: (\\d+\\.\\d+)', x)\n",
    "    return float(feature[0])\n",
    "\n",
    "merchants_df['take_rate'] = merchants_df['feature_3'].apply(get_take_rate)"
   ]
  },
  {
   "cell_type": "code",
   "execution_count": 34,
   "metadata": {},
   "outputs": [],
   "source": [
    "# Convert text tags to bag of words vectorized form\n",
    "cv = CountVectorizer(stop_words='english', lowercase=True)\n",
    "X = cv.fit_transform(merchants_df['feature_1'])\n",
    "merchants_df[cv.get_feature_names_out()] = pd.DataFrame.sparse.from_spmatrix(X, columns = cv.get_feature_names_out())\n"
   ]
  },
  {
   "cell_type": "code",
   "execution_count": 50,
   "metadata": {},
   "outputs": [
    {
     "data": {
      "text/html": [
       "<div>\n",
       "<style scoped>\n",
       "    .dataframe tbody tr th:only-of-type {\n",
       "        vertical-align: middle;\n",
       "    }\n",
       "\n",
       "    .dataframe tbody tr th {\n",
       "        vertical-align: top;\n",
       "    }\n",
       "\n",
       "    .dataframe thead th {\n",
       "        text-align: right;\n",
       "    }\n",
       "</style>\n",
       "<table border=\"1\" class=\"dataframe\">\n",
       "  <thead>\n",
       "    <tr style=\"text-align: right;\">\n",
       "      <th></th>\n",
       "      <th>merchant_abn</th>\n",
       "      <th>name</th>\n",
       "      <th>tags</th>\n",
       "      <th>feature_1</th>\n",
       "      <th>feature_2</th>\n",
       "      <th>feature_3</th>\n",
       "      <th>take_rate</th>\n",
       "      <th>al</th>\n",
       "      <th>antique</th>\n",
       "      <th>appliance</th>\n",
       "      <th>...</th>\n",
       "      <th>supply</th>\n",
       "      <th>systems</th>\n",
       "      <th>telecom</th>\n",
       "      <th>television</th>\n",
       "      <th>tent</th>\n",
       "      <th>tool</th>\n",
       "      <th>toy</th>\n",
       "      <th>vehicle</th>\n",
       "      <th>watch</th>\n",
       "      <th>writing</th>\n",
       "    </tr>\n",
       "  </thead>\n",
       "  <tbody>\n",
       "    <tr>\n",
       "      <th>0</th>\n",
       "      <td>10023283211</td>\n",
       "      <td>Felis Limited</td>\n",
       "      <td>((furniture, home furnishings and equipment sh...</td>\n",
       "      <td>furniture, home furnishings and equipment shop...</td>\n",
       "      <td>e</td>\n",
       "      <td>take rate: 0.18</td>\n",
       "      <td>0.18</td>\n",
       "      <td>0</td>\n",
       "      <td>0</td>\n",
       "      <td>0</td>\n",
       "      <td>...</td>\n",
       "      <td>0</td>\n",
       "      <td>0</td>\n",
       "      <td>0</td>\n",
       "      <td>0</td>\n",
       "      <td>0</td>\n",
       "      <td>0</td>\n",
       "      <td>0</td>\n",
       "      <td>0</td>\n",
       "      <td>0</td>\n",
       "      <td>0</td>\n",
       "    </tr>\n",
       "    <tr>\n",
       "      <th>1</th>\n",
       "      <td>10142254217</td>\n",
       "      <td>Arcu Ac Orci Corporation</td>\n",
       "      <td>([cable, satellite, and otHer pay television a...</td>\n",
       "      <td>cable, satellite, and otHer pay television and...</td>\n",
       "      <td>b</td>\n",
       "      <td>take rate: 4.22</td>\n",
       "      <td>4.22</td>\n",
       "      <td>0</td>\n",
       "      <td>0</td>\n",
       "      <td>0</td>\n",
       "      <td>...</td>\n",
       "      <td>0</td>\n",
       "      <td>0</td>\n",
       "      <td>0</td>\n",
       "      <td>1</td>\n",
       "      <td>0</td>\n",
       "      <td>0</td>\n",
       "      <td>0</td>\n",
       "      <td>0</td>\n",
       "      <td>0</td>\n",
       "      <td>0</td>\n",
       "    </tr>\n",
       "    <tr>\n",
       "      <th>2</th>\n",
       "      <td>10165489824</td>\n",
       "      <td>Nunc Sed Company</td>\n",
       "      <td>([jewelry, watch, clock, and silverware shops]...</td>\n",
       "      <td>jewelry, watch, clock, and silverware shops</td>\n",
       "      <td>b</td>\n",
       "      <td>take rate: 4.40</td>\n",
       "      <td>4.40</td>\n",
       "      <td>0</td>\n",
       "      <td>0</td>\n",
       "      <td>0</td>\n",
       "      <td>...</td>\n",
       "      <td>0</td>\n",
       "      <td>0</td>\n",
       "      <td>0</td>\n",
       "      <td>0</td>\n",
       "      <td>0</td>\n",
       "      <td>0</td>\n",
       "      <td>0</td>\n",
       "      <td>0</td>\n",
       "      <td>1</td>\n",
       "      <td>0</td>\n",
       "    </tr>\n",
       "    <tr>\n",
       "      <th>3</th>\n",
       "      <td>10187291046</td>\n",
       "      <td>Ultricies Dignissim Lacus Foundation</td>\n",
       "      <td>([wAtch, clock, and jewelry repair shops], [b]...</td>\n",
       "      <td>wAtch, clock, and jewelry repair shops</td>\n",
       "      <td>b</td>\n",
       "      <td>take rate: 3.29</td>\n",
       "      <td>3.29</td>\n",
       "      <td>0</td>\n",
       "      <td>0</td>\n",
       "      <td>0</td>\n",
       "      <td>...</td>\n",
       "      <td>0</td>\n",
       "      <td>0</td>\n",
       "      <td>0</td>\n",
       "      <td>0</td>\n",
       "      <td>0</td>\n",
       "      <td>0</td>\n",
       "      <td>0</td>\n",
       "      <td>0</td>\n",
       "      <td>1</td>\n",
       "      <td>0</td>\n",
       "    </tr>\n",
       "    <tr>\n",
       "      <th>4</th>\n",
       "      <td>10192359162</td>\n",
       "      <td>Enim Condimentum PC</td>\n",
       "      <td>([music shops - musical instruments, pianos, a...</td>\n",
       "      <td>music shops - musical instruments, pianos, and...</td>\n",
       "      <td>a</td>\n",
       "      <td>take rate: 6.33</td>\n",
       "      <td>6.33</td>\n",
       "      <td>0</td>\n",
       "      <td>0</td>\n",
       "      <td>0</td>\n",
       "      <td>...</td>\n",
       "      <td>0</td>\n",
       "      <td>0</td>\n",
       "      <td>0</td>\n",
       "      <td>0</td>\n",
       "      <td>0</td>\n",
       "      <td>0</td>\n",
       "      <td>0</td>\n",
       "      <td>0</td>\n",
       "      <td>0</td>\n",
       "      <td>0</td>\n",
       "    </tr>\n",
       "  </tbody>\n",
       "</table>\n",
       "<p>5 rows × 99 columns</p>\n",
       "</div>"
      ],
      "text/plain": [
       "   merchant_abn                                  name  \\\n",
       "0   10023283211                         Felis Limited   \n",
       "1   10142254217              Arcu Ac Orci Corporation   \n",
       "2   10165489824                      Nunc Sed Company   \n",
       "3   10187291046  Ultricies Dignissim Lacus Foundation   \n",
       "4   10192359162                   Enim Condimentum PC   \n",
       "\n",
       "                                                tags  \\\n",
       "0  ((furniture, home furnishings and equipment sh...   \n",
       "1  ([cable, satellite, and otHer pay television a...   \n",
       "2  ([jewelry, watch, clock, and silverware shops]...   \n",
       "3  ([wAtch, clock, and jewelry repair shops], [b]...   \n",
       "4  ([music shops - musical instruments, pianos, a...   \n",
       "\n",
       "                                           feature_1 feature_2  \\\n",
       "0  furniture, home furnishings and equipment shop...         e   \n",
       "1  cable, satellite, and otHer pay television and...         b   \n",
       "2        jewelry, watch, clock, and silverware shops         b   \n",
       "3             wAtch, clock, and jewelry repair shops         b   \n",
       "4  music shops - musical instruments, pianos, and...         a   \n",
       "\n",
       "         feature_3  take_rate  al  antique  appliance  ...  supply  systems  \\\n",
       "0  take rate: 0.18       0.18   0        0          0  ...       0        0   \n",
       "1  take rate: 4.22       4.22   0        0          0  ...       0        0   \n",
       "2  take rate: 4.40       4.40   0        0          0  ...       0        0   \n",
       "3  take rate: 3.29       3.29   0        0          0  ...       0        0   \n",
       "4  take rate: 6.33       6.33   0        0          0  ...       0        0   \n",
       "\n",
       "   telecom  television  tent  tool  toy  vehicle  watch  writing  \n",
       "0        0           0     0     0    0        0      0        0  \n",
       "1        0           1     0     0    0        0      0        0  \n",
       "2        0           0     0     0    0        0      1        0  \n",
       "3        0           0     0     0    0        0      1        0  \n",
       "4        0           0     0     0    0        0      0        0  \n",
       "\n",
       "[5 rows x 99 columns]"
      ]
     },
     "execution_count": 50,
     "metadata": {},
     "output_type": "execute_result"
    }
   ],
   "source": [
    "merchants_df.head()"
   ]
  }
 ],
 "metadata": {
  "interpreter": {
   "hash": "92ea58c70db46728db75825e7170aaba7ae15ca2d0e36751b515e78ab3619849"
  },
  "kernelspec": {
   "display_name": "Python 3.10.4 64-bit ('ads_proj2': virtualenv)",
   "language": "python",
   "name": "python3"
  },
  "language_info": {
   "codemirror_mode": {
    "name": "ipython",
    "version": 3
   },
   "file_extension": ".py",
   "mimetype": "text/x-python",
   "name": "python",
   "nbconvert_exporter": "python",
   "pygments_lexer": "ipython3",
   "version": "3.10.4"
  },
  "orig_nbformat": 4
 },
 "nbformat": 4,
 "nbformat_minor": 2
}
